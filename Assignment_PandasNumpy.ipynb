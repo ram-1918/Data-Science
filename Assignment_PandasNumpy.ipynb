{
 "cells": [
  {
   "cell_type": "markdown",
   "metadata": {},
   "source": [
    "Before you turn this problem in, make sure everything runs as expected. First, **restart the kernel** (in the menubar, select Kernel$\\rightarrow$Restart) and then **run all cells** (in the menubar, select Cell$\\rightarrow$Run All).\n",
    "\n",
    "Make sure you fill in any place that says `YOUR CODE HERE` or \"YOUR ANSWER HERE\", as well as your name and collaborators below:"
   ]
  },
  {
   "cell_type": "code",
   "execution_count": null,
   "metadata": {},
   "outputs": [],
   "source": [
    "NAME = \"Ram chandra B\"\n",
    "COLLABORATORS = \"Nikole simakov\""
   ]
  },
  {
   "cell_type": "markdown",
   "metadata": {},
   "source": [
    "---"
   ]
  },
  {
   "cell_type": "markdown",
   "metadata": {
    "deletable": false,
    "editable": false,
    "nbgrader": {
     "cell_type": "markdown",
     "checksum": "3c515e758330b4612d019bf8cc822c46",
     "grade": false,
     "grade_id": "cell-7f51021c2127a4a3",
     "locked": true,
     "schema_version": 3,
     "solution": false,
     "task": false
    }
   },
   "source": [
    "# Instructions \n",
    "For every exercise, simply write your sql statement in a variable called `sql_statement`. `output columns` tells you which columns to include in your select statement. "
   ]
  },
  {
   "cell_type": "code",
   "execution_count": null,
   "metadata": {
    "deletable": false,
    "editable": false,
    "nbgrader": {
     "cell_type": "code",
     "checksum": "9aadfb02c7cba93e1591b3621fc1da36",
     "grade": false,
     "grade_id": "cell-17a56c170dc1df96",
     "locked": true,
     "schema_version": 3,
     "solution": false,
     "task": false
    }
   },
   "outputs": [],
   "source": [
    "# Setup\n",
    "from IPython.display import display, HTML\n",
    "import pandas as pd\n",
    "import sqlite3\n",
    "conn = sqlite3.connect(\"homework5.db\")\n",
    "cur = conn.cursor()\n"
   ]
  },
  {
   "cell_type": "code",
   "execution_count": null,
   "metadata": {
    "deletable": false,
    "editable": false,
    "nbgrader": {
     "cell_type": "code",
     "checksum": "6e75b6cea97e2d364a75b73df6fe8014",
     "grade": false,
     "grade_id": "cell-2a0c2d8ed5d8900a",
     "locked": true,
     "schema_version": 3,
     "solution": false,
     "task": false
    }
   },
   "outputs": [],
   "source": [
    "sql_statement = \"select * from customers;\"\n",
    "df = pd.read_sql_query(sql_statement, conn)\n",
    "display(df)"
   ]
  },
  {
   "cell_type": "code",
   "execution_count": null,
   "metadata": {
    "deletable": false,
    "editable": false,
    "nbgrader": {
     "cell_type": "code",
     "checksum": "0b3d3b9129908c0a0a923a96e29fb87e",
     "grade": false,
     "grade_id": "cell-a7be26c54d4fb759",
     "locked": true,
     "schema_version": 3,
     "solution": false,
     "task": false
    }
   },
   "outputs": [],
   "source": [
    "sql_statement = \"select * from orders;\"\n",
    "df = pd.read_sql_query(sql_statement, conn)\n",
    "display(df)"
   ]
  },
  {
   "cell_type": "code",
   "execution_count": null,
   "metadata": {
    "deletable": false,
    "editable": false,
    "nbgrader": {
     "cell_type": "code",
     "checksum": "6908d16ca9765cabb730b4a65b2b9f4b",
     "grade": false,
     "grade_id": "cell-ecf3e72e767cd1c0",
     "locked": true,
     "schema_version": 3,
     "solution": false,
     "task": false
    }
   },
   "outputs": [],
   "source": [
    "sql_statement = \"select * from vendors;\"\n",
    "df = pd.read_sql_query(sql_statement, conn)\n",
    "display(df)"
   ]
  },
  {
   "cell_type": "code",
   "execution_count": null,
   "metadata": {
    "deletable": false,
    "editable": false,
    "nbgrader": {
     "cell_type": "code",
     "checksum": "2e1045e96bb2a16dfbd1c638c2ed4fcd",
     "grade": false,
     "grade_id": "cell-3fd260a71dcd1b77",
     "locked": true,
     "schema_version": 3,
     "solution": false,
     "task": false
    }
   },
   "outputs": [],
   "source": [
    "sql_statement = \"select * from products;\"\n",
    "df = pd.read_sql_query(sql_statement, conn)\n",
    "display(df)"
   ]
  },
  {
   "cell_type": "code",
   "execution_count": null,
   "metadata": {
    "deletable": false,
    "editable": false,
    "nbgrader": {
     "cell_type": "code",
     "checksum": "4ab333535688ff21b4fbf06385fb5695",
     "grade": false,
     "grade_id": "cell-a7ccc14efeb20556",
     "locked": true,
     "schema_version": 3,
     "solution": false,
     "task": false
    }
   },
   "outputs": [],
   "source": [
    "sql_statement = \"select * from orderitems;\"\n",
    "df = pd.read_sql_query(sql_statement, conn)\n",
    "display(df)"
   ]
  },
  {
   "cell_type": "code",
   "execution_count": null,
   "metadata": {
    "deletable": false,
    "editable": false,
    "nbgrader": {
     "cell_type": "code",
     "checksum": "06bb7109ab245db9d3b66ed9d9e1af82",
     "grade": false,
     "grade_id": "cell-32bb4aed2805f864",
     "locked": true,
     "schema_version": 3,
     "solution": false,
     "task": false
    }
   },
   "outputs": [],
   "source": [
    "sql_statement = \"select * from productnotes;\"\n",
    "df = pd.read_sql_query(sql_statement, conn)\n",
    "display(df)"
   ]
  },
  {
   "cell_type": "code",
   "execution_count": null,
   "metadata": {
    "deletable": false,
    "nbgrader": {
     "cell_type": "code",
     "checksum": "c5eec4658de439c4e917eff8fd6ab28c",
     "grade": false,
     "grade_id": "cell-2a0ca9880d79016e",
     "locked": false,
     "schema_version": 3,
     "solution": true,
     "task": false
    }
   },
   "outputs": [],
   "source": [
    "def ex1():\n",
    "    # Write an SQL statement that SELECTs all rows from the `customers` table\n",
    "    # output columns: cust_name, cust_email\n",
    "\n",
    "    # YOUR CODE HERE\n",
    "    sql_statement=\"select cust_name,cust_email from customers\"\n",
    "    #raise NotImplementedError()\n",
    "    df = pd.read_sql_query(sql_statement, conn)\n",
    "    display(df)\n",
    "    return sql_statement\n"
   ]
  },
  {
   "cell_type": "code",
   "execution_count": null,
   "metadata": {
    "deletable": false,
    "editable": false,
    "nbgrader": {
     "cell_type": "code",
     "checksum": "ea2e2d9c33f5f1158843936004e96148",
     "grade": true,
     "grade_id": "cell-1fe431c57dc91fe0",
     "locked": true,
     "points": 1,
     "schema_version": 3,
     "solution": false,
     "task": false
    }
   },
   "outputs": [],
   "source": [
    "sql_statement = ex1()\n",
    "data = pd.read_csv(\"ex1.csv\") \n",
    "cur = conn.cursor()\n",
    "df = pd.read_sql_query(sql_statement, conn)\n",
    "assert df.equals(data) == True"
   ]
  },
  {
   "cell_type": "code",
   "execution_count": null,
   "metadata": {
    "deletable": false,
    "nbgrader": {
     "cell_type": "code",
     "checksum": "4e2fe19c0923fed9ff0168a0c1e30425",
     "grade": false,
     "grade_id": "cell-a8176ef4a0acd1cb",
     "locked": false,
     "schema_version": 3,
     "solution": true,
     "task": false
    }
   },
   "outputs": [],
   "source": [
    "def ex2():\n",
    "    # Write an SQL statement that SELECTs all rows from the `products` table\n",
    "    # output columns: vend_id\n",
    "\n",
    "    # YOUR CODE HERE\n",
    "    sql_statement=\"select vend_id from products\"\n",
    "    #raise NotImplementedError()\n",
    "    df = pd.read_sql_query(sql_statement, conn)\n",
    "    display(df)\n",
    "    return sql_statement"
   ]
  },
  {
   "cell_type": "code",
   "execution_count": null,
   "metadata": {
    "deletable": false,
    "editable": false,
    "nbgrader": {
     "cell_type": "code",
     "checksum": "5cc6dd74f34c9dd10306bc5cf64d7347",
     "grade": true,
     "grade_id": "cell-079430acc428fad0",
     "locked": true,
     "points": 1,
     "schema_version": 3,
     "solution": false,
     "task": false
    }
   },
   "outputs": [],
   "source": [
    "sql_statement = ex2()\n",
    "data = pd.read_csv(\"ex2.csv\")\n",
    "cur = conn.cursor()\n",
    "df = pd.read_sql_query(sql_statement, conn)\n",
    "assert df.equals(data) == True"
   ]
  },
  {
   "cell_type": "code",
   "execution_count": null,
   "metadata": {
    "deletable": false,
    "nbgrader": {
     "cell_type": "code",
     "checksum": "8261f20a0dd3a10bb9c89a8d4d46e707",
     "grade": false,
     "grade_id": "cell-21158581a7c25b2c",
     "locked": false,
     "schema_version": 3,
     "solution": true,
     "task": false
    }
   },
   "outputs": [],
   "source": [
    "def ex3():\n",
    "    # Write an SQL statement that SELECTs distinct rows for vend_id from the `products` table\n",
    "    # output columns: vend_id\n",
    "\n",
    "    # YOUR CODE HERE\n",
    "    sql_statement=\"select distinct vend_id from products\"\n",
    "    #raise NotImplementedError()\n",
    "    df = pd.read_sql_query(sql_statement, conn)\n",
    "    display(df)\n",
    "    return sql_statement"
   ]
  },
  {
   "cell_type": "code",
   "execution_count": null,
   "metadata": {
    "deletable": false,
    "editable": false,
    "nbgrader": {
     "cell_type": "code",
     "checksum": "6a1ff8a027b591ded5be9fdea7f2c718",
     "grade": true,
     "grade_id": "cell-b95a001073bdacb2",
     "locked": true,
     "points": 1,
     "schema_version": 3,
     "solution": false,
     "task": false
    }
   },
   "outputs": [],
   "source": [
    "sql_statement = ex3()\n",
    "data = pd.read_csv(\"ex3.csv\")\n",
    "cur = conn.cursor()\n",
    "df = pd.read_sql_query(sql_statement, conn)\n",
    "assert df.equals(data) == True"
   ]
  },
  {
   "cell_type": "code",
   "execution_count": null,
   "metadata": {
    "deletable": false,
    "nbgrader": {
     "cell_type": "code",
     "checksum": "a480177806c5a2276df7ebb48c963a23",
     "grade": false,
     "grade_id": "cell-a3f50355c33d670f",
     "locked": false,
     "schema_version": 3,
     "solution": true,
     "task": false
    }
   },
   "outputs": [],
   "source": [
    "def ex4():\n",
    "    # Write an SQL statement that SELECTs the first five rows from the `products` table\n",
    "    # output columns: prod_name\n",
    "\n",
    "    # YOUR CODE HERE\n",
    "    #for i in range(5):\n",
    "    sql_statement=\"select prod_name from products limit 5\"\n",
    "    #raise NotImplementedError()\n",
    "    df = pd.read_sql_query(sql_statement, conn)\n",
    "    display(df)\n",
    "    return sql_statement"
   ]
  },
  {
   "cell_type": "code",
   "execution_count": null,
   "metadata": {
    "deletable": false,
    "editable": false,
    "nbgrader": {
     "cell_type": "code",
     "checksum": "98b00513d1112e955dbf8b730aa7e592",
     "grade": true,
     "grade_id": "cell-3f3364d8202f3f82",
     "locked": true,
     "points": 1,
     "schema_version": 3,
     "solution": false,
     "task": false
    }
   },
   "outputs": [],
   "source": [
    "sql_statement = ex4()\n",
    "data = pd.read_csv(\"ex4.csv\")\n",
    "cur = conn.cursor()\n",
    "df = pd.read_sql_query(sql_statement, conn)\n",
    "assert df.equals(data) == True"
   ]
  },
  {
   "cell_type": "code",
   "execution_count": null,
   "metadata": {
    "deletable": false,
    "nbgrader": {
     "cell_type": "code",
     "checksum": "b85fb1fad21ee604afea25c851637f8f",
     "grade": false,
     "grade_id": "cell-7f72469e3761a45b",
     "locked": false,
     "schema_version": 3,
     "solution": true,
     "task": false
    }
   },
   "outputs": [],
   "source": [
    "def ex5():\n",
    "    # Write an SQL statement that SELECTs 4 rows starting from row 3 from `products` table\n",
    "    # output columns: prod_name\n",
    "\n",
    "    # YOUR CODE HERE\n",
    "    sql_statement=\"select prod_name from products limit 4 offset 3\"\n",
    "    #raise NotImplementedError()\n",
    "    df = pd.read_sql_query(sql_statement, conn)\n",
    "    display(df[2:6])\n",
    "    return sql_statement"
   ]
  },
  {
   "cell_type": "code",
   "execution_count": null,
   "metadata": {
    "deletable": false,
    "editable": false,
    "nbgrader": {
     "cell_type": "code",
     "checksum": "289beb074320d6a4b509fe6323ae7683",
     "grade": true,
     "grade_id": "cell-1c05866a01ea7c1e",
     "locked": true,
     "points": 1,
     "schema_version": 3,
     "solution": false,
     "task": false
    }
   },
   "outputs": [],
   "source": [
    "sql_statement = ex5()\n",
    "data = pd.read_csv(\"ex5.csv\")\n",
    "cur = conn.cursor()\n",
    "df = pd.read_sql_query(sql_statement, conn)\n",
    "assert df.equals(data) == True\n"
   ]
  },
  {
   "cell_type": "code",
   "execution_count": null,
   "metadata": {
    "deletable": false,
    "nbgrader": {
     "cell_type": "code",
     "checksum": "db7618b98ceae07a09a5482d93509ccf",
     "grade": false,
     "grade_id": "cell-fa1c5c26029a0e36",
     "locked": false,
     "schema_version": 3,
     "solution": true,
     "task": false
    }
   },
   "outputs": [],
   "source": [
    "def ex6():\n",
    "    # Write an SQL statement that SELECTs all rows from `products` table and sorts by prod_name\n",
    "    # output columns: prod_name\n",
    "    # YOUR CODE HERE\n",
    "    sql_statement=\"select prod_name from products order by prod_name\"\n",
    "    #raise NotImplementedError()\n",
    "    df = pd.read_sql_query(sql_statement, conn)\n",
    "    display(df)\n",
    "    return sql_statement"
   ]
  },
  {
   "cell_type": "code",
   "execution_count": null,
   "metadata": {
    "deletable": false,
    "editable": false,
    "nbgrader": {
     "cell_type": "code",
     "checksum": "e50f70eaac50947a1eb0aefa09558ef9",
     "grade": true,
     "grade_id": "cell-80b68ef15116bb6b",
     "locked": true,
     "points": 1,
     "schema_version": 3,
     "solution": false,
     "task": false
    }
   },
   "outputs": [],
   "source": [
    "sql_statement = ex6()\n",
    "data = pd.read_csv(\"ex6.csv\")\n",
    "cur = conn.cursor()\n",
    "df = pd.read_sql_query(sql_statement, conn)\n",
    "assert df.equals(data) == True"
   ]
  },
  {
   "cell_type": "code",
   "execution_count": null,
   "metadata": {
    "deletable": false,
    "nbgrader": {
     "cell_type": "code",
     "checksum": "928ec408ed02f20c6de28a27caad5d59",
     "grade": false,
     "grade_id": "cell-e56f4ce05a7da66f",
     "locked": false,
     "schema_version": 3,
     "solution": true,
     "task": false
    }
   },
   "outputs": [],
   "source": [
    "def ex7():\n",
    "    # Write an SQL statement that SELECTs all rows from `products` table and sorts by prod_price and then prod_name \n",
    "    # output columns: prod_id, prod_price, prod_name\n",
    "\n",
    "    # YOUR CODE HERE\n",
    "    sql_statement=\"select prod_id, prod_price, prod_name from products order by prod_price,prod_name\"\n",
    "    #raise NotImplementedError()\n",
    "    df = pd.read_sql_query(sql_statement, conn)\n",
    "    display(df)\n",
    "    return sql_statement"
   ]
  },
  {
   "cell_type": "code",
   "execution_count": null,
   "metadata": {
    "deletable": false,
    "editable": false,
    "nbgrader": {
     "cell_type": "code",
     "checksum": "d6dbf8e8c41633691b62a0132d31b4f7",
     "grade": true,
     "grade_id": "cell-104c39ebf54b9a15",
     "locked": true,
     "points": 1,
     "schema_version": 3,
     "solution": false,
     "task": false
    }
   },
   "outputs": [],
   "source": [
    "sql_statement = ex7()\n",
    "data = pd.read_csv(\"ex7.csv\")\n",
    "df = pd.read_sql_query(sql_statement, conn)\n",
    "assert df.equals(data) == True"
   ]
  },
  {
   "cell_type": "code",
   "execution_count": null,
   "metadata": {
    "deletable": false,
    "nbgrader": {
     "cell_type": "code",
     "checksum": "ce8000713ef7e2c355ac90dab64111b2",
     "grade": false,
     "grade_id": "cell-ecd9ce2d2b771e14",
     "locked": false,
     "schema_version": 3,
     "solution": true,
     "task": false
    }
   },
   "outputs": [],
   "source": [
    "def ex8():\n",
    "    # Write an SQL statement that SELECTs all rows from `products` table and sorts by prod_price (descending order)\n",
    "    # and then prod_name \n",
    "    # output columns: prod_id, prod_price, prod_name\n",
    "\n",
    "    # YOUR CODE HERE\n",
    "    sql_statement=\"select prod_id, prod_price, prod_name from products order by prod_price DESC, prod_name\"\n",
    "    #raise NotImplementedError()\n",
    "    df = pd.read_sql_query(sql_statement, conn)\n",
    "    display(df)\n",
    "    return sql_statement"
   ]
  },
  {
   "cell_type": "code",
   "execution_count": null,
   "metadata": {
    "deletable": false,
    "editable": false,
    "nbgrader": {
     "cell_type": "code",
     "checksum": "7c723c1a802c3bac64e96b7be12e0f66",
     "grade": true,
     "grade_id": "cell-168678a4644278f7",
     "locked": true,
     "points": 1,
     "schema_version": 3,
     "solution": false,
     "task": false
    }
   },
   "outputs": [],
   "source": [
    "sql_statement = ex8()\n",
    "data = pd.read_csv(\"ex8.csv\")\n",
    "df = pd.read_sql_query(sql_statement, conn)\n",
    "assert df.equals(data) == True"
   ]
  },
  {
   "cell_type": "code",
   "execution_count": null,
   "metadata": {
    "deletable": false,
    "nbgrader": {
     "cell_type": "code",
     "checksum": "4dca77f3cfc44302b8ce70b89e1d3b04",
     "grade": false,
     "grade_id": "cell-8d81798c71ef1fa8",
     "locked": false,
     "schema_version": 3,
     "solution": true,
     "task": false
    }
   },
   "outputs": [],
   "source": [
    "def ex9():\n",
    "    # Write an SQL statement that SELECTs all rows from `products` table where the price of product is 2.50\n",
    "    # output columns: prod_id, prod_price, prod_name\n",
    "\n",
    "    # YOUR CODE HERE\n",
    "    sql_statement=\"select prod_id, prod_price, prod_name from products where prod_price=2.50\"\n",
    "    #raise NotImplementedError()\n",
    "    df = pd.read_sql_query(sql_statement, conn)\n",
    "    display(df)\n",
    "    return sql_statement"
   ]
  },
  {
   "cell_type": "code",
   "execution_count": null,
   "metadata": {
    "deletable": false,
    "editable": false,
    "nbgrader": {
     "cell_type": "code",
     "checksum": "2960353dd5ad2b87d405251bb01a4fc5",
     "grade": true,
     "grade_id": "cell-7b3443eb610c0ff8",
     "locked": true,
     "points": 1,
     "schema_version": 3,
     "solution": false,
     "task": false
    }
   },
   "outputs": [],
   "source": [
    "sql_statement = ex9()\n",
    "data = pd.read_csv(\"ex9.csv\")\n",
    "df = pd.read_sql_query(sql_statement, conn)\n",
    "assert df.equals(data) == True"
   ]
  },
  {
   "cell_type": "code",
   "execution_count": null,
   "metadata": {
    "deletable": false,
    "nbgrader": {
     "cell_type": "code",
     "checksum": "b8218324f4de69fec85452dd618ea1ea",
     "grade": false,
     "grade_id": "cell-430f263a819eca75",
     "locked": false,
     "schema_version": 3,
     "solution": true,
     "task": false
    }
   },
   "outputs": [],
   "source": [
    "def ex10():\n",
    "    # Write an SQL statement that SELECTs all rows from `products` table where the name of product is Oil can\n",
    "    # output columns: prod_id, prod_price, prod_name\n",
    "\n",
    "    # YOUR CODE HERE\n",
    "    sql_statement=\"select prod_id, prod_price, prod_name from products where prod_name='Oil can'\"\n",
    "    #raise NotImplementedError()\n",
    "    df = pd.read_sql_query(sql_statement, conn)\n",
    "    display(df)\n",
    "    return sql_statement"
   ]
  },
  {
   "cell_type": "code",
   "execution_count": null,
   "metadata": {
    "deletable": false,
    "editable": false,
    "nbgrader": {
     "cell_type": "code",
     "checksum": "9f019248df5682870100e670787fe168",
     "grade": true,
     "grade_id": "cell-9f8f47d37aa4acd9",
     "locked": true,
     "points": 1,
     "schema_version": 3,
     "solution": false,
     "task": false
    }
   },
   "outputs": [],
   "source": [
    "sql_statement = ex10()\n",
    "data = pd.read_csv(\"ex10.csv\")\n",
    "df = pd.read_sql_query(sql_statement, conn)\n",
    "assert df.equals(data) == True"
   ]
  },
  {
   "cell_type": "code",
   "execution_count": null,
   "metadata": {
    "deletable": false,
    "nbgrader": {
     "cell_type": "code",
     "checksum": "341299b9e5d4918e1c2c213970092e53",
     "grade": false,
     "grade_id": "cell-8824150a6590d820",
     "locked": false,
     "schema_version": 3,
     "solution": true,
     "task": false
    }
   },
   "outputs": [],
   "source": [
    "def ex11():\n",
    "    # Write an SQL statement that SELECTs all rows from `products` table where the price of product is \n",
    "    # less than or equal to 10\n",
    "    # output columns: prod_id, prod_price, prod_name\n",
    "\n",
    "    # YOUR CODE HERE\n",
    "    sql_statement=\"select prod_id, prod_price, prod_name from products where prod_price<=10\"\n",
    "    #raise NotImplementedError()\n",
    "    df = pd.read_sql_query(sql_statement, conn)\n",
    "    display(df)\n",
    "    return sql_statement"
   ]
  },
  {
   "cell_type": "code",
   "execution_count": null,
   "metadata": {
    "deletable": false,
    "editable": false,
    "nbgrader": {
     "cell_type": "code",
     "checksum": "08e4d8a5cacb1b6b601d8151bc214a09",
     "grade": true,
     "grade_id": "cell-1a77a2e114245d4d",
     "locked": true,
     "points": 1,
     "schema_version": 3,
     "solution": false,
     "task": false
    }
   },
   "outputs": [],
   "source": [
    "sql_statement = ex11()\n",
    "data = pd.read_csv(\"ex11.csv\")\n",
    "df = pd.read_sql_query(sql_statement, conn)\n",
    "assert df.equals(data) == True"
   ]
  },
  {
   "cell_type": "code",
   "execution_count": null,
   "metadata": {
    "deletable": false,
    "nbgrader": {
     "cell_type": "code",
     "checksum": "27a124fc8474b594621243f44b1bdb7a",
     "grade": false,
     "grade_id": "cell-d7cdfc80f9f8c2a2",
     "locked": false,
     "schema_version": 3,
     "solution": true,
     "task": false
    }
   },
   "outputs": [],
   "source": [
    "def ex12():\n",
    "    # Write an SQL statement that SELECTs all rows from `products` table where the vendor id is not equal to 1003\n",
    "    # output columns: vend_id, prod_name\n",
    "\n",
    "    # YOUR CODE HERE\n",
    "    sql_statement=\"select vend_id,prod_name from products where vend_id <> 1003\"\n",
    "    #raise NotImplementedError()\n",
    "    df = pd.read_sql_query(sql_statement, conn)\n",
    "    display(df)\n",
    "    return sql_statement"
   ]
  },
  {
   "cell_type": "code",
   "execution_count": null,
   "metadata": {
    "deletable": false,
    "editable": false,
    "nbgrader": {
     "cell_type": "code",
     "checksum": "711bed00faac61b79781f7db2f20e755",
     "grade": true,
     "grade_id": "cell-9d40be671b53010b",
     "locked": true,
     "points": 1,
     "schema_version": 3,
     "solution": false,
     "task": false
    }
   },
   "outputs": [],
   "source": [
    "sql_statement = ex12()\n",
    "data = pd.read_csv(\"ex12.csv\")\n",
    "df = pd.read_sql_query(sql_statement, conn)\n",
    "assert df.equals(data) == True"
   ]
  },
  {
   "cell_type": "code",
   "execution_count": null,
   "metadata": {
    "deletable": false,
    "nbgrader": {
     "cell_type": "code",
     "checksum": "c1ea7e07318aca4d9ff7a6814cf639bd",
     "grade": false,
     "grade_id": "cell-30a1770485f404f8",
     "locked": false,
     "schema_version": 3,
     "solution": true,
     "task": false
    }
   },
   "outputs": [],
   "source": [
    "def ex13():\n",
    "    # Write an SQL statement that SELECTs all rows from `products` table where the product prices are between 5 and 10\n",
    "    # output columns: prod_name, prod_price\n",
    "\n",
    "    # YOUR CODE HERE\n",
    "    sql_statement=\"select prod_name, prod_price from products where prod_price between 5 and 10 \"\n",
    "    #raise NotImplementedError()\n",
    "    df = pd.read_sql_query(sql_statement, conn)\n",
    "    display(df)\n",
    "    return sql_statement"
   ]
  },
  {
   "cell_type": "code",
   "execution_count": null,
   "metadata": {
    "deletable": false,
    "editable": false,
    "nbgrader": {
     "cell_type": "code",
     "checksum": "f814f845e242d4394c97b9baf7e7cea8",
     "grade": true,
     "grade_id": "cell-2b48cda3d54fc65c",
     "locked": true,
     "points": 1,
     "schema_version": 3,
     "solution": false,
     "task": false
    }
   },
   "outputs": [],
   "source": [
    "sql_statement = ex13()\n",
    "data = pd.read_csv(\"ex13.csv\")\n",
    "df = pd.read_sql_query(sql_statement, conn)\n",
    "assert df.equals(data) == True"
   ]
  },
  {
   "cell_type": "code",
   "execution_count": null,
   "metadata": {
    "deletable": false,
    "nbgrader": {
     "cell_type": "code",
     "checksum": "2a2c2a2a9f66b5be62f880506898f600",
     "grade": false,
     "grade_id": "cell-e1c8ec01f6bdc9c2",
     "locked": false,
     "schema_version": 3,
     "solution": true,
     "task": false
    }
   },
   "outputs": [],
   "source": [
    "def ex14():\n",
    "    # Write an SQL statement that SELECTs all rows from the `customers` table where the customer email is empty\n",
    "    # output columns: cust_id, cust_name\n",
    "\n",
    "    # YOUR CODE HERE\n",
    "    sql_statement=\"select cust_id, cust_name from customers where cust_email is null\"\n",
    "    #raise NotImplementedError()\n",
    "    df = pd.read_sql_query(sql_statement, conn)\n",
    "    display(df)\n",
    "    return sql_statement"
   ]
  },
  {
   "cell_type": "code",
   "execution_count": null,
   "metadata": {
    "deletable": false,
    "editable": false,
    "nbgrader": {
     "cell_type": "code",
     "checksum": "4d1f2ce2ff25a6d96d8a8e5b232408fb",
     "grade": true,
     "grade_id": "cell-f016b55ec76fa1f6",
     "locked": true,
     "points": 1,
     "schema_version": 3,
     "solution": false,
     "task": false
    }
   },
   "outputs": [],
   "source": [
    "sql_statement = ex14()\n",
    "data = pd.read_csv(\"ex14.csv\")\n",
    "df = pd.read_sql_query(sql_statement, conn)\n",
    "assert df.equals(data) == True"
   ]
  },
  {
   "cell_type": "code",
   "execution_count": null,
   "metadata": {
    "deletable": false,
    "nbgrader": {
     "cell_type": "code",
     "checksum": "1c34771fad4f96748118bc5c5d3ffeec",
     "grade": false,
     "grade_id": "cell-96b9f7ad1db0df5c",
     "locked": false,
     "schema_version": 3,
     "solution": true,
     "task": false
    }
   },
   "outputs": [],
   "source": [
    "def ex15():\n",
    "    # Write an SQL statement that SELECTs all rows from the `products` table where the vender id is 1003 and\n",
    "    # the price is less than or equal to 10. \n",
    "    # output columns: , prod_id, prod_price, prod_name\n",
    "\n",
    "    # YOUR CODE HERE\n",
    "    sql_statement=\"select vend_id,prod_id,prod_price,prod_name from products where vend_id = 1003 and prod_price<=10\"\n",
    "    #raise NotImplementedError()\n",
    "    df = pd.read_sql_query(sql_statement, conn)\n",
    "    display(df)\n",
    "    return sql_statement"
   ]
  },
  {
   "cell_type": "code",
   "execution_count": null,
   "metadata": {
    "deletable": false,
    "editable": false,
    "nbgrader": {
     "cell_type": "code",
     "checksum": "7cd0fc88ef56674a218945559abb933c",
     "grade": true,
     "grade_id": "cell-0c69bab494531d3b",
     "locked": true,
     "points": 1,
     "schema_version": 3,
     "solution": false,
     "task": false
    }
   },
   "outputs": [],
   "source": [
    "sql_statement = ex15()\n",
    "data = pd.read_csv(\"ex15.csv\")\n",
    "df = pd.read_sql_query(sql_statement, conn)\n",
    "assert df.equals(data) == True"
   ]
  },
  {
   "cell_type": "code",
   "execution_count": null,
   "metadata": {
    "deletable": false,
    "nbgrader": {
     "cell_type": "code",
     "checksum": "f1e41507bbf743105838cf98925c51ae",
     "grade": false,
     "grade_id": "cell-6243f74de5453152",
     "locked": false,
     "schema_version": 3,
     "solution": true,
     "task": false
    }
   },
   "outputs": [],
   "source": [
    "def ex16():\n",
    "    # Write an SQL statement that SELECTs all rows from the `products` table where the vender id is 1002 or 1003 and\n",
    "    # the price is greater than or equal to 5. \n",
    "    # output columns: vend_id, prod_id, prod_price, prod_name\n",
    "\n",
    "    # YOUR CODE HERE\n",
    "    sql_statement=\"select vend_id,prod_id,prod_price,prod_name from products where (vend_id = 1002 or vend_id=1003) and prod_price>=5\"\n",
    "    #raise NotImplementedError()\n",
    "    df = pd.read_sql_query(sql_statement, conn)\n",
    "    display(df)\n",
    "    return sql_statement"
   ]
  },
  {
   "cell_type": "code",
   "execution_count": null,
   "metadata": {
    "deletable": false,
    "editable": false,
    "nbgrader": {
     "cell_type": "code",
     "checksum": "66fb6b5d8a90f9617e27a2541885e2e2",
     "grade": true,
     "grade_id": "cell-724d7b68a015bddd",
     "locked": true,
     "points": 1,
     "schema_version": 3,
     "solution": false,
     "task": false
    }
   },
   "outputs": [],
   "source": [
    "sql_statement = ex16()\n",
    "data = pd.read_csv(\"ex16.csv\")\n",
    "df = pd.read_sql_query(sql_statement, conn)\n",
    "assert df.equals(data) == True"
   ]
  },
  {
   "cell_type": "code",
   "execution_count": null,
   "metadata": {
    "deletable": false,
    "nbgrader": {
     "cell_type": "code",
     "checksum": "98d9131e9bdafe75ede6ba0052cc970a",
     "grade": false,
     "grade_id": "cell-b99e32e0579a9767",
     "locked": false,
     "schema_version": 3,
     "solution": true,
     "task": false
    }
   },
   "outputs": [],
   "source": [
    "def ex17():\n",
    "    # Write an SQL statement that SELECTs all rows from the `products` table where the vender id is 1002 or 1003 or 1005.\n",
    "    # Use the IN operator for this!\n",
    "    # output columns: vend_id, prod_id, prod_price, prod_name\n",
    "\n",
    "    # YOUR CODE HERE\n",
    "    sql_statement=\"select vend_id,prod_id,prod_price,prod_name from products where vend_id in (1002,1003,1005)\"\n",
    "    #raise NotImplementedError()\n",
    "    df = pd.read_sql_query(sql_statement, conn)\n",
    "    display(df)\n",
    "    return sql_statement"
   ]
  },
  {
   "cell_type": "code",
   "execution_count": null,
   "metadata": {
    "deletable": false,
    "editable": false,
    "nbgrader": {
     "cell_type": "code",
     "checksum": "718893ecbfa22966b3ddadfd047f8815",
     "grade": true,
     "grade_id": "cell-1753e3d7e199d906",
     "locked": true,
     "points": 1,
     "schema_version": 3,
     "solution": false,
     "task": false
    }
   },
   "outputs": [],
   "source": [
    "sql_statement = ex17()\n",
    "data = pd.read_csv(\"ex17.csv\")\n",
    "df = pd.read_sql_query(sql_statement, conn)\n",
    "assert df.equals(data) == True"
   ]
  },
  {
   "cell_type": "code",
   "execution_count": null,
   "metadata": {
    "deletable": false,
    "nbgrader": {
     "cell_type": "code",
     "checksum": "7a5dc5b679750b61565e64983b6e937f",
     "grade": false,
     "grade_id": "cell-49e3a1e8a03c0bbb",
     "locked": false,
     "schema_version": 3,
     "solution": true,
     "task": false
    }
   },
   "outputs": [],
   "source": [
    "def ex18():\n",
    "    # Write an SQL statement that SELECTs all rows from the `products` table where the vender id is NOT 1002 or 1003.\n",
    "    # Use the NOT IN operator for this!\n",
    "    # output columns: vend_id, prod_id, prod_price, prod_name\n",
    "\n",
    "    # YOUR CODE HERE\n",
    "    sql_statement=\"select vend_id,prod_id,prod_price,prod_name from products where vend_id not in (1002,1003)\"\n",
    "    #raise NotImplementedError()\n",
    "    df = pd.read_sql_query(sql_statement, conn)\n",
    "    display(df)\n",
    "    return sql_statement"
   ]
  },
  {
   "cell_type": "code",
   "execution_count": null,
   "metadata": {
    "deletable": false,
    "editable": false,
    "nbgrader": {
     "cell_type": "code",
     "checksum": "e814dfa5afed6b794c16e9bdf28ba6e7",
     "grade": true,
     "grade_id": "cell-c208b2ff8691f0ac",
     "locked": true,
     "points": 1,
     "schema_version": 3,
     "solution": false,
     "task": false
    }
   },
   "outputs": [],
   "source": [
    "sql_statement = ex18()\n",
    "data = pd.read_csv(\"ex18.csv\")\n",
    "df = pd.read_sql_query(sql_statement, conn)\n",
    "assert df.equals(data) == True"
   ]
  },
  {
   "cell_type": "code",
   "execution_count": null,
   "metadata": {
    "deletable": false,
    "nbgrader": {
     "cell_type": "code",
     "checksum": "9cb3a5812fa821f611a375bc31309b51",
     "grade": false,
     "grade_id": "cell-a8f0d4f44b59bb9c",
     "locked": false,
     "schema_version": 3,
     "solution": true,
     "task": false
    }
   },
   "outputs": [],
   "source": [
    "def ex19():\n",
    "    # Write an SQL statement that SELECTs all rows from the `products` table where the product name starts with 'jet'\n",
    "    # output columns: prod_id, prod_price, prod_name\n",
    "\n",
    "    # YOUR CODE HERE\n",
    "    sql_statement=\"select prod_id,prod_price,prod_name from products where prod_name like 'jet%'\"\n",
    "    #raise NotImplementedError()\n",
    "    df = pd.read_sql_query(sql_statement, conn)\n",
    "    display(df)\n",
    "    return sql_statement"
   ]
  },
  {
   "cell_type": "code",
   "execution_count": null,
   "metadata": {
    "deletable": false,
    "editable": false,
    "nbgrader": {
     "cell_type": "code",
     "checksum": "cc327bc680963eb843e355c43c2fba0d",
     "grade": true,
     "grade_id": "cell-146ffc73aef549ba",
     "locked": true,
     "points": 1,
     "schema_version": 3,
     "solution": false,
     "task": false
    }
   },
   "outputs": [],
   "source": [
    "sql_statement = ex19()\n",
    "data = pd.read_csv(\"ex19.csv\")\n",
    "df = pd.read_sql_query(sql_statement, conn)\n",
    "assert df.equals(data) == True"
   ]
  },
  {
   "cell_type": "code",
   "execution_count": null,
   "metadata": {
    "deletable": false,
    "nbgrader": {
     "cell_type": "code",
     "checksum": "2e4d3a0ab272134b5546ea5d7e4f99e1",
     "grade": false,
     "grade_id": "cell-509a5f27687a3002",
     "locked": false,
     "schema_version": 3,
     "solution": true,
     "task": false
    }
   },
   "outputs": [],
   "source": [
    "def ex20():\n",
    "    # Write an SQL statement that SELECTs all rows from the `products` table where the product name ends with 'anvil'\n",
    "    # output columns: prod_id, prod_price, prod_name\n",
    "\n",
    "    # YOUR CODE HERE\n",
    "    sql_statement=\"select prod_id,prod_price,prod_name from products where prod_name like '%anvil'\"\n",
    "    #raise NotImplementedError()\n",
    "    df = pd.read_sql_query(sql_statement, conn)\n",
    "    display(df)\n",
    "    return sql_statement"
   ]
  },
  {
   "cell_type": "code",
   "execution_count": null,
   "metadata": {
    "deletable": false,
    "editable": false,
    "nbgrader": {
     "cell_type": "code",
     "checksum": "26d4dfa4214cfb46547eb1d5ceeab6d4",
     "grade": true,
     "grade_id": "cell-9d5610737d4dd8cb",
     "locked": true,
     "points": 1,
     "schema_version": 3,
     "solution": false,
     "task": false
    }
   },
   "outputs": [],
   "source": [
    "sql_statement = ex20()\n",
    "data = pd.read_csv(\"ex20.csv\")\n",
    "df = pd.read_sql_query(sql_statement, conn)\n",
    "assert df.equals(data) == True"
   ]
  },
  {
   "cell_type": "code",
   "execution_count": null,
   "metadata": {
    "deletable": false,
    "nbgrader": {
     "cell_type": "code",
     "checksum": "19af7914f1eaa85e5fda44e4cb4e4d3f",
     "grade": false,
     "grade_id": "cell-9a1fc74e65dfecc2",
     "locked": false,
     "schema_version": 3,
     "solution": true,
     "task": false
    }
   },
   "outputs": [],
   "source": [
    "def ex21():\n",
    "    # Write an SQL statement that SELECTs all rows from the `vendors` table. Concatenate vendor name and vendor country\n",
    "    # as vend_title. Order by vend_title. Leave space in between -- example `ACME (USA)`\n",
    "    # output columns: vend_title\n",
    "\n",
    "    # YOUR CODE HERE\n",
    "    #sql_statement=\"select (vend_name+' ('+vend_country+')') as vend_title from vendors order by vend_title\"\n",
    "    sql_statement=\"select vend_name ||' '||'('|| vend_country ||')' as vend_title from vendors order by vend_title\"\n",
    "    #raise NotImplementedError()\n",
    "    df = pd.read_sql_query(sql_statement, conn)\n",
    "    display(df)\n",
    "    return sql_statement"
   ]
  },
  {
   "cell_type": "code",
   "execution_count": null,
   "metadata": {
    "deletable": false,
    "editable": false,
    "nbgrader": {
     "cell_type": "code",
     "checksum": "dd672a6547f08343d71f36544fe99928",
     "grade": true,
     "grade_id": "cell-ba4ff89538f3488b",
     "locked": true,
     "points": 1,
     "schema_version": 3,
     "solution": false,
     "task": false
    }
   },
   "outputs": [],
   "source": [
    "sql_statement = ex21()\n",
    "data = pd.read_csv(\"ex21.csv\")\n",
    "df = pd.read_sql_query(sql_statement, conn)\n",
    "assert df.equals(data) == True"
   ]
  },
  {
   "cell_type": "code",
   "execution_count": null,
   "metadata": {
    "deletable": false,
    "nbgrader": {
     "cell_type": "code",
     "checksum": "4176fd3162ff82c35596aaa5600971c9",
     "grade": false,
     "grade_id": "cell-95e41e48b2853dca",
     "locked": false,
     "schema_version": 3,
     "solution": true,
     "task": false
    }
   },
   "outputs": [],
   "source": [
    "def ex22():\n",
    "    # Write an SQL statement that SELECTs all rows from the `orderitems` table where order number is 20005. \n",
    "    # Display an extra calculated column called `expanded_price` that is the result of quantity multiplied by item_price.\n",
    "    # Round the value to two decimal places. \n",
    "    # output columns: prod_id, quantity, item_price, expanded_price\n",
    "\n",
    "    # YOUR CODE HERE\n",
    "    sql_statement=\"select prod_id, quantity,item_price, round(quantity*item_price,2) as expanded_price from orderitems where order_num=20005\"\n",
    "    #raise NotImplementedError()\n",
    "    df = pd.read_sql_query(sql_statement, conn)\n",
    "    display(df)\n",
    "    return sql_statement"
   ]
  },
  {
   "cell_type": "code",
   "execution_count": null,
   "metadata": {
    "deletable": false,
    "editable": false,
    "nbgrader": {
     "cell_type": "code",
     "checksum": "6636eadd35335585867ad0d4877fd2c0",
     "grade": true,
     "grade_id": "cell-45fceb3b463d3e90",
     "locked": true,
     "points": 1,
     "schema_version": 3,
     "solution": false,
     "task": false
    }
   },
   "outputs": [],
   "source": [
    "sql_statement = ex22()\n",
    "data = pd.read_csv(\"ex22.csv\")\n",
    "df = pd.read_sql_query(sql_statement, conn)\n",
    "assert df.equals(data) == True"
   ]
  },
  {
   "cell_type": "code",
   "execution_count": null,
   "metadata": {
    "deletable": false,
    "nbgrader": {
     "cell_type": "code",
     "checksum": "ef2f063ec898cd1d6a3a615c4beb06e1",
     "grade": false,
     "grade_id": "cell-40c81684d54794d4",
     "locked": false,
     "schema_version": 3,
     "solution": true,
     "task": false
    }
   },
   "outputs": [],
   "source": [
    "def ex23():\n",
    "    # Write an SQL statement that SELECTs all rows from the `orders` table where the order date is between \n",
    "    # 2005-09-13 and 2005-10-04\n",
    "    # output columns: order_num, order_date\n",
    "    # https://www.sqlitetutorial.net/sqlite-date-functions/sqlite-date-function/\n",
    "    \n",
    "    # YOUR CODE HERE\n",
    "    sql_statement=\"select order_num,order_date from orders where order_date between '2005-09-13' and '2005-10-04' \"\n",
    "    #raise NotImplementedError()\n",
    "    df = pd.read_sql_query(sql_statement, conn)\n",
    "    display(df)\n",
    "    return sql_statement"
   ]
  },
  {
   "cell_type": "code",
   "execution_count": null,
   "metadata": {
    "deletable": false,
    "editable": false,
    "nbgrader": {
     "cell_type": "code",
     "checksum": "8af290b61254b733454f6c890ec615dc",
     "grade": true,
     "grade_id": "cell-c039035a93124821",
     "locked": true,
     "points": 1,
     "schema_version": 3,
     "solution": false,
     "task": false
    }
   },
   "outputs": [],
   "source": [
    "sql_statement = ex23()\n",
    "data = pd.read_csv(\"ex23.csv\")\n",
    "df = pd.read_sql_query(sql_statement, conn)\n",
    "assert df.equals(data) == True"
   ]
  },
  {
   "cell_type": "code",
   "execution_count": null,
   "metadata": {
    "deletable": false,
    "nbgrader": {
     "cell_type": "code",
     "checksum": "113b56ba9d45731435009bc9c430879a",
     "grade": false,
     "grade_id": "cell-21190814ac5d189f",
     "locked": false,
     "schema_version": 3,
     "solution": true,
     "task": false
    }
   },
   "outputs": [],
   "source": [
    "def ex24():\n",
    "    # Write an SQL statement that calculates the average price of all rows in the `products` table. \n",
    "    # Call the average column avg_price\n",
    "    # output columns: avg_price\n",
    "\n",
    "    # YOUR CODE HERE\n",
    "    sql_statement=\"select avg(prod_price) as avg_price from products\"\n",
    "    #raise NotImplementedError()\n",
    "    df = pd.read_sql_query(sql_statement, conn)\n",
    "    display(df)\n",
    "    return sql_statement"
   ]
  },
  {
   "cell_type": "code",
   "execution_count": null,
   "metadata": {
    "deletable": false,
    "editable": false,
    "nbgrader": {
     "cell_type": "code",
     "checksum": "c1be3d23de04d147e9ef5e5b5c06d1a8",
     "grade": true,
     "grade_id": "cell-81d287d3835e6c4f",
     "locked": true,
     "points": 1,
     "schema_version": 3,
     "solution": false,
     "task": false
    }
   },
   "outputs": [],
   "source": [
    "sql_statement = ex24()\n",
    "data = pd.read_csv(\"ex24.csv\")\n",
    "df = pd.read_sql_query(sql_statement, conn)\n",
    "assert df.equals(data) == True"
   ]
  },
  {
   "cell_type": "code",
   "execution_count": null,
   "metadata": {
    "deletable": false,
    "nbgrader": {
     "cell_type": "code",
     "checksum": "66208fc3e195dbdd6f02171e83f97a9b",
     "grade": false,
     "grade_id": "cell-17cbfaf8fa0dfec1",
     "locked": false,
     "schema_version": 3,
     "solution": true,
     "task": false
    }
   },
   "outputs": [],
   "source": [
    "def ex25():\n",
    "    # Write an SQL statement that calculates the average price of all rows in the `products` table \n",
    "    # where the vendor id is 1003 . Call the average column avg_price\n",
    "    # output columns: avg_price\n",
    "\n",
    "    # YOUR CODE HERE\n",
    "    sql_statement=\"select avg(prod_price) as avg_price from products where vend_id=1003\"\n",
    "    #raise NotImplementedError()\n",
    "    df = pd.read_sql_query(sql_statement, conn)\n",
    "    display(df)\n",
    "    return sql_statement"
   ]
  },
  {
   "cell_type": "code",
   "execution_count": null,
   "metadata": {
    "deletable": false,
    "editable": false,
    "nbgrader": {
     "cell_type": "code",
     "checksum": "cfc2a6f2f6d6ba4cea06985980c34be5",
     "grade": true,
     "grade_id": "cell-4698550258a974de",
     "locked": true,
     "points": 1,
     "schema_version": 3,
     "solution": false,
     "task": false
    }
   },
   "outputs": [],
   "source": [
    "sql_statement = ex25()\n",
    "data = pd.read_csv(\"ex25.csv\")\n",
    "df = pd.read_sql_query(sql_statement, conn)\n",
    "assert df.equals(data) == True"
   ]
  },
  {
   "cell_type": "code",
   "execution_count": null,
   "metadata": {
    "deletable": false,
    "nbgrader": {
     "cell_type": "code",
     "checksum": "2a5b5b433c03fc3f8e96fd2d4223c9e0",
     "grade": false,
     "grade_id": "cell-f3c78716afb20fc5",
     "locked": false,
     "schema_version": 3,
     "solution": true,
     "task": false
    }
   },
   "outputs": [],
   "source": [
    "def ex26():\n",
    "    # Write an SQL statement that counts the number of customers in the `customers` table \n",
    "    # Call the count column num_cust\n",
    "    # output columns: num_cust\n",
    "\n",
    "    # YOUR CODE HERE\n",
    "    sql_statement=\"select count(cust_id) as num_cust from customers\"\n",
    "    #raise NotImplementedError()\n",
    "    df = pd.read_sql_query(sql_statement, conn)\n",
    "    display(df)\n",
    "    return sql_statement"
   ]
  },
  {
   "cell_type": "code",
   "execution_count": null,
   "metadata": {
    "deletable": false,
    "editable": false,
    "nbgrader": {
     "cell_type": "code",
     "checksum": "5d1b9d05492afb7f1e02147af2ab5291",
     "grade": true,
     "grade_id": "cell-ca2b60efc1ff7b14",
     "locked": true,
     "points": 1,
     "schema_version": 3,
     "solution": false,
     "task": false
    }
   },
   "outputs": [],
   "source": [
    "sql_statement = ex26()\n",
    "data = pd.read_csv(\"ex26.csv\")\n",
    "df = pd.read_sql_query(sql_statement, conn)\n",
    "assert df.equals(data) == True"
   ]
  },
  {
   "cell_type": "code",
   "execution_count": null,
   "metadata": {
    "deletable": false,
    "nbgrader": {
     "cell_type": "code",
     "checksum": "58b89cecaf73ab97cee6fba0d0065cac",
     "grade": false,
     "grade_id": "cell-c0376fb42d0c438c",
     "locked": false,
     "schema_version": 3,
     "solution": true,
     "task": false
    }
   },
   "outputs": [],
   "source": [
    "def ex27():\n",
    "    # Write an SQL statement that calculates the max price in the `products` table \n",
    "    # Call the max column max_price. Round the value to two decimal places. \n",
    "    # output columns: max_price\n",
    "\n",
    "    # YOUR CODE HERE\n",
    "    sql_statement=\"select max(prod_price) as max_price from products \"\n",
    "    #raise NotImplementedError()\n",
    "    df = pd.read_sql_query(sql_statement, conn)\n",
    "    display(df)\n",
    "    return sql_statement"
   ]
  },
  {
   "cell_type": "code",
   "execution_count": null,
   "metadata": {
    "deletable": false,
    "editable": false,
    "nbgrader": {
     "cell_type": "code",
     "checksum": "b39592cc3b06508af632668a85fab444",
     "grade": true,
     "grade_id": "cell-04c3f0f96d6d2a1d",
     "locked": true,
     "points": 1,
     "schema_version": 3,
     "solution": false,
     "task": false
    }
   },
   "outputs": [],
   "source": [
    "sql_statement = ex27()\n",
    "data = pd.read_csv(\"ex27.csv\")\n",
    "df = pd.read_sql_query(sql_statement, conn)\n",
    "assert df.equals(data) == True"
   ]
  },
  {
   "cell_type": "code",
   "execution_count": null,
   "metadata": {
    "deletable": false,
    "nbgrader": {
     "cell_type": "code",
     "checksum": "3279e299d482cbf33522033aa8bee021",
     "grade": false,
     "grade_id": "cell-753f208c1fdb63b3",
     "locked": false,
     "schema_version": 3,
     "solution": true,
     "task": false
    }
   },
   "outputs": [],
   "source": [
    "def ex28():\n",
    "    # Write an SQL statement that calculates the min price in the `products` table \n",
    "    # Call the min column min_price. Round the value to two decimal places. \n",
    "    # output columns: num_cust\n",
    "\n",
    "    # YOUR CODE HERE\n",
    "    sql_statement=\"select min(prod_price) as min_price from products \"\n",
    "    #raise NotImplementedError()\n",
    "    df = pd.read_sql_query(sql_statement, conn)\n",
    "    display(df)\n",
    "    return sql_statement"
   ]
  },
  {
   "cell_type": "code",
   "execution_count": null,
   "metadata": {
    "deletable": false,
    "editable": false,
    "nbgrader": {
     "cell_type": "code",
     "checksum": "5ffcee199154efc62f9b929e073e9093",
     "grade": true,
     "grade_id": "cell-81dee40be27d5df4",
     "locked": true,
     "points": 1,
     "schema_version": 3,
     "solution": false,
     "task": false
    }
   },
   "outputs": [],
   "source": [
    "sql_statement = ex28()\n",
    "data = pd.read_csv(\"ex28.csv\")\n",
    "df = pd.read_sql_query(sql_statement, conn)\n",
    "assert df.equals(data) == True"
   ]
  },
  {
   "cell_type": "code",
   "execution_count": null,
   "metadata": {
    "deletable": false,
    "nbgrader": {
     "cell_type": "code",
     "checksum": "60dc7cad4d877991ab053162f8a6713e",
     "grade": false,
     "grade_id": "cell-44fb13d2b1ea1236",
     "locked": false,
     "schema_version": 3,
     "solution": true,
     "task": false
    }
   },
   "outputs": [],
   "source": [
    "def ex29():\n",
    "    # Write an SQL statement that sums the quantity in the `orderitems` table where order number is 20005. \n",
    "    # Call the sum column items_ordered\n",
    "    # output columns: items_ordered\n",
    "\n",
    "    # YOUR CODE HERE\n",
    "    sql_statement=\"select sum(quantity) as items_ordered from orderitems where order_num=20005\"\n",
    "    #raise NotImplementedError()\n",
    "    df = pd.read_sql_query(sql_statement, conn)\n",
    "    display(df)\n",
    "    return sql_statement"
   ]
  },
  {
   "cell_type": "code",
   "execution_count": null,
   "metadata": {
    "deletable": false,
    "editable": false,
    "nbgrader": {
     "cell_type": "code",
     "checksum": "3733167a62e786596fb7ccb8619817b9",
     "grade": true,
     "grade_id": "cell-a5b64b8bc8a24d67",
     "locked": true,
     "points": 1,
     "schema_version": 3,
     "solution": false,
     "task": false
    }
   },
   "outputs": [],
   "source": [
    "sql_statement = ex29()\n",
    "data = pd.read_csv(\"ex29.csv\")\n",
    "df = pd.read_sql_query(sql_statement, conn)\n",
    "assert df.equals(data) == True"
   ]
  },
  {
   "cell_type": "code",
   "execution_count": null,
   "metadata": {
    "deletable": false,
    "nbgrader": {
     "cell_type": "code",
     "checksum": "fd657cfbdebdb8d43191013f708b88d9",
     "grade": false,
     "grade_id": "cell-b78ed8e616bd1911",
     "locked": false,
     "schema_version": 3,
     "solution": true,
     "task": false
    }
   },
   "outputs": [],
   "source": [
    "class IteratorClass:\n",
    "    ## Complete this class! It takes in three inputs when initializing. \n",
    "    # input#1 x -- is a sequence, either a list or a tuple. Raise a ValueError if it is not a list or a tuple\n",
    "    # input#2 y -- is a sequence, either a list or a tuple. Raise a ValueError if it is not a list or a tuple\n",
    "    # input#3 operator -- is a string that can either be 'add', 'sub', 'mul', 'div' -- If the specified operator\n",
    "    # is not one of these, raise a ValueError. \n",
    "    \n",
    "    # Complete the class by writing functions that will turn it into an iterator class. \n",
    "    # https://www.programiz.com/python-programming/methods/built-in/iter\n",
    "    # The purpose of the class is to take two lists(x and y), apply the specified operator and return the output\n",
    "    # as an iterator, meaning you can do \"for ele in IteratorClass(x,y,'add')\"\n",
    "    # NOTE: For the / operator, round to two decimal places\n",
    "    # Raise ValueError when the length is not the same for both inputs\n",
    "    # Raise ValueError when the operator is not add, sub, mul, or div. \n",
    "    \n",
    "    \n",
    "    # YOUR CODE HERE\n",
    "    def __init__(self,x,y,opt):\n",
    "        if (type(x) == tuple or type(x) == list) and (type(y) == tuple or type(y) == list) and opt in [\"add\", \"sub\", \"mul\", \"div\"]:\n",
    "            self.x = x\n",
    "            self.y = y\n",
    "            self.opt = opt\n",
    "        else:\n",
    "            raise ValueError\n",
    "    \n",
    "    def __next__(self):\n",
    "        if len(self.val)==self.p:\n",
    "            raise StopIteration\n",
    "        else:\n",
    "            self.p+=1\n",
    "            return self.val[self.p-1]\n",
    "        \n",
    "    def __iter__(self):\n",
    "        if self.opt=='add':\n",
    "            self.val=[self.x[i]+self.y[i] for i in range(len(self.x))]\n",
    "        elif self.opt=='sub':\n",
    "            self.val= [self.x[i]-self.y[i] for i in range(len(self.x))]\n",
    "        elif self.opt=='mul':\n",
    "            self.val=[self.x[i]*self.y[i] for i in range(len(self.x))]\n",
    "        elif self.opt=='div':\n",
    "            self.val=[round(self.x[i]/self.y[i],2) for i in range(len(self.x))]\n",
    "                                                            \n",
    "        self.p=0\n",
    "        return self\n"
   ]
  },
  {
   "cell_type": "code",
   "execution_count": null,
   "metadata": {
    "deletable": false,
    "editable": false,
    "nbgrader": {
     "cell_type": "code",
     "checksum": "0482e057c58b21ec367925a50fc90f9d",
     "grade": true,
     "grade_id": "cell-9f6a3618e5d100b3",
     "locked": true,
     "points": 6,
     "schema_version": 3,
     "solution": false,
     "task": false
    }
   },
   "outputs": [],
   "source": [
    "from nose.tools import assert_raises\n",
    "assert_raises(ValueError, IteratorClass, range(5,10), [1,2,3], 'div')\n",
    "assert_raises(ValueError, IteratorClass, [1,2,3], range(5,10), 'div')\n",
    "assert_raises(ValueError, IteratorClass, [1,2,3], [1,2,3], 'abc')"
   ]
  },
  {
   "cell_type": "code",
   "execution_count": null,
   "metadata": {
    "deletable": false,
    "editable": false,
    "nbgrader": {
     "cell_type": "code",
     "checksum": "7c1cae5cb0d00c74107940119a3b6b48",
     "grade": true,
     "grade_id": "cell-09c5dcad3863c55e",
     "locked": true,
     "points": 8,
     "schema_version": 3,
     "solution": false,
     "task": false
    }
   },
   "outputs": [],
   "source": [
    "x = list(range(5,10))\n",
    "y = list(range(50,55))\n",
    "\n",
    "add_iterator = IteratorClass(x,y,'add')\n",
    "sub_iterator = IteratorClass(x,y,'sub')\n",
    "mul_iterator = IteratorClass(x,y,'mul')\n",
    "div_iterator = IteratorClass(x,y,'div')\n",
    "\n",
    "assert [ele for ele in add_iterator] == [55, 57, 59, 61, 63]\n",
    "assert [ele for ele in sub_iterator] == [-45, -45, -45, -45, -45]\n",
    "assert [ele for ele in mul_iterator] == [250, 306, 364, 424, 486]\n",
    "assert [ele for ele in div_iterator] == [0.1, 0.12, 0.13, 0.15, 0.17]"
   ]
  },
  {
   "cell_type": "code",
   "execution_count": 2,
   "metadata": {
    "deletable": false,
    "nbgrader": {
     "cell_type": "code",
     "checksum": "dcda7d74a28485bb69e8fedd5fe39670",
     "grade": false,
     "grade_id": "cell-c8a72684b24755b4",
     "locked": false,
     "schema_version": 3,
     "solution": true,
     "task": false
    }
   },
   "outputs": [],
   "source": [
    "from collections.abc import Iterable\n",
    "\n",
    "\n",
    "class ListV2:\n",
    "    # Complete this class to fulfill the following requirement\n",
    "    # 1) The class only takes one input argment which is a list or a tuple;\n",
    "    # Raise ValueError if the input is not a list or tuple\n",
    "    # 2) The class overload loads +,-,*,/ and returns a ListV2 object as the result\n",
    "    # 3) The class can handle +,-,*,/ for both list and int/float, meaning the thing to the right of the operator\n",
    "    # can be a sequence or a number;\n",
    "    # 4) The class is an interator class\n",
    "    # HINT: Study the assert statements below to understand how this class is being used and reverse engineer it!\n",
    "    # NOTE: For the / operator, round to two decimal places\n",
    "\n",
    "    def __init__(self,p):\n",
    "        if type(p) in (list,tuple):\n",
    "            self.p = p\n",
    "        else:\n",
    "            raise ValueError\n",
    "            \n",
    "        \n",
    "    def __iter__(self):\n",
    "        self.value=0\n",
    "        return self\n",
    "    \n",
    "    def __next__(self):\n",
    "        if self.value < len(self.p):\n",
    "            self.value +=1\n",
    "            return self.p[self.value-1]\n",
    "        else:\n",
    "            raise StopIteration\n",
    "\n",
    "    def __add__(self,q):\n",
    "        nexxt = []\n",
    "        if type(q)== ListV2:\n",
    "            for i in range(0,len(self.p)):\n",
    "                nexxt.append(self.p[i]+q.p[i])\n",
    "            return(ListV2(nexxt))\n",
    "        \n",
    "        elif type(q) in (int,float):\n",
    "            for i in range(0,len(self.p)):\n",
    "                nexxt.append(self.p[i]+q)\n",
    "            return(ListV2(nexxt))\n",
    "            \n",
    "    \n",
    "    def __sub__(self,q):\n",
    "        nexxt = []\n",
    "        if type(q) == ListV2:\n",
    "            for i in range(0,len(self.p)):\n",
    "                nexxt.append(self.p[i]-q.p[i])\n",
    "            return(ListV2(nexxt))\n",
    "        \n",
    "        elif type(q) in (int,float):\n",
    "            for i in range(0,len(self.p)):\n",
    "                nexxt.append(self.p[i]-q)\n",
    "            return(ListV2(nexxt))\n",
    "       \n",
    "            \n",
    "            \n",
    "    def __mul__(self,q):\n",
    "        nexxt = []\n",
    "        if type(q) == ListV2:\n",
    "            for i in range(0,len(self.p)):\n",
    "                nexxt.append(self.p[i]*q.p[i])\n",
    "            return(ListV2(nexxt))\n",
    "        \n",
    "        elif type(q) in (int,float):\n",
    "            for i in range(0,len(self.p)):\n",
    "                nexxt.append(self.p[i]*q)\n",
    "            return(ListV2(nexxt))\n",
    "       \n",
    "            \n",
    "    def __truediv__(self,q):\n",
    "        nexxt = []\n",
    "        if type(q)== ListV2:\n",
    "            for i in range(0,len(self.p)):\n",
    "                nexxt.append(round(self.p[i]/q.p[i],2))\n",
    "            return(ListV2(nexxt))\n",
    "        \n",
    "        elif type(q) in (int,float):\n",
    "            for i in range(0,len(self.p)):\n",
    "                nexxt.append(round(self.p[i]/q,2))\n",
    "            return(ListV2(nexxt))"
   ]
  },
  {
   "cell_type": "code",
   "execution_count": null,
   "metadata": {
    "deletable": false,
    "editable": false,
    "nbgrader": {
     "cell_type": "code",
     "checksum": "78842a79f77e41e4dc7cadf2af976061",
     "grade": true,
     "grade_id": "cell-8a095264f308df8d",
     "locked": true,
     "points": 20,
     "schema_version": 3,
     "solution": false,
     "task": false
    }
   },
   "outputs": [],
   "source": [
    "l1 = ListV2(list(range(5,10)))\n",
    "l2 = ListV2(list(range(50,55)))\n",
    "\n",
    "from nose.tools import assert_raises\n",
    "assert_raises(ValueError, ListV2, 3)\n",
    "\n",
    "result = l1 + l2\n",
    "assert type(result) == ListV2\n",
    "assert [ele for ele in result] == [55, 57, 59, 61, 63]\n",
    "result = l1 - l2\n",
    "assert [ele for ele in result] == [-45, -45, -45, -45, -45]\n",
    "result = l1 * l2\n",
    "assert [ele for ele in result] == [250, 306, 364, 424, 486]\n",
    "result = l1 / l2\n",
    "assert [ele for ele in result] == [0.1, 0.12, 0.13, 0.15, 0.17]\n",
    "\n",
    "result = l1 + 5\n",
    "assert [ele for ele in result] == [10, 11, 12, 13, 14]\n",
    "result = l1 - 5\n",
    "assert [ele for ele in result] == [0, 1, 2, 3, 4]\n",
    "result = l1 * 5\n",
    "assert [ele for ele in result] == [25, 30, 35, 40, 45]\n",
    "result = l1 / 5\n",
    "assert [ele for ele in result] == [1.0, 1.2, 1.4, 1.6, 1.8]"
   ]
  }
 ],
 "metadata": {
  "kernelspec": {
   "display_name": "Python 3 (ipykernel)",
   "language": "python",
   "name": "python3"
  },
  "language_info": {
   "codemirror_mode": {
    "name": "ipython",
    "version": 3
   },
   "file_extension": ".py",
   "mimetype": "text/x-python",
   "name": "python",
   "nbconvert_exporter": "python",
   "pygments_lexer": "ipython3",
   "version": "3.8.10"
  }
 },
 "nbformat": 4,
 "nbformat_minor": 4
}
