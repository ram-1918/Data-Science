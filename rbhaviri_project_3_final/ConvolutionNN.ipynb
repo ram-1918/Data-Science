{
 "cells": [
  {
   "cell_type": "markdown",
   "metadata": {
    "id": "-y-OztyKWMP_"
   },
   "source": [
    "\"We certify that the code and data in this assignment were generated independently, using only the tools and resources defined in the course and that we did not receiveany external help, coaching or contributions during the production of this work.\"\n",
    "<br>\n",
    "<br>\n",
    "Ram Chandra Bhavirisetty <br>\n",
    "Tejaswi Raavi<br>"
   ]
  },
  {
   "cell_type": "markdown",
   "metadata": {
    "id": "IJEl9hPzN-CB"
   },
   "source": [
    "## PART 3"
   ]
  },
  {
   "cell_type": "markdown",
   "metadata": {
    "id": "NWzLjUQbE4MS"
   },
   "source": [
    "### NECESSARY LIBRARIES"
   ]
  },
  {
   "cell_type": "code",
   "execution_count": null,
   "metadata": {
    "id": "e3xBWczwDqsF"
   },
   "outputs": [],
   "source": [
    "from tensorflow import keras\n",
    "from keras.models import Sequential\n",
    "from keras.layers import Dense,Conv2D,MaxPooling2D,Flatten,Dropout\n",
    "from keras.callbacks import EarlyStopping as ES\n",
    "import pandas as pd\n",
    "import numpy as np\n",
    "import matplotlib.pyplot as plt\n",
    "import seaborn as sb\n",
    "from scipy.ndimage.interpolation import shift"
   ]
  },
  {
   "cell_type": "markdown",
   "metadata": {
    "id": "j-MWJl_5HiRs"
   },
   "source": [
    "### METHODS FOR SCALING AND SHUFFLING THE DATA ARE DEFINED"
   ]
  },
  {
   "cell_type": "code",
   "execution_count": null,
   "metadata": {
    "id": "f5p3KeuMv00u"
   },
   "outputs": [],
   "source": [
    "def scaling_pixels(data):\n",
    "  data = np.array(data).astype(float) / 255\n",
    "  return data\n",
    "\n",
    "def shuffler(data_size):\n",
    "  s_indexs = list(range(data_size))\n",
    "  for i in range(5):\n",
    "    indexs = np.random.permutation(s_indexs)\n",
    "  #print(indexs)\n",
    "  return indexs\n",
    "  \n",
    "def df(data):\n",
    "  return pd.DataFrame(data)"
   ]
  },
  {
   "cell_type": "code",
   "execution_count": null,
   "metadata": {
    "id": "YWKOnrdcr0HI"
   },
   "outputs": [],
   "source": [
    "data = pd.read_csv('fashion-mnist_train.csv')\n",
    "test_data = pd.read_csv('fashion-mnist_test.csv')"
   ]
  },
  {
   "cell_type": "code",
   "execution_count": null,
   "metadata": {
    "colab": {
     "base_uri": "https://localhost:8080/"
    },
    "id": "F8PumhhuXAo5",
    "outputId": "19e7ea2e-e0f7-45ee-c5c6-71a01de045af"
   },
   "outputs": [
    {
     "name": "stdout",
     "output_type": "stream",
     "text": [
      "<class 'pandas.core.frame.DataFrame'>\n",
      "RangeIndex: 60000 entries, 0 to 59999\n",
      "Columns: 785 entries, label to pixel784\n",
      "dtypes: int64(785)\n",
      "memory usage: 359.3 MB\n"
     ]
    }
   ],
   "source": [
    "data.info()"
   ]
  },
  {
   "cell_type": "code",
   "execution_count": null,
   "metadata": {
    "colab": {
     "base_uri": "https://localhost:8080/"
    },
    "id": "_cJmFtOKbmaC",
    "outputId": "2972fd64-ff67-4ccd-bd4a-dfa29e469e08"
   },
   "outputs": [
    {
     "name": "stdout",
     "output_type": "stream",
     "text": [
      "<class 'pandas.core.frame.DataFrame'>\n",
      "RangeIndex: 10000 entries, 0 to 9999\n",
      "Columns: 785 entries, label to pixel784\n",
      "dtypes: int64(785)\n",
      "memory usage: 59.9 MB\n"
     ]
    }
   ],
   "source": [
    "test_data.info()"
   ]
  },
  {
   "cell_type": "code",
   "execution_count": null,
   "metadata": {
    "colab": {
     "base_uri": "https://localhost:8080/",
     "height": 393
    },
    "id": "UaP5ydnKfOkv",
    "outputId": "3b18bf7e-471c-48c2-8d8b-42d1ba289125"
   },
   "outputs": [
    {
     "data": {
      "text/html": [
       "\n",
       "  <div id=\"df-4a0a7bdb-6ebd-4dfc-b5f0-4f811980eb83\">\n",
       "    <div class=\"colab-df-container\">\n",
       "      <div>\n",
       "<style scoped>\n",
       "    .dataframe tbody tr th:only-of-type {\n",
       "        vertical-align: middle;\n",
       "    }\n",
       "\n",
       "    .dataframe tbody tr th {\n",
       "        vertical-align: top;\n",
       "    }\n",
       "\n",
       "    .dataframe thead th {\n",
       "        text-align: right;\n",
       "    }\n",
       "</style>\n",
       "<table border=\"1\" class=\"dataframe\">\n",
       "  <thead>\n",
       "    <tr style=\"text-align: right;\">\n",
       "      <th></th>\n",
       "      <th>label</th>\n",
       "      <th>pixel1</th>\n",
       "      <th>pixel2</th>\n",
       "      <th>pixel3</th>\n",
       "      <th>pixel4</th>\n",
       "      <th>pixel5</th>\n",
       "      <th>pixel6</th>\n",
       "      <th>pixel7</th>\n",
       "      <th>pixel8</th>\n",
       "      <th>pixel9</th>\n",
       "      <th>...</th>\n",
       "      <th>pixel775</th>\n",
       "      <th>pixel776</th>\n",
       "      <th>pixel777</th>\n",
       "      <th>pixel778</th>\n",
       "      <th>pixel779</th>\n",
       "      <th>pixel780</th>\n",
       "      <th>pixel781</th>\n",
       "      <th>pixel782</th>\n",
       "      <th>pixel783</th>\n",
       "      <th>pixel784</th>\n",
       "    </tr>\n",
       "  </thead>\n",
       "  <tbody>\n",
       "    <tr>\n",
       "      <th>count</th>\n",
       "      <td>60000.000000</td>\n",
       "      <td>60000.000000</td>\n",
       "      <td>60000.000000</td>\n",
       "      <td>60000.000000</td>\n",
       "      <td>60000.000000</td>\n",
       "      <td>60000.000000</td>\n",
       "      <td>60000.000000</td>\n",
       "      <td>60000.000000</td>\n",
       "      <td>60000.000000</td>\n",
       "      <td>60000.000000</td>\n",
       "      <td>...</td>\n",
       "      <td>60000.000000</td>\n",
       "      <td>60000.000000</td>\n",
       "      <td>60000.000000</td>\n",
       "      <td>60000.000000</td>\n",
       "      <td>60000.000000</td>\n",
       "      <td>60000.000000</td>\n",
       "      <td>60000.000000</td>\n",
       "      <td>60000.000000</td>\n",
       "      <td>60000.000000</td>\n",
       "      <td>60000.00000</td>\n",
       "    </tr>\n",
       "    <tr>\n",
       "      <th>mean</th>\n",
       "      <td>4.500000</td>\n",
       "      <td>0.000900</td>\n",
       "      <td>0.006150</td>\n",
       "      <td>0.035333</td>\n",
       "      <td>0.101933</td>\n",
       "      <td>0.247967</td>\n",
       "      <td>0.411467</td>\n",
       "      <td>0.805767</td>\n",
       "      <td>2.198283</td>\n",
       "      <td>5.682000</td>\n",
       "      <td>...</td>\n",
       "      <td>34.625400</td>\n",
       "      <td>23.300683</td>\n",
       "      <td>16.588267</td>\n",
       "      <td>17.869433</td>\n",
       "      <td>22.814817</td>\n",
       "      <td>17.911483</td>\n",
       "      <td>8.520633</td>\n",
       "      <td>2.753300</td>\n",
       "      <td>0.855517</td>\n",
       "      <td>0.07025</td>\n",
       "    </tr>\n",
       "    <tr>\n",
       "      <th>std</th>\n",
       "      <td>2.872305</td>\n",
       "      <td>0.094689</td>\n",
       "      <td>0.271011</td>\n",
       "      <td>1.222324</td>\n",
       "      <td>2.452871</td>\n",
       "      <td>4.306912</td>\n",
       "      <td>5.836188</td>\n",
       "      <td>8.215169</td>\n",
       "      <td>14.093378</td>\n",
       "      <td>23.819481</td>\n",
       "      <td>...</td>\n",
       "      <td>57.545242</td>\n",
       "      <td>48.854427</td>\n",
       "      <td>41.979611</td>\n",
       "      <td>43.966032</td>\n",
       "      <td>51.830477</td>\n",
       "      <td>45.149388</td>\n",
       "      <td>29.614859</td>\n",
       "      <td>17.397652</td>\n",
       "      <td>9.356960</td>\n",
       "      <td>2.12587</td>\n",
       "    </tr>\n",
       "    <tr>\n",
       "      <th>min</th>\n",
       "      <td>0.000000</td>\n",
       "      <td>0.000000</td>\n",
       "      <td>0.000000</td>\n",
       "      <td>0.000000</td>\n",
       "      <td>0.000000</td>\n",
       "      <td>0.000000</td>\n",
       "      <td>0.000000</td>\n",
       "      <td>0.000000</td>\n",
       "      <td>0.000000</td>\n",
       "      <td>0.000000</td>\n",
       "      <td>...</td>\n",
       "      <td>0.000000</td>\n",
       "      <td>0.000000</td>\n",
       "      <td>0.000000</td>\n",
       "      <td>0.000000</td>\n",
       "      <td>0.000000</td>\n",
       "      <td>0.000000</td>\n",
       "      <td>0.000000</td>\n",
       "      <td>0.000000</td>\n",
       "      <td>0.000000</td>\n",
       "      <td>0.00000</td>\n",
       "    </tr>\n",
       "    <tr>\n",
       "      <th>25%</th>\n",
       "      <td>2.000000</td>\n",
       "      <td>0.000000</td>\n",
       "      <td>0.000000</td>\n",
       "      <td>0.000000</td>\n",
       "      <td>0.000000</td>\n",
       "      <td>0.000000</td>\n",
       "      <td>0.000000</td>\n",
       "      <td>0.000000</td>\n",
       "      <td>0.000000</td>\n",
       "      <td>0.000000</td>\n",
       "      <td>...</td>\n",
       "      <td>0.000000</td>\n",
       "      <td>0.000000</td>\n",
       "      <td>0.000000</td>\n",
       "      <td>0.000000</td>\n",
       "      <td>0.000000</td>\n",
       "      <td>0.000000</td>\n",
       "      <td>0.000000</td>\n",
       "      <td>0.000000</td>\n",
       "      <td>0.000000</td>\n",
       "      <td>0.00000</td>\n",
       "    </tr>\n",
       "    <tr>\n",
       "      <th>50%</th>\n",
       "      <td>4.500000</td>\n",
       "      <td>0.000000</td>\n",
       "      <td>0.000000</td>\n",
       "      <td>0.000000</td>\n",
       "      <td>0.000000</td>\n",
       "      <td>0.000000</td>\n",
       "      <td>0.000000</td>\n",
       "      <td>0.000000</td>\n",
       "      <td>0.000000</td>\n",
       "      <td>0.000000</td>\n",
       "      <td>...</td>\n",
       "      <td>0.000000</td>\n",
       "      <td>0.000000</td>\n",
       "      <td>0.000000</td>\n",
       "      <td>0.000000</td>\n",
       "      <td>0.000000</td>\n",
       "      <td>0.000000</td>\n",
       "      <td>0.000000</td>\n",
       "      <td>0.000000</td>\n",
       "      <td>0.000000</td>\n",
       "      <td>0.00000</td>\n",
       "    </tr>\n",
       "    <tr>\n",
       "      <th>75%</th>\n",
       "      <td>7.000000</td>\n",
       "      <td>0.000000</td>\n",
       "      <td>0.000000</td>\n",
       "      <td>0.000000</td>\n",
       "      <td>0.000000</td>\n",
       "      <td>0.000000</td>\n",
       "      <td>0.000000</td>\n",
       "      <td>0.000000</td>\n",
       "      <td>0.000000</td>\n",
       "      <td>0.000000</td>\n",
       "      <td>...</td>\n",
       "      <td>58.000000</td>\n",
       "      <td>9.000000</td>\n",
       "      <td>0.000000</td>\n",
       "      <td>0.000000</td>\n",
       "      <td>0.000000</td>\n",
       "      <td>0.000000</td>\n",
       "      <td>0.000000</td>\n",
       "      <td>0.000000</td>\n",
       "      <td>0.000000</td>\n",
       "      <td>0.00000</td>\n",
       "    </tr>\n",
       "    <tr>\n",
       "      <th>max</th>\n",
       "      <td>9.000000</td>\n",
       "      <td>16.000000</td>\n",
       "      <td>36.000000</td>\n",
       "      <td>226.000000</td>\n",
       "      <td>164.000000</td>\n",
       "      <td>227.000000</td>\n",
       "      <td>230.000000</td>\n",
       "      <td>224.000000</td>\n",
       "      <td>255.000000</td>\n",
       "      <td>254.000000</td>\n",
       "      <td>...</td>\n",
       "      <td>255.000000</td>\n",
       "      <td>255.000000</td>\n",
       "      <td>255.000000</td>\n",
       "      <td>255.000000</td>\n",
       "      <td>255.000000</td>\n",
       "      <td>255.000000</td>\n",
       "      <td>255.000000</td>\n",
       "      <td>255.000000</td>\n",
       "      <td>255.000000</td>\n",
       "      <td>170.00000</td>\n",
       "    </tr>\n",
       "  </tbody>\n",
       "</table>\n",
       "<p>8 rows × 785 columns</p>\n",
       "</div>\n",
       "      <button class=\"colab-df-convert\" onclick=\"convertToInteractive('df-4a0a7bdb-6ebd-4dfc-b5f0-4f811980eb83')\"\n",
       "              title=\"Convert this dataframe to an interactive table.\"\n",
       "              style=\"display:none;\">\n",
       "        \n",
       "  <svg xmlns=\"http://www.w3.org/2000/svg\" height=\"24px\"viewBox=\"0 0 24 24\"\n",
       "       width=\"24px\">\n",
       "    <path d=\"M0 0h24v24H0V0z\" fill=\"none\"/>\n",
       "    <path d=\"M18.56 5.44l.94 2.06.94-2.06 2.06-.94-2.06-.94-.94-2.06-.94 2.06-2.06.94zm-11 1L8.5 8.5l.94-2.06 2.06-.94-2.06-.94L8.5 2.5l-.94 2.06-2.06.94zm10 10l.94 2.06.94-2.06 2.06-.94-2.06-.94-.94-2.06-.94 2.06-2.06.94z\"/><path d=\"M17.41 7.96l-1.37-1.37c-.4-.4-.92-.59-1.43-.59-.52 0-1.04.2-1.43.59L10.3 9.45l-7.72 7.72c-.78.78-.78 2.05 0 2.83L4 21.41c.39.39.9.59 1.41.59.51 0 1.02-.2 1.41-.59l7.78-7.78 2.81-2.81c.8-.78.8-2.07 0-2.86zM5.41 20L4 18.59l7.72-7.72 1.47 1.35L5.41 20z\"/>\n",
       "  </svg>\n",
       "      </button>\n",
       "      \n",
       "  <style>\n",
       "    .colab-df-container {\n",
       "      display:flex;\n",
       "      flex-wrap:wrap;\n",
       "      gap: 12px;\n",
       "    }\n",
       "\n",
       "    .colab-df-convert {\n",
       "      background-color: #E8F0FE;\n",
       "      border: none;\n",
       "      border-radius: 50%;\n",
       "      cursor: pointer;\n",
       "      display: none;\n",
       "      fill: #1967D2;\n",
       "      height: 32px;\n",
       "      padding: 0 0 0 0;\n",
       "      width: 32px;\n",
       "    }\n",
       "\n",
       "    .colab-df-convert:hover {\n",
       "      background-color: #E2EBFA;\n",
       "      box-shadow: 0px 1px 2px rgba(60, 64, 67, 0.3), 0px 1px 3px 1px rgba(60, 64, 67, 0.15);\n",
       "      fill: #174EA6;\n",
       "    }\n",
       "\n",
       "    [theme=dark] .colab-df-convert {\n",
       "      background-color: #3B4455;\n",
       "      fill: #D2E3FC;\n",
       "    }\n",
       "\n",
       "    [theme=dark] .colab-df-convert:hover {\n",
       "      background-color: #434B5C;\n",
       "      box-shadow: 0px 1px 3px 1px rgba(0, 0, 0, 0.15);\n",
       "      filter: drop-shadow(0px 1px 2px rgba(0, 0, 0, 0.3));\n",
       "      fill: #FFFFFF;\n",
       "    }\n",
       "  </style>\n",
       "\n",
       "      <script>\n",
       "        const buttonEl =\n",
       "          document.querySelector('#df-4a0a7bdb-6ebd-4dfc-b5f0-4f811980eb83 button.colab-df-convert');\n",
       "        buttonEl.style.display =\n",
       "          google.colab.kernel.accessAllowed ? 'block' : 'none';\n",
       "\n",
       "        async function convertToInteractive(key) {\n",
       "          const element = document.querySelector('#df-4a0a7bdb-6ebd-4dfc-b5f0-4f811980eb83');\n",
       "          const dataTable =\n",
       "            await google.colab.kernel.invokeFunction('convertToInteractive',\n",
       "                                                     [key], {});\n",
       "          if (!dataTable) return;\n",
       "\n",
       "          const docLinkHtml = 'Like what you see? Visit the ' +\n",
       "            '<a target=\"_blank\" href=https://colab.research.google.com/notebooks/data_table.ipynb>data table notebook</a>'\n",
       "            + ' to learn more about interactive tables.';\n",
       "          element.innerHTML = '';\n",
       "          dataTable['output_type'] = 'display_data';\n",
       "          await google.colab.output.renderOutput(dataTable, element);\n",
       "          const docLink = document.createElement('div');\n",
       "          docLink.innerHTML = docLinkHtml;\n",
       "          element.appendChild(docLink);\n",
       "        }\n",
       "      </script>\n",
       "    </div>\n",
       "  </div>\n",
       "  "
      ],
      "text/plain": [
       "              label        pixel1        pixel2        pixel3        pixel4  \\\n",
       "count  60000.000000  60000.000000  60000.000000  60000.000000  60000.000000   \n",
       "mean       4.500000      0.000900      0.006150      0.035333      0.101933   \n",
       "std        2.872305      0.094689      0.271011      1.222324      2.452871   \n",
       "min        0.000000      0.000000      0.000000      0.000000      0.000000   \n",
       "25%        2.000000      0.000000      0.000000      0.000000      0.000000   \n",
       "50%        4.500000      0.000000      0.000000      0.000000      0.000000   \n",
       "75%        7.000000      0.000000      0.000000      0.000000      0.000000   \n",
       "max        9.000000     16.000000     36.000000    226.000000    164.000000   \n",
       "\n",
       "             pixel5        pixel6        pixel7        pixel8        pixel9  \\\n",
       "count  60000.000000  60000.000000  60000.000000  60000.000000  60000.000000   \n",
       "mean       0.247967      0.411467      0.805767      2.198283      5.682000   \n",
       "std        4.306912      5.836188      8.215169     14.093378     23.819481   \n",
       "min        0.000000      0.000000      0.000000      0.000000      0.000000   \n",
       "25%        0.000000      0.000000      0.000000      0.000000      0.000000   \n",
       "50%        0.000000      0.000000      0.000000      0.000000      0.000000   \n",
       "75%        0.000000      0.000000      0.000000      0.000000      0.000000   \n",
       "max      227.000000    230.000000    224.000000    255.000000    254.000000   \n",
       "\n",
       "       ...      pixel775      pixel776      pixel777      pixel778  \\\n",
       "count  ...  60000.000000  60000.000000  60000.000000  60000.000000   \n",
       "mean   ...     34.625400     23.300683     16.588267     17.869433   \n",
       "std    ...     57.545242     48.854427     41.979611     43.966032   \n",
       "min    ...      0.000000      0.000000      0.000000      0.000000   \n",
       "25%    ...      0.000000      0.000000      0.000000      0.000000   \n",
       "50%    ...      0.000000      0.000000      0.000000      0.000000   \n",
       "75%    ...     58.000000      9.000000      0.000000      0.000000   \n",
       "max    ...    255.000000    255.000000    255.000000    255.000000   \n",
       "\n",
       "           pixel779      pixel780      pixel781      pixel782      pixel783  \\\n",
       "count  60000.000000  60000.000000  60000.000000  60000.000000  60000.000000   \n",
       "mean      22.814817     17.911483      8.520633      2.753300      0.855517   \n",
       "std       51.830477     45.149388     29.614859     17.397652      9.356960   \n",
       "min        0.000000      0.000000      0.000000      0.000000      0.000000   \n",
       "25%        0.000000      0.000000      0.000000      0.000000      0.000000   \n",
       "50%        0.000000      0.000000      0.000000      0.000000      0.000000   \n",
       "75%        0.000000      0.000000      0.000000      0.000000      0.000000   \n",
       "max      255.000000    255.000000    255.000000    255.000000    255.000000   \n",
       "\n",
       "          pixel784  \n",
       "count  60000.00000  \n",
       "mean       0.07025  \n",
       "std        2.12587  \n",
       "min        0.00000  \n",
       "25%        0.00000  \n",
       "50%        0.00000  \n",
       "75%        0.00000  \n",
       "max      170.00000  \n",
       "\n",
       "[8 rows x 785 columns]"
      ]
     },
     "execution_count": 7,
     "metadata": {},
     "output_type": "execute_result"
    }
   ],
   "source": [
    "data.describe()"
   ]
  },
  {
   "cell_type": "code",
   "execution_count": null,
   "metadata": {
    "colab": {
     "base_uri": "https://localhost:8080/"
    },
    "id": "JTnZyF2lyj9_",
    "outputId": "1455c2f9-5f27-4662-ee35-4924d7352034"
   },
   "outputs": [
    {
     "data": {
      "text/plain": [
       "{0: 'T-shirt/top',\n",
       " 1: 'Trouser',\n",
       " 2: 'Pullover',\n",
       " 3: 'Dress',\n",
       " 4: 'Coat',\n",
       " 5: 'Sandal',\n",
       " 6: 'Shirt',\n",
       " 7: 'Sneaker',\n",
       " 8: 'Bag',\n",
       " 9: 'Ankle boot'}"
      ]
     },
     "execution_count": 11,
     "metadata": {},
     "output_type": "execute_result"
    }
   ],
   "source": [
    "labels = set(data['label'])\n",
    "label_description = dict(zip(labels,['T-shirt/top','Trouser','Pullover','Dress','Coat','Sandal','Shirt','Sneaker','Bag','Ankle boot']))\n",
    "label_description"
   ]
  },
  {
   "cell_type": "markdown",
   "metadata": {
    "id": "rQP93Tq6u61s"
   },
   "source": [
    "### **DATA CLEANING AND SPLITING DATA INTO TRAINING, TESTING AND VALIDATION DATA SETS**"
   ]
  },
  {
   "cell_type": "code",
   "execution_count": null,
   "metadata": {
    "colab": {
     "base_uri": "https://localhost:8080/",
     "height": 142
    },
    "id": "ZpqtGar7r-kq",
    "outputId": "5a7e3ed1-8f9f-479d-e7db-fc91025d14f3"
   },
   "outputs": [
    {
     "data": {
      "text/html": [
       "\n",
       "  <div id=\"df-05287b66-4bac-4f58-a39b-97fa176aac67\">\n",
       "    <div class=\"colab-df-container\">\n",
       "      <div>\n",
       "<style scoped>\n",
       "    .dataframe tbody tr th:only-of-type {\n",
       "        vertical-align: middle;\n",
       "    }\n",
       "\n",
       "    .dataframe tbody tr th {\n",
       "        vertical-align: top;\n",
       "    }\n",
       "\n",
       "    .dataframe thead th {\n",
       "        text-align: right;\n",
       "    }\n",
       "</style>\n",
       "<table border=\"1\" class=\"dataframe\">\n",
       "  <thead>\n",
       "    <tr style=\"text-align: right;\">\n",
       "      <th></th>\n",
       "      <th>label</th>\n",
       "      <th>pixel1</th>\n",
       "      <th>pixel2</th>\n",
       "      <th>pixel3</th>\n",
       "      <th>pixel4</th>\n",
       "      <th>pixel5</th>\n",
       "      <th>pixel6</th>\n",
       "      <th>pixel7</th>\n",
       "      <th>pixel8</th>\n",
       "      <th>pixel9</th>\n",
       "      <th>...</th>\n",
       "      <th>pixel775</th>\n",
       "      <th>pixel776</th>\n",
       "      <th>pixel777</th>\n",
       "      <th>pixel778</th>\n",
       "      <th>pixel779</th>\n",
       "      <th>pixel780</th>\n",
       "      <th>pixel781</th>\n",
       "      <th>pixel782</th>\n",
       "      <th>pixel783</th>\n",
       "      <th>pixel784</th>\n",
       "    </tr>\n",
       "  </thead>\n",
       "  <tbody>\n",
       "  </tbody>\n",
       "</table>\n",
       "<p>0 rows × 785 columns</p>\n",
       "</div>\n",
       "      <button class=\"colab-df-convert\" onclick=\"convertToInteractive('df-05287b66-4bac-4f58-a39b-97fa176aac67')\"\n",
       "              title=\"Convert this dataframe to an interactive table.\"\n",
       "              style=\"display:none;\">\n",
       "        \n",
       "  <svg xmlns=\"http://www.w3.org/2000/svg\" height=\"24px\"viewBox=\"0 0 24 24\"\n",
       "       width=\"24px\">\n",
       "    <path d=\"M0 0h24v24H0V0z\" fill=\"none\"/>\n",
       "    <path d=\"M18.56 5.44l.94 2.06.94-2.06 2.06-.94-2.06-.94-.94-2.06-.94 2.06-2.06.94zm-11 1L8.5 8.5l.94-2.06 2.06-.94-2.06-.94L8.5 2.5l-.94 2.06-2.06.94zm10 10l.94 2.06.94-2.06 2.06-.94-2.06-.94-.94-2.06-.94 2.06-2.06.94z\"/><path d=\"M17.41 7.96l-1.37-1.37c-.4-.4-.92-.59-1.43-.59-.52 0-1.04.2-1.43.59L10.3 9.45l-7.72 7.72c-.78.78-.78 2.05 0 2.83L4 21.41c.39.39.9.59 1.41.59.51 0 1.02-.2 1.41-.59l7.78-7.78 2.81-2.81c.8-.78.8-2.07 0-2.86zM5.41 20L4 18.59l7.72-7.72 1.47 1.35L5.41 20z\"/>\n",
       "  </svg>\n",
       "      </button>\n",
       "      \n",
       "  <style>\n",
       "    .colab-df-container {\n",
       "      display:flex;\n",
       "      flex-wrap:wrap;\n",
       "      gap: 12px;\n",
       "    }\n",
       "\n",
       "    .colab-df-convert {\n",
       "      background-color: #E8F0FE;\n",
       "      border: none;\n",
       "      border-radius: 50%;\n",
       "      cursor: pointer;\n",
       "      display: none;\n",
       "      fill: #1967D2;\n",
       "      height: 32px;\n",
       "      padding: 0 0 0 0;\n",
       "      width: 32px;\n",
       "    }\n",
       "\n",
       "    .colab-df-convert:hover {\n",
       "      background-color: #E2EBFA;\n",
       "      box-shadow: 0px 1px 2px rgba(60, 64, 67, 0.3), 0px 1px 3px 1px rgba(60, 64, 67, 0.15);\n",
       "      fill: #174EA6;\n",
       "    }\n",
       "\n",
       "    [theme=dark] .colab-df-convert {\n",
       "      background-color: #3B4455;\n",
       "      fill: #D2E3FC;\n",
       "    }\n",
       "\n",
       "    [theme=dark] .colab-df-convert:hover {\n",
       "      background-color: #434B5C;\n",
       "      box-shadow: 0px 1px 3px 1px rgba(0, 0, 0, 0.15);\n",
       "      filter: drop-shadow(0px 1px 2px rgba(0, 0, 0, 0.3));\n",
       "      fill: #FFFFFF;\n",
       "    }\n",
       "  </style>\n",
       "\n",
       "      <script>\n",
       "        const buttonEl =\n",
       "          document.querySelector('#df-05287b66-4bac-4f58-a39b-97fa176aac67 button.colab-df-convert');\n",
       "        buttonEl.style.display =\n",
       "          google.colab.kernel.accessAllowed ? 'block' : 'none';\n",
       "\n",
       "        async function convertToInteractive(key) {\n",
       "          const element = document.querySelector('#df-05287b66-4bac-4f58-a39b-97fa176aac67');\n",
       "          const dataTable =\n",
       "            await google.colab.kernel.invokeFunction('convertToInteractive',\n",
       "                                                     [key], {});\n",
       "          if (!dataTable) return;\n",
       "\n",
       "          const docLinkHtml = 'Like what you see? Visit the ' +\n",
       "            '<a target=\"_blank\" href=https://colab.research.google.com/notebooks/data_table.ipynb>data table notebook</a>'\n",
       "            + ' to learn more about interactive tables.';\n",
       "          element.innerHTML = '';\n",
       "          dataTable['output_type'] = 'display_data';\n",
       "          await google.colab.output.renderOutput(dataTable, element);\n",
       "          const docLink = document.createElement('div');\n",
       "          docLink.innerHTML = docLinkHtml;\n",
       "          element.appendChild(docLink);\n",
       "        }\n",
       "      </script>\n",
       "    </div>\n",
       "  </div>\n",
       "  "
      ],
      "text/plain": [
       "Empty DataFrame\n",
       "Columns: [label, pixel1, pixel2, pixel3, pixel4, pixel5, pixel6, pixel7, pixel8, pixel9, pixel10, pixel11, pixel12, pixel13, pixel14, pixel15, pixel16, pixel17, pixel18, pixel19, pixel20, pixel21, pixel22, pixel23, pixel24, pixel25, pixel26, pixel27, pixel28, pixel29, pixel30, pixel31, pixel32, pixel33, pixel34, pixel35, pixel36, pixel37, pixel38, pixel39, pixel40, pixel41, pixel42, pixel43, pixel44, pixel45, pixel46, pixel47, pixel48, pixel49, pixel50, pixel51, pixel52, pixel53, pixel54, pixel55, pixel56, pixel57, pixel58, pixel59, pixel60, pixel61, pixel62, pixel63, pixel64, pixel65, pixel66, pixel67, pixel68, pixel69, pixel70, pixel71, pixel72, pixel73, pixel74, pixel75, pixel76, pixel77, pixel78, pixel79, pixel80, pixel81, pixel82, pixel83, pixel84, pixel85, pixel86, pixel87, pixel88, pixel89, pixel90, pixel91, pixel92, pixel93, pixel94, pixel95, pixel96, pixel97, pixel98, pixel99, ...]\n",
       "Index: []\n",
       "\n",
       "[0 rows x 785 columns]"
      ]
     },
     "execution_count": 12,
     "metadata": {},
     "output_type": "execute_result"
    }
   ],
   "source": [
    "test_data[test_data.isnull().any(axis=1)]"
   ]
  },
  {
   "cell_type": "code",
   "execution_count": null,
   "metadata": {
    "colab": {
     "base_uri": "https://localhost:8080/"
    },
    "id": "nMh1g4FdsLCQ",
    "outputId": "7da50e84-345e-49ea-d7a8-98b3363832b5"
   },
   "outputs": [
    {
     "data": {
      "text/plain": [
       "(10000, 785)"
      ]
     },
     "execution_count": 13,
     "metadata": {},
     "output_type": "execute_result"
    }
   ],
   "source": [
    "test_data.shape"
   ]
  },
  {
   "cell_type": "code",
   "execution_count": null,
   "metadata": {
    "colab": {
     "base_uri": "https://localhost:8080/",
     "height": 142
    },
    "id": "KwUuRjqKehvK",
    "outputId": "4ed11781-5214-41e7-acff-3696793185ae"
   },
   "outputs": [
    {
     "data": {
      "text/html": [
       "\n",
       "  <div id=\"df-b893ff43-6bbc-40af-a160-d998f78fcae9\">\n",
       "    <div class=\"colab-df-container\">\n",
       "      <div>\n",
       "<style scoped>\n",
       "    .dataframe tbody tr th:only-of-type {\n",
       "        vertical-align: middle;\n",
       "    }\n",
       "\n",
       "    .dataframe tbody tr th {\n",
       "        vertical-align: top;\n",
       "    }\n",
       "\n",
       "    .dataframe thead th {\n",
       "        text-align: right;\n",
       "    }\n",
       "</style>\n",
       "<table border=\"1\" class=\"dataframe\">\n",
       "  <thead>\n",
       "    <tr style=\"text-align: right;\">\n",
       "      <th></th>\n",
       "      <th>label</th>\n",
       "      <th>pixel1</th>\n",
       "      <th>pixel2</th>\n",
       "      <th>pixel3</th>\n",
       "      <th>pixel4</th>\n",
       "      <th>pixel5</th>\n",
       "      <th>pixel6</th>\n",
       "      <th>pixel7</th>\n",
       "      <th>pixel8</th>\n",
       "      <th>pixel9</th>\n",
       "      <th>...</th>\n",
       "      <th>pixel775</th>\n",
       "      <th>pixel776</th>\n",
       "      <th>pixel777</th>\n",
       "      <th>pixel778</th>\n",
       "      <th>pixel779</th>\n",
       "      <th>pixel780</th>\n",
       "      <th>pixel781</th>\n",
       "      <th>pixel782</th>\n",
       "      <th>pixel783</th>\n",
       "      <th>pixel784</th>\n",
       "    </tr>\n",
       "  </thead>\n",
       "  <tbody>\n",
       "  </tbody>\n",
       "</table>\n",
       "<p>0 rows × 785 columns</p>\n",
       "</div>\n",
       "      <button class=\"colab-df-convert\" onclick=\"convertToInteractive('df-b893ff43-6bbc-40af-a160-d998f78fcae9')\"\n",
       "              title=\"Convert this dataframe to an interactive table.\"\n",
       "              style=\"display:none;\">\n",
       "        \n",
       "  <svg xmlns=\"http://www.w3.org/2000/svg\" height=\"24px\"viewBox=\"0 0 24 24\"\n",
       "       width=\"24px\">\n",
       "    <path d=\"M0 0h24v24H0V0z\" fill=\"none\"/>\n",
       "    <path d=\"M18.56 5.44l.94 2.06.94-2.06 2.06-.94-2.06-.94-.94-2.06-.94 2.06-2.06.94zm-11 1L8.5 8.5l.94-2.06 2.06-.94-2.06-.94L8.5 2.5l-.94 2.06-2.06.94zm10 10l.94 2.06.94-2.06 2.06-.94-2.06-.94-.94-2.06-.94 2.06-2.06.94z\"/><path d=\"M17.41 7.96l-1.37-1.37c-.4-.4-.92-.59-1.43-.59-.52 0-1.04.2-1.43.59L10.3 9.45l-7.72 7.72c-.78.78-.78 2.05 0 2.83L4 21.41c.39.39.9.59 1.41.59.51 0 1.02-.2 1.41-.59l7.78-7.78 2.81-2.81c.8-.78.8-2.07 0-2.86zM5.41 20L4 18.59l7.72-7.72 1.47 1.35L5.41 20z\"/>\n",
       "  </svg>\n",
       "      </button>\n",
       "      \n",
       "  <style>\n",
       "    .colab-df-container {\n",
       "      display:flex;\n",
       "      flex-wrap:wrap;\n",
       "      gap: 12px;\n",
       "    }\n",
       "\n",
       "    .colab-df-convert {\n",
       "      background-color: #E8F0FE;\n",
       "      border: none;\n",
       "      border-radius: 50%;\n",
       "      cursor: pointer;\n",
       "      display: none;\n",
       "      fill: #1967D2;\n",
       "      height: 32px;\n",
       "      padding: 0 0 0 0;\n",
       "      width: 32px;\n",
       "    }\n",
       "\n",
       "    .colab-df-convert:hover {\n",
       "      background-color: #E2EBFA;\n",
       "      box-shadow: 0px 1px 2px rgba(60, 64, 67, 0.3), 0px 1px 3px 1px rgba(60, 64, 67, 0.15);\n",
       "      fill: #174EA6;\n",
       "    }\n",
       "\n",
       "    [theme=dark] .colab-df-convert {\n",
       "      background-color: #3B4455;\n",
       "      fill: #D2E3FC;\n",
       "    }\n",
       "\n",
       "    [theme=dark] .colab-df-convert:hover {\n",
       "      background-color: #434B5C;\n",
       "      box-shadow: 0px 1px 3px 1px rgba(0, 0, 0, 0.15);\n",
       "      filter: drop-shadow(0px 1px 2px rgba(0, 0, 0, 0.3));\n",
       "      fill: #FFFFFF;\n",
       "    }\n",
       "  </style>\n",
       "\n",
       "      <script>\n",
       "        const buttonEl =\n",
       "          document.querySelector('#df-b893ff43-6bbc-40af-a160-d998f78fcae9 button.colab-df-convert');\n",
       "        buttonEl.style.display =\n",
       "          google.colab.kernel.accessAllowed ? 'block' : 'none';\n",
       "\n",
       "        async function convertToInteractive(key) {\n",
       "          const element = document.querySelector('#df-b893ff43-6bbc-40af-a160-d998f78fcae9');\n",
       "          const dataTable =\n",
       "            await google.colab.kernel.invokeFunction('convertToInteractive',\n",
       "                                                     [key], {});\n",
       "          if (!dataTable) return;\n",
       "\n",
       "          const docLinkHtml = 'Like what you see? Visit the ' +\n",
       "            '<a target=\"_blank\" href=https://colab.research.google.com/notebooks/data_table.ipynb>data table notebook</a>'\n",
       "            + ' to learn more about interactive tables.';\n",
       "          element.innerHTML = '';\n",
       "          dataTable['output_type'] = 'display_data';\n",
       "          await google.colab.output.renderOutput(dataTable, element);\n",
       "          const docLink = document.createElement('div');\n",
       "          docLink.innerHTML = docLinkHtml;\n",
       "          element.appendChild(docLink);\n",
       "        }\n",
       "      </script>\n",
       "    </div>\n",
       "  </div>\n",
       "  "
      ],
      "text/plain": [
       "Empty DataFrame\n",
       "Columns: [label, pixel1, pixel2, pixel3, pixel4, pixel5, pixel6, pixel7, pixel8, pixel9, pixel10, pixel11, pixel12, pixel13, pixel14, pixel15, pixel16, pixel17, pixel18, pixel19, pixel20, pixel21, pixel22, pixel23, pixel24, pixel25, pixel26, pixel27, pixel28, pixel29, pixel30, pixel31, pixel32, pixel33, pixel34, pixel35, pixel36, pixel37, pixel38, pixel39, pixel40, pixel41, pixel42, pixel43, pixel44, pixel45, pixel46, pixel47, pixel48, pixel49, pixel50, pixel51, pixel52, pixel53, pixel54, pixel55, pixel56, pixel57, pixel58, pixel59, pixel60, pixel61, pixel62, pixel63, pixel64, pixel65, pixel66, pixel67, pixel68, pixel69, pixel70, pixel71, pixel72, pixel73, pixel74, pixel75, pixel76, pixel77, pixel78, pixel79, pixel80, pixel81, pixel82, pixel83, pixel84, pixel85, pixel86, pixel87, pixel88, pixel89, pixel90, pixel91, pixel92, pixel93, pixel94, pixel95, pixel96, pixel97, pixel98, pixel99, ...]\n",
       "Index: []\n",
       "\n",
       "[0 rows x 785 columns]"
      ]
     },
     "execution_count": 14,
     "metadata": {},
     "output_type": "execute_result"
    }
   ],
   "source": [
    "data[data.isnull().any(axis=1)]"
   ]
  },
  {
   "cell_type": "code",
   "execution_count": null,
   "metadata": {
    "colab": {
     "base_uri": "https://localhost:8080/"
    },
    "id": "JMDPQvpdKFip",
    "outputId": "5631c478-dada-406a-e523-ec57543b4e59"
   },
   "outputs": [
    {
     "data": {
      "text/plain": [
       "(60000, 785)"
      ]
     },
     "execution_count": 15,
     "metadata": {},
     "output_type": "execute_result"
    }
   ],
   "source": [
    "data.shape"
   ]
  },
  {
   "cell_type": "markdown",
   "metadata": {
    "id": "FD_xYq0byNzA"
   },
   "source": [
    "### **SHUFFLEING THE SPLITTED DATA**"
   ]
  },
  {
   "cell_type": "code",
   "execution_count": null,
   "metadata": {
    "id": "mlRLCqaIKl_4"
   },
   "outputs": [],
   "source": [
    "def shuffle_data(test_data,data):\n",
    "  test_data = test_data.iloc[shuffler(test_data.shape[0]),:]\n",
    "  p = int(test_data.shape[0]*0.8)\n",
    "  val_data = test_data.iloc[:p,:]\n",
    "  t_data = test_data.iloc[p:,:]\n",
    "\n",
    "  test_n = test_data.shape[0]\n",
    "  test_labels = np.array(t_data.iloc[:,0]).reshape((t_data.shape[0],1))\n",
    "  #test_labels = encode(test_labels)\n",
    "  test_pixels = scaling_pixels(t_data.iloc[:,1:])\n",
    "\n",
    "  val_n = val_data.shape[0]\n",
    "  val_labels = (np.array(val_data.iloc[:,0])).reshape((val_data.shape[0],1))\n",
    "  #val_labels = encode(val_labels)\n",
    "  val_pixels = scaling_pixels(val_data.iloc[:,1:])\n",
    "\n",
    "\n",
    "  r_n = data.shape[0]\n",
    "  data = data.iloc[shuffler(r_n),:]\n",
    "  train_labels = (np.array(data.iloc[:,0])).reshape((data.shape[0],1))\n",
    "  #train_labels = encode(train_labels)\n",
    "  train_pixels = scaling_pixels(data.iloc[:,1:])\n",
    "  \n",
    "  print(train_labels[5][0])\n",
    "\n",
    "  return train_pixels,train_labels,test_pixels,test_labels,val_pixels,val_labels"
   ]
  },
  {
   "cell_type": "code",
   "execution_count": null,
   "metadata": {
    "colab": {
     "base_uri": "https://localhost:8080/"
    },
    "id": "jksvECYPMrGE",
    "outputId": "25ae0a24-e453-4944-b6dd-d018cd3cb9be"
   },
   "outputs": [
    {
     "name": "stdout",
     "output_type": "stream",
     "text": [
      "4\n",
      "Test Pixels shape:  (2000, 784)\n",
      "Test labels shape:  (2000, 1)\n",
      "Validation Data shape:  (8000, 784)\n",
      "Validation labels shape:  (8000, 1)\n",
      "Train labels shape:  (60000, 1)\n",
      "Train Pixels shape:  (60000, 784)\n"
     ]
    }
   ],
   "source": [
    "train_pixels,train_labels,test_pixels,test_labels,val_pixels,val_labels = shuffle_data(test_data,data)\n",
    "\n",
    "print(\"Test Pixels shape: \",test_pixels.shape)\n",
    "print(\"Test labels shape: \",test_labels.shape)\n",
    "print(\"Validation Data shape: \",val_pixels.shape)\n",
    "print(\"Validation labels shape: \",val_labels.shape)\n",
    "\n",
    "print(\"Train labels shape: \",train_labels.shape)\n",
    "\n",
    "print(\"Train Pixels shape: \",train_pixels.shape)"
   ]
  },
  {
   "cell_type": "code",
   "execution_count": null,
   "metadata": {
    "colab": {
     "base_uri": "https://localhost:8080/"
    },
    "id": "vUFw9jzE7Ad-",
    "outputId": "e4f02ff4-47de-4507-d47b-07fdd2cf428a"
   },
   "outputs": [
    {
     "data": {
      "text/plain": [
       "7"
      ]
     },
     "execution_count": 27,
     "metadata": {},
     "output_type": "execute_result"
    }
   ],
   "source": [
    "train_labels[3][0]"
   ]
  },
  {
   "cell_type": "code",
   "execution_count": null,
   "metadata": {
    "colab": {
     "base_uri": "https://localhost:8080/",
     "height": 390
    },
    "id": "tfUJRsS-4Gki",
    "outputId": "3053144b-fd25-4bf3-9558-0126439da421"
   },
   "outputs": [
    {
     "data": {
      "image/png": "[encoded data removed]",
      "text/plain": [
       "<Figure size 432x432 with 1 Axes>"
      ]
     },
     "metadata": {
      "needs_background": "light"
     },
     "output_type": "display_data"
    }
   ],
   "source": [
    "img = train_pixels[3].reshape(28,28)\n",
    "fig = plt.figure(figsize = (6,6))\n",
    "plt.imshow(img, cmap='gray') \n",
    "plt.title(label_description[train_labels[3][0]])\n",
    "plt.show()"
   ]
  },
  {
   "cell_type": "code",
   "execution_count": null,
   "metadata": {
    "colab": {
     "base_uri": "https://localhost:8080/"
    },
    "id": "CZeDmaqt-tBv",
    "outputId": "25bc4768-cf5f-4c0b-cd3d-7ed80432828a"
   },
   "outputs": [
    {
     "data": {
      "text/plain": [
       "1"
      ]
     },
     "execution_count": 16,
     "metadata": {},
     "output_type": "execute_result"
    }
   ],
   "source": [
    "train_labels[5][0]"
   ]
  },
  {
   "cell_type": "code",
   "execution_count": null,
   "metadata": {
    "colab": {
     "base_uri": "https://localhost:8080/"
    },
    "id": "hHZHiH5RQFeN",
    "outputId": "47c9cce1-c8f2-480b-b445-a9ddce5ceefc"
   },
   "outputs": [
    {
     "name": "stdout",
     "output_type": "stream",
     "text": [
      "{0, 1, 2, 3, 4, 5, 6, 7, 8, 9}\n"
     ]
    }
   ],
   "source": [
    "print(set(df(train_labels)[0]))"
   ]
  },
  {
   "cell_type": "markdown",
   "metadata": {
    "id": "IffKiVL1I2-l"
   },
   "source": [
    "### **CNN ARCHITECTURE - I <br> ONE CONVOLUTIOINAL LAYER and 2 FULLY CONNECTED LAYERS WITHOUT ANY IMPROVEMENT METHODS**"
   ]
  },
  {
   "cell_type": "code",
   "execution_count": null,
   "metadata": {
    "colab": {
     "base_uri": "https://localhost:8080/"
    },
    "id": "t9QpLwIRXNkr",
    "outputId": "9e218b9a-3365-478b-a9f0-c480f528e78d"
   },
   "outputs": [
    {
     "name": "stdout",
     "output_type": "stream",
     "text": [
      "0\n",
      "0\n",
      "Epoch 1/12\n",
      "938/938 [==============================] - 90s 95ms/step - loss: 0.4155 - accuracy: 0.8480 - val_loss: 0.3218 - val_accuracy: 0.8805 - lr: 0.0010\n",
      "1\n",
      "Epoch 2/12\n",
      "938/938 [==============================] - 88s 94ms/step - loss: 0.2876 - accuracy: 0.8927 - val_loss: 0.2779 - val_accuracy: 0.8970 - lr: 0.0010\n",
      "2\n",
      "Epoch 3/12\n",
      "938/938 [==============================] - 89s 95ms/step - loss: 0.2467 - accuracy: 0.9072 - val_loss: 0.2616 - val_accuracy: 0.9018 - lr: 0.0010\n",
      "3\n",
      "Epoch 4/12\n",
      "938/938 [==============================] - 88s 94ms/step - loss: 0.2197 - accuracy: 0.9172 - val_loss: 0.2431 - val_accuracy: 0.9084 - lr: 0.0010\n",
      "4\n",
      "Epoch 5/12\n",
      "938/938 [==============================] - 89s 95ms/step - loss: 0.1945 - accuracy: 0.9265 - val_loss: 0.2577 - val_accuracy: 0.9115 - lr: 0.0010\n",
      "5\n",
      "Epoch 6/12\n",
      "938/938 [==============================] - 89s 95ms/step - loss: 0.1728 - accuracy: 0.9350 - val_loss: 0.2330 - val_accuracy: 0.9174 - lr: 0.0010\n",
      "6\n",
      "Epoch 7/12\n",
      "938/938 [==============================] - 90s 96ms/step - loss: 0.1570 - accuracy: 0.9406 - val_loss: 0.2511 - val_accuracy: 0.9145 - lr: 0.0010\n",
      "7\n",
      "Epoch 8/12\n",
      "938/938 [==============================] - 99s 106ms/step - loss: 0.1369 - accuracy: 0.9478 - val_loss: 0.2560 - val_accuracy: 0.9154 - lr: 0.0010\n",
      "8\n",
      "Epoch 9/12\n",
      "938/938 [==============================] - 85s 91ms/step - loss: 0.1255 - accuracy: 0.9528 - val_loss: 0.2638 - val_accuracy: 0.9178 - lr: 0.0010\n",
      "9\n",
      "Epoch 10/12\n",
      "938/938 [==============================] - 85s 90ms/step - loss: 0.1118 - accuracy: 0.9574 - val_loss: 0.2663 - val_accuracy: 0.9202 - lr: 0.0010\n",
      "Epoch 11/12\n",
      "938/938 [==============================] - 83s 88ms/step - loss: 0.0969 - accuracy: 0.9633 - val_loss: 0.2981 - val_accuracy: 0.9151 - lr: 9.0484e-04\n",
      "Epoch 12/12\n",
      "938/938 [==============================] - 83s 88ms/step - loss: 0.0808 - accuracy: 0.9694 - val_loss: 0.2902 - val_accuracy: 0.9250 - lr: 8.1873e-04\n",
      "1875/1875 [==============================] - 31s 16ms/step - loss: 0.0456 - accuracy: 0.9844\n"
     ]
    },
    {
     "data": {
      "text/plain": [
       "[0.04558299481868744, 0.9843500256538391]"
      ]
     },
     "execution_count": 20,
     "metadata": {},
     "output_type": "execute_result"
    }
   ],
   "source": [
    "train_pixels,train_labels,test_pixels,test_labels,val_pixels,val_labels = shuffle_data(test_data,data)\n",
    "\n",
    "train_pixels1 = train_pixels.reshape((train_pixels.shape[0],28,28,1))\n",
    "val_pixels1 = val_pixels.reshape((val_pixels.shape[0],28,28,1))\n",
    "test_pixels1 = test_pixels.reshape((test_pixels.shape[0],28,28,1))\n",
    "\n",
    "model = Sequential()\n",
    "callback = ES(monitor = 'val_loss', patience = 3)\n",
    "\n",
    "\n",
    "h1_nodes = 1024\n",
    "h2_nodes = 512\n",
    "\n",
    "model.add(Conv2D(64, (3, 3), activation='relu', input_shape =(28,28,1)))\n",
    "model.add(MaxPooling2D(pool_size=(3, 3)))\n",
    "model.add(Flatten())\n",
    "model.add(Dense(h1_nodes, activation='relu'))\n",
    "model.add(Dropout(0.25))\n",
    "model.add(Dense(h2_nodes, activation='relu'))\n",
    "output_layer = Dense(10, activation='softmax')\n",
    "model.add(output_layer)\n",
    "\n",
    "model.compile(optimizer='adam',loss='sparse_categorical_crossentropy', metrics=['accuracy'])\n",
    "\n",
    "\n",
    "\n",
    "m = model.fit(train_pixels1, train_labels, epochs = 12, batch_size = 64, verbose = 1, validation_data = (val_pixels1,val_labels))\n",
    "\n",
    "model.evaluate(train_pixels1, train_labels)"
   ]
  },
  {
   "cell_type": "code",
   "execution_count": null,
   "metadata": {
    "colab": {
     "base_uri": "https://localhost:8080/"
    },
    "id": "-qiW_GruiJmD",
    "outputId": "29ad6d6d-181a-46bf-d378-dc179084f62f"
   },
   "outputs": [
    {
     "name": "stdout",
     "output_type": "stream",
     "text": [
      "63/63 [==============================] - 1s 18ms/step - loss: 0.2728 - accuracy: 0.9285\n",
      "Test_accuracy:  92.85 %\n"
     ]
    }
   ],
   "source": [
    "test_loss,test_acc = model.evaluate(test_pixels1, test_labels)\n",
    "print(\"Test_accuracy: \",round(test_acc*100,4),'%')"
   ]
  },
  {
   "cell_type": "markdown",
   "metadata": {
    "id": "RPkjNDLPJ_ah"
   },
   "source": [
    "### **CNN ARCHITECTURE - II<br>USING IMPROVEMENT METHODS -- KERNAL INITIALIZER and LEARNING RATE SCHEDULER**"
   ]
  },
  {
   "cell_type": "code",
   "execution_count": null,
   "metadata": {
    "colab": {
     "base_uri": "https://localhost:8080/"
    },
    "id": "JYLXoUszb0c1",
    "outputId": "a44e449b-3f40-4d71-ddc1-5123234825ed"
   },
   "outputs": [
    {
     "name": "stdout",
     "output_type": "stream",
     "text": [
      "4\n",
      "0\n",
      "Epoch 1/12\n",
      "938/938 [==============================] - 89s 94ms/step - loss: 0.4242 - accuracy: 0.8447 - val_loss: 0.2932 - val_accuracy: 0.8929 - lr: 0.0010\n",
      "1\n",
      "Epoch 2/12\n",
      "938/938 [==============================] - 85s 91ms/step - loss: 0.2899 - accuracy: 0.8927 - val_loss: 0.2645 - val_accuracy: 0.9045 - lr: 0.0010\n",
      "2\n",
      "Epoch 3/12\n",
      "938/938 [==============================] - 85s 90ms/step - loss: 0.2494 - accuracy: 0.9062 - val_loss: 0.2604 - val_accuracy: 0.9044 - lr: 0.0010\n",
      "3\n",
      "Epoch 4/12\n",
      "938/938 [==============================] - 84s 90ms/step - loss: 0.2204 - accuracy: 0.9174 - val_loss: 0.2410 - val_accuracy: 0.9126 - lr: 0.0010\n",
      "4\n",
      "Epoch 5/12\n",
      "938/938 [==============================] - 88s 93ms/step - loss: 0.1961 - accuracy: 0.9258 - val_loss: 0.2260 - val_accuracy: 0.9170 - lr: 0.0010\n",
      "5\n",
      "Epoch 6/12\n",
      "938/938 [==============================] - 87s 93ms/step - loss: 0.1769 - accuracy: 0.9330 - val_loss: 0.2397 - val_accuracy: 0.9166 - lr: 0.0010\n",
      "6\n",
      "Epoch 7/12\n",
      "938/938 [==============================] - 87s 92ms/step - loss: 0.1561 - accuracy: 0.9406 - val_loss: 0.2529 - val_accuracy: 0.9162 - lr: 0.0010\n",
      "7\n",
      "Epoch 8/12\n",
      "938/938 [==============================] - 87s 93ms/step - loss: 0.1430 - accuracy: 0.9447 - val_loss: 0.2739 - val_accuracy: 0.9094 - lr: 0.0010\n",
      "8\n",
      "Epoch 9/12\n",
      "938/938 [==============================] - 90s 96ms/step - loss: 0.1299 - accuracy: 0.9512 - val_loss: 0.2548 - val_accuracy: 0.9220 - lr: 0.0010\n",
      "9\n",
      "Epoch 10/12\n",
      "938/938 [==============================] - 92s 98ms/step - loss: 0.1173 - accuracy: 0.9554 - val_loss: 0.2679 - val_accuracy: 0.9209 - lr: 0.0010\n",
      "Epoch 11/12\n",
      "938/938 [==============================] - 87s 93ms/step - loss: 0.0984 - accuracy: 0.9627 - val_loss: 0.2939 - val_accuracy: 0.9178 - lr: 9.0484e-04\n",
      "Epoch 12/12\n",
      "938/938 [==============================] - 87s 93ms/step - loss: 0.0843 - accuracy: 0.9674 - val_loss: 0.3034 - val_accuracy: 0.9234 - lr: 8.1873e-04\n",
      "1875/1875 [==============================] - 29s 16ms/step - loss: 0.0587 - accuracy: 0.9804\n"
     ]
    },
    {
     "data": {
      "text/plain": [
       "[0.05866941437125206, 0.9804499745368958]"
      ]
     },
     "execution_count": 32,
     "metadata": {},
     "output_type": "execute_result"
    }
   ],
   "source": [
    "train_pixels,train_labels,test_pixels,test_labels,val_pixels,val_labels = shuffle_data(test_data,data)\n",
    "\n",
    "train_pixels1 = train_pixels.reshape((train_pixels.shape[0],28,28,1))\n",
    "val_pixels1 = val_pixels.reshape((val_pixels.shape[0],28,28,1))\n",
    "test_pixels1 = test_pixels.reshape((test_pixels.shape[0],28,28,1))\n",
    "\n",
    "model = Sequential()\n",
    "callback1 = ES(monitor = 'val_loss', patience = 3)\n",
    "\n",
    "\n",
    "h1_nodes = 1024\n",
    "h2_nodes = 512\n",
    "\n",
    "model.add(Conv2D(64, (3, 3), activation='relu',  kernel_initializer = 'random_uniform', input_shape =(28,28,1)))\n",
    "model.add(MaxPooling2D(pool_size=(3, 3)))\n",
    "model.add(Flatten())\n",
    "model.add(Dense(h1_nodes, kernel_initializer = 'random_uniform', activation='relu'))\n",
    "model.add(Dropout(0.25))\n",
    "model.add(Dense(h2_nodes, kernel_initializer = 'random_uniform', activation='relu'))\n",
    "output_layer = Dense(10, activation='softmax')\n",
    "model.add(output_layer)\n",
    "\n",
    "model.compile(optimizer='adam',loss='sparse_categorical_crossentropy', metrics=['accuracy'])\n",
    "\n",
    "def scheduler(epoch, lr):\n",
    "  if epoch < 6:\n",
    "    print(epoch)\n",
    "    return lr\n",
    "  else:\n",
    "    return lr * np.exp(-0.1)\n",
    "\n",
    "callback = keras.callbacks.LearningRateScheduler(scheduler)\n",
    "\n",
    "m = model.fit(train_pixels1, train_labels, epochs = 12, batch_size = 64, callbacks = [callback], verbose = 1, validation_data = (val_pixels1,val_labels))\n",
    "\n",
    "model.evaluate(train_pixels1, train_labels)"
   ]
  },
  {
   "cell_type": "code",
   "execution_count": null,
   "metadata": {
    "colab": {
     "base_uri": "https://localhost:8080/"
    },
    "id": "-6MwVMbNb9jG",
    "outputId": "4b37ba32-c435-441f-f6b8-189f86345d92"
   },
   "outputs": [
    {
     "name": "stdout",
     "output_type": "stream",
     "text": [
      "63/63 [==============================] - 1s 16ms/step - loss: 0.2409 - accuracy: 0.9335\n",
      "Test_accuracy:  93.35 %\n"
     ]
    }
   ],
   "source": [
    "test_loss,test_acc = model.evaluate(test_pixels1, test_labels)\n",
    "print(\"Test_accuracy: \",round(test_acc*100,4),'%')"
   ]
  },
  {
   "cell_type": "code",
   "execution_count": null,
   "metadata": {
    "id": "rAMiBuM_M_bw"
   },
   "outputs": [],
   "source": [
    "accuracies = m.history['accuracy']\n",
    "val_accuracies = m.history['val_accuracy']\n",
    "\n",
    "loss = m.history['loss']\n",
    "val_loss = m.history['val_loss']"
   ]
  },
  {
   "cell_type": "code",
   "execution_count": null,
   "metadata": {
    "colab": {
     "base_uri": "https://localhost:8080/",
     "height": 313
    },
    "id": "d7nYisrqN_Ql",
    "outputId": "66baffba-a461-4991-a2ba-de573528aa99"
   },
   "outputs": [
    {
     "data": {
      "text/plain": [
       "<matplotlib.legend.Legend at 0x7fdc1751e490>"
      ]
     },
     "execution_count": 23,
     "metadata": {},
     "output_type": "execute_result"
    },
    {
     "data": {
      "image/png": "[encoded data removed]",
      "text/plain": [
       "<Figure size 432x288 with 1 Axes>"
      ]
     },
     "metadata": {},
     "output_type": "display_data"
    }
   ],
   "source": [
    "epochs = 12\n",
    "plt.xlabel(\"EPOCHS\")\n",
    "plt.ylabel(\"ACCURACY\")\n",
    "plt.title(\"EPOCHS vs ACCURACY\")\n",
    "plt.plot(list(range(epochs)),accuracies)\n",
    "plt.plot(list(range(epochs)),val_accuracies)\n",
    "plt.legend([\"Train Accuracies\",\"Test Accuracies\"],loc = 'lower right')"
   ]
  },
  {
   "cell_type": "code",
   "execution_count": null,
   "metadata": {
    "colab": {
     "base_uri": "https://localhost:8080/",
     "height": 313
    },
    "id": "yZF7DgUyODk9",
    "outputId": "8e7241c1-dddd-4781-cb9e-f252a494ea84"
   },
   "outputs": [
    {
     "data": {
      "text/plain": [
       "<matplotlib.legend.Legend at 0x7fdc174235d0>"
      ]
     },
     "execution_count": 26,
     "metadata": {},
     "output_type": "execute_result"
    },
    {
     "data": {
      "image/png": "[encoded data removed]",
      "text/plain": [
       "<Figure size 432x288 with 1 Axes>"
      ]
     },
     "metadata": {},
     "output_type": "display_data"
    }
   ],
   "source": [
    "epochs = 12\n",
    "plt.xlabel(\"EPOCHS\")\n",
    "plt.ylabel(\"ACCURACY\")\n",
    "plt.title(\"EPOCHS vs LOSS\")\n",
    "plt.plot(list(range(epochs)),loss)\n",
    "plt.plot(list(range(epochs)),val_loss)\n",
    "plt.legend([\"Train Loss\",\"Test Loss\"],loc = 'upper right')"
   ]
  },
  {
   "cell_type": "markdown",
   "metadata": {
    "id": "8yH6YtFlQU_t"
   },
   "source": [
    "## **VISUALIZATION OF ACCURACY** "
   ]
  },
  {
   "cell_type": "code",
   "execution_count": null,
   "metadata": {
    "id": "fgIXVEaB2AUC"
   },
   "outputs": [],
   "source": [
    "label_pred = model.predict(test_pixels1)\n",
    "\n",
    "label_preds = []\n",
    "for i in range(test_pixels.shape[0]):\n",
    "  label_preds.append(np.argmax(np.round(label_pred[i])))\n",
    "\n",
    "preds = df(label_preds)\n",
    "actual = df(test_labels)"
   ]
  },
  {
   "cell_type": "code",
   "execution_count": null,
   "metadata": {
    "colab": {
     "base_uri": "https://localhost:8080/",
     "height": 391
    },
    "id": "DGraah_-F-UG",
    "outputId": "12e3a495-e3a2-4e4f-e4c2-372bbc756321"
   },
   "outputs": [
    {
     "data": {
      "image/png": "[encoded data removed]",
      "text/plain": [
       "<Figure size 720x720 with 50 Axes>"
      ]
     },
     "metadata": {},
     "output_type": "display_data"
    }
   ],
   "source": [
    "plt.figure(figsize=(10, 10))\n",
    "\n",
    "rows,cols = 10,10\n",
    "for i in range(50):  \n",
    "    plt.subplot(rows,cols, i+1)\n",
    "    plt.title(label_description[actual[0][i]])\n",
    "    plt.imshow(test_pixels[i].reshape((28,28)),aspect='auto',interpolation='none', cmap='binary')\n",
    "    plt.axis('off')\n",
    "    plt.tight_layout(pad=0.0)\n",
    "plt.show()"
   ]
  },
  {
   "cell_type": "code",
   "execution_count": null,
   "metadata": {
    "colab": {
     "base_uri": "https://localhost:8080/",
     "height": 535
    },
    "id": "XOKRvoXLAMUw",
    "outputId": "d2b93d35-469a-4ec1-8727-4ab04b5a767c"
   },
   "outputs": [
    {
     "data": {
      "image/png": "[encoded data removed]",
      "text/plain": [
       "<Figure size 720x720 with 70 Axes>"
      ]
     },
     "metadata": {},
     "output_type": "display_data"
    }
   ],
   "source": [
    "plt.figure(figsize=(10, 10))\n",
    "\n",
    "rows,cols = 10,10\n",
    "for i in range(50):  \n",
    "    plt.subplot(rows,cols, i+1)\n",
    "    if preds[0][i]==actual[0][i]:\n",
    "      plt.title(label_description[preds[0][i]])\n",
    "    else:\n",
    "      plt.title(label_description[preds[0][i]],color='red')\n",
    "    plt.imshow(test_pixels[i].reshape((28,28)),aspect='auto',interpolation='none', cmap='binary')\n",
    "    plt.axis('off')\n",
    "    plt.tight_layout(pad=0.0)\n",
    "plt.show()"
   ]
  },
  {
   "cell_type": "markdown",
   "metadata": {
    "id": "LC_a63wxMpOn"
   },
   "source": [
    "## **PART 4**"
   ]
  },
  {
   "cell_type": "markdown",
   "metadata": {
    "id": "bAs-ytxhKfIR"
   },
   "source": [
    "## **HYPERPARAMETER TUNING**"
   ]
  },
  {
   "cell_type": "code",
   "execution_count": null,
   "metadata": {
    "id": "5hFEIbNZ81t9"
   },
   "outputs": [],
   "source": [
    "def tuning(dropout,optimizer,strides,k):\n",
    "  train_pixels,train_labels,test_pixels,test_labels,val_pixels,val_labels = shuffle_data(test_data,data)\n",
    "\n",
    "  train_pixels1 = train_pixels.reshape((train_pixels.shape[0],28,28,1))\n",
    "  val_pixels1 = val_pixels.reshape((val_pixels.shape[0],28,28,1))\n",
    "  test_pixels1 = test_pixels.reshape((test_pixels.shape[0],28,28,1))\n",
    "\n",
    "  model = Sequential()\n",
    "\n",
    "  h1_nodes = 1024\n",
    "  h2_nodes = 512\n",
    "\n",
    "  model.add(Conv2D(64, (k, k), activation='relu',  kernel_initializer = 'random_uniform', input_shape =(28,28,1), strides = strides,'same'))\n",
    "  model.add(MaxPooling2D(pool_size=(3, 3)))\n",
    "  model.add(Flatten())\n",
    "  model.add(Dense(h1_nodes, kernel_initializer = 'random_uniform', activation='relu'))\n",
    "  model.add(Dropout(dropout))\n",
    "  model.add(Dense(h2_nodes, kernel_initializer = 'random_uniform', activation='relu'))\n",
    "  output_layer = Dense(10, activation='softmax')\n",
    "  model.add(output_layer)\n",
    "\n",
    "  model.compile(optimizer=optimizer,loss='sparse_categorical_crossentropy', metrics=['accuracy'])\n",
    "\n",
    "  def scheduler(epoch, lr):\n",
    "    if epoch < 6:\n",
    "      return lr\n",
    "    else:\n",
    "      return lr * np.exp(-0.1)\n",
    "\n",
    "  callback = keras.callbacks.LearningRateScheduler(scheduler)\n",
    "\n",
    "  m1 = model.fit(train_pixels1, train_labels, epochs = 12, batch_size = 256, callbacks = [callback], verbose = 0.5, validation_data = (val_pixels1,val_labels))\n",
    "\n",
    "  model.evaluate(train_pixels1, train_labels)\n",
    "\n",
    "  test_loss,test_acc = model.evaluate(test_pixels1, test_labels)\n",
    "  print(\"Test_accuracy: \",round(test_acc*100,4),'%')\n",
    "\n",
    "  return m1\n",
    "\n"
   ]
  },
  {
   "cell_type": "markdown",
   "metadata": {
    "id": "aHQYXhS4eZkW"
   },
   "source": [
    "### KERNEL SIZE TUNING"
   ]
  },
  {
   "cell_type": "code",
   "execution_count": null,
   "metadata": {
    "colab": {
     "base_uri": "https://localhost:8080/"
    },
    "id": "o72bNI8JeYt1",
    "outputId": "bbc2b9b2-cb21-4ac7-8227-4de35251a276"
   },
   "outputs": [
    {
     "name": "stdout",
     "output_type": "stream",
     "text": [
      "1\n",
      "Epoch 1/12\n",
      "Epoch 2/12\n",
      "Epoch 3/12\n",
      "Epoch 4/12\n",
      "Epoch 5/12\n",
      "Epoch 6/12\n",
      "Epoch 7/12\n",
      "Epoch 8/12\n",
      "Epoch 9/12\n",
      "Epoch 10/12\n",
      "Epoch 11/12\n",
      "Epoch 12/12\n",
      "1875/1875 [==============================] - 29s 15ms/step - loss: 0.0779 - accuracy: 0.9731\n",
      "63/63 [==============================] - 1s 15ms/step - loss: 0.2296 - accuracy: 0.9265\n",
      "Test_accuracy:  92.65 %\n"
     ]
    }
   ],
   "source": [
    "kernal1 = 3\n",
    "kernal2 = 2\n",
    "kernal3 = 1\n",
    "m1 = tuning(0.2,'adam',1,kernal1)"
   ]
  },
  {
   "cell_type": "code",
   "execution_count": null,
   "metadata": {
    "colab": {
     "base_uri": "https://localhost:8080/",
     "height": 313
    },
    "id": "RLSeAMjmuRxw",
    "outputId": "9b45150e-3120-456c-b8f0-d06a431e4a68"
   },
   "outputs": [
    {
     "data": {
      "text/plain": [
       "<matplotlib.legend.Legend at 0x7fdc10eba090>"
      ]
     },
     "execution_count": 52,
     "metadata": {},
     "output_type": "execute_result"
    },
    {
     "data": {
      "image/png": "[encoded data removed]",
      "text/plain": [
       "<Figure size 432x288 with 1 Axes>"
      ]
     },
     "metadata": {},
     "output_type": "display_data"
    }
   ],
   "source": [
    "accuracies = m1.history['accuracy']\n",
    "val_accuracies = m1.history['val_accuracy']\n",
    "\n",
    "loss = m1.history['loss']\n",
    "val_loss = m1.history['val_loss']\n",
    "\n",
    "epochs = 12\n",
    "plt.xlabel(\"EPOCHS\")\n",
    "plt.ylabel(\"ACCURACY\")\n",
    "plt.title(\"EPOCHS vs ACCURACY\")\n",
    "plt.plot(list(range(epochs)),accuracies)\n",
    "plt.plot(list(range(epochs)),val_accuracies)\n",
    "plt.legend([\"Train Accuracies\",\"Test Accuracies\"],loc = 'lower right')"
   ]
  },
  {
   "cell_type": "code",
   "execution_count": null,
   "metadata": {
    "colab": {
     "base_uri": "https://localhost:8080/"
    },
    "id": "jmnxPUeJuLHu",
    "outputId": "0a64e5a6-18f4-4703-d963-8597de5490ca"
   },
   "outputs": [
    {
     "name": "stdout",
     "output_type": "stream",
     "text": [
      "9\n",
      "Epoch 1/12\n",
      "Epoch 2/12\n",
      "Epoch 3/12\n",
      "Epoch 4/12\n",
      "Epoch 5/12\n",
      "Epoch 6/12\n",
      "Epoch 7/12\n",
      "Epoch 8/12\n",
      "Epoch 9/12\n",
      "Epoch 10/12\n",
      "Epoch 11/12\n",
      "Epoch 12/12\n",
      "1875/1875 [==============================] - 33s 17ms/step - loss: 0.0868 - accuracy: 0.9691\n",
      "63/63 [==============================] - 1s 17ms/step - loss: 0.1936 - accuracy: 0.9320\n",
      "Test_accuracy:  93.2 %\n"
     ]
    }
   ],
   "source": [
    "m1 = tuning(0.2,'adam',1,kernal2)"
   ]
  },
  {
   "cell_type": "code",
   "execution_count": null,
   "metadata": {
    "colab": {
     "base_uri": "https://localhost:8080/",
     "height": 313
    },
    "id": "YSUyyvvTuSZF",
    "outputId": "46b8b9a3-e883-452a-8f44-ea90d45e6657"
   },
   "outputs": [
    {
     "data": {
      "text/plain": [
       "<matplotlib.legend.Legend at 0x7fdc10c0cdd0>"
      ]
     },
     "execution_count": 54,
     "metadata": {},
     "output_type": "execute_result"
    },
    {
     "data": {
      "image/png": "[encoded data removed]",
      "text/plain": [
       "<Figure size 432x288 with 1 Axes>"
      ]
     },
     "metadata": {},
     "output_type": "display_data"
    }
   ],
   "source": [
    "accuracies = m1.history['accuracy']\n",
    "val_accuracies = m1.history['val_accuracy']\n",
    "\n",
    "loss = m1.history['loss']\n",
    "val_loss = m1.history['val_loss']\n",
    "\n",
    "epochs = 12\n",
    "plt.xlabel(\"EPOCHS\")\n",
    "plt.ylabel(\"ACCURACY\")\n",
    "plt.title(\"EPOCHS vs ACCURACY\")\n",
    "plt.plot(list(range(epochs)),accuracies)\n",
    "plt.plot(list(range(epochs)),val_accuracies)\n",
    "plt.legend([\"Train Accuracies\",\"Test Accuracies\"],loc = 'lower right')"
   ]
  },
  {
   "cell_type": "code",
   "execution_count": null,
   "metadata": {
    "colab": {
     "base_uri": "https://localhost:8080/"
    },
    "id": "0GMJSEqjuLMX",
    "outputId": "28a5fc32-7a19-45f0-9a19-f604a7be4162"
   },
   "outputs": [
    {
     "name": "stdout",
     "output_type": "stream",
     "text": [
      "6\n",
      "Epoch 1/12\n",
      "Epoch 2/12\n",
      "Epoch 3/12\n",
      "Epoch 4/12\n",
      "Epoch 5/12\n",
      "Epoch 6/12\n",
      "Epoch 7/12\n",
      "Epoch 8/12\n",
      "Epoch 9/12\n",
      "Epoch 10/12\n",
      "Epoch 11/12\n",
      "Epoch 12/12\n",
      "1875/1875 [==============================] - 31s 16ms/step - loss: 0.2919 - accuracy: 0.8902\n",
      "63/63 [==============================] - 1s 16ms/step - loss: 0.3438 - accuracy: 0.8765\n",
      "Test_accuracy:  87.65 %\n"
     ]
    }
   ],
   "source": [
    "m1 = tuning(0.2,'adam',1,kernal3)"
   ]
  },
  {
   "cell_type": "code",
   "execution_count": null,
   "metadata": {
    "id": "s64tB2O_UDpA"
   },
   "outputs": [],
   "source": [
    "accuracies = m1.history['accuracy']\n",
    "val_accuracies = m1.history['val_accuracy']\n",
    "\n",
    "loss = m1.history['loss']\n",
    "val_loss = m1.history['val_loss']"
   ]
  },
  {
   "cell_type": "code",
   "execution_count": null,
   "metadata": {
    "colab": {
     "base_uri": "https://localhost:8080/",
     "height": 313
    },
    "id": "8s78jKRKUZnq",
    "outputId": "6c7e3121-b4b8-4af1-9171-0795c62967d2"
   },
   "outputs": [
    {
     "data": {
      "text/plain": [
       "<matplotlib.legend.Legend at 0x7fdc109cfcd0>"
      ]
     },
     "execution_count": 57,
     "metadata": {},
     "output_type": "execute_result"
    },
    {
     "data": {
      "image/png": "[encoded data removed]",
      "text/plain": [
       "<Figure size 432x288 with 1 Axes>"
      ]
     },
     "metadata": {},
     "output_type": "display_data"
    }
   ],
   "source": [
    "epochs = 12\n",
    "plt.xlabel(\"EPOCHS\")\n",
    "plt.ylabel(\"ACCURACY\")\n",
    "plt.title(\"EPOCHS vs ACCURACY\")\n",
    "plt.plot(list(range(epochs)),accuracies)\n",
    "plt.plot(list(range(epochs)),val_accuracies)\n",
    "plt.legend([\"Train Accuracies\",\"Test Accuracies\"],loc = 'lower right')"
   ]
  },
  {
   "cell_type": "code",
   "execution_count": null,
   "metadata": {
    "id": "C3P5yha5e2zi"
   },
   "outputs": [],
   "source": [
    "def tuning1(dropout,optimizer,strides):\n",
    "  train_pixels,train_labels,test_pixels,test_labels,val_pixels,val_labels = shuffle_data(test_data,data)\n",
    "\n",
    "  train_pixels1 = train_pixels.reshape((train_pixels.shape[0],28,28,1))\n",
    "  val_pixels1 = val_pixels.reshape((val_pixels.shape[0],28,28,1))\n",
    "  test_pixels1 = test_pixels.reshape((test_pixels.shape[0],28,28,1))\n",
    "\n",
    "  model = Sequential()\n",
    "\n",
    "  h1_nodes = 1024\n",
    "  h2_nodes = 512\n",
    "\n",
    "  model.add(Conv2D(64, (2, 2), activation='relu',  kernel_initializer = 'random_uniform', input_shape =(28,28,1), strides = strides))\n",
    "  model.add(MaxPooling2D(pool_size=(3, 3)))\n",
    "  model.add(Flatten())\n",
    "  model.add(Dense(h1_nodes, kernel_initializer = 'random_uniform', activation='relu'))\n",
    "  model.add(Dropout(dropout))\n",
    "  model.add(Dense(h2_nodes, kernel_initializer = 'random_uniform', activation='relu'))\n",
    "  output_layer = Dense(10, activation='softmax')\n",
    "  model.add(output_layer)\n",
    "\n",
    "  model.compile(optimizer=optimizer,loss='sparse_categorical_crossentropy', metrics=['accuracy'])\n",
    "\n",
    "  def scheduler(epoch, lr):\n",
    "    if epoch < 6:\n",
    "      return lr\n",
    "    else:\n",
    "      return lr * np.exp(-0.1)\n",
    "\n",
    "  callback = keras.callbacks.LearningRateScheduler(scheduler)\n",
    "\n",
    "  m1 = model.fit(train_pixels1, train_labels, epochs = 12, batch_size = 256, callbacks = [callback], verbose = 0.5, validation_data = (val_pixels1,val_labels))\n",
    "\n",
    "  model.evaluate(train_pixels1, train_labels)\n",
    "\n",
    "  test_loss,test_acc = model.evaluate(test_pixels1, test_labels)\n",
    "  print(\"Test_accuracy: \",round(test_acc*100,4),'%')\n",
    "\n",
    "  return m1\n",
    "\n"
   ]
  },
  {
   "cell_type": "markdown",
   "metadata": {
    "id": "35Z6RvfHUF4n"
   },
   "source": [
    "### STRIDE TUNING"
   ]
  },
  {
   "cell_type": "code",
   "execution_count": null,
   "metadata": {
    "colab": {
     "base_uri": "https://localhost:8080/"
    },
    "id": "B19uKFSSUFKG",
    "outputId": "7631ac19-7025-46f4-8254-8faf80197618"
   },
   "outputs": [
    {
     "name": "stdout",
     "output_type": "stream",
     "text": [
      "7\n",
      "Epoch 1/12\n",
      "Epoch 2/12\n",
      "Epoch 3/12\n",
      "Epoch 4/12\n",
      "Epoch 5/12\n",
      "Epoch 6/12\n",
      "Epoch 7/12\n",
      "Epoch 8/12\n",
      "Epoch 9/12\n",
      "Epoch 10/12\n",
      "Epoch 11/12\n",
      "Epoch 12/12\n",
      "1875/1875 [==============================] - 10s 5ms/step - loss: 0.3222 - accuracy: 0.8790\n",
      "63/63 [==============================] - 0s 5ms/step - loss: 0.3898 - accuracy: 0.8430\n",
      "Test_accuracy:  84.3 %\n"
     ]
    }
   ],
   "source": [
    "strides1 = 3\n",
    "strides2 = 2\n",
    "strides3 = 1\n",
    "m1 = tuning1(0.2,'adam',strides1)"
   ]
  },
  {
   "cell_type": "code",
   "execution_count": null,
   "metadata": {
    "colab": {
     "base_uri": "https://localhost:8080/",
     "height": 313
    },
    "id": "G7tn3U_Fupgz",
    "outputId": "dce129e1-da22-4f87-c62b-3bb54e9e6305"
   },
   "outputs": [
    {
     "data": {
      "text/plain": [
       "<matplotlib.legend.Legend at 0x7fdc10744d90>"
      ]
     },
     "execution_count": 62,
     "metadata": {},
     "output_type": "execute_result"
    },
    {
     "data": {
      "image/png": "[encoded data removed]",
      "text/plain": [
       "<Figure size 432x288 with 1 Axes>"
      ]
     },
     "metadata": {},
     "output_type": "display_data"
    }
   ],
   "source": [
    "accuracies = m1.history['accuracy']\n",
    "val_accuracies = m1.history['val_accuracy']\n",
    "\n",
    "loss = m1.history['loss']\n",
    "val_loss = m1.history['val_loss']\n",
    "\n",
    "epochs = 12\n",
    "plt.xlabel(\"EPOCHS\")\n",
    "plt.ylabel(\"ACCURACY\")\n",
    "plt.title(\"EPOCHS vs ACCURACY\")\n",
    "plt.plot(list(range(epochs)),accuracies)\n",
    "plt.plot(list(range(epochs)),val_accuracies)\n",
    "plt.legend([\"Train Accuracies\",\"Test Accuracies\"],loc = 'lower right')"
   ]
  },
  {
   "cell_type": "code",
   "execution_count": null,
   "metadata": {
    "colab": {
     "base_uri": "https://localhost:8080/"
    },
    "id": "j6e0DvTduppH",
    "outputId": "491a22a5-0948-4416-80f2-93e81cece1d9"
   },
   "outputs": [
    {
     "name": "stdout",
     "output_type": "stream",
     "text": [
      "9\n",
      "Epoch 1/12\n",
      "Epoch 2/12\n",
      "Epoch 3/12\n",
      "Epoch 4/12\n",
      "Epoch 5/12\n",
      "Epoch 6/12\n",
      "Epoch 7/12\n",
      "Epoch 8/12\n",
      "Epoch 9/12\n",
      "Epoch 10/12\n",
      "Epoch 11/12\n",
      "Epoch 12/12\n",
      "1875/1875 [==============================] - 13s 7ms/step - loss: 0.2395 - accuracy: 0.9105\n",
      "63/63 [==============================] - 0s 6ms/step - loss: 0.2773 - accuracy: 0.8920\n",
      "Test_accuracy:  89.2 %\n"
     ]
    }
   ],
   "source": [
    "m1 = tuning1(0.2,'adam',strides2)"
   ]
  },
  {
   "cell_type": "code",
   "execution_count": null,
   "metadata": {
    "colab": {
     "base_uri": "https://localhost:8080/",
     "height": 313
    },
    "id": "_GzyIloJupv2",
    "outputId": "37995711-dad6-4fac-b219-57c3bc8833b5"
   },
   "outputs": [
    {
     "data": {
      "text/plain": [
       "<matplotlib.legend.Legend at 0x7fdc17b6ab50>"
      ]
     },
     "execution_count": 70,
     "metadata": {},
     "output_type": "execute_result"
    },
    {
     "data": {
      "image/png": "[encoded data removed]",
      "text/plain": [
       "<Figure size 432x288 with 1 Axes>"
      ]
     },
     "metadata": {},
     "output_type": "display_data"
    }
   ],
   "source": [
    "accuracies = m1.history['accuracy']\n",
    "val_accuracies = m1.history['val_accuracy']\n",
    "\n",
    "loss = m1.history['loss']\n",
    "val_loss = m1.history['val_loss']\n",
    "\n",
    "epochs = 12\n",
    "plt.xlabel(\"EPOCHS\")\n",
    "plt.ylabel(\"ACCURACY\")\n",
    "plt.title(\"EPOCHS vs ACCURACY\")\n",
    "plt.plot(list(range(epochs)),accuracies)\n",
    "plt.plot(list(range(epochs)),val_accuracies)\n",
    "plt.legend([\"Train Accuracies\",\"Test Accuracies\"],loc = 'lower right')"
   ]
  },
  {
   "cell_type": "code",
   "execution_count": null,
   "metadata": {
    "colab": {
     "base_uri": "https://localhost:8080/"
    },
    "id": "G_GJkKoFup9s",
    "outputId": "74accb79-0da3-45f9-9436-f51ccc8071bf"
   },
   "outputs": [
    {
     "name": "stdout",
     "output_type": "stream",
     "text": [
      "9\n",
      "Epoch 1/12\n",
      "Epoch 2/12\n",
      "Epoch 3/12\n",
      "Epoch 4/12\n",
      "Epoch 5/12\n",
      "Epoch 6/12\n",
      "Epoch 7/12\n",
      "Epoch 8/12\n",
      "Epoch 9/12\n",
      "Epoch 10/12\n",
      "Epoch 11/12\n",
      "Epoch 12/12\n",
      "1875/1875 [==============================] - 33s 18ms/step - loss: 0.0762 - accuracy: 0.9749\n",
      "63/63 [==============================] - 1s 17ms/step - loss: 0.2499 - accuracy: 0.9185\n",
      "Test_accuracy:  91.85 %\n"
     ]
    }
   ],
   "source": [
    "m1 = tuning1(0.2,'adam',strides3)"
   ]
  },
  {
   "cell_type": "code",
   "execution_count": null,
   "metadata": {
    "id": "WMAMdMFpUgho"
   },
   "outputs": [],
   "source": [
    "accuracies = m1.history['accuracy']\n",
    "val_accuracies = m1.history['val_accuracy']\n",
    "\n",
    "loss = m1.history['loss']\n",
    "val_loss = m1.history['val_loss']"
   ]
  },
  {
   "cell_type": "code",
   "execution_count": null,
   "metadata": {
    "colab": {
     "base_uri": "https://localhost:8080/",
     "height": 313
    },
    "id": "KDYe-xr7UjEJ",
    "outputId": "09a458a8-2966-4d56-cc2f-4577ab95d236"
   },
   "outputs": [
    {
     "data": {
      "text/plain": [
       "<matplotlib.legend.Legend at 0x7fdc10d14b50>"
      ]
     },
     "execution_count": 73,
     "metadata": {},
     "output_type": "execute_result"
    },
    {
     "data": {
      "image/png": "[encoded data removed]",
      "text/plain": [
       "<Figure size 432x288 with 1 Axes>"
      ]
     },
     "metadata": {},
     "output_type": "display_data"
    }
   ],
   "source": [
    "epochs = 12\n",
    "plt.xlabel(\"EPOCHS\")\n",
    "plt.ylabel(\"ACCURACY\")\n",
    "plt.title(\"EPOCHS vs ACCURACY\")\n",
    "plt.plot(list(range(epochs)),accuracies)\n",
    "plt.plot(list(range(epochs)),val_accuracies)\n",
    "plt.legend([\"Train Accuracies\",\"Test Accuracies\"],loc = 'lower right')"
   ]
  },
  {
   "cell_type": "markdown",
   "metadata": {
    "id": "329cuyolDg98"
   },
   "source": [
    "<h3>DROPOUT TUNING</h3>"
   ]
  },
  {
   "cell_type": "code",
   "execution_count": null,
   "metadata": {
    "colab": {
     "base_uri": "https://localhost:8080/"
    },
    "id": "rdsAasBA81zS",
    "outputId": "09c0b404-0793-45b4-e8eb-8badbc125761"
   },
   "outputs": [
    {
     "name": "stdout",
     "output_type": "stream",
     "text": [
      "9\n",
      "Epoch 1/12\n",
      "Epoch 2/12\n",
      "Epoch 3/12\n",
      "Epoch 4/12\n",
      "Epoch 5/12\n",
      "Epoch 6/12\n",
      "Epoch 7/12\n",
      "Epoch 8/12\n",
      "Epoch 9/12\n",
      "Epoch 10/12\n",
      "Epoch 11/12\n",
      "Epoch 12/12\n",
      "1875/1875 [==============================] - 32s 17ms/step - loss: 0.0807 - accuracy: 0.9713\n",
      "63/63 [==============================] - 1s 17ms/step - loss: 0.2378 - accuracy: 0.9280\n",
      "Test_accuracy:  92.8 %\n"
     ]
    }
   ],
   "source": [
    "dropout1 = 0.2\n",
    "dropout2 = 0.5\n",
    "dropout3 = 0.75\n",
    "m1 = tuning1(dropout1,'adam',1)"
   ]
  },
  {
   "cell_type": "code",
   "execution_count": null,
   "metadata": {
    "colab": {
     "base_uri": "https://localhost:8080/",
     "height": 313
    },
    "id": "rsk0eJBiu8z9",
    "outputId": "f1c97797-6816-4cee-a674-b17f77598368"
   },
   "outputs": [
    {
     "data": {
      "text/plain": [
       "<matplotlib.legend.Legend at 0x7fdc10b35190>"
      ]
     },
     "execution_count": 76,
     "metadata": {},
     "output_type": "execute_result"
    },
    {
     "data": {
      "image/png": "[encoded data removed]",
      "text/plain": [
       "<Figure size 432x288 with 1 Axes>"
      ]
     },
     "metadata": {},
     "output_type": "display_data"
    }
   ],
   "source": [
    "accuracies = m1.history['accuracy']\n",
    "val_accuracies = m1.history['val_accuracy']\n",
    "\n",
    "loss = m1.history['loss']\n",
    "val_loss = m1.history['val_loss']\n",
    "\n",
    "epochs = 12\n",
    "plt.xlabel(\"EPOCHS\")\n",
    "plt.ylabel(\"ACCURACY\")\n",
    "plt.title(\"EPOCHS vs ACCURACY\")\n",
    "plt.plot(list(range(epochs)),accuracies)\n",
    "plt.plot(list(range(epochs)),val_accuracies)\n",
    "plt.legend([\"Train Accuracies\",\"Test Accuracies\"],loc = 'lower right')"
   ]
  },
  {
   "cell_type": "code",
   "execution_count": null,
   "metadata": {
    "colab": {
     "base_uri": "https://localhost:8080/"
    },
    "id": "9kc-lUj7u83j",
    "outputId": "d908e8cf-dca7-4fd8-94c4-85a37886379a"
   },
   "outputs": [
    {
     "name": "stdout",
     "output_type": "stream",
     "text": [
      "5\n",
      "Epoch 1/12\n",
      "Epoch 2/12\n",
      "Epoch 3/12\n",
      "Epoch 4/12\n",
      "Epoch 5/12\n",
      "Epoch 6/12\n",
      "Epoch 7/12\n",
      "Epoch 8/12\n",
      "Epoch 9/12\n",
      "Epoch 10/12\n",
      "Epoch 11/12\n",
      "Epoch 12/12\n",
      "1875/1875 [==============================] - 33s 18ms/step - loss: 0.1209 - accuracy: 0.9553\n",
      "63/63 [==============================] - 1s 18ms/step - loss: 0.1956 - accuracy: 0.9340\n",
      "Test_accuracy:  93.4 %\n"
     ]
    }
   ],
   "source": [
    "m1 = tuning1(dropout2,'adam', 1)"
   ]
  },
  {
   "cell_type": "code",
   "execution_count": null,
   "metadata": {
    "colab": {
     "base_uri": "https://localhost:8080/",
     "height": 313
    },
    "id": "uq253oeUu88P",
    "outputId": "2a036361-0840-4616-8bd3-7152f668fe00"
   },
   "outputs": [
    {
     "data": {
      "text/plain": [
       "<matplotlib.legend.Legend at 0x7fdc05407d10>"
      ]
     },
     "execution_count": 80,
     "metadata": {},
     "output_type": "execute_result"
    },
    {
     "data": {
      "image/png": "[encoded data removed]",
      "text/plain": [
       "<Figure size 432x288 with 1 Axes>"
      ]
     },
     "metadata": {},
     "output_type": "display_data"
    }
   ],
   "source": [
    "accuracies = m1.history['accuracy']\n",
    "val_accuracies = m1.history['val_accuracy']\n",
    "\n",
    "loss = m1.history['loss']\n",
    "val_loss = m1.history['val_loss']\n",
    "\n",
    "epochs = 12\n",
    "plt.xlabel(\"EPOCHS\")\n",
    "plt.ylabel(\"ACCURACY\")\n",
    "plt.title(\"EPOCHS vs ACCURACY\")\n",
    "plt.plot(list(range(epochs)),accuracies)\n",
    "plt.plot(list(range(epochs)),val_accuracies)\n",
    "plt.legend([\"Train Accuracies\",\"Test Accuracies\"],loc = 'lower right')"
   ]
  },
  {
   "cell_type": "code",
   "execution_count": null,
   "metadata": {
    "colab": {
     "base_uri": "https://localhost:8080/"
    },
    "id": "Utbds_iCu8_o",
    "outputId": "0ab932cc-e8ee-49a3-be64-a326a8440cf8"
   },
   "outputs": [
    {
     "name": "stdout",
     "output_type": "stream",
     "text": [
      "5\n",
      "Epoch 1/12\n",
      "Epoch 2/12\n",
      "Epoch 3/12\n",
      "Epoch 4/12\n",
      "Epoch 5/12\n",
      "Epoch 6/12\n",
      "Epoch 7/12\n",
      "Epoch 8/12\n",
      "Epoch 9/12\n",
      "Epoch 10/12\n",
      "Epoch 11/12\n",
      "Epoch 12/12\n",
      "1875/1875 [==============================] - 34s 18ms/step - loss: 0.1686 - accuracy: 0.9379\n",
      "63/63 [==============================] - 1s 16ms/step - loss: 0.2129 - accuracy: 0.9220\n",
      "Test_accuracy:  92.2 %\n"
     ]
    }
   ],
   "source": [
    "m1 = tuning1(dropout3,'adam',1)"
   ]
  },
  {
   "cell_type": "code",
   "execution_count": null,
   "metadata": {
    "id": "Z1TYYFSEUmLW"
   },
   "outputs": [],
   "source": [
    "accuracies = m1.history['accuracy']\n",
    "val_accuracies = m1.history['val_accuracy']\n",
    "\n",
    "loss = m1.history['loss']\n",
    "val_loss = m1.history['val_loss']"
   ]
  },
  {
   "cell_type": "code",
   "execution_count": null,
   "metadata": {
    "colab": {
     "base_uri": "https://localhost:8080/",
     "height": 313
    },
    "id": "xm5puIFIUkyx",
    "outputId": "1e3202f7-bed1-401b-e2f7-a6e45e3af7c7"
   },
   "outputs": [
    {
     "data": {
      "text/plain": [
       "<matplotlib.legend.Legend at 0x7fdc05637810>"
      ]
     },
     "execution_count": 83,
     "metadata": {},
     "output_type": "execute_result"
    },
    {
     "data": {
      "image/png": "[encoded data removed]",
      "text/plain": [
       "<Figure size 432x288 with 1 Axes>"
      ]
     },
     "metadata": {},
     "output_type": "display_data"
    }
   ],
   "source": [
    "epochs = 12\n",
    "plt.xlabel(\"EPOCHS\")\n",
    "plt.ylabel(\"ACCURACY\")\n",
    "plt.title(\"EPOCHS vs ACCURACY\")\n",
    "plt.plot(list(range(epochs)),accuracies)\n",
    "plt.plot(list(range(epochs)),val_accuracies)\n",
    "plt.legend([\"Train Accuracies\",\"Test Accuracies\"],loc = 'lower right')"
   ]
  },
  {
   "cell_type": "markdown",
   "metadata": {
    "id": "sLPFtrHAK0qY"
   },
   "source": [
    "<h3>OPTIMIZER TUNING</h3>"
   ]
  },
  {
   "cell_type": "code",
   "execution_count": null,
   "metadata": {
    "colab": {
     "background_save": true,
     "base_uri": "https://localhost:8080/"
    },
    "id": "d0aBxuKn816x",
    "outputId": "f29c323f-18f9-46dd-99b5-ef765322b332"
   },
   "outputs": [
    {
     "name": "stdout",
     "output_type": "stream",
     "text": [
      "3\n",
      "Epoch 1/12\n",
      "Epoch 2/12\n",
      "Epoch 3/12\n",
      "Epoch 4/12\n",
      "Epoch 5/12\n",
      "Epoch 6/12\n",
      "Epoch 7/12\n",
      "Epoch 8/12\n",
      "Epoch 9/12\n",
      "Epoch 10/12\n",
      "Epoch 11/12\n",
      "Epoch 12/12\n",
      "1875/1875 [==============================] - 13s 7ms/step - loss: 0.2359 - accuracy: 0.9118\n",
      "63/63 [==============================] - 0s 6ms/step - loss: 0.2977 - accuracy: 0.8860\n",
      "Test_accuracy:  88.6 %\n"
     ]
    }
   ],
   "source": [
    "optimizer1 = 'adam'\n",
    "optimizer2 = 'sgd'\n",
    "optimizer3 = 'rmsprop'\n",
    "\n",
    "m1 = tuning1(0.2, optimizer1, 2)"
   ]
  },
  {
   "cell_type": "code",
   "execution_count": null,
   "metadata": {
    "colab": {
     "background_save": true
    },
    "id": "mbSQkhwpvKEq",
    "outputId": "e50db542-2ed7-42e1-cfc3-c215f324e176"
   },
   "outputs": [
    {
     "data": {
      "text/plain": [
       "<matplotlib.legend.Legend at 0x7fdc10aa4b90>"
      ]
     },
     "execution_count": null,
     "metadata": {},
     "output_type": "execute_result"
    },
    {
     "data": {
      "image/png": "[encoded data removed]",
      "text/plain": [
       "<Figure size 432x288 with 1 Axes>"
      ]
     },
     "metadata": {},
     "output_type": "display_data"
    }
   ],
   "source": [
    "accuracies = m1.history['accuracy']\n",
    "val_accuracies = m1.history['val_accuracy']\n",
    "\n",
    "loss = m1.history['loss']\n",
    "val_loss = m1.history['val_loss']\n",
    "\n",
    "epochs = 12\n",
    "plt.xlabel(\"EPOCHS\")\n",
    "plt.ylabel(\"ACCURACY\")\n",
    "plt.title(\"EPOCHS vs ACCURACY\")\n",
    "plt.plot(list(range(epochs)),accuracies)\n",
    "plt.plot(list(range(epochs)),val_accuracies)\n",
    "plt.legend([\"Train Accuracies\",\"Test Accuracies\"],loc = 'lower right')"
   ]
  },
  {
   "cell_type": "code",
   "execution_count": null,
   "metadata": {
    "colab": {
     "base_uri": "https://localhost:8080/"
    },
    "id": "hviP6_4xvKIx",
    "outputId": "749c4cfb-1942-4301-ba4d-e9db123ca0df"
   },
   "outputs": [
    {
     "name": "stdout",
     "output_type": "stream",
     "text": [
      "5\n",
      "Epoch 1/12\n",
      "Epoch 2/12\n",
      "Epoch 3/12\n",
      "Epoch 4/12\n",
      "Epoch 5/12\n",
      "Epoch 6/12\n",
      "Epoch 7/12\n",
      "Epoch 8/12\n",
      "Epoch 9/12\n",
      "Epoch 10/12\n",
      "Epoch 11/12\n",
      "Epoch 12/12\n",
      "1875/1875 [==============================] - 14s 7ms/step - loss: 0.7910 - accuracy: 0.7028\n",
      "63/63 [==============================] - 0s 6ms/step - loss: 0.8281 - accuracy: 0.6775\n",
      "Test_accuracy:  67.75 %\n"
     ]
    }
   ],
   "source": [
    "m1 = tuning1(0.2, optimizer2, 2)"
   ]
  },
  {
   "cell_type": "code",
   "execution_count": null,
   "metadata": {
    "colab": {
     "base_uri": "https://localhost:8080/",
     "height": 313
    },
    "id": "v_daSB1wvKRY",
    "outputId": "0f07b040-1f82-4677-bf59-6ae21164546e"
   },
   "outputs": [
    {
     "data": {
      "text/plain": [
       "<matplotlib.legend.Legend at 0x7fdc13a1ae90>"
      ]
     },
     "execution_count": 87,
     "metadata": {},
     "output_type": "execute_result"
    },
    {
     "data": {
      "image/png": "[encoded data removed]",
      "text/plain": [
       "<Figure size 432x288 with 1 Axes>"
      ]
     },
     "metadata": {
      "needs_background": "light"
     },
     "output_type": "display_data"
    }
   ],
   "source": [
    "accuracies = m1.history['accuracy']\n",
    "val_accuracies = m1.history['val_accuracy']\n",
    "\n",
    "loss = m1.history['loss']\n",
    "val_loss = m1.history['val_loss']\n",
    "\n",
    "epochs = 12\n",
    "plt.xlabel(\"EPOCHS\")\n",
    "plt.ylabel(\"ACCURACY\")\n",
    "plt.title(\"EPOCHS vs ACCURACY\")\n",
    "plt.plot(list(range(epochs)),accuracies)\n",
    "plt.plot(list(range(epochs)),val_accuracies)\n",
    "plt.legend([\"Train Accuracies\",\"Test Accuracies\"],loc = 'lower right')"
   ]
  },
  {
   "cell_type": "code",
   "execution_count": null,
   "metadata": {
    "colab": {
     "base_uri": "https://localhost:8080/"
    },
    "id": "XF71BDIjvK00",
    "outputId": "ca032ce4-f935-444f-ab5c-97e18a8d5697"
   },
   "outputs": [
    {
     "name": "stdout",
     "output_type": "stream",
     "text": [
      "5\n",
      "Epoch 1/12\n",
      "Epoch 2/12\n",
      "Epoch 3/12\n",
      "Epoch 4/12\n",
      "Epoch 5/12\n",
      "Epoch 6/12\n",
      "Epoch 7/12\n",
      "Epoch 8/12\n",
      "Epoch 9/12\n",
      "Epoch 10/12\n",
      "Epoch 11/12\n",
      "Epoch 12/12\n",
      "1875/1875 [==============================] - 13s 7ms/step - loss: 0.2078 - accuracy: 0.9236\n",
      "63/63 [==============================] - 0s 7ms/step - loss: 0.3114 - accuracy: 0.8820\n",
      "Test_accuracy:  88.2 %\n"
     ]
    }
   ],
   "source": [
    "m1 = tuning1(0.2,optimizer3, 2)"
   ]
  },
  {
   "cell_type": "code",
   "execution_count": null,
   "metadata": {
    "id": "jlDO1PCOU1HN"
   },
   "outputs": [],
   "source": [
    "accuracies = m1.history['accuracy']\n",
    "val_accuracies = m1.history['val_accuracy']\n",
    "\n",
    "loss = m1.history['loss']\n",
    "val_loss = m1.history['val_loss']"
   ]
  },
  {
   "cell_type": "code",
   "execution_count": null,
   "metadata": {
    "colab": {
     "base_uri": "https://localhost:8080/",
     "height": 313
    },
    "id": "uaTPdYKLU1KV",
    "outputId": "5265e2a1-abfd-43bb-9d8c-6f58ab03ace4"
   },
   "outputs": [
    {
     "data": {
      "text/plain": [
       "<matplotlib.legend.Legend at 0x7fdc13ec75d0>"
      ]
     },
     "execution_count": 90,
     "metadata": {},
     "output_type": "execute_result"
    },
    {
     "data": {
      "image/png": "[encoded data removed]",
      "text/plain": [
       "<Figure size 432x288 with 1 Axes>"
      ]
     },
     "metadata": {
      "needs_background": "light"
     },
     "output_type": "display_data"
    }
   ],
   "source": [
    "epochs = 12\n",
    "plt.xlabel(\"EPOCHS\")\n",
    "plt.ylabel(\"ACCURACY\")\n",
    "plt.title(\"EPOCHS vs ACCURACY\")\n",
    "plt.plot(list(range(epochs)),accuracies)\n",
    "plt.plot(list(range(epochs)),val_accuracies)\n",
    "plt.legend([\"Train Accuracies\",\"Test Accuracies\"],loc = 'lower right')"
   ]
  },
  {
   "cell_type": "code",
   "execution_count": null,
   "metadata": {
    "id": "KOYTFDuvU1Ne"
   },
   "outputs": [],
   "source": []
  },
  {
   "cell_type": "markdown",
   "metadata": {
    "id": "ahFQX4U7U2Xb"
   },
   "source": [
    "## **DATA AUGUMENTATION**"
   ]
  },
  {
   "cell_type": "code",
   "execution_count": null,
   "metadata": {
    "colab": {
     "base_uri": "https://localhost:8080/"
    },
    "id": "fgVGaqN0n7ei",
    "outputId": "a6bc6133-d3cb-4b21-b94f-d1428b905428"
   },
   "outputs": [
    {
     "name": "stdout",
     "output_type": "stream",
     "text": [
      "1\n"
     ]
    },
    {
     "data": {
      "text/plain": [
       "60000"
      ]
     },
     "execution_count": 22,
     "metadata": {},
     "output_type": "execute_result"
    }
   ],
   "source": [
    "train_pixels,train_labels,test_pixels,test_labels,val_pixels,val_labels = shuffle_data(test_data,data)\n",
    "\n",
    "X_train_augmented = [image for image in train_pixels]\n",
    "y_train_augmented = [image for image in train_labels]\n",
    "\n",
    "len(X_train_augmented)"
   ]
  },
  {
   "cell_type": "code",
   "execution_count": null,
   "metadata": {
    "id": "AJRarmPHn7aa"
   },
   "outputs": [],
   "source": [
    "def shift_image(image, dx, dy):\n",
    "    image = image.reshape((28, 28))\n",
    "    shifted_image = shift(image, [dy, dx], cval=0, mode=\"constant\")\n",
    "    return shifted_image.reshape([-1])"
   ]
  },
  {
   "cell_type": "code",
   "execution_count": null,
   "metadata": {
    "id": "acZQNHGVn7nZ"
   },
   "outputs": [],
   "source": [
    "for dx, dy in ((1,0), (-1,0), (0,1), (0,-1)):\n",
    "  for image, label in zip(train_pixels, train_labels):\n",
    "    X_train_augmented.append(shift_image(image, dx, dy))\n",
    "    y_train_augmented.append(label)\n",
    "          "
   ]
  },
  {
   "cell_type": "markdown",
   "metadata": {},
   "source": [
    "Data size is Increased 4 times which is from 60000 to 300000"
   ]
  },
  {
   "cell_type": "code",
   "execution_count": null,
   "metadata": {
    "colab": {
     "base_uri": "https://localhost:8080/"
    },
    "id": "vTXJ4cMGWdcT",
    "outputId": "1c438cf9-1949-444d-adc6-3a32ca6129de"
   },
   "outputs": [
    {
     "data": {
      "text/plain": [
       "300000"
      ]
     },
     "execution_count": 32,
     "metadata": {},
     "output_type": "execute_result"
    }
   ],
   "source": [
    "len(X_train_augmented)"
   ]
  },
  {
   "cell_type": "code",
   "execution_count": null,
   "metadata": {
    "colab": {
     "base_uri": "https://localhost:8080/"
    },
    "id": "mtjf6L0uW_a4",
    "outputId": "283f7db9-9d72-4820-f6a7-2ad23a986ab7"
   },
   "outputs": [
    {
     "name": "stdout",
     "output_type": "stream",
     "text": [
      "2\n",
      "0\n",
      "Epoch 1/12\n",
      "4688/4688 [==============================] - 458s 98ms/step - loss: 0.3170 - accuracy: 0.8816 - val_loss: 0.2459 - val_accuracy: 0.9081 - lr: 0.0010\n",
      "1\n",
      "Epoch 2/12\n",
      "4688/4688 [==============================] - 441s 94ms/step - loss: 0.2081 - accuracy: 0.9212 - val_loss: 0.2291 - val_accuracy: 0.9158 - lr: 0.0010\n",
      "2\n",
      "Epoch 3/12\n",
      "4688/4688 [==============================] - 502s 107ms/step - loss: 0.1645 - accuracy: 0.9375 - val_loss: 0.2275 - val_accuracy: 0.9239 - lr: 0.0010\n",
      "3\n",
      "Epoch 4/12\n",
      "4688/4688 [==============================] - 445s 95ms/step - loss: 0.1357 - accuracy: 0.9485 - val_loss: 0.2463 - val_accuracy: 0.9229 - lr: 0.0010\n",
      "4\n",
      "Epoch 5/12\n",
      "4688/4688 [==============================] - 451s 96ms/step - loss: 0.1153 - accuracy: 0.9560 - val_loss: 0.2407 - val_accuracy: 0.9281 - lr: 0.0010\n",
      "5\n",
      "Epoch 6/12\n",
      "4688/4688 [==============================] - 450s 96ms/step - loss: 0.1004 - accuracy: 0.9622 - val_loss: 0.2716 - val_accuracy: 0.9219 - lr: 0.0010\n",
      "Epoch 7/12\n",
      "4688/4688 [==============================] - 528s 113ms/step - loss: 0.0830 - accuracy: 0.9683 - val_loss: 0.2973 - val_accuracy: 0.9262 - lr: 9.0484e-04\n",
      "Epoch 8/12\n",
      "4688/4688 [==============================] - 444s 95ms/step - loss: 0.0680 - accuracy: 0.9745 - val_loss: 0.3093 - val_accuracy: 0.9300 - lr: 8.1873e-04\n",
      "Epoch 9/12\n",
      "4688/4688 [==============================] - 446s 95ms/step - loss: 0.0572 - accuracy: 0.9787 - val_loss: 0.3583 - val_accuracy: 0.9277 - lr: 7.4082e-04\n",
      "Epoch 10/12\n",
      "4688/4688 [==============================] - 421s 90ms/step - loss: 0.0489 - accuracy: 0.9819 - val_loss: 0.3592 - val_accuracy: 0.9273 - lr: 6.7032e-04\n",
      "Epoch 11/12\n",
      "4688/4688 [==============================] - 420s 90ms/step - loss: 0.0408 - accuracy: 0.9850 - val_loss: 0.3898 - val_accuracy: 0.9291 - lr: 6.0653e-04\n",
      "Epoch 12/12\n",
      "4688/4688 [==============================] - 423s 90ms/step - loss: 0.0342 - accuracy: 0.9875 - val_loss: 0.4418 - val_accuracy: 0.9296 - lr: 5.4881e-04\n",
      "9375/9375 [==============================] - 137s 15ms/step - loss: 0.0138 - accuracy: 0.9959\n"
     ]
    },
    {
     "data": {
      "text/plain": [
       "[0.013790823519229889, 0.995876669883728]"
      ]
     },
     "execution_count": 33,
     "metadata": {},
     "output_type": "execute_result"
    }
   ],
   "source": [
    "train_pixels,train_labels,test_pixels,test_labels,val_pixels,val_labels = shuffle_data(test_data,data)\n",
    "\n",
    "X_train_augmented1 = np.array(X_train_augmented).reshape((len(X_train_augmented),28,28,1))\n",
    "val_pixels1 = val_pixels.reshape((val_pixels.shape[0],28,28,1))\n",
    "test_pixels1 = test_pixels.reshape((test_pixels.shape[0],28,28,1))\n",
    "\n",
    "y_train_augmented = np.array(y_train_augmented)\n",
    "\n",
    "model = Sequential()\n",
    "callback1 = ES(monitor = 'val_loss', patience = 3)\n",
    "\n",
    "\n",
    "h1_nodes = 1024\n",
    "h2_nodes = 512\n",
    "\n",
    "model.add(Conv2D(64, (3, 3), activation='relu',  kernel_initializer = 'random_uniform', input_shape =(28,28,1)))\n",
    "model.add(MaxPooling2D(pool_size=(3, 3)))\n",
    "model.add(Flatten())\n",
    "model.add(Dense(h1_nodes, kernel_initializer = 'random_uniform', activation='relu'))\n",
    "model.add(Dropout(0.25))\n",
    "model.add(Dense(h2_nodes, kernel_initializer = 'random_uniform', activation='relu'))\n",
    "output_layer = Dense(10, activation='softmax')\n",
    "model.add(output_layer)\n",
    "\n",
    "model.compile(optimizer='adam',loss='sparse_categorical_crossentropy', metrics=['accuracy'])\n",
    "\n",
    "def scheduler(epoch, lr):\n",
    "  if epoch < 6:\n",
    "    print(epoch)\n",
    "    return lr\n",
    "  else:\n",
    "    return lr * np.exp(-0.1)\n",
    "\n",
    "callback = keras.callbacks.LearningRateScheduler(scheduler)\n",
    "\n",
    "m = model.fit(X_train_augmented1, y_train_augmented, epochs = 12, batch_size = 64, callbacks = [callback], verbose = 1, validation_data = (val_pixels1,val_labels))\n",
    "\n",
    "model.evaluate(X_train_augmented1, y_train_augmented)"
   ]
  },
  {
   "cell_type": "code",
   "execution_count": null,
   "metadata": {
    "colab": {
     "base_uri": "https://localhost:8080/"
    },
    "id": "aHDID22FW_dn",
    "outputId": "3f4671d8-c78f-4af0-ffd9-0f188938c699"
   },
   "outputs": [
    {
     "name": "stdout",
     "output_type": "stream",
     "text": [
      "63/63 [==============================] - 1s 14ms/step - loss: 0.4124 - accuracy: 0.9335\n",
      "Test_accuracy:  93.35 %\n"
     ]
    }
   ],
   "source": [
    "test_loss,test_acc = model.evaluate(test_pixels1, test_labels)\n",
    "print(\"Test_accuracy: \",round(test_acc*100,4),'%')"
   ]
  },
  {
   "cell_type": "code",
   "execution_count": null,
   "metadata": {
    "id": "lq8USThhFTRS"
   },
   "outputs": [],
   "source": []
  },
  {
   "cell_type": "markdown",
   "metadata": {
    "id": "7OlBy-847W8S"
   },
   "source": [
    "*REFERENCES*<br>\n",
    "1. https://machinelearningmastery.com/rectified-linear-activation-function-for-deep-learning-neural-networks/#:~:text=The%20rectified%20linear%20activation%20function,otherwise%2C%20it%20will%20output%20zero.\n",
    "2. https://keras.io/api/callbacks/early_stopping/\n",
    "3. https://towardsdatascience.com/improving-accuracy-on-mnist-using-data-augmentation-b5c38eb5a903\n",
    "4. https://www.kaggle.com/code/stefanie04736/simple-keras-model-with-k-fold-cross-validation/notebook"
   ]
  },
  {
   "cell_type": "code",
   "execution_count": null,
   "metadata": {
    "id": "casEv6WTBmcJ"
   },
   "outputs": [],
   "source": []
  }
 ],
 "metadata": {
  "colab": {
   "collapsed_sections": [],
   "name": "rbhaviri_sveesam_part_3.ipynb",
   "provenance": []
  },
  "kernelspec": {
   "display_name": "Python 3 (ipykernel)",
   "language": "python",
   "name": "python3"
  },
  "language_info": {
   "codemirror_mode": {
    "name": "ipython",
    "version": 3
   },
   "file_extension": ".py",
   "mimetype": "text/x-python",
   "name": "python",
   "nbconvert_exporter": "python",
   "pygments_lexer": "ipython3",
   "version": "3.9.7"
  }
 },
 "nbformat": 4,
 "nbformat_minor": 1
}
