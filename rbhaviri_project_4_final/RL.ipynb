{
  "cells": [
    {
      "cell_type": "markdown",
      "metadata": {
        "id": "-f9JFDw_WDW0"
      },
      "source": [
        "\"We certify that the code and data in this assignment were generated independently, using only the tools and resources defined in the course and that we did not receive any external help, coaching or contributions during the production of this work.\"<br>\n",
        "\n",
        "Ram Chandra Bhavirisetty<br>\n",
        "Tejaswi Raavi\n"
      ]
    },
    {
      "cell_type": "markdown",
      "metadata": {
        "id": "Up36IPPoN_xq"
      },
      "source": [
        "## **<center>ASSIGNMENT 4</center>**\n",
        "# **<center>PART  1</center>**\n",
        "**<center>THEME :**\n",
        "**' SNAKE AND LADDER ' GRID WORLD WHERE LADDERS ARE OF POSITIVE REWARD AND SNAKES ARE OF NEGATIVE REWARD.</center>**\n",
        "\n"
      ]
    },
    {
      "cell_type": "markdown",
      "metadata": {
        "id": "fZrkWUgSWy-_"
      },
      "source": [
        "**<center> -------------------------  REQUIRED PACKAGES ARE IMPORTED  ------------------------- </center>**"
      ]
    },
    {
      "cell_type": "code",
      "execution_count": 5,
      "metadata": {
        "id": "NOqSDdGWpc0N"
      },
      "outputs": [],
      "source": [
        "import gym\n",
        "from gym import spaces\n",
        "from google.colab import widgets\n",
        "import time\n",
        "from matplotlib import pyplot as plt\n",
        "import seaborn as sb\n",
        "import numpy as np\n",
        "import pandas as pd"
      ]
    },
    {
      "cell_type": "markdown",
      "metadata": {
        "id": "LzjYmskdXA7t"
      },
      "source": [
        "**<center> -------------------------  GRID WORLD CLASS   ------------------------- <center>**"
      ]
    },
    {
      "cell_type": "code",
      "execution_count": 108,
      "metadata": {
        "id": "HYb7himBU8sI"
      },
      "outputs": [],
      "source": [
        "class Field(gym.Env):\n",
        "\n",
        "  def __init__(self):\n",
        "    self.observation_space = spaces.Discrete(36)\n",
        "    self.action_space = spaces.Discrete(4)\n",
        "    self.max_timesteps = 20\n",
        "\n",
        "  def reset(self):\n",
        "    self.step_count = 0\n",
        "    self.player = [0, 0]\n",
        "    self.ladder1 = [4,0]\n",
        "    self.ladder2 = [2,0]\n",
        "    self.snake1 = [3,2]\n",
        "    self.snake2 = [3,3]\n",
        "    self.goal = [5, 5]\n",
        "    self.field = np.zeros((6,6))\n",
        "    self.field[tuple(self.player)] = 1\n",
        "    self.field[tuple(self.goal)] = 10\n",
        "    self.field[tuple(self.ladder1)] = 7\n",
        "    self.field[tuple(self.ladder2)] = 4\n",
        "    self.field[tuple(self.snake1)] = -1\n",
        "    self.field[tuple(self.snake2)] = -2\n",
        "    self.field_ids = np.array([i for i in range(36)]).reshape((6,6))\n",
        "    self.observation = self.field.flatten()\n",
        "\n",
        "  def step(self, action):\n",
        "    self.field = np.random.choice(self.observation_space.n)\n",
        "    if action == 0:\n",
        "      self.player[0] += 1\n",
        "    if action == 1:\n",
        "      self.player[0] -= 1\n",
        "    if action == 2:\n",
        "      self.player[1] += 1\n",
        "    if action == 3:\n",
        "      self.player[1] -= 1\n",
        "    \n",
        "    self.player = np.clip(self.player, 0, 5)\n",
        "    self.field = np.zeros((6,6))\n",
        "    self.field[tuple(self.player)] = 1\n",
        "    self.field[tuple(self.snake1)] = -3\n",
        "    self.field[tuple(self.snake2)] = -7\n",
        "    self.field[tuple(self.ladder1)] = 4\n",
        "    self.field[tuple(self.ladder2)] = 6\n",
        "    self.field[tuple(self.goal)] = 10\n",
        "    observation = self.field.flatten()\n",
        "    reward = 0\n",
        "    self.step_count += 1\n",
        "    done = True if self.step_count >= self.max_timesteps else False\n",
        "    info = {}\n",
        "    return observation, reward, done, info\n",
        "\n",
        "  def render(self):\n",
        "    sb.heatmap(self.field, annot = True, linewidth = 1, cmap = 'Blues')"
      ]
    },
    {
      "cell_type": "markdown",
      "metadata": {
        "id": "JNWWOh-xX7vA"
      },
      "source": [
        "**<center> -------------------------  RANDOM AGENT   CLASS------------------------- <center>**"
      ]
    },
    {
      "cell_type": "code",
      "execution_count": 109,
      "metadata": {
        "id": "NdLCLzvDF9NU"
      },
      "outputs": [],
      "source": [
        "class randomAgent:\n",
        "  def __init__(self, env):\n",
        "    self.env = env\n",
        "    self.observation_space = env.observation_space\n",
        "    self.action_space = env.action_space\n",
        "\n",
        "  def step(self, observation):\n",
        "    return np.random.choice(self.action_space.n)"
      ]
    },
    {
      "cell_type": "markdown",
      "metadata": {
        "id": "Q3VFoeYbNjmh"
      },
      "source": [
        "**<center> ------------------------- OBJECTS ARE CREATED FOR ENVIRONMENT AND RANDOM AGENT  ------------------------- <center>**"
      ]
    },
    {
      "cell_type": "code",
      "execution_count": 130,
      "metadata": {
        "id": "9mBBo4QxYjzl"
      },
      "outputs": [],
      "source": [
        "env = Field()\n",
        "agent = randomAgent(env)\n",
        "env.reset()"
      ]
    },
    {
      "cell_type": "markdown",
      "metadata": {
        "id": "gs9PJD-oTXw4"
      },
      "source": [
        "**<center> -------------------------  AGENT's TRAVEL WITHIN THE GRID WORLD  ------------------------- <center>**"
      ]
    },
    {
      "cell_type": "code",
      "execution_count": 131,
      "metadata": {
        "colab": {
          "base_uri": "https://localhost:8080/",
          "height": 1000
        },
        "id": "B_lLNgs3GITe",
        "outputId": "c0ac3e10-e385-47b0-ea6f-b0179096b829"
      },
      "outputs": [
        {
          "data": {
            "text/html": [
              "<style>\n",
              "       table#id24, #id24 > tbody > tr > th, #id24 > tbody > tr > td {\n",
              "         border: 1px solid lightgray;\n",
              "         border-collapse:collapse;\n",
              "         \n",
              "        }</style>"
            ],
            "text/plain": [
              "<IPython.core.display.HTML object>"
            ]
          },
          "metadata": {},
          "output_type": "display_data"
        },
        {
          "data": {
            "text/html": [
              "<table id=id24><tr><td id=id24-0-0></td></tr></table>"
            ],
            "text/plain": [
              "<IPython.core.display.HTML object>"
            ]
          },
          "metadata": {},
          "output_type": "display_data"
        },
        {
          "data": {
            "application/javascript": "window[\"c0c6a58c-d0b9-11ec-b4ab-0242ac1c0002\"] = google.colab.output.getActiveOutputArea();\n//# sourceURL=js_cf5c9ba7d9",
            "text/plain": [
              "<IPython.core.display.Javascript object>"
            ]
          },
          "metadata": {},
          "output_type": "display_data"
        },
        {
          "data": {
            "application/javascript": "window[\"c0c6f56e-d0b9-11ec-b4ab-0242ac1c0002\"] = document.querySelector(\"#id24-0-0\");\n//# sourceURL=js_9882814321",
            "text/plain": [
              "<IPython.core.display.Javascript object>"
            ]
          },
          "metadata": {},
          "output_type": "display_data"
        },
        {
          "data": {
            "application/javascript": "window[\"c0c740dc-d0b9-11ec-b4ab-0242ac1c0002\"] = google.colab.output.setActiveOutputArea(window[\"c0c6f56e-d0b9-11ec-b4ab-0242ac1c0002\"]);\n//# sourceURL=js_f6a31bb49a",
            "text/plain": [
              "<IPython.core.display.Javascript object>"
            ]
          },
          "metadata": {},
          "output_type": "display_data"
        },
        {
          "data": {
            "image/png": "[encoded data removed]",
            "text/plain": [
              "<Figure size 432x288 with 2 Axes>"
            ]
          },
          "metadata": {
            "needs_background": "light"
          },
          "output_type": "display_data"
        },
        {
          "data": {
            "application/javascript": "window[\"c0f82666-d0b9-11ec-b4ab-0242ac1c0002\"] = google.colab.output.setActiveOutputArea(window[\"c0c6a58c-d0b9-11ec-b4ab-0242ac1c0002\"]);\n//# sourceURL=js_f8f57e316f",
            "text/plain": [
              "<IPython.core.display.Javascript object>"
            ]
          },
          "metadata": {},
          "output_type": "display_data"
        },
        {
          "data": {
            "application/javascript": "window[\"c0fb0e26-d0b9-11ec-b4ab-0242ac1c0002\"] = google.colab.output.getActiveOutputArea();\n//# sourceURL=js_3884f8a573",
            "text/plain": [
              "<IPython.core.display.Javascript object>"
            ]
          },
          "metadata": {},
          "output_type": "display_data"
        },
        {
          "data": {
            "application/javascript": "window[\"c0fb7dd4-d0b9-11ec-b4ab-0242ac1c0002\"] = document.querySelector(\"#id24-0-0\");\n//# sourceURL=js_f558124ff1",
            "text/plain": [
              "<IPython.core.display.Javascript object>"
            ]
          },
          "metadata": {},
          "output_type": "display_data"
        },
        {
          "data": {
            "application/javascript": "window[\"c0fbf58e-d0b9-11ec-b4ab-0242ac1c0002\"] = google.colab.output.setActiveOutputArea(window[\"c0fb7dd4-d0b9-11ec-b4ab-0242ac1c0002\"]);\n//# sourceURL=js_76e6a40eda",
            "text/plain": [
              "<IPython.core.display.Javascript object>"
            ]
          },
          "metadata": {},
          "output_type": "display_data"
        },
        {
          "data": {
            "image/png": "[encoded data removed]",
            "text/plain": [
              "<Figure size 432x288 with 2 Axes>"
            ]
          },
          "metadata": {
            "needs_background": "light"
          },
          "output_type": "display_data"
        },
        {
          "data": {
            "application/javascript": "window[\"c12b29ee-d0b9-11ec-b4ab-0242ac1c0002\"] = google.colab.output.setActiveOutputArea(window[\"c0fb0e26-d0b9-11ec-b4ab-0242ac1c0002\"]);\n//# sourceURL=js_005f374676",
            "text/plain": [
              "<IPython.core.display.Javascript object>"
            ]
          },
          "metadata": {},
          "output_type": "display_data"
        },
        {
          "data": {
            "application/javascript": "window[\"c1c5f5a0-d0b9-11ec-b4ab-0242ac1c0002\"] = google.colab.output.getActiveOutputArea();\n//# sourceURL=js_a0e06d32ad",
            "text/plain": [
              "<IPython.core.display.Javascript object>"
            ]
          },
          "metadata": {},
          "output_type": "display_data"
        },
        {
          "data": {
            "application/javascript": "window[\"c1c6500e-d0b9-11ec-b4ab-0242ac1c0002\"] = document.querySelector(\"#id24-0-0\");\n//# sourceURL=js_82366b8ee3",
            "text/plain": [
              "<IPython.core.display.Javascript object>"
            ]
          },
          "metadata": {},
          "output_type": "display_data"
        },
        {
          "data": {
            "application/javascript": "window[\"c1c6d45c-d0b9-11ec-b4ab-0242ac1c0002\"] = google.colab.output.setActiveOutputArea(window[\"c1c6500e-d0b9-11ec-b4ab-0242ac1c0002\"]);\n//# sourceURL=js_14aa1d132f",
            "text/plain": [
              "<IPython.core.display.Javascript object>"
            ]
          },
          "metadata": {},
          "output_type": "display_data"
        },
        {
          "data": {
            "image/png": "[encoded data removed]",
            "text/plain": [
              "<Figure size 432x288 with 2 Axes>"
            ]
          },
          "metadata": {
            "needs_background": "light"
          },
          "output_type": "display_data"
        },
        {
          "data": {
            "application/javascript": "window[\"c1f8fe64-d0b9-11ec-b4ab-0242ac1c0002\"] = google.colab.output.setActiveOutputArea(window[\"c1c5f5a0-d0b9-11ec-b4ab-0242ac1c0002\"]);\n//# sourceURL=js_0df81b82a0",
            "text/plain": [
              "<IPython.core.display.Javascript object>"
            ]
          },
          "metadata": {},
          "output_type": "display_data"
        },
        {
          "data": {
            "application/javascript": "window[\"c2943014-d0b9-11ec-b4ab-0242ac1c0002\"] = google.colab.output.getActiveOutputArea();\n//# sourceURL=js_887ec44d76",
            "text/plain": [
              "<IPython.core.display.Javascript object>"
            ]
          },
          "metadata": {},
          "output_type": "display_data"
        },
        {
          "data": {
            "application/javascript": "window[\"c294939c-d0b9-11ec-b4ab-0242ac1c0002\"] = document.querySelector(\"#id24-0-0\");\n//# sourceURL=js_bf3fb1a8f9",
            "text/plain": [
              "<IPython.core.display.Javascript object>"
            ]
          },
          "metadata": {},
          "output_type": "display_data"
        },
        {
          "data": {
            "application/javascript": "window[\"c294f15c-d0b9-11ec-b4ab-0242ac1c0002\"] = google.colab.output.setActiveOutputArea(window[\"c294939c-d0b9-11ec-b4ab-0242ac1c0002\"]);\n//# sourceURL=js_c1b74105f3",
            "text/plain": [
              "<IPython.core.display.Javascript object>"
            ]
          },
          "metadata": {},
          "output_type": "display_data"
        },
        {
          "data": {
            "image/png": "[encoded data removed]",
            "text/plain": [
              "<Figure size 432x288 with 2 Axes>"
            ]
          },
          "metadata": {
            "needs_background": "light"
          },
          "output_type": "display_data"
        },
        {
          "data": {
            "application/javascript": "window[\"c2c6b05c-d0b9-11ec-b4ab-0242ac1c0002\"] = google.colab.output.setActiveOutputArea(window[\"c2943014-d0b9-11ec-b4ab-0242ac1c0002\"]);\n//# sourceURL=js_15b6bd1a87",
            "text/plain": [
              "<IPython.core.display.Javascript object>"
            ]
          },
          "metadata": {},
          "output_type": "display_data"
        },
        {
          "data": {
            "application/javascript": "window[\"c361da82-d0b9-11ec-b4ab-0242ac1c0002\"] = google.colab.output.getActiveOutputArea();\n//# sourceURL=js_2288a045da",
            "text/plain": [
              "<IPython.core.display.Javascript object>"
            ]
          },
          "metadata": {},
          "output_type": "display_data"
        },
        {
          "data": {
            "application/javascript": "window[\"c3623112-d0b9-11ec-b4ab-0242ac1c0002\"] = document.querySelector(\"#id24-0-0\");\n//# sourceURL=js_452cc6e3ce",
            "text/plain": [
              "<IPython.core.display.Javascript object>"
            ]
          },
          "metadata": {},
          "output_type": "display_data"
        },
        {
          "data": {
            "application/javascript": "window[\"c3629936-d0b9-11ec-b4ab-0242ac1c0002\"] = google.colab.output.setActiveOutputArea(window[\"c3623112-d0b9-11ec-b4ab-0242ac1c0002\"]);\n//# sourceURL=js_a9ed83d038",
            "text/plain": [
              "<IPython.core.display.Javascript object>"
            ]
          },
          "metadata": {},
          "output_type": "display_data"
        },
        {
          "data": {
            "image/png": "[encoded data removed]",
            "text/plain": [
              "<Figure size 432x288 with 2 Axes>"
            ]
          },
          "metadata": {
            "needs_background": "light"
          },
          "output_type": "display_data"
        },
        {
          "data": {
            "application/javascript": "window[\"c3aa13a6-d0b9-11ec-b4ab-0242ac1c0002\"] = google.colab.output.setActiveOutputArea(window[\"c361da82-d0b9-11ec-b4ab-0242ac1c0002\"]);\n//# sourceURL=js_75e58c4965",
            "text/plain": [
              "<IPython.core.display.Javascript object>"
            ]
          },
          "metadata": {},
          "output_type": "display_data"
        },
        {
          "data": {
            "application/javascript": "window[\"c444be60-d0b9-11ec-b4ab-0242ac1c0002\"] = google.colab.output.getActiveOutputArea();\n//# sourceURL=js_3e4471e399",
            "text/plain": [
              "<IPython.core.display.Javascript object>"
            ]
          },
          "metadata": {},
          "output_type": "display_data"
        },
        {
          "data": {
            "application/javascript": "window[\"c4452206-d0b9-11ec-b4ab-0242ac1c0002\"] = document.querySelector(\"#id24-0-0\");\n//# sourceURL=js_a5c4694ddb",
            "text/plain": [
              "<IPython.core.display.Javascript object>"
            ]
          },
          "metadata": {},
          "output_type": "display_data"
        },
        {
          "data": {
            "application/javascript": "window[\"c4459b32-d0b9-11ec-b4ab-0242ac1c0002\"] = google.colab.output.setActiveOutputArea(window[\"c4452206-d0b9-11ec-b4ab-0242ac1c0002\"]);\n//# sourceURL=js_fabadf6f24",
            "text/plain": [
              "<IPython.core.display.Javascript object>"
            ]
          },
          "metadata": {},
          "output_type": "display_data"
        },
        {
          "data": {
            "image/png": "[encoded data removed]",
            "text/plain": [
              "<Figure size 432x288 with 2 Axes>"
            ]
          },
          "metadata": {
            "needs_background": "light"
          },
          "output_type": "display_data"
        },
        {
          "data": {
            "application/javascript": "window[\"c47bb050-d0b9-11ec-b4ab-0242ac1c0002\"] = google.colab.output.setActiveOutputArea(window[\"c444be60-d0b9-11ec-b4ab-0242ac1c0002\"]);\n//# sourceURL=js_5a16c019fb",
            "text/plain": [
              "<IPython.core.display.Javascript object>"
            ]
          },
          "metadata": {},
          "output_type": "display_data"
        },
        {
          "data": {
            "application/javascript": "window[\"c518c688-d0b9-11ec-b4ab-0242ac1c0002\"] = google.colab.output.getActiveOutputArea();\n//# sourceURL=js_b9a5fadf16",
            "text/plain": [
              "<IPython.core.display.Javascript object>"
            ]
          },
          "metadata": {},
          "output_type": "display_data"
        },
        {
          "data": {
            "application/javascript": "window[\"c5191aa2-d0b9-11ec-b4ab-0242ac1c0002\"] = document.querySelector(\"#id24-0-0\");\n//# sourceURL=js_b8d7aea101",
            "text/plain": [
              "<IPython.core.display.Javascript object>"
            ]
          },
          "metadata": {},
          "output_type": "display_data"
        },
        {
          "data": {
            "application/javascript": "window[\"c519734e-d0b9-11ec-b4ab-0242ac1c0002\"] = google.colab.output.setActiveOutputArea(window[\"c5191aa2-d0b9-11ec-b4ab-0242ac1c0002\"]);\n//# sourceURL=js_61df494428",
            "text/plain": [
              "<IPython.core.display.Javascript object>"
            ]
          },
          "metadata": {},
          "output_type": "display_data"
        },
        {
          "data": {
            "image/png": "[encoded data removed]",
            "text/plain": [
              "<Figure size 432x288 with 2 Axes>"
            ]
          },
          "metadata": {
            "needs_background": "light"
          },
          "output_type": "display_data"
        },
        {
          "data": {
            "application/javascript": "window[\"c54e9bfa-d0b9-11ec-b4ab-0242ac1c0002\"] = google.colab.output.setActiveOutputArea(window[\"c518c688-d0b9-11ec-b4ab-0242ac1c0002\"]);\n//# sourceURL=js_c528804371",
            "text/plain": [
              "<IPython.core.display.Javascript object>"
            ]
          },
          "metadata": {},
          "output_type": "display_data"
        },
        {
          "data": {
            "application/javascript": "window[\"c5eaf1b2-d0b9-11ec-b4ab-0242ac1c0002\"] = google.colab.output.getActiveOutputArea();\n//# sourceURL=js_dd17461801",
            "text/plain": [
              "<IPython.core.display.Javascript object>"
            ]
          },
          "metadata": {},
          "output_type": "display_data"
        },
        {
          "data": {
            "application/javascript": "window[\"c5eb639a-d0b9-11ec-b4ab-0242ac1c0002\"] = document.querySelector(\"#id24-0-0\");\n//# sourceURL=js_43664ad370",
            "text/plain": [
              "<IPython.core.display.Javascript object>"
            ]
          },
          "metadata": {},
          "output_type": "display_data"
        },
        {
          "data": {
            "application/javascript": "window[\"c5ebd58c-d0b9-11ec-b4ab-0242ac1c0002\"] = google.colab.output.setActiveOutputArea(window[\"c5eb639a-d0b9-11ec-b4ab-0242ac1c0002\"]);\n//# sourceURL=js_ae6ef6b773",
            "text/plain": [
              "<IPython.core.display.Javascript object>"
            ]
          },
          "metadata": {},
          "output_type": "display_data"
        },
        {
          "data": {
            "image/png": "[encoded data removed]",
            "text/plain": [
              "<Figure size 432x288 with 2 Axes>"
            ]
          },
          "metadata": {
            "needs_background": "light"
          },
          "output_type": "display_data"
        },
        {
          "data": {
            "application/javascript": "window[\"c61d2aba-d0b9-11ec-b4ab-0242ac1c0002\"] = google.colab.output.setActiveOutputArea(window[\"c5eaf1b2-d0b9-11ec-b4ab-0242ac1c0002\"]);\n//# sourceURL=js_14b9a14881",
            "text/plain": [
              "<IPython.core.display.Javascript object>"
            ]
          },
          "metadata": {},
          "output_type": "display_data"
        },
        {
          "data": {
            "application/javascript": "window[\"c6b7f64e-d0b9-11ec-b4ab-0242ac1c0002\"] = google.colab.output.getActiveOutputArea();\n//# sourceURL=js_21907f0ce9",
            "text/plain": [
              "<IPython.core.display.Javascript object>"
            ]
          },
          "metadata": {},
          "output_type": "display_data"
        },
        {
          "data": {
            "application/javascript": "window[\"c6b836c2-d0b9-11ec-b4ab-0242ac1c0002\"] = document.querySelector(\"#id24-0-0\");\n//# sourceURL=js_6292605082",
            "text/plain": [
              "<IPython.core.display.Javascript object>"
            ]
          },
          "metadata": {},
          "output_type": "display_data"
        },
        {
          "data": {
            "application/javascript": "window[\"c6b87060-d0b9-11ec-b4ab-0242ac1c0002\"] = google.colab.output.setActiveOutputArea(window[\"c6b836c2-d0b9-11ec-b4ab-0242ac1c0002\"]);\n//# sourceURL=js_447045c793",
            "text/plain": [
              "<IPython.core.display.Javascript object>"
            ]
          },
          "metadata": {},
          "output_type": "display_data"
        },
        {
          "data": {
            "image/png": "[encoded data removed]",
            "text/plain": [
              "<Figure size 432x288 with 2 Axes>"
            ]
          },
          "metadata": {
            "needs_background": "light"
          },
          "output_type": "display_data"
        },
        {
          "data": {
            "application/javascript": "window[\"c6eb882e-d0b9-11ec-b4ab-0242ac1c0002\"] = google.colab.output.setActiveOutputArea(window[\"c6b7f64e-d0b9-11ec-b4ab-0242ac1c0002\"]);\n//# sourceURL=js_b8881395d9",
            "text/plain": [
              "<IPython.core.display.Javascript object>"
            ]
          },
          "metadata": {},
          "output_type": "display_data"
        },
        {
          "data": {
            "application/javascript": "window[\"c7869bfc-d0b9-11ec-b4ab-0242ac1c0002\"] = google.colab.output.getActiveOutputArea();\n//# sourceURL=js_386599304b",
            "text/plain": [
              "<IPython.core.display.Javascript object>"
            ]
          },
          "metadata": {},
          "output_type": "display_data"
        },
        {
          "data": {
            "application/javascript": "window[\"c7874282-d0b9-11ec-b4ab-0242ac1c0002\"] = document.querySelector(\"#id24-0-0\");\n//# sourceURL=js_90fd353663",
            "text/plain": [
              "<IPython.core.display.Javascript object>"
            ]
          },
          "metadata": {},
          "output_type": "display_data"
        },
        {
          "data": {
            "application/javascript": "window[\"c787b906-d0b9-11ec-b4ab-0242ac1c0002\"] = google.colab.output.setActiveOutputArea(window[\"c7874282-d0b9-11ec-b4ab-0242ac1c0002\"]);\n//# sourceURL=js_25177b7f6d",
            "text/plain": [
              "<IPython.core.display.Javascript object>"
            ]
          },
          "metadata": {},
          "output_type": "display_data"
        },
        {
          "data": {
            "image/png": "[encoded data removed]",
            "text/plain": [
              "<Figure size 432x288 with 2 Axes>"
            ]
          },
          "metadata": {
            "needs_background": "light"
          },
          "output_type": "display_data"
        },
        {
          "data": {
            "application/javascript": "window[\"c7bafc4e-d0b9-11ec-b4ab-0242ac1c0002\"] = google.colab.output.setActiveOutputArea(window[\"c7869bfc-d0b9-11ec-b4ab-0242ac1c0002\"]);\n//# sourceURL=js_5d929fddfe",
            "text/plain": [
              "<IPython.core.display.Javascript object>"
            ]
          },
          "metadata": {},
          "output_type": "display_data"
        },
        {
          "data": {
            "application/javascript": "window[\"c855d6ce-d0b9-11ec-b4ab-0242ac1c0002\"] = google.colab.output.getActiveOutputArea();\n//# sourceURL=js_b61c82ae9c",
            "text/plain": [
              "<IPython.core.display.Javascript object>"
            ]
          },
          "metadata": {},
          "output_type": "display_data"
        },
        {
          "data": {
            "application/javascript": "window[\"c85638d0-d0b9-11ec-b4ab-0242ac1c0002\"] = document.querySelector(\"#id24-0-0\");\n//# sourceURL=js_4d06b947d0",
            "text/plain": [
              "<IPython.core.display.Javascript object>"
            ]
          },
          "metadata": {},
          "output_type": "display_data"
        },
        {
          "data": {
            "application/javascript": "window[\"c8569bc2-d0b9-11ec-b4ab-0242ac1c0002\"] = google.colab.output.setActiveOutputArea(window[\"c85638d0-d0b9-11ec-b4ab-0242ac1c0002\"]);\n//# sourceURL=js_0a23dd97f7",
            "text/plain": [
              "<IPython.core.display.Javascript object>"
            ]
          },
          "metadata": {},
          "output_type": "display_data"
        },
        {
          "data": {
            "image/png": "[encoded data removed]",
            "text/plain": [
              "<Figure size 432x288 with 2 Axes>"
            ]
          },
          "metadata": {
            "needs_background": "light"
          },
          "output_type": "display_data"
        },
        {
          "data": {
            "application/javascript": "window[\"c888d236-d0b9-11ec-b4ab-0242ac1c0002\"] = google.colab.output.setActiveOutputArea(window[\"c855d6ce-d0b9-11ec-b4ab-0242ac1c0002\"]);\n//# sourceURL=js_b61d7be5d8",
            "text/plain": [
              "<IPython.core.display.Javascript object>"
            ]
          },
          "metadata": {},
          "output_type": "display_data"
        }
      ],
      "source": [
        "done = False\n",
        "observation = 0\n",
        "output_grid = widgets.Grid(1, 1)\n",
        "with output_grid.output_to(0, 0):\n",
        "  env.render()\n",
        "while not done:\n",
        "  action = agent.step(observation)\n",
        "  observation, reward, done, info = env.step(action)\n",
        "  with output_grid.output_to(0, 0):\n",
        "    env.render()\n",
        "  time.sleep(1)"
      ]
    },
    {
      "cell_type": "markdown",
      "metadata": {
        "id": "bVN3RCPIPjw9"
      },
      "source": [
        "**<center>  ----------------------------- ' SNAKE & LADDER ' GRID WORLD REPRESENTATION     -----------------------------    </center>**"
      ]
    },
    {
      "cell_type": "code",
      "execution_count": 132,
      "metadata": {
        "colab": {
          "base_uri": "https://localhost:8080/",
          "height": 448
        },
        "id": "eoIJSuDVgtp9",
        "outputId": "2713cee1-c42a-4bab-cdeb-a73c2523d2d5"
      },
      "outputs": [
        {
          "data": {
            "application/javascript": "window[\"238cafbc-d0bb-11ec-b4ab-0242ac1c0002\"] = google.colab.output.getActiveOutputArea();\n//# sourceURL=js_835eeb040d",
            "text/plain": [
              "<IPython.core.display.Javascript object>"
            ]
          },
          "metadata": {},
          "output_type": "display_data"
        },
        {
          "data": {
            "application/javascript": "window[\"238d1f9c-d0bb-11ec-b4ab-0242ac1c0002\"] = document.querySelector(\"#id24-0-0\");\n//# sourceURL=js_76959d620f",
            "text/plain": [
              "<IPython.core.display.Javascript object>"
            ]
          },
          "metadata": {},
          "output_type": "display_data"
        },
        {
          "data": {
            "application/javascript": "window[\"238da00c-d0bb-11ec-b4ab-0242ac1c0002\"] = google.colab.output.setActiveOutputArea(window[\"238d1f9c-d0bb-11ec-b4ab-0242ac1c0002\"]);\n//# sourceURL=js_5af051aca6",
            "text/plain": [
              "<IPython.core.display.Javascript object>"
            ]
          },
          "metadata": {},
          "output_type": "display_data"
        },
        {
          "name": "stdout",
          "output_type": "stream",
          "text": [
            "NUMERICAL REPRESENTATION\n",
            "\n",
            "[[ 1.  0.  0.  0.  0.  0.]\n",
            " [ 0.  0.  0.  0.  0.  0.]\n",
            " [ 4.  0.  0. -2.  0.  0.]\n",
            " [ 0. -1.  0.  0.  0.  0.]\n",
            " [ 7.  0.  0.  0.  0.  0.]\n",
            " [ 0.  0.  0.  0.  0. 10.]]\n",
            "\n",
            "GRAPHICAL REPRESENTATION\n"
          ]
        },
        {
          "data": {
            "image/png": "[encoded data removed]",
            "text/plain": [
              "<Figure size 432x288 with 2 Axes>"
            ]
          },
          "metadata": {
            "needs_background": "light"
          },
          "output_type": "display_data"
        },
        {
          "data": {
            "application/javascript": "window[\"23befd8c-d0bb-11ec-b4ab-0242ac1c0002\"] = google.colab.output.setActiveOutputArea(window[\"238cafbc-d0bb-11ec-b4ab-0242ac1c0002\"]);\n//# sourceURL=js_0d5fe1db04",
            "text/plain": [
              "<IPython.core.display.Javascript object>"
            ]
          },
          "metadata": {},
          "output_type": "display_data"
        }
      ],
      "source": [
        "\n",
        "with output_grid.output_to(0, 0):\n",
        "  output_grid.clear_cell()\n",
        "  env.reset()\n",
        "  print(\"NUMERICAL REPRESENTATION\\n\")\n",
        "  print(env.field)\n",
        "  print(\"\\nGRAPHICAL REPRESENTATION\")\n",
        "  env.render()"
      ]
    },
    {
      "cell_type": "markdown",
      "metadata": {
        "id": "lTA7nJeeYuE6"
      },
      "source": [
        "## **<center>PART  2</center>**"
      ]
    },
    {
      "cell_type": "markdown",
      "metadata": {
        "id": "qlB1iUwxCtDh"
      },
      "source": [
        "**<center> ----------------------- CREATING 'SNAKE & LADDER' GRID WORLD  -----------------------</center>**"
      ]
    },
    {
      "cell_type": "code",
      "execution_count": 18,
      "metadata": {
        "id": "mmN2NRFPyWux"
      },
      "outputs": [],
      "source": [
        "class Field(gym.Env):\n",
        "  metadata = { 'render.modes': []}\n",
        "\n",
        "  def __init__(self):\n",
        "    self.observation_space = spaces.Discrete(36)\n",
        "    self.action_space = spaces.Discrete(4)\n",
        "    self.max_timesteps = 110\n",
        "\n",
        "  def reset(self):\n",
        "    self.step_count = 0\n",
        "    self.player = [0, 0]\n",
        "    self.ladder1 = [4,0]\n",
        "    self.ladder2 = [2,0]\n",
        "    self.snake1 = [3,2]\n",
        "    self.snake2 = [3,3]\n",
        "    self.goal = [5, 5]\n",
        "    self.field = np.zeros((6,6))\n",
        "    self.field[tuple(self.player)] = 1\n",
        "    self.field[tuple(self.goal)] = 10\n",
        "    self.field[tuple(self.ladder1)] = 7\n",
        "    self.field[tuple(self.ladder2)] = 4\n",
        "    self.field[tuple(self.snake1)] = -1\n",
        "    self.field[tuple(self.snake2)] = -2\n",
        "    self.field_ids = np.array([i for i in range(36)]).reshape((6,6))\n",
        "    self.observation = self.field.flatten()\n",
        "\n",
        "  def step(self, action):\n",
        "    self.field = np.random.choice(self.observation_space.n)\n",
        "    #[0,1,2,3],['UP','DOWN','RIGHT','LEFT']\n",
        "    if action == 0:\n",
        "      self.player[1] += 1\n",
        "    if action == 1:\n",
        "      self.player[1] -= 1\n",
        "    if action == 2:\n",
        "      self.player[0] += 1\n",
        "    if action == 3:\n",
        "      self.player[0] -= 1\n",
        "\n",
        "    self.player = np.clip(self.player, 0, 5)\n",
        "    self.field = np.zeros((6,6))\n",
        "    self.field[tuple(self.player)] = 1\n",
        "    self.field[tuple(self.goal)] = 10\n",
        "    self.field[tuple(self.ladder1)] = 7\n",
        "    self.field[tuple(self.ladder2)] = 4\n",
        "    self.field[tuple(self.snake1)] = -1\n",
        "    self.field[tuple(self.snake2)] = -2\n",
        "    observation = self.field.flatten()\n",
        "    self.step_count += 1    \n",
        "    info = {}\n",
        "    state = self.field_ids[tuple(self.player)]\n",
        "    reward = self.observation[state] \n",
        "    done = True if (state == 35) or (env.step_count >= env.max_timesteps) else False\n",
        "    return reward, done, int(state), info\n",
        "\n",
        "  def render(self):\n",
        "    sb.heatmap(self.field, annot = True, linewidth = 1, cmap = 'Blues')"
      ]
    },
    {
      "cell_type": "markdown",
      "metadata": {
        "id": "emVFhBSECnhY"
      },
      "source": [
        "**<center>  -------------------------  *SARSA IMPLEMENTATION* ------------------------- <center>**"
      ]
    },
    {
      "cell_type": "code",
      "execution_count": 19,
      "metadata": {
        "id": "ctIwU5aZROGJ"
      },
      "outputs": [],
      "source": [
        "class randomAgent():\n",
        "  def __init__(self,env):\n",
        "    self.actions = env.action_space\n",
        "    self.states = env.field\n",
        "    self.epsilon = 1\n",
        "    self.alpha = 0.9\n",
        "    self.gamma = 0.7\n",
        "    self.Q = np.zeros((36,4))\n",
        "  \n",
        "  def think(self,state):\n",
        "    action = 0\n",
        "    if np.random.uniform(0,1) < self.epsilon:\n",
        "      action = self.actions.sample()\n",
        "    else:\n",
        "      action = np.argmax(self.Q[state,:])\n",
        "    return action\n",
        "  \n",
        "  def q_update(self,state,action,state2,action2,reward):\n",
        "    pred = self.Q[state,action]\n",
        "    future_rwd = reward + self.gamma * self.Q[state2,action2]\n",
        "    self.Q[state,action] = self.Q[state,action] + self.alpha*(future_rwd - pred)\n"
      ]
    },
    {
      "cell_type": "markdown",
      "metadata": {
        "id": "h1qxnSIOX4w0"
      },
      "source": [
        "**<center>------------------  TRAINING THE AGENT ------------------ <br> EPISODES = 10000 || EPSILON = 0.9 || ALPHA = 0.9 || GAMMA = 0.7 <center>**"
      ]
    },
    {
      "cell_type": "code",
      "execution_count": 20,
      "metadata": {
        "id": "nwr6AukRRRT2"
      },
      "outputs": [],
      "source": [
        "env = Field()\n",
        "env.reset()\n",
        "agent = randomAgent(env)"
      ]
    },
    {
      "cell_type": "code",
      "execution_count": 21,
      "metadata": {
        "colab": {
          "base_uri": "https://localhost:8080/"
        },
        "id": "SJaLe7B_sWwF",
        "outputId": "4499ee76-10e7-4927-985b-bab5ef9b7017"
      },
      "outputs": [
        {
          "name": "stdout",
          "output_type": "stream",
          "text": [
            "TRAINING STARTED\n",
            "---------------------------\n",
            "TRAINING ENDED\n"
          ]
        }
      ],
      "source": [
        "state = env.field[tuple([0,0])]\n",
        "epsilon_values = []\n",
        "penalities = []\n",
        "no_of_times_acheived_goal = []\n",
        "rewardslist = []\n",
        "average_timesteps = []\n",
        "acheived_goal = 0\n",
        "pnlty = 0\n",
        "episodes = 10000\n",
        "\n",
        "print(\"TRAINING STARTED\")\n",
        "\n",
        "for i in range(episodes):\n",
        "  env.reset()\n",
        "  done = False\n",
        "  state = 0\n",
        "  total_reward = 0\n",
        "  action = agent.think(state)\n",
        "\n",
        "  while not done:\n",
        "    reward,done,state2,info = env.step(action)\n",
        "    if state2 in [env.field_ids[tuple(env.snake1)], env.field_ids[tuple(env.snake2)]]:\n",
        "      pnlty+=1    \n",
        "    if state2 == 35:\n",
        "      acheived_goal+=1\n",
        "\n",
        "    action2 = agent.think(state2)\n",
        "    agent.q_update(state,action,state2,action2,reward)\n",
        "    state = state2\n",
        "    action = action2\n",
        "    agent.epsilon = 0.01 + (0.99)*np.exp(-0.001*i)\n",
        "    total_reward = total_reward + reward    \n",
        "    if done:\n",
        "      break\n",
        "  epsilon_values.append(agent.epsilon)\n",
        "  p = (env.step_count/env.max_timesteps)*100\n",
        "  average_timesteps.append(p)\n",
        "  check_100 = (i+1) % 100\n",
        "  if not check_100:   \n",
        "    #print(\"inininin\") \n",
        "    penalities.append(pnlty)\n",
        "    pnlty = 0\n",
        "    no_of_times_acheived_goal.append(acheived_goal)\n",
        "    acheived_goal = 0\n",
        "  rewardslist.append(total_reward)\n",
        "\n",
        "print('---------------------------')\n",
        "print(\"TRAINING ENDED\")"
      ]
    },
    {
      "cell_type": "markdown",
      "metadata": {
        "id": "2zLTQxXLXn4l"
      },
      "source": [
        "**<center> --------------------------- *PLOTTING TOTAL REWARDS PER EPISODE* --------------------------- </center>**"
      ]
    },
    {
      "cell_type": "code",
      "execution_count": 22,
      "metadata": {
        "colab": {
          "base_uri": "https://localhost:8080/",
          "height": 313
        },
        "id": "sxK0xSIrn4rP",
        "outputId": "af3bfd49-ae5c-4a1d-890a-c6677bc2a40a"
      },
      "outputs": [
        {
          "data": {
            "text/plain": [
              "Text(0, 0.5, 'TOTAL_REWARD PER EPISODE ')"
            ]
          },
          "execution_count": 22,
          "metadata": {},
          "output_type": "execute_result"
        },
        {
          "data": {
            "image/png": "[encoded data removed]",
            "text/plain": [
              "<Figure size 432x288 with 1 Axes>"
            ]
          },
          "metadata": {
            "needs_background": "light"
          },
          "output_type": "display_data"
        }
      ],
      "source": [
        "plt.plot(list(range(episodes)),rewardslist)\n",
        "plt.title(\"TOTAL_REWARD vs EPISODE\")\n",
        "plt.xlabel(\"EPISODE\")\n",
        "plt.ylabel(\"TOTAL_REWARD PER EPISODE \")"
      ]
    },
    {
      "cell_type": "markdown",
      "metadata": {
        "id": "JX0X6z6aWmNF"
      },
      "source": [
        "**<center> --------------------------- *PLOTTING EPSILON DECAY PER EPISODE* --------------------------- </center>**"
      ]
    },
    {
      "cell_type": "code",
      "execution_count": 23,
      "metadata": {
        "colab": {
          "base_uri": "https://localhost:8080/",
          "height": 313
        },
        "id": "HEe4YcJwCa9T",
        "outputId": "96354612-98d9-49b3-d43b-d2b5f2aa7efc"
      },
      "outputs": [
        {
          "data": {
            "text/plain": [
              "Text(0.5, 0, 'EPISODE')"
            ]
          },
          "execution_count": 23,
          "metadata": {},
          "output_type": "execute_result"
        },
        {
          "data": {
            "image/png": "[encoded data removed]",
            "text/plain": [
              "<Figure size 432x288 with 1 Axes>"
            ]
          },
          "metadata": {
            "needs_background": "light"
          },
          "output_type": "display_data"
        }
      ],
      "source": [
        "plt.plot(list(range(episodes)),epsilon_values)\n",
        "plt.title(\"EPSILON DECAY vs EPISODE\")\n",
        "plt.ylabel(\"EPSILON VALUES \")\n",
        "plt.xlabel(\"EPISODE\")"
      ]
    },
    {
      "cell_type": "markdown",
      "metadata": {
        "id": "YlVTbnTJ3JUL"
      },
      "source": [
        "**<center> --------------------------- PLOTTING AVERAGE NUMBER OF TIMESTEPS PER EPISODE  --------------------------- </center>**"
      ]
    },
    {
      "cell_type": "code",
      "execution_count": 37,
      "metadata": {
        "colab": {
          "base_uri": "https://localhost:8080/",
          "height": 313
        },
        "id": "8WTa1oCpnlvf",
        "outputId": "5fcfb381-500d-4555-eadb-91bebf0503d2"
      },
      "outputs": [
        {
          "data": {
            "text/plain": [
              "Text(0, 0.5, 'AVERAGE NO.OF TIMESTEPS')"
            ]
          },
          "execution_count": 37,
          "metadata": {},
          "output_type": "execute_result"
        },
        {
          "data": {
            "image/png": "[encoded data removed]",
            "text/plain": [
              "<Figure size 432x288 with 1 Axes>"
            ]
          },
          "metadata": {
            "needs_background": "light"
          },
          "output_type": "display_data"
        }
      ],
      "source": [
        "plt.plot(list(range(len(average_timesteps))),average_timesteps)\n",
        "plt.title(\"AVERAGE NO.OF TIMESTEPS vs EPISODES\")\n",
        "plt.xlabel(\"EPISODES\")\n",
        "plt.ylabel(\"AVERAGE NO.OF TIMESTEPS\")"
      ]
    },
    {
      "cell_type": "markdown",
      "metadata": {
        "id": "Z-Yv8ChC3Aaa"
      },
      "source": [
        "**<center> --------------------------- PLOTTING NUMBER OF TIMES AGENT GOT PENALITY PER EPISODE FOR EVERY 100 EPISODES  --------------------------- </center>**"
      ]
    },
    {
      "cell_type": "code",
      "execution_count": 36,
      "metadata": {
        "colab": {
          "base_uri": "https://localhost:8080/",
          "height": 313
        },
        "id": "KuexRbT8qWNo",
        "outputId": "a7772448-25b5-4c45-9c6f-a2c643ffd329"
      },
      "outputs": [
        {
          "data": {
            "text/plain": [
              "Text(0, 0.5, 'NO.OF TIMES AGENT GOT PENALITY')"
            ]
          },
          "execution_count": 36,
          "metadata": {},
          "output_type": "execute_result"
        },
        {
          "data": {
            "image/png": "[encoded data removed]",
            "text/plain": [
              "<Figure size 432x288 with 1 Axes>"
            ]
          },
          "metadata": {
            "needs_background": "light"
          },
          "output_type": "display_data"
        }
      ],
      "source": [
        "episodes_count = list(range(len(penalities)))\n",
        "plt.plot(episodes_count,penalities)\n",
        "plt.title(\"NO.OF TIMES AGENT GOT PENALITY vs EPISODES\")\n",
        "plt.xlabel(\"EPISODES\")\n",
        "plt.ylabel(\"NO.OF TIMES AGENT GOT PENALITY\")"
      ]
    },
    {
      "cell_type": "markdown",
      "metadata": {
        "id": "fGHYq7U1wB58"
      },
      "source": [
        "**<center> --------------------------- PLOTTING NUMBER OF TIMES AGENT ACHIEVED GOAL PER EPISODE FOR EVERY 100 EPISODES  --------------------------- </center>**"
      ]
    },
    {
      "cell_type": "code",
      "execution_count": 35,
      "metadata": {
        "colab": {
          "base_uri": "https://localhost:8080/",
          "height": 313
        },
        "id": "jf2qvAT9fcow",
        "outputId": "216b6962-10b1-4af9-dcb4-8e56e3368dcf"
      },
      "outputs": [
        {
          "data": {
            "text/plain": [
              "Text(0, 0.5, 'NO.OF AGENT REACHED GOAL')"
            ]
          },
          "execution_count": 35,
          "metadata": {},
          "output_type": "execute_result"
        },
        {
          "data": {
            "image/png": "[encoded data removed]",
            "text/plain": [
              "<Figure size 432x288 with 1 Axes>"
            ]
          },
          "metadata": {
            "needs_background": "light"
          },
          "output_type": "display_data"
        }
      ],
      "source": [
        "plt.plot(list(range(len(no_of_times_acheived_goal))),no_of_times_acheived_goal)\n",
        "plt.title(\"NO.OF TIMES AGENT REACHED GOAL vs EPISODES\")\n",
        "plt.xlabel(\"EPISODES\")\n",
        "plt.ylabel(\"NO.OF AGENT REACHED GOAL\")"
      ]
    },
    {
      "cell_type": "markdown",
      "metadata": {
        "id": "5uxRjNVCg1zk"
      },
      "source": [
        "**<center> ----------------------------------- Q TABLE ----------------------------------- </center>**"
      ]
    },
    {
      "cell_type": "code",
      "execution_count": 38,
      "metadata": {
        "colab": {
          "base_uri": "https://localhost:8080/"
        },
        "id": "ItB5897iNZZp",
        "outputId": "5046d872-af65-4983-8980-3273309432ae"
      },
      "outputs": [
        {
          "data": {
            "text/plain": [
              "{0: array([2.91266388, 6.05313511, 9.5197179 , 6.77364796]),\n",
              " 1: array([2.04297066, 3.73486737, 6.94103212, 2.98105156]),\n",
              " 2: array([0.34376224, 1.89488519, 0.4952092 , 0.34822013]),\n",
              " 3: array([0.20621   , 0.99914941, 0.13163882, 0.46658441]),\n",
              " 4: array([0.06827865, 0.36009044, 0.03734174, 0.00658041]),\n",
              " 5: array([0.86996254, 0.33040081, 2.05380739, 0.9433232 ]),\n",
              " 6: array([ 7.39816801,  7.33058219, 14.92510518,  4.55536219]),\n",
              " 7: array([ 3.67337459, 10.55448308,  3.58079459,  2.67174328]),\n",
              " 8: array([0.32745345, 6.25368362, 0.91703689, 0.33737531]),\n",
              " 9: array([ 0.26456926,  0.50075683, -1.59210998,  0.05698367]),\n",
              " 10: array([-0.00220549,  0.90654762, -0.29471264,  0.07202207]),\n",
              " 11: array([0.00748961, 1.16300747, 2.3685215 , 0.09930405]),\n",
              " 12: array([ 7.61921372,  9.99854641, 16.25772532,  6.61506283]),\n",
              " 13: array([ 4.34162352, 11.05902241,  5.47034632,  3.94384318]),\n",
              " 14: array([-1.7764708 ,  0.95798194,  6.42194826,  1.50367002]),\n",
              " 15: array([ 1.79596114,  3.11600146, -0.10004851,  0.68136954]),\n",
              " 16: array([ 0.50781696, -1.39507465,  3.16402095,  0.24201587]),\n",
              " 17: array([0.07655781, 0.14301424, 4.57026944, 0.21500699]),\n",
              " 18: array([10.39937766, 11.4523625 , 23.32945916, 13.7607406 ]),\n",
              " 19: array([ 6.0749791 , 16.30534544,  7.13182855,  7.66221449]),\n",
              " 20: array([2.47058454, 3.46858714, 8.92352075, 2.19854774]),\n",
              " 21: array([ 0.31782087,  2.49376084,  2.33154442, -0.71560463]),\n",
              " 22: array([1.00379005, 0.54205916, 0.66578748, 0.52298171]),\n",
              " 23: array([4.4966044 , 0.88971212, 6.99999518, 1.22759486]),\n",
              " 24: array([12.97489795, 23.33333333, 13.19392213, 15.27605531]),\n",
              " 25: array([ 9.24114772, 18.40738649,  9.23085144, 10.12148752]),\n",
              " 26: array([ 3.35245177, 13.2066187 ,  5.43240793,  5.32084795]),\n",
              " 27: array([4.37776043, 0.64569734, 4.62140537, 2.63439245]),\n",
              " 28: array([6.43994386, 1.05907974, 6.97609523, 0.44892544]),\n",
              " 29: array([ 7.        ,  2.30488176, 10.        ,  0.94426776]),\n",
              " 30: array([ 9.23747018, 13.20561205, 13.21902684, 18.85704139]),\n",
              " 31: array([ 2.73588855,  4.65389683,  8.92716315, 13.20751447]),\n",
              " 32: array([2.07314562, 7.31341295, 0.92213764, 2.03578018]),\n",
              " 33: array([1.89872359, 3.68451535, 0.42368343, 0.99696958]),\n",
              " 34: array([10.        ,  1.45589672,  6.99998067,  4.86112681]),\n",
              " 35: array([0., 0., 0., 0.])}"
            ]
          },
          "execution_count": 38,
          "metadata": {},
          "output_type": "execute_result"
        }
      ],
      "source": [
        "episodes = zip(list(range(0,36)),,agent.Q)\n",
        "dict(episodes)"
      ]
    },
    {
      "cell_type": "markdown",
      "metadata": {
        "id": "SW8VOqBcg75J"
      },
      "source": [
        "**<center> -------------------------- HYPERPARAMETER TUNING FOR EPISODES & GAMMA ---------------------------- </center>**"
      ]
    },
    {
      "cell_type": "code",
      "execution_count": 16,
      "metadata": {
        "id": "Eed9C8POZS1c"
      },
      "outputs": [],
      "source": [
        "def tuning(episodes,gamma):\n",
        "  class Field(gym.Env):\n",
        "    metadata = { 'render.modes': []}\n",
        "\n",
        "    def __init__(self):\n",
        "      self.observation_space = spaces.Discrete(36)\n",
        "      self.action_space = spaces.Discrete(4)\n",
        "      self.max_timesteps = 110\n",
        "\n",
        "    def reset(self):\n",
        "      self.step_count = 0\n",
        "      self.player = [0, 0]\n",
        "      self.ladder1 = [4,0]\n",
        "      self.ladder2 = [2,0]\n",
        "      self.snake1 = [3,1]\n",
        "      self.snake2 = [2,3]\n",
        "      self.goal = [5, 5]\n",
        "      self.field = np.zeros((6,6))\n",
        "      self.field[tuple(self.player)] = 1\n",
        "      self.field[tuple(self.goal)] = 10\n",
        "      self.field[tuple(self.ladder1)] = 7\n",
        "      self.field[tuple(self.ladder2)] = 4\n",
        "      self.field[tuple(self.snake1)] = -1\n",
        "      self.field[tuple(self.snake2)] = -2\n",
        "      self.field_ids = np.array([i for i in range(36)]).reshape((6,6))\n",
        "      self.observation = self.field.flatten()\n",
        "\n",
        "    def step(self, action):\n",
        "      self.field = np.random.choice(self.observation_space.n)\n",
        "      #[0,1,2,3],['UP','DOWN','RIGHT','LEFT']\n",
        "      if action == 0:\n",
        "        self.player[1] += 1\n",
        "      if action == 1:\n",
        "        self.player[1] -= 1\n",
        "      if action == 2:\n",
        "        self.player[0] += 1\n",
        "      if action == 3:\n",
        "        self.player[0] -= 1\n",
        "\n",
        "      self.player = np.clip(self.player, 0, 5)\n",
        "      self.field = np.zeros((6,6))\n",
        "      self.field[tuple(self.player)] = 1\n",
        "      self.field[tuple(self.goal)] = 10\n",
        "      self.field[tuple(self.ladder1)] = 7\n",
        "      self.field[tuple(self.ladder2)] = 4\n",
        "      self.field[tuple(self.snake1)] = -1\n",
        "      self.field[tuple(self.snake2)] = -2\n",
        "      observation = self.field.flatten()\n",
        "      self.step_count += 1    \n",
        "      info = {}\n",
        "      state = self.field_ids[tuple(self.player)]\n",
        "      reward = self.observation[state] \n",
        "      done = True if (state == 35) or (env.step_count >= env.max_timesteps) else False\n",
        "\n",
        "      return reward, done, int(state), info\n",
        "\n",
        "\n",
        "    def render(self):\n",
        "      sb.heatmap(self.field, annot = True, linewidth = 1, cmap = 'Blues')\n",
        "\n",
        "  class randomAgent():\n",
        "    def __init__(self,env):\n",
        "      self.actions = env.action_space\n",
        "      self.states = env.field\n",
        "      self.epsilon = 0.9\n",
        "      self.alpha = 0.9\n",
        "      self.gamma = 0.7\n",
        "      self.Q = np.zeros((36,4))\n",
        "    \n",
        "    def think(self,state):\n",
        "      action = 0\n",
        "      if np.random.uniform(0,1) < self.epsilon:\n",
        "        action = self.actions.sample()\n",
        "      else:\n",
        "        action = np.argmax(self.Q[state,:])\n",
        "      return action\n",
        "    \n",
        "    def q_update(self,state,action,state2,action2,reward):\n",
        "      pred = self.Q[state,action]\n",
        "      future_rwd = reward + self.gamma * self.Q[state2,action2]\n",
        "      self.Q[state,action] = self.Q[state,action] + self.alpha*(future_rwd - pred)\n",
        "\n",
        "  env = Field()\n",
        "  env.reset()\n",
        "  agent = randomAgent(env)\n",
        "\n",
        "  state = env.field[tuple([0,0])]\n",
        "  epsilon_values = []\n",
        "  penalities = []\n",
        "  no_of_times_acheived_goal = []\n",
        "  rewardslist = []\n",
        "  average_timesteps = []\n",
        "  acheived_goal = 0\n",
        "  pnlty = 0\n",
        "  episodes = episodes\n",
        "  agent.gamma = gamma\n",
        "\n",
        "  print(\"TRAINING STARTED\")\n",
        "\n",
        "  for i in range(episodes):\n",
        "    env.reset()\n",
        "    done = False\n",
        "    state = 0\n",
        "    total_reward = 0\n",
        "    action = agent.think(state)\n",
        "\n",
        "    while not done:\n",
        "      reward,done,state2,info = env.step(action)\n",
        "      #print(\"EPISODE: \",i,\" \",reward)\n",
        "      if state2 in [env.field_ids[tuple(env.snake1)], env.field_ids[tuple(env.snake2)]]:\n",
        "        pnlty+=1    \n",
        "      if state2 == 35:\n",
        "        acheived_goal+=1\n",
        "\n",
        "      action2 = agent.think(state2)\n",
        "      agent.q_update(state,action,state2,action2,reward)\n",
        "      state = state2\n",
        "      action = action2\n",
        "      agent.epsilon = 0.01 + (0.99)*np.exp(-0.001*i)\n",
        "      total_reward = total_reward + reward    \n",
        "      #print(\"-=-=-=-=-=-=-=-\")\n",
        "      if done:\n",
        "        break\n",
        "\n",
        "    epsilon_values.append(agent.epsilon)\n",
        "    p = (env.step_count/env.max_timesteps)*100\n",
        "    average_timesteps.append(p)\n",
        "    check_100 = (i+1) % 100\n",
        "    if not check_100:   \n",
        "      #print(\"inininin\") \n",
        "      penalities.append(pnlty)\n",
        "      pnlty = 0\n",
        "      no_of_times_acheived_goal.append(acheived_goal)\n",
        "      acheived_goal = 0\n",
        "    rewardslist.append(total_reward)\n",
        "\n",
        "  print('---------------------------')\n",
        "  print(\"TRAINING ENDED\")\n",
        "  return rewardslist,agent.Q\n"
      ]
    },
    {
      "cell_type": "markdown",
      "metadata": {
        "id": "vVLCst38anKY"
      },
      "source": [
        "**<center> -------------------------- EPISODES = 1000 || GAMMA = 0.7 -------------------------- <center>**"
      ]
    },
    {
      "cell_type": "code",
      "execution_count": 17,
      "metadata": {
        "colab": {
          "base_uri": "https://localhost:8080/",
          "height": 366
        },
        "id": "zcwv3oCTZTqB",
        "outputId": "41bae457-3577-4377-fdea-ff446fea57a0"
      },
      "outputs": [
        {
          "name": "stdout",
          "output_type": "stream",
          "text": [
            "TRAINING STARTED\n",
            "---------------------------\n",
            "TRAINING ENDED\n",
            "-=-=-=-=-=-=-=-=-=-=-=-=-=-=-\n"
          ]
        },
        {
          "data": {
            "image/png": "[encoded data removed]",
            "text/plain": [
              "<Figure size 432x288 with 1 Axes>"
            ]
          },
          "metadata": {
            "needs_background": "light"
          },
          "output_type": "display_data"
        }
      ],
      "source": [
        "episodes = 1000\n",
        "gamma = 0.7\n",
        "rewardslist,Q_vals = tuning(episodes,gamma)\n",
        "\n",
        "plt.title(\"TOTAL REWARDS vs EPISODE\")\n",
        "plt.xlabel(\"EPISODES\")\n",
        "plt.ylabel(\"TOTAL REWARD PER EPISODE \")\n",
        "plt.plot(list(range(episodes)),rewardslist)\n",
        "print(\"-=-=-=-=-=-=-=-=-=-=-=-=-=-=-\")"
      ]
    },
    {
      "cell_type": "code",
      "execution_count": 83,
      "metadata": {
        "colab": {
          "base_uri": "https://localhost:8080/"
        },
        "id": "vp2lMClXy54s",
        "outputId": "7ca54244-328e-4608-e7af-62dd1b59138e"
      },
      "outputs": [
        {
          "data": {
            "text/plain": [
              "{0: array([2.23470687, 3.33714128, 7.07047908, 2.80249444]),\n",
              " 1: array([0.98514227, 4.65553435, 0.33160334, 0.90268059]),\n",
              " 2: array([0.09710251, 3.37841159, 0.84928131, 1.32732706]),\n",
              " 3: array([0.01148467, 1.63346361, 0.61720056, 0.13297222]),\n",
              " 4: array([ 0.0006508 , -0.06280134, -0.07737637, -0.57962482]),\n",
              " 5: array([1.16760322, 0.01589532, 0.77143482, 0.39438642]),\n",
              " 6: array([ 3.19835262,  2.96969701, 10.26802295,  3.14810744]),\n",
              " 7: array([0.90435274, 7.38156179, 6.47929889, 2.21417161]),\n",
              " 8: array([0.60410096, 2.29438996, 0.4545744 , 0.04680072]),\n",
              " 9: array([ 0.07432156,  3.67407469, -1.7012271 , -0.00900623]),\n",
              " 10: array([ 0.38590141, -0.9155815 , -0.58644277, -0.50233599]),\n",
              " 11: array([ 0.19016564, -0.01921804,  1.47330534,  0.05372715]),\n",
              " 12: array([3.49760543, 5.42126778, 4.70198589, 1.80571889]),\n",
              " 13: array([5.08718925, 8.91196079, 0.3356602 , 4.92422122]),\n",
              " 14: array([-0.90347201,  7.20581767,  3.99831822,  0.47553283]),\n",
              " 15: array([-0.29260919,  2.66905259,  0.92883743,  0.61845746]),\n",
              " 16: array([ 0.36998466, -1.07766552,  0.54922093, -0.03021511]),\n",
              " 17: array([0.76362983, 0.10120422, 4.73619945, 0.19336931]),\n",
              " 18: array([ 6.662618  ,  9.76587468, 16.97166367,  6.09534549]),\n",
              " 19: array([ 4.31915554,  4.47291747, 10.47631105,  2.07837108]),\n",
              " 20: array([-0.19339624,  7.55945764,  4.28906652,  2.67233705]),\n",
              " 21: array([ 0.665135  ,  0.45293906,  0.93356526, -0.97370997]),\n",
              " 22: array([ 4.42425017,  0.87596832,  1.18299574, -1.19200881]),\n",
              " 23: array([3.02822228, 0.21542264, 2.22378609, 2.12164828]),\n",
              " 24: array([12.01327794, 15.76471195,  4.84046954, 10.11443092]),\n",
              " 25: array([ 9.9549155 , 17.41373006,  4.71022229,  3.43900514]),\n",
              " 26: array([ 1.35766992, 10.29079144,  3.03636475,  4.85640486]),\n",
              " 27: array([0.88506319, 1.04069669, 1.69429231, 0.65901195]),\n",
              " 28: array([6.52262113, 1.16726315, 1.3177303 , 0.94671391]),\n",
              " 29: array([ 2.90429687,  1.6448559 , 10.        ,  2.15953598]),\n",
              " 30: array([ 7.54918707,  5.87701877, 10.35951664, 14.92752079]),\n",
              " 31: array([2.68477189, 7.63265454, 8.25497623, 4.94296665]),\n",
              " 32: array([1.44568156, 7.46260406, 1.24445068, 0.98932421]),\n",
              " 33: array([6.49024399, 1.80501604, 0.49475871, 1.15009865]),\n",
              " 34: array([10.        ,  1.2903642 ,  6.94498278,  0.76962485]),\n",
              " 35: array([0., 0., 0., 0.])}"
            ]
          },
          "execution_count": 83,
          "metadata": {},
          "output_type": "execute_result"
        }
      ],
      "source": [
        "episodes = zip(list(range(0,36)),Q_vals)\n",
        "dict(episodes)"
      ]
    },
    {
      "cell_type": "markdown",
      "metadata": {
        "id": "uMDazHp749-X"
      },
      "source": [
        "**<center> -------------------------- EPISODES = 5000 || GAMMA = 0.7 -------------------------- <center>**"
      ]
    },
    {
      "cell_type": "code",
      "execution_count": 103,
      "metadata": {
        "colab": {
          "base_uri": "https://localhost:8080/",
          "height": 366
        },
        "id": "sgR_J0_LZTyF",
        "outputId": "6a0065fd-49b0-427d-8303-6e93caaf31e9"
      },
      "outputs": [
        {
          "name": "stdout",
          "output_type": "stream",
          "text": [
            "TRAINING STARTED\n",
            "---------------------------\n",
            "TRAINING ENDED\n",
            "-=-=-=-=-=-=-=-=-=-=-=-=-=-=-\n"
          ]
        },
        {
          "data": {
            "image/png": "[encoded data removed]",
            "text/plain": [
              "<Figure size 432x288 with 1 Axes>"
            ]
          },
          "metadata": {
            "needs_background": "light"
          },
          "output_type": "display_data"
        }
      ],
      "source": [
        "episodes = 5000\n",
        "gamma = 0.7\n",
        "rewardslist,Q_vals = tuning(episodes,gamma)\n",
        "\n",
        "plt.title(\"TOTAL REWARDS vs EPISODE\")\n",
        "plt.xlabel(\"EPISODES\")\n",
        "plt.ylabel(\"TOTAL REWARD PER EPISODE \")\n",
        "plt.plot(list(range(episodes)),rewardslist)\n",
        "print(\"-=-=-=-=-=-=-=-=-=-=-=-=-=-=-\")"
      ]
    },
    {
      "cell_type": "code",
      "execution_count": 104,
      "metadata": {
        "colab": {
          "base_uri": "https://localhost:8080/"
        },
        "id": "IU04Awz8mpy2",
        "outputId": "3c044f66-69ad-40cd-b0b8-2353d269a3ff"
      },
      "outputs": [
        {
          "data": {
            "text/plain": [
              "{0: array([ 3.93551067,  6.68612274, 10.61374444,  6.59749348]),\n",
              " 1: array([1.24901382, 4.65221067, 1.85591602, 3.28097307]),\n",
              " 2: array([1.10165837, 0.45389692, 3.7739183 , 0.45975222]),\n",
              " 3: array([0.2893614 , 0.94069011, 0.23731426, 0.32036776]),\n",
              " 4: array([0.17225981, 0.13918392, 0.00564689, 0.0057257 ]),\n",
              " 5: array([ 0.04477808, -0.45932785,  0.91031783,  0.01209638]),\n",
              " 6: array([ 7.18348391,  9.8167885 , 14.21638564,  7.74363685]),\n",
              " 7: array([3.38613724, 3.43997242, 7.7076187 , 2.28827055]),\n",
              " 8: array([0.18788756, 1.4726561 , 5.39019929, 1.32527957]),\n",
              " 9: array([-0.96348385, -0.91700423, -2.34833824,  0.59085327]),\n",
              " 10: array([0.16218445, 0.32543161, 0.44500173, 0.06092884]),\n",
              " 11: array([0.03880652, 1.31501055, 0.09219361, 0.14639009]),\n",
              " 12: array([ 7.72447045,  9.40529967, 15.94195935,  9.20226975]),\n",
              " 13: array([ 7.06383874, 11.05341493,  8.11963212,  3.63620557]),\n",
              " 14: array([-2.64063654,  9.61618715,  1.18351032,  1.66771057]),\n",
              " 15: array([ 1.12619925, -0.68701307,  1.87593902,  0.06822617]),\n",
              " 16: array([ 0.28190405, -0.6416385 ,  3.2508877 ,  0.15529453]),\n",
              " 17: array([0.17322308, 0.14991338, 4.42879602, 0.10552192]),\n",
              " 18: array([ 8.11574188, 15.92117833, 23.30123503, 10.51742137]),\n",
              " 19: array([ 5.42742017, 10.25234556, 13.12305597,  8.88225834]),\n",
              " 20: array([0.74238899, 8.20009802, 3.06313076, 3.93814618]),\n",
              " 21: array([ 3.31521923,  0.70069445,  2.85300109, -1.9287011 ]),\n",
              " 22: array([0.63643232, 0.42351962, 4.87573316, 0.94182801]),\n",
              " 23: array([2.2612616 , 1.23480586, 1.39479606, 0.75056017]),\n",
              " 24: array([13.18846817, 23.33333333, 13.20127057, 16.26121286]),\n",
              " 25: array([ 9.25641152, 18.82903514,  9.23904163,  8.30195342]),\n",
              " 26: array([ 3.62022452, 13.20284472,  3.42957042,  5.41980823]),\n",
              " 27: array([0.86521293, 8.18903165, 1.53381582, 2.25704565]),\n",
              " 28: array([1.30366176, 0.77579007, 6.9980911 , 3.13727586]),\n",
              " 29: array([ 6.99999491,  2.43343588, 10.        ,  2.78409464]),\n",
              " 30: array([ 9.14187024, 13.1909772 , 13.09275288, 18.70829881]),\n",
              " 31: array([ 3.375442  , 13.38777869,  7.43979055,  5.70390591]),\n",
              " 32: array([4.89134027, 2.21412024, 3.26956623, 1.58880306]),\n",
              " 33: array([6.99954181, 1.56102165, 0.99236277, 0.97876008]),\n",
              " 34: array([10.        ,  1.7961416 ,  6.99999957,  0.97181254]),\n",
              " 35: array([0., 0., 0., 0.])}"
            ]
          },
          "execution_count": 104,
          "metadata": {},
          "output_type": "execute_result"
        }
      ],
      "source": [
        "episodes = zip(list(range(0,36)),Q_vals)\n",
        "dict(episodes)"
      ]
    },
    {
      "cell_type": "markdown",
      "metadata": {
        "id": "5a7Sm31lzTDf"
      },
      "source": [
        "**<center> -------------------------- EPISODES = 10000 || GAMMA = 0.7 -------------------------- <center>**"
      ]
    },
    {
      "cell_type": "code",
      "execution_count": 84,
      "metadata": {
        "colab": {
          "base_uri": "https://localhost:8080/",
          "height": 366
        },
        "id": "i5CVFqc7mNUJ",
        "outputId": "6f6c746e-2649-4fc2-c305-11ba8da70cb6"
      },
      "outputs": [
        {
          "name": "stdout",
          "output_type": "stream",
          "text": [
            "TRAINING STARTED\n",
            "---------------------------\n",
            "TRAINING ENDED\n",
            "-=-=-=-=-=-=-=-=-=-=-=-=-=-=-\n"
          ]
        },
        {
          "data": {
            "image/png": "[encoded data removed]",
            "text/plain": [
              "<Figure size 432x288 with 1 Axes>"
            ]
          },
          "metadata": {
            "needs_background": "light"
          },
          "output_type": "display_data"
        }
      ],
      "source": [
        "episodes = 10000\n",
        "gamma = 0.7\n",
        "rewardslist,Q_vals = tuning(episodes,gamma)\n",
        "\n",
        "plt.title(\"TOTAL REWARDS vs EPISODE\")\n",
        "plt.xlabel(\"EPISODES\")\n",
        "plt.ylabel(\"TOTAL REWARD PER EPISODE \")\n",
        "plt.plot(list(range(episodes)),rewardslist)\n",
        "print(\"-=-=-=-=-=-=-=-=-=-=-=-=-=-=-\")"
      ]
    },
    {
      "cell_type": "code",
      "execution_count": 86,
      "metadata": {
        "colab": {
          "base_uri": "https://localhost:8080/"
        },
        "id": "-p6R_0krZTfc",
        "outputId": "df9f3476-b57b-4dd8-c34a-5c164c2f43f6"
      },
      "outputs": [
        {
          "data": {
            "text/plain": [
              "{0: array([ 4.89372186,  3.81961576, 10.80332137,  4.66098637]),\n",
              " 1: array([1.57551985, 8.39171797, 1.87056936, 2.40019752]),\n",
              " 2: array([1.00311667, 2.92500886, 0.66214837, 0.57489412]),\n",
              " 3: array([ 0.04746225,  2.75917268, -0.4627187 ,  0.22097484]),\n",
              " 4: array([-0.01468611,  0.07226538, -0.67732325,  0.07987152]),\n",
              " 5: array([-0.00055474,  0.01169392,  0.07079384,  0.29291878]),\n",
              " 6: array([ 5.46870979,  5.41172754, 14.32690513,  5.27135788]),\n",
              " 7: array([ 3.11050938,  3.58819103, 10.22777301,  2.75237409]),\n",
              " 8: array([-0.45001845,  6.0869964 ,  1.5500917 ,  0.7247911 ]),\n",
              " 9: array([ 0.01855378,  0.27010958, -0.08639345,  0.58407204]),\n",
              " 10: array([ 0.15571164, -1.03531987, -0.04136367,  0.16736299]),\n",
              " 11: array([ 0.12450132, -0.71576228,  1.04427746, -0.1742423 ]),\n",
              " 12: array([ 8.31039271, 13.70488835, 15.9802671 ,  9.22091897]),\n",
              " 13: array([ 3.06535031, 10.89506164,  7.65614516,  4.71411846]),\n",
              " 14: array([-0.17148634,  1.33780626,  2.87122272,  1.20423528]),\n",
              " 15: array([2.30584173, 1.42739776, 2.96266953, 0.34043706]),\n",
              " 16: array([ 1.1089924 , -0.71715233,  0.42452213,  0.67521626]),\n",
              " 17: array([1.21619076, 0.37033096, 4.8629259 , 1.70525232]),\n",
              " 18: array([ 8.16161519, 15.84436926, 23.30516781, 11.04905953]),\n",
              " 19: array([ 5.3135514 ,  6.13704896, 13.02328852,  6.13645776]),\n",
              " 20: array([0.93010607, 8.29781266, 3.45108533, 1.30195445]),\n",
              " 21: array([ 2.97985146,  3.70515362,  0.77029368, -0.35958852]),\n",
              " 22: array([ 0.4290019 , -1.15806987,  4.86446309, -1.27617069]),\n",
              " 23: array([4.50924572, 0.44885225, 6.99996278, 2.90394022]),\n",
              " 24: array([13.20698515, 23.33333333, 13.21304441, 16.33096935]),\n",
              " 25: array([ 9.2341153 , 18.86734917,  9.23941153,  8.27115078]),\n",
              " 26: array([ 2.89127012, 12.78988351,  2.88877709,  3.57957315]),\n",
              " 27: array([1.24534118, 7.84369434, 1.78224172, 1.20095802]),\n",
              " 28: array([6.99999981, 1.46269461, 2.09352605, 0.54424796]),\n",
              " 29: array([ 6.9994061 ,  0.76229806, 10.        ,  2.47446243]),\n",
              " 30: array([ 9.23121666, 13.18684567, 13.05541024, 18.87243089]),\n",
              " 31: array([ 5.49287158, 13.18525332,  8.55351748, 11.67066118]),\n",
              " 32: array([1.663748  , 8.31457841, 1.32480906, 2.13873617]),\n",
              " 33: array([1.23037094, 1.79844081, 1.42514104, 1.49140676]),\n",
              " 34: array([10.        ,  2.90416304,  3.49563589,  4.84170062]),\n",
              " 35: array([0., 0., 0., 0.])}"
            ]
          },
          "execution_count": 86,
          "metadata": {},
          "output_type": "execute_result"
        }
      ],
      "source": [
        "episodes = zip(list(range(0,36)),Q_vals)\n",
        "dict(episodes)"
      ]
    },
    {
      "cell_type": "markdown",
      "metadata": {
        "id": "EdRFz9udfwNj"
      },
      "source": [
        "**<center> -------------------------- EPISODES = 10000 || GAMMA = 0.95 -------------------------- <center>**"
      ]
    },
    {
      "cell_type": "code",
      "execution_count": 96,
      "metadata": {
        "colab": {
          "base_uri": "https://localhost:8080/",
          "height": 366
        },
        "id": "w2pel8VcZT9X",
        "outputId": "144a5bd6-8705-4e39-8e31-6511d4252b92"
      },
      "outputs": [
        {
          "name": "stdout",
          "output_type": "stream",
          "text": [
            "TRAINING STARTED\n",
            "---------------------------\n",
            "TRAINING ENDED\n",
            "-=-=-=-=-=-=-=-=-=-=-=-=-=-=-\n"
          ]
        },
        {
          "data": {
            "image/png": "[encoded data removed]",
            "text/plain": [
              "<Figure size 432x288 with 1 Axes>"
            ]
          },
          "metadata": {
            "needs_background": "light"
          },
          "output_type": "display_data"
        }
      ],
      "source": [
        "episodes = 10000\n",
        "gamma = 0.95\n",
        "rewardslist,Q_vals = tuning(episodes,gamma)\n",
        "\n",
        "plt.title(\"TOTAL REWARDS vs EPISODE\")\n",
        "plt.xlabel(\"EPISODES\")\n",
        "plt.ylabel(\"TOTAL REWARD PER EPISODE \")\n",
        "plt.plot(list(range(episodes)),rewardslist)\n",
        "print(\"-=-=-=-=-=-=-=-=-=-=-=-=-=-=-\")"
      ]
    },
    {
      "cell_type": "code",
      "execution_count": 97,
      "metadata": {
        "colab": {
          "base_uri": "https://localhost:8080/"
        },
        "id": "vsZWqcBsmwPF",
        "outputId": "b1436022-ff0b-4462-e9bf-457826962333"
      },
      "outputs": [
        {
          "data": {
            "text/plain": [
              "{0: array([102.64171166,  73.82547519, 122.68974647,  71.77779555]),\n",
              " 1: array([49.78470492, 99.60482109, 40.79857298, 55.75344892]),\n",
              " 2: array([16.98741648, 21.72329424, 80.36752739, 21.26400511]),\n",
              " 3: array([14.7429771 , 34.86554594, 30.41223004, 23.96614183]),\n",
              " 4: array([14.72809197, 23.54412618, 13.50672659, 13.46136716]),\n",
              " 5: array([ 5.55690048, 15.74855388,  6.30303708,  7.92241787]),\n",
              " 6: array([ 82.5902336 ,  83.53960132, 113.9461987 ,  77.34721037]),\n",
              " 7: array([68.70237712, 81.76952612, 79.01502385, 50.98302458]),\n",
              " 8: array([ 27.02712844,  42.14527001, 110.01197889,  25.68773362]),\n",
              " 9: array([25.73117892, 53.06791782, 20.96647991, 15.308892  ]),\n",
              " 10: array([12.55640204, 17.19319913, 39.77438875, 16.72666663]),\n",
              " 11: array([ 4.21486572,  4.32114455,  9.03943745, 14.33184888]),\n",
              " 12: array([ 81.63162466,  85.83921202, 129.0658838 ,  82.57327298]),\n",
              " 13: array([67.30036122, 84.15007438, 84.7123992 , 78.17990757]),\n",
              " 14: array([ 27.13071575, 114.17382494,  36.44330828,  17.97894995]),\n",
              " 15: array([28.77989989, 23.35201121, 23.76766599, 22.37148037]),\n",
              " 16: array([10.50324358, 20.70359696, 16.53367693, 10.04143856]),\n",
              " 17: array([27.56061576,  6.20542475,  9.23913391,  5.0794005 ]),\n",
              " 18: array([107.90228553, 105.96818217, 116.71935844,  95.4605697 ]),\n",
              " 19: array([ 63.37083697, 108.6004371 ,  85.43458258,  66.14663663]),\n",
              " 20: array([ 36.00142391, 112.70993177,  51.16615591,  44.88539016]),\n",
              " 21: array([31.40209181, 75.73575064, 41.05266616, 30.45778683]),\n",
              " 22: array([10.38385963, 42.64024313, 24.69816014, 13.67169651]),\n",
              " 23: array([11.0858326 , 27.52586021, 17.08839853, 26.53362541]),\n",
              " 24: array([108.90026582, 139.53143779, 110.35072419, 111.85774772]),\n",
              " 25: array([ 92.84988337, 114.6293233 ,  90.26858319,  95.27444514]),\n",
              " 26: array([55.3025819 , 92.58142423, 65.43056121, 65.68993118]),\n",
              " 27: array([30.78158264, 26.83002888, 32.91565347, 60.30937956]),\n",
              " 28: array([11.21627087, 15.03660451, 19.25588899, 40.36763919]),\n",
              " 29: array([ 9.44373575, 14.68258108, 10.        ,  9.73046217]),\n",
              " 30: array([ 87.10806377,  87.47561131,  89.07559088, 117.56369336]),\n",
              " 31: array([59.27674575, 93.48696385, 69.18111256, 66.40111963]),\n",
              " 32: array([28.04622389, 74.88795823, 31.40151131, 31.65893325]),\n",
              " 33: array([32.16826726, 62.21614351, 51.25037513, 32.27089732]),\n",
              " 34: array([10.        , 25.7966329 , 17.88069438, 41.30195009]),\n",
              " 35: array([0., 0., 0., 0.])}"
            ]
          },
          "execution_count": 97,
          "metadata": {},
          "output_type": "execute_result"
        }
      ],
      "source": [
        "episodes = zip(list(range(0,36)),Q_vals)\n",
        "dict(episodes)"
      ]
    },
    {
      "cell_type": "markdown",
      "metadata": {
        "id": "VtDCf1sDnBrl"
      },
      "source": [
        "**<center> -------------------------- EPISODES = 10000 || GAMMA = 0.5 -------------------------- <center>**"
      ]
    },
    {
      "cell_type": "code",
      "execution_count": 98,
      "metadata": {
        "colab": {
          "base_uri": "https://localhost:8080/",
          "height": 366
        },
        "id": "D5UMYT8IhCHR",
        "outputId": "ba755f36-7435-4d6c-d1c5-7fccc1c4500c"
      },
      "outputs": [
        {
          "name": "stdout",
          "output_type": "stream",
          "text": [
            "TRAINING STARTED\n",
            "---------------------------\n",
            "TRAINING ENDED\n",
            "-=-=-=-=-=-=-=-=-=-=-=-=-=-=-\n"
          ]
        },
        {
          "data": {
            "image/png": "[encoded data removed]",
            "text/plain": [
              "<Figure size 432x288 with 1 Axes>"
            ]
          },
          "metadata": {
            "needs_background": "light"
          },
          "output_type": "display_data"
        }
      ],
      "source": [
        "episodes = 10000\n",
        "gamma = 0.5\n",
        "rewardslist,Q_vals = tuning(episodes,gamma)\n",
        "\n",
        "plt.title(\"TOTAL REWARDS vs EPISODE\")\n",
        "plt.xlabel(\"EPISODES\")\n",
        "plt.ylabel(\"TOTAL REWARD PER EPISODE \")\n",
        "plt.plot(list(range(episodes)),rewardslist)\n",
        "print(\"-=-=-=-=-=-=-=-=-=-=-=-=-=-=-\")"
      ]
    },
    {
      "cell_type": "code",
      "execution_count": 99,
      "metadata": {
        "colab": {
          "base_uri": "https://localhost:8080/"
        },
        "id": "ZIr3b06Tmxb8",
        "outputId": "96956b27-f086-4001-fd3a-a4c6dc2edfb5"
      },
      "outputs": [
        {
          "data": {
            "text/plain": [
              "{0: array([1.43458061, 2.75208018, 3.73637624, 2.86987879]),\n",
              " 1: array([0.49627818, 2.98129135, 1.10987104, 0.91033404]),\n",
              " 2: array([-0.02844293,  1.31075446,  0.230207  ,  0.18122515]),\n",
              " 3: array([-0.00049597,  0.01480172,  0.02384031,  0.0227532 ]),\n",
              " 4: array([ 0.20536427, -0.01151767, -0.03635229, -0.01570631]),\n",
              " 5: array([-0.00173199, -0.15067717,  0.58696358, -0.00223307]),\n",
              " 6: array([1.87487753, 3.74841299, 7.1476233 , 2.00031803]),\n",
              " 7: array([0.14055869, 3.60976183, 0.82659063, 0.78417519]),\n",
              " 8: array([0.03146913, 0.19826751, 0.02951343, 0.29042662]),\n",
              " 9: array([ 0.01559458,  0.22871933, -1.70345968, -0.1452257 ]),\n",
              " 10: array([ 0.18039713, -0.76398023, -0.87657057, -0.16691612]),\n",
              " 11: array([ 0.20383794,  0.02070029,  1.24205605, -0.00130963]),\n",
              " 12: array([3.74609747, 4.95878281, 6.84441344, 3.55064839]),\n",
              " 13: array([1.71815423, 7.94969468, 2.39315189, 1.75953051]),\n",
              " 14: array([-1.85701009,  3.51431348,  0.3290855 ,  0.25387115]),\n",
              " 15: array([ 0.11337165,  1.59420751,  0.12521048, -0.8501916 ]),\n",
              " 16: array([ 1.60706286e-02, -1.87175593e+00,  9.33974884e-01,  1.59556801e-03]),\n",
              " 17: array([4.10831062e-01, 2.56439217e-02, 1.18645626e+00, 3.74745420e-04]),\n",
              " 18: array([ 2.48315681,  6.99201016, 13.98273606,  7.06766157]),\n",
              " 19: array([0.86626568, 6.97750277, 1.96732839, 0.06211926]),\n",
              " 20: array([ 0.5084371 , -0.04694667,  0.15919372,  0.45787841]),\n",
              " 21: array([ 1.23255297,  0.11089218,  0.1223722 , -1.24869487]),\n",
              " 22: array([2.49890937, 0.22067934, 2.28957729, 0.04455332]),\n",
              " 23: array([ 0.42017383, -0.01891159,  4.99995264,  0.1283155 ]),\n",
              " 24: array([ 6.19971759, 14.        ,  6.11224714,  6.23426651]),\n",
              " 25: array([ 3.05286595, 12.27060062,  3.05632695,  2.4937042 ]),\n",
              " 26: array([1.12683333, 6.11236   , 1.2325352 , 0.7600478 ]),\n",
              " 27: array([ 2.46069028, -0.08152549,  0.37333494,  0.07773652]),\n",
              " 28: array([2.72700533, 0.31006149, 4.99602399, 1.15399437]),\n",
              " 29: array([ 4.99543572,  2.28799692, 10.        ,  0.25063834]),\n",
              " 30: array([ 3.05631787,  6.11259641,  6.11128833, 12.22508654]),\n",
              " 31: array([1.15870402, 6.11057564, 0.88342683, 1.96586944]),\n",
              " 32: array([0.43426401, 3.0089708 , 0.32228465, 0.62936322]),\n",
              " 33: array([4.99995565, 0.43064861, 2.29088106, 0.42206848]),\n",
              " 34: array([10.        ,  0.26883435,  4.77274823,  2.29667975]),\n",
              " 35: array([0., 0., 0., 0.])}"
            ]
          },
          "execution_count": 99,
          "metadata": {},
          "output_type": "execute_result"
        }
      ],
      "source": [
        "episodes = zip(list(range(0,36)),Q_vals)\n",
        "dict(episodes)"
      ]
    },
    {
      "cell_type": "markdown",
      "metadata": {
        "id": "5YN3umRygcYn"
      },
      "source": [
        "**<center> -------------------------- EPISODES = 10000 || GAMMA = 0.2 -------------------------- <center>**"
      ]
    },
    {
      "cell_type": "code",
      "execution_count": 100,
      "metadata": {
        "colab": {
          "base_uri": "https://localhost:8080/",
          "height": 366
        },
        "id": "KdkimrY_hCX-",
        "outputId": "ab31c7bc-5927-41ec-9730-43657e8b9bb6"
      },
      "outputs": [
        {
          "name": "stdout",
          "output_type": "stream",
          "text": [
            "TRAINING STARTED\n",
            "---------------------------\n",
            "TRAINING ENDED\n",
            "-=-=-=-=-=-=-=-=-=-=-=-=-=-=-\n"
          ]
        },
        {
          "data": {
            "image/png": "[encoded data removed]",
            "text/plain": [
              "<Figure size 432x288 with 1 Axes>"
            ]
          },
          "metadata": {
            "needs_background": "light"
          },
          "output_type": "display_data"
        }
      ],
      "source": [
        "episodes = 10000\n",
        "gamma = 0.2\n",
        "rewardslist,Q_vals = tuning(episodes,gamma)\n",
        "\n",
        "plt.title(\"TOTAL REWARDS vs EPISODE\")\n",
        "plt.xlabel(\"EPISODES\")\n",
        "plt.ylabel(\"TOTAL REWARD PER EPISODE \")\n",
        "plt.plot(list(range(episodes)),rewardslist)\n",
        "print(\"-=-=-=-=-=-=-=-=-=-=-=-=-=-=-\")"
      ]
    },
    {
      "cell_type": "code",
      "execution_count": 102,
      "metadata": {
        "colab": {
          "base_uri": "https://localhost:8080/"
        },
        "id": "RY-ykIvtm5_3",
        "outputId": "f6393ab4-fb07-4c19-b946-21695c087676"
      },
      "outputs": [
        {
          "data": {
            "text/plain": [
              "{0: array([0.24992813, 1.25      , 0.97634989, 1.25      ]),\n",
              " 1: array([0.04945167, 1.21757163, 0.19910201, 0.24840182]),\n",
              " 2: array([0.00226699, 0.24324906, 0.03813883, 0.04259245]),\n",
              " 3: array([ 0.00031043,  0.0486343 , -0.03415456,  0.0004239 ]),\n",
              " 4: array([ 7.84711424e-05,  8.90243022e-03,  1.90741495e-05, -9.08131208e-06]),\n",
              " 5: array([-1.37860740e-04, -1.39095693e-04,  7.11234060e-06,  1.70372272e-05]),\n",
              " 6: array([0.19956732, 0.9995461 , 4.88263643, 1.24089301]),\n",
              " 7: array([0.01066891, 0.97663493, 0.04704113, 0.0592543 ]),\n",
              " 8: array([0.000516  , 0.19244185, 0.0090166 , 0.00998166]),\n",
              " 9: array([ 4.12999066e-05, -6.85478322e-03, -1.99638871e+00,  8.29251185e-03]),\n",
              " 10: array([ 2.17372842e-04, -1.19442990e-05, -3.61246937e-01,  3.11076893e-04]),\n",
              " 11: array([-3.44142652e-06,  2.76499523e-04,  6.87157824e-04,  2.20555450e-05]),\n",
              " 12: array([0.97113994, 5.        , 1.74999996, 0.99805997]),\n",
              " 13: array([ 0.19419746,  4.85495413, -0.68554171,  0.19741015]),\n",
              " 14: array([-1.99352127,  0.97099078,  0.00305686,  0.03516183]),\n",
              " 15: array([-0.00073402,  0.00769993,  0.00860861, -0.35997933]),\n",
              " 16: array([ 6.40298518e-02, -1.99991533e+00,  9.44982455e-03,  9.35319620e-05]),\n",
              " 17: array([4.58358669e-03, 1.38897645e-03, 3.91847448e-01, 2.95669592e-04]),\n",
              " 18: array([-0.65172275,  1.69913805,  8.75      ,  4.88299579]),\n",
              " 19: array([ 0.00185221,  1.74505145,  1.53035206, -0.0524166 ]),\n",
              " 20: array([ 0.016     , -0.98226539,  0.01222923, -0.03307927]),\n",
              " 21: array([ 0.0051195 ,  0.00243854,  0.03333352, -1.96633751]),\n",
              " 22: array([0.0089615 , 0.00131807, 0.1360839 , 0.00509608]),\n",
              " 23: array([0.00427753, 0.00245451, 1.99855687, 0.00333692]),\n",
              " 24: array([1.69923449, 8.75      , 1.69923448, 1.70917511]),\n",
              " 25: array([ 0.01111849,  8.49617244,  0.33978948, -0.65099739]),\n",
              " 26: array([-0.05685853, -0.01637837,  0.05884583,  0.00295762]),\n",
              " 27: array([ 0.34814835,  0.00220955,  0.00243124, -0.02288999]),\n",
              " 28: array([0.21588458, 0.00816631, 1.98559676, 0.06483779]),\n",
              " 29: array([ 1.99999826,  0.10380167, 10.        ,  0.06513544]),\n",
              " 30: array([0.33979569, 0.47243398, 1.73849227, 8.49617244]),\n",
              " 31: array([0.06723694, 1.69922437, 0.33602103, 1.55237035]),\n",
              " 32: array([0.01466793, 0.33722592, 0.00873194, 0.00221633]),\n",
              " 33: array([1.8072684 , 0.05170929, 0.02219902, 0.07066594]),\n",
              " 34: array([10.        ,  0.06663359,  1.99982026,  0.01809688]),\n",
              " 35: array([0., 0., 0., 0.])}"
            ]
          },
          "execution_count": 102,
          "metadata": {},
          "output_type": "execute_result"
        }
      ],
      "source": [
        "episodes = zip(list(range(0,36)),Q_vals)\n",
        "dict(episodes)"
      ]
    },
    {
      "cell_type": "markdown",
      "metadata": {
        "id": "ashmad9J8q_g"
      },
      "source": [
        "**<center> ------------------------------------ TRANING THE AGENT USING THE BEST VALUES OBTAINED FROM HYPERPARAMETER TUNING ------------------------------------ <br> EPISODES = 10000 || EPSILON = 0.9 || ALPHA = 0.9 || GAMMA = 0.95 </center>**"
      ]
    },
    {
      "cell_type": "code",
      "execution_count": 6,
      "metadata": {
        "id": "ZrUK9dNDRzdY"
      },
      "outputs": [],
      "source": [
        "def tuning():\n",
        "  class Field(gym.Env):\n",
        "    metadata = { 'render.modes': []}\n",
        "\n",
        "    def __init__(self):\n",
        "      self.observation_space = spaces.Discrete(36)\n",
        "      self.action_space = spaces.Discrete(4)\n",
        "      self.max_timesteps = 110\n",
        "\n",
        "    def reset(self):\n",
        "      self.step_count = 0\n",
        "      self.player = [0, 0]\n",
        "      self.ladder1 = [4,0]\n",
        "      self.ladder2 = [2,0]\n",
        "      self.snake1 = [3,1]\n",
        "      self.snake2 = [2,3]\n",
        "      self.goal = [5, 5]\n",
        "      self.field = np.zeros((6,6))\n",
        "      self.field[tuple(self.player)] = 1\n",
        "      self.field[tuple(self.goal)] = 10\n",
        "      self.field[tuple(self.ladder1)] = 7\n",
        "      self.field[tuple(self.ladder2)] = 4\n",
        "      self.field[tuple(self.snake1)] = -1\n",
        "      self.field[tuple(self.snake2)] = -2\n",
        "      self.field_ids = np.array([i for i in range(36)]).reshape((6,6))\n",
        "      self.observation = self.field.flatten()\n",
        "\n",
        "    def step(self, action):\n",
        "      self.field = np.random.choice(self.observation_space.n)\n",
        "      #[0,1,2,3],['UP','DOWN','RIGHT','LEFT']\n",
        "      if action == 0:\n",
        "        self.player[1] += 1\n",
        "      if action == 1:\n",
        "        self.player[1] -= 1\n",
        "      if action == 2:\n",
        "        self.player[0] += 1\n",
        "      if action == 3:\n",
        "        self.player[0] -= 1\n",
        "\n",
        "      self.player = np.clip(self.player, 0, 5)\n",
        "      self.field = np.zeros((6,6))\n",
        "      self.field[tuple(self.player)] = 1\n",
        "      self.field[tuple(self.goal)] = 10\n",
        "      self.field[tuple(self.ladder1)] = 7\n",
        "      self.field[tuple(self.ladder2)] = 4\n",
        "      self.field[tuple(self.snake1)] = -1\n",
        "      self.field[tuple(self.snake2)] = -2\n",
        "      observation = self.field.flatten()\n",
        "      self.step_count += 1    \n",
        "      info = {}\n",
        "      state = self.field_ids[tuple(self.player)]\n",
        "      reward = self.observation[state] \n",
        "      done = True if (state == 35) or (env.step_count >= env.max_timesteps) else False\n",
        "\n",
        "      return reward, done, int(state), info\n",
        "\n",
        "\n",
        "    def render(self):\n",
        "      sb.heatmap(self.field, annot = True, linewidth = 1, cmap = 'Blues')\n",
        "\n",
        "  class randomAgent():\n",
        "    def __init__(self,env):\n",
        "      self.actions = env.action_space\n",
        "      self.states = env.field\n",
        "      self.epsilon = 0.9\n",
        "      self.alpha = 0.9\n",
        "      self.gamma = 0.95\n",
        "      self.Q = np.zeros((36,4))\n",
        "    \n",
        "    def think(self,state):\n",
        "      action = 0\n",
        "      if np.random.uniform(0,1) < self.epsilon:\n",
        "        action = self.actions.sample()\n",
        "      else:\n",
        "        action = np.argmax(self.Q[state,:])\n",
        "      return action\n",
        "    \n",
        "    def q_update(self,state,action,state2,action2,reward):\n",
        "      pred = self.Q[state,action]\n",
        "      future_rwd = reward + self.gamma * self.Q[state2,action2]\n",
        "      self.Q[state,action] = self.Q[state,action] + self.alpha*(future_rwd - pred)\n",
        "\n",
        "  env = Field()\n",
        "  env.reset()\n",
        "  agent = randomAgent(env)\n",
        "\n",
        "  state = env.field[tuple([0,0])]\n",
        "  epsilon_values = []\n",
        "  penalities = []\n",
        "  no_of_times_acheived_goal = []\n",
        "  rewardslist = []\n",
        "  average_timesteps = []\n",
        "  acheived_goal = 0\n",
        "  pnlty = 0\n",
        "  episodes = 10000\n",
        "\n",
        "  print(\"TRAINING STARTED\")\n",
        "\n",
        "  for i in range(episodes):\n",
        "    env.reset()\n",
        "    done = False\n",
        "    state = 0\n",
        "    total_reward = 0\n",
        "    action = agent.think(state)\n",
        "\n",
        "    while not done:\n",
        "      reward,done,state2,info = env.step(action)\n",
        "      #print(\"EPISODE: \",i,\" \",reward)\n",
        "      if state2 in [env.field_ids[tuple(env.snake1)], env.field_ids[tuple(env.snake2)]]:\n",
        "        pnlty+=1    \n",
        "      if state2 == 35:\n",
        "        acheived_goal+=1\n",
        "\n",
        "      action2 = agent.think(state2)\n",
        "      agent.q_update(state,action,state2,action2,reward)\n",
        "      state = state2\n",
        "      action = action2\n",
        "      agent.epsilon = 0.01 + (0.99)*np.exp(-0.001*i)\n",
        "      total_reward = total_reward + reward    \n",
        "      #print(\"-=-=-=-=-=-=-=-\")\n",
        "      if done:\n",
        "        break\n",
        "\n",
        "    epsilon_values.append(agent.epsilon)\n",
        "    p = (env.step_count/env.max_timesteps)*100\n",
        "    average_timesteps.append(p)\n",
        "    check_100 = (i+1) % 100\n",
        "    if not check_100:   \n",
        "      #print(\"inininin\") \n",
        "      penalities.append(pnlty)\n",
        "      pnlty = 0\n",
        "      no_of_times_acheived_goal.append(acheived_goal)\n",
        "      acheived_goal = 0\n",
        "    rewardslist.append(total_reward)\n",
        "\n",
        "  print('---------------------------')\n",
        "  print(\"TRAINING ENDED\")\n",
        "  return rewardslist,agent.Q\n"
      ]
    },
    {
      "cell_type": "code",
      "execution_count": 7,
      "metadata": {
        "colab": {
          "base_uri": "https://localhost:8080/"
        },
        "id": "PfoyuZUd6tbV",
        "outputId": "c6f843d3-d543-4d55-9e0c-4c300f0ba0aa"
      },
      "outputs": [
        {
          "name": "stdout",
          "output_type": "stream",
          "text": [
            "TRAINING STARTED\n",
            "---------------------------\n",
            "TRAINING ENDED\n"
          ]
        }
      ],
      "source": [
        "reward,Q_vals = tuning()\n",
        "#dict(zip(list(range(0,36)),Q_vals))"
      ]
    },
    {
      "cell_type": "code",
      "execution_count": 11,
      "metadata": {
        "colab": {
          "base_uri": "https://localhost:8080/",
          "height": 313
        },
        "id": "1QLg2YRg7jaa",
        "outputId": "ab02b706-e136-47ad-98b7-0edd27bc6ef2"
      },
      "outputs": [
        {
          "data": {
            "text/plain": [
              "[<matplotlib.lines.Line2D at 0x7feff21a08d0>]"
            ]
          },
          "execution_count": 11,
          "metadata": {},
          "output_type": "execute_result"
        },
        {
          "data": {
            "image/png": "[encoded data removed]",
            "text/plain": [
              "<Figure size 432x288 with 1 Axes>"
            ]
          },
          "metadata": {
            "needs_background": "light"
          },
          "output_type": "display_data"
        }
      ],
      "source": [
        "plt.title(\"TOTAL REWARDS vs EPISODE\")\n",
        "plt.xlabel(\"EPISODES\")\n",
        "plt.ylabel(\"TOTAL REWARD PER EPISODE \")\n",
        "plt.plot(list(range(len(reward))),reward)"
      ]
    },
    {
      "cell_type": "markdown",
      "metadata": {
        "id": "OQ5tjUHQnxDP"
      },
      "source": [
        "**<center> --------------- LETTING AGENT CHOOSE ONLY GREEDY ACTIONS FOR 10 EPISODES USING THE OBTAINED Q VALUES FROM THE ABOVE TRANING ------------------</center>**"
      ]
    },
    {
      "cell_type": "code",
      "execution_count": 12,
      "metadata": {
        "id": "6oQmcdIo7jfo"
      },
      "outputs": [],
      "source": [
        "def tuning(Q_vals,epsilon):\n",
        "  class Field(gym.Env):\n",
        "    metadata = { 'render.modes': []}\n",
        "\n",
        "    def __init__(self):\n",
        "      self.observation_space = spaces.Discrete(36)\n",
        "      self.action_space = spaces.Discrete(4)\n",
        "      self.max_timesteps = 110\n",
        "\n",
        "    def reset(self):\n",
        "      self.step_count = 0\n",
        "      self.player = [0, 0]\n",
        "      self.ladder1 = [4,0]\n",
        "      self.ladder2 = [2,0]\n",
        "      self.snake1 = [3,1]\n",
        "      self.snake2 = [2,3]\n",
        "      self.goal = [5, 5]\n",
        "      self.field = np.zeros((6,6))\n",
        "      self.field[tuple(self.player)] = 1\n",
        "      self.field[tuple(self.goal)] = 10\n",
        "      self.field[tuple(self.ladder1)] = 7\n",
        "      self.field[tuple(self.ladder2)] = 4\n",
        "      self.field[tuple(self.snake1)] = -1\n",
        "      self.field[tuple(self.snake2)] = -2\n",
        "      self.field_ids = np.array([i for i in range(36)]).reshape((6,6))\n",
        "      self.observation = self.field.flatten()\n",
        "\n",
        "    def step(self, action):\n",
        "      self.field = np.random.choice(self.observation_space.n)\n",
        "      #[0,1,2,3],['UP','DOWN','RIGHT','LEFT']\n",
        "      if action == 0:\n",
        "        self.player[1] += 1\n",
        "      if action == 1:\n",
        "        self.player[1] -= 1\n",
        "      if action == 2:\n",
        "        self.player[0] += 1\n",
        "      if action == 3:\n",
        "        self.player[0] -= 1\n",
        "\n",
        "      self.player = np.clip(self.player, 0, 5)\n",
        "      self.field = np.zeros((6,6))\n",
        "      self.field[tuple(self.player)] = 1\n",
        "      self.field[tuple(self.goal)] = 10\n",
        "      self.field[tuple(self.ladder1)] = 7\n",
        "      self.field[tuple(self.ladder2)] = 4\n",
        "      self.field[tuple(self.snake1)] = -1\n",
        "      self.field[tuple(self.snake2)] = -2\n",
        "      observation = self.field.flatten()\n",
        "      self.step_count += 1    \n",
        "      info = {}\n",
        "      state = self.field_ids[tuple(self.player)]\n",
        "      reward = self.observation[state] \n",
        "      done = True if (state == 35) or (env.step_count >= env.max_timesteps) else False\n",
        "\n",
        "      return reward, done, int(state), info\n",
        "\n",
        "\n",
        "    def render(self):\n",
        "      sb.heatmap(self.field, annot = True, linewidth = 1, cmap = 'Blues')\n",
        "\n",
        "  class randomAgent():\n",
        "    def __init__(self,env):\n",
        "      self.actions = env.action_space\n",
        "      self.states = env.field\n",
        "      self.epsilon = 0.9\n",
        "      self.alpha = 0.9\n",
        "      self.gamma = 0.95\n",
        "      self.Q = Q_vals #np.zeros((36,4))\n",
        "    \n",
        "    def think(self,state):\n",
        "      action = 0\n",
        "      if np.random.uniform(0,1) < self.epsilon:\n",
        "        action = self.actions.sample()\n",
        "      else:\n",
        "        action = np.argmax(self.Q[state,:])\n",
        "      return action\n",
        "    \n",
        "    def q_update(self,state,action,state2,action2,reward):\n",
        "      pred = self.Q[state,action]\n",
        "      future_rwd = reward + self.gamma * self.Q[state2,action2]\n",
        "      self.Q[state,action] = self.Q[state,action] + self.alpha*(future_rwd - pred)\n",
        "\n",
        "  env = Field()\n",
        "  env.reset()\n",
        "  agent = randomAgent(env)\n",
        "\n",
        "  state = env.field[tuple([0,0])]\n",
        "  epsilon_values = []\n",
        "  penalities = []\n",
        "  no_of_times_acheived_goal = []\n",
        "  rewardslist = []\n",
        "  average_timesteps = []\n",
        "  acheived_goal = 0\n",
        "  pnlty = 0\n",
        "  episodes = 10\n",
        "  agent.epsilon = 0\n",
        "\n",
        "  print(\"TRAINING STARTED\")\n",
        "\n",
        "  for i in range(episodes):\n",
        "    env.reset()\n",
        "    done = False\n",
        "    state = 0\n",
        "    total_reward = 0\n",
        "    action = agent.think(state)\n",
        "\n",
        "    while not done:\n",
        "      reward,done,state2,info = env.step(action)\n",
        "      #print(\"EPISODE: \",i,\" \",reward)\n",
        "      if state2 in [env.field_ids[tuple(env.snake1)], env.field_ids[tuple(env.snake2)]]:\n",
        "        pnlty+=1    \n",
        "      if state2 == 35:\n",
        "        acheived_goal+=1\n",
        "\n",
        "      action2 = agent.think(state2)\n",
        "      agent.q_update(state,action,state2,action2,reward)\n",
        "      state = state2\n",
        "      action = action2\n",
        "      agent.epsilon = 0.01 + (0.99)*np.exp(-0.001*i)\n",
        "      total_reward = total_reward + reward    \n",
        "      #print(\"-=-=-=-=-=-=-=-\")\n",
        "      if done:\n",
        "        break\n",
        "\n",
        "    epsilon_values.append(agent.epsilon)\n",
        "    p = (env.step_count/env.max_timesteps)*100\n",
        "    average_timesteps.append(p)\n",
        "    check_100 = (i+1) % 100\n",
        "    if not check_100:   \n",
        "      #print(\"inininin\") \n",
        "      penalities.append(pnlty)\n",
        "      pnlty = 0\n",
        "      no_of_times_acheived_goal.append(acheived_goal)\n",
        "      acheived_goal = 0\n",
        "    rewardslist.append(total_reward)\n",
        "\n",
        "  print('---------------------------')\n",
        "  print(\"TRAINING ENDED\")\n",
        "  return rewardslist,agent.Q\n"
      ]
    },
    {
      "cell_type": "code",
      "execution_count": 13,
      "metadata": {
        "colab": {
          "base_uri": "https://localhost:8080/"
        },
        "id": "MVh0Hh2k7jr_",
        "outputId": "5f1322a1-d570-427a-bbd3-e56e63fd45c0"
      },
      "outputs": [
        {
          "name": "stdout",
          "output_type": "stream",
          "text": [
            "TRAINING STARTED\n",
            "---------------------------\n",
            "TRAINING ENDED\n"
          ]
        }
      ],
      "source": [
        "epsilon = 0\n",
        "rewardslist,Q_vals = tuning(Q_vals,epsilon)\n",
        "#dict(zip(list(range(0,36)),Q_vals))"
      ]
    },
    {
      "cell_type": "code",
      "execution_count": 14,
      "metadata": {
        "colab": {
          "base_uri": "https://localhost:8080/",
          "height": 313
        },
        "id": "HnpavVaPRlZd",
        "outputId": "1beac6f9-5ddc-4e35-bdc3-84f5a10f6c0f"
      },
      "outputs": [
        {
          "data": {
            "text/plain": [
              "[<matplotlib.lines.Line2D at 0x7feff20b7f50>]"
            ]
          },
          "execution_count": 14,
          "metadata": {},
          "output_type": "execute_result"
        },
        {
          "data": {
            "image/png": "[encoded data removed]",
            "text/plain": [
              "<Figure size 432x288 with 1 Axes>"
            ]
          },
          "metadata": {
            "needs_background": "light"
          },
          "output_type": "display_data"
        }
      ],
      "source": [
        "plt.title(\"TOTAL REWARDS vs EPISODE\")\n",
        "plt.xlabel(\"EPISODES\")\n",
        "plt.ylabel(\"TOTAL REWARD PER EPISODE \")\n",
        "plt.plot(list(range(len(rewardslist))),rewardslist)"
      ]
    },
    {
      "cell_type": "markdown",
      "metadata": {
        "id": "GruhpIB3lAcf"
      },
      "source": [
        "**REFERENCES**<br>\n",
        "1. https://medium.com/swlh/introduction-to-reinforcement-learning-coding-sarsa-part-4-2d64d6e37617<br>\n",
        "2. https://towardsdatascience.com/reinforcement-learning-101-e24b50e1d292<br>\n",
        "3. https://deepsense.ai/what-is-reinforcement-learning-the-complete-guide/<br>\n",
        "4. https://www.geeksforgeeks.org/epsilon-greedy-algorithm-in-reinforcement-learning/<br>\n",
        "5. https://towardsdatascience.com/double-q-learning-the-easy-way-a924c4085ec3<br>\n",
        "6. https://www.google.com/search?q=reward+graph+in+reinforcement+learning+model&sxsrf=ALiCzsbNA-FyW-Z11SO_g3hXINfowjeq6w:1651887177338&tbm=isch&source=iu&ictx=1&vet=1&fir=mVVhdljgmHc5tM%252CpR4PwAdWVkD6yM%252C_%253BzpEmLfCc4_z63M%252CsgNTSAOWgc9iEM%252C_%253BE9hgcQQMzZu7PM%252Cf90WdVNtDqE1ZM%252C_%253BxBlOtZJ8gDKZ4M%252CRTy0OHptaQ_jZM%252C_%253Brhbf4KCskB1ARM%252CvmAXlut6BVVG2M%252C_%253Br4eXDxSvZFlJfM%252CsgNTSAOWgc9iEM%252C_%253Bg8BJj3yQhgkx1M%252CrGGbt1VH_xachM%252C_%253BnXc9F0-q0z499M%252CkXIrzXyOzEQLdM%252C_%253BNnlfUMmd50JG9M%252CatIOdoZXPLjfSM%252C_%253BpZcZC5_FV0V1HM%252CvmAXlut6BVVG2M%252C_&usg=AI4_-kSelYYz5h22CC9GHYY9QxGnuJxzLQ&sa=X&ved=2ahUKEwjN2aejn8z3AhWMk4kEHQJKCNgQ9QF6BAgGEAE#imgrc=mVVhdljgmHc5tM"
      ]
    },
    {
      "cell_type": "code",
      "execution_count": null,
      "metadata": {
        "id": "izKh58Fi_OCC"
      },
      "outputs": [],
      "source": []
    }
  ],
  "metadata": {
    "colab": {
      "collapsed_sections": [],
      "name": "rbhaviri_ypabbath_assignment_4_final.ipynb",
      "provenance": []
    },
    "kernelspec": {
      "display_name": "Python 3 (ipykernel)",
      "language": "python",
      "name": "python3"
    },
    "language_info": {
      "codemirror_mode": {
        "name": "ipython",
        "version": 3
      },
      "file_extension": ".py",
      "mimetype": "text/x-python",
      "name": "python",
      "nbconvert_exporter": "python",
      "pygments_lexer": "ipython3",
      "version": "3.9.7"
    }
  },
  "nbformat": 4,
  "nbformat_minor": 0
}
