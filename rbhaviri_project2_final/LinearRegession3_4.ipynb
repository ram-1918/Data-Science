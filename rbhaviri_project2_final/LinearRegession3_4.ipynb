{
 "cells": [
  {
   "cell_type": "markdown",
   "id": "98d65381",
   "metadata": {},
   "source": [
    "<center><h2>PART III and IV</h2></center>\n",
    "<center><h3> Linear Regression </h3></center>"
   ]
  },
  {
   "cell_type": "markdown",
   "id": "a4f7fde9",
   "metadata": {},
   "source": [
    "I certify that the code and data in this assignment were generated independently, using only the tools and resources defined in the course and that I did not receive any external help, coaching or contributions during the production of this work.\n"
   ]
  },
  {
   "cell_type": "markdown",
   "id": "728b4b3a",
   "metadata": {},
   "source": [
    "Ram Chandra Bhavirisetty(50414405)<br>"
   ]
  },
  {
   "cell_type": "markdown",
   "id": "9b109523",
   "metadata": {},
   "source": [
    "<h3>Step-1: Import Libraries</h3>"
   ]
  },
  {
   "cell_type": "code",
   "execution_count": 1108,
   "id": "0e9e3691",
   "metadata": {},
   "outputs": [],
   "source": [
    "import pandas as pd\n",
    "import numpy as np\n",
    "import matplotlib.pyplot as plt\n",
    "import seaborn as sb\n",
    "import time"
   ]
  },
  {
   "cell_type": "markdown",
   "id": "41051201",
   "metadata": {},
   "source": [
    "<h3> Step-2: Read, Preprocess the data and the Main Statistics </h3>"
   ]
  },
  {
   "cell_type": "code",
   "execution_count": 1109,
   "id": "36400f0c",
   "metadata": {},
   "outputs": [],
   "source": [
    "data = pd.read_csv(\"~/documents/penguins.csv\")"
   ]
  },
  {
   "cell_type": "code",
   "execution_count": 1110,
   "id": "8a717565",
   "metadata": {},
   "outputs": [
    {
     "name": "stdout",
     "output_type": "stream",
     "text": [
      "<class 'pandas.core.frame.DataFrame'>\n",
      "RangeIndex: 344 entries, 0 to 343\n",
      "Data columns (total 8 columns):\n",
      " #   Column             Non-Null Count  Dtype  \n",
      "---  ------             --------------  -----  \n",
      " 0   species            344 non-null    object \n",
      " 1   island             344 non-null    object \n",
      " 2   bill_length_mm     342 non-null    float64\n",
      " 3   bill_depth_mm      342 non-null    float64\n",
      " 4   flipper_length_mm  342 non-null    float64\n",
      " 5   body_mass_g        342 non-null    float64\n",
      " 6   sex                333 non-null    object \n",
      " 7   year               344 non-null    int64  \n",
      "dtypes: float64(4), int64(1), object(3)\n",
      "memory usage: 21.6+ KB\n"
     ]
    }
   ],
   "source": [
    "data.info()"
   ]
  },
  {
   "cell_type": "code",
   "execution_count": 1111,
   "id": "04ae5f2d",
   "metadata": {},
   "outputs": [
    {
     "data": {
      "text/html": [
       "<div>\n",
       "<style scoped>\n",
       "    .dataframe tbody tr th:only-of-type {\n",
       "        vertical-align: middle;\n",
       "    }\n",
       "\n",
       "    .dataframe tbody tr th {\n",
       "        vertical-align: top;\n",
       "    }\n",
       "\n",
       "    .dataframe thead th {\n",
       "        text-align: right;\n",
       "    }\n",
       "</style>\n",
       "<table border=\"1\" class=\"dataframe\">\n",
       "  <thead>\n",
       "    <tr style=\"text-align: right;\">\n",
       "      <th></th>\n",
       "      <th>bill_length_mm</th>\n",
       "      <th>bill_depth_mm</th>\n",
       "      <th>flipper_length_mm</th>\n",
       "      <th>body_mass_g</th>\n",
       "      <th>year</th>\n",
       "    </tr>\n",
       "  </thead>\n",
       "  <tbody>\n",
       "    <tr>\n",
       "      <th>count</th>\n",
       "      <td>342.000000</td>\n",
       "      <td>342.000000</td>\n",
       "      <td>342.000000</td>\n",
       "      <td>342.000000</td>\n",
       "      <td>344.000000</td>\n",
       "    </tr>\n",
       "    <tr>\n",
       "      <th>mean</th>\n",
       "      <td>43.921930</td>\n",
       "      <td>17.151170</td>\n",
       "      <td>200.915205</td>\n",
       "      <td>4201.754386</td>\n",
       "      <td>2008.029070</td>\n",
       "    </tr>\n",
       "    <tr>\n",
       "      <th>std</th>\n",
       "      <td>5.459584</td>\n",
       "      <td>1.974793</td>\n",
       "      <td>14.061714</td>\n",
       "      <td>801.954536</td>\n",
       "      <td>0.818356</td>\n",
       "    </tr>\n",
       "    <tr>\n",
       "      <th>min</th>\n",
       "      <td>32.100000</td>\n",
       "      <td>13.100000</td>\n",
       "      <td>172.000000</td>\n",
       "      <td>2700.000000</td>\n",
       "      <td>2007.000000</td>\n",
       "    </tr>\n",
       "    <tr>\n",
       "      <th>25%</th>\n",
       "      <td>39.225000</td>\n",
       "      <td>15.600000</td>\n",
       "      <td>190.000000</td>\n",
       "      <td>3550.000000</td>\n",
       "      <td>2007.000000</td>\n",
       "    </tr>\n",
       "    <tr>\n",
       "      <th>50%</th>\n",
       "      <td>44.450000</td>\n",
       "      <td>17.300000</td>\n",
       "      <td>197.000000</td>\n",
       "      <td>4050.000000</td>\n",
       "      <td>2008.000000</td>\n",
       "    </tr>\n",
       "    <tr>\n",
       "      <th>75%</th>\n",
       "      <td>48.500000</td>\n",
       "      <td>18.700000</td>\n",
       "      <td>213.000000</td>\n",
       "      <td>4750.000000</td>\n",
       "      <td>2009.000000</td>\n",
       "    </tr>\n",
       "    <tr>\n",
       "      <th>max</th>\n",
       "      <td>59.600000</td>\n",
       "      <td>21.500000</td>\n",
       "      <td>231.000000</td>\n",
       "      <td>6300.000000</td>\n",
       "      <td>2009.000000</td>\n",
       "    </tr>\n",
       "  </tbody>\n",
       "</table>\n",
       "</div>"
      ],
      "text/plain": [
       "       bill_length_mm  bill_depth_mm  flipper_length_mm  body_mass_g  \\\n",
       "count      342.000000     342.000000         342.000000   342.000000   \n",
       "mean        43.921930      17.151170         200.915205  4201.754386   \n",
       "std          5.459584       1.974793          14.061714   801.954536   \n",
       "min         32.100000      13.100000         172.000000  2700.000000   \n",
       "25%         39.225000      15.600000         190.000000  3550.000000   \n",
       "50%         44.450000      17.300000         197.000000  4050.000000   \n",
       "75%         48.500000      18.700000         213.000000  4750.000000   \n",
       "max         59.600000      21.500000         231.000000  6300.000000   \n",
       "\n",
       "              year  \n",
       "count   344.000000  \n",
       "mean   2008.029070  \n",
       "std       0.818356  \n",
       "min    2007.000000  \n",
       "25%    2007.000000  \n",
       "50%    2008.000000  \n",
       "75%    2009.000000  \n",
       "max    2009.000000  "
      ]
     },
     "execution_count": 1111,
     "metadata": {},
     "output_type": "execute_result"
    }
   ],
   "source": [
    "data.describe()"
   ]
  },
  {
   "cell_type": "code",
   "execution_count": 1112,
   "id": "30f8e150",
   "metadata": {},
   "outputs": [
    {
     "data": {
      "text/plain": [
       "(344, 8)"
      ]
     },
     "execution_count": 1112,
     "metadata": {},
     "output_type": "execute_result"
    }
   ],
   "source": [
    "data.shape"
   ]
  },
  {
   "cell_type": "code",
   "execution_count": 1113,
   "id": "48e1e058",
   "metadata": {},
   "outputs": [
    {
     "data": {
      "text/html": [
       "<div>\n",
       "<style scoped>\n",
       "    .dataframe tbody tr th:only-of-type {\n",
       "        vertical-align: middle;\n",
       "    }\n",
       "\n",
       "    .dataframe tbody tr th {\n",
       "        vertical-align: top;\n",
       "    }\n",
       "\n",
       "    .dataframe thead th {\n",
       "        text-align: right;\n",
       "    }\n",
       "</style>\n",
       "<table border=\"1\" class=\"dataframe\">\n",
       "  <thead>\n",
       "    <tr style=\"text-align: right;\">\n",
       "      <th></th>\n",
       "      <th>species</th>\n",
       "      <th>island</th>\n",
       "      <th>bill_length_mm</th>\n",
       "      <th>bill_depth_mm</th>\n",
       "      <th>flipper_length_mm</th>\n",
       "      <th>body_mass_g</th>\n",
       "      <th>sex</th>\n",
       "      <th>year</th>\n",
       "    </tr>\n",
       "  </thead>\n",
       "  <tbody>\n",
       "    <tr>\n",
       "      <th>0</th>\n",
       "      <td>Adelie</td>\n",
       "      <td>Torgersen</td>\n",
       "      <td>39.1</td>\n",
       "      <td>18.7</td>\n",
       "      <td>181.0</td>\n",
       "      <td>3750.0</td>\n",
       "      <td>male</td>\n",
       "      <td>2007</td>\n",
       "    </tr>\n",
       "    <tr>\n",
       "      <th>1</th>\n",
       "      <td>Adelie</td>\n",
       "      <td>Torgersen</td>\n",
       "      <td>39.5</td>\n",
       "      <td>17.4</td>\n",
       "      <td>186.0</td>\n",
       "      <td>3800.0</td>\n",
       "      <td>female</td>\n",
       "      <td>2007</td>\n",
       "    </tr>\n",
       "    <tr>\n",
       "      <th>2</th>\n",
       "      <td>Adelie</td>\n",
       "      <td>Torgersen</td>\n",
       "      <td>40.3</td>\n",
       "      <td>18.0</td>\n",
       "      <td>195.0</td>\n",
       "      <td>3250.0</td>\n",
       "      <td>female</td>\n",
       "      <td>2007</td>\n",
       "    </tr>\n",
       "    <tr>\n",
       "      <th>3</th>\n",
       "      <td>Adelie</td>\n",
       "      <td>Torgersen</td>\n",
       "      <td>NaN</td>\n",
       "      <td>NaN</td>\n",
       "      <td>NaN</td>\n",
       "      <td>NaN</td>\n",
       "      <td>NaN</td>\n",
       "      <td>2007</td>\n",
       "    </tr>\n",
       "    <tr>\n",
       "      <th>4</th>\n",
       "      <td>Adelie</td>\n",
       "      <td>Torgersen</td>\n",
       "      <td>36.7</td>\n",
       "      <td>19.3</td>\n",
       "      <td>193.0</td>\n",
       "      <td>3450.0</td>\n",
       "      <td>female</td>\n",
       "      <td>2007</td>\n",
       "    </tr>\n",
       "  </tbody>\n",
       "</table>\n",
       "</div>"
      ],
      "text/plain": [
       "  species     island  bill_length_mm  bill_depth_mm  flipper_length_mm  \\\n",
       "0  Adelie  Torgersen            39.1           18.7              181.0   \n",
       "1  Adelie  Torgersen            39.5           17.4              186.0   \n",
       "2  Adelie  Torgersen            40.3           18.0              195.0   \n",
       "3  Adelie  Torgersen             NaN            NaN                NaN   \n",
       "4  Adelie  Torgersen            36.7           19.3              193.0   \n",
       "\n",
       "   body_mass_g     sex  year  \n",
       "0       3750.0    male  2007  \n",
       "1       3800.0  female  2007  \n",
       "2       3250.0  female  2007  \n",
       "3          NaN     NaN  2007  \n",
       "4       3450.0  female  2007  "
      ]
     },
     "execution_count": 1113,
     "metadata": {},
     "output_type": "execute_result"
    }
   ],
   "source": [
    "data.head()"
   ]
  },
  {
   "cell_type": "markdown",
   "id": "ed641fbb",
   "metadata": {},
   "source": [
    "<h3> Data Cleaning </h3>"
   ]
  },
  {
   "cell_type": "code",
   "execution_count": 1114,
   "id": "2edbdcd1",
   "metadata": {},
   "outputs": [
    {
     "data": {
      "text/html": [
       "<div>\n",
       "<style scoped>\n",
       "    .dataframe tbody tr th:only-of-type {\n",
       "        vertical-align: middle;\n",
       "    }\n",
       "\n",
       "    .dataframe tbody tr th {\n",
       "        vertical-align: top;\n",
       "    }\n",
       "\n",
       "    .dataframe thead th {\n",
       "        text-align: right;\n",
       "    }\n",
       "</style>\n",
       "<table border=\"1\" class=\"dataframe\">\n",
       "  <thead>\n",
       "    <tr style=\"text-align: right;\">\n",
       "      <th></th>\n",
       "      <th>species</th>\n",
       "      <th>island</th>\n",
       "      <th>bill_length_mm</th>\n",
       "      <th>bill_depth_mm</th>\n",
       "      <th>flipper_length_mm</th>\n",
       "      <th>body_mass_g</th>\n",
       "      <th>sex</th>\n",
       "    </tr>\n",
       "  </thead>\n",
       "  <tbody>\n",
       "    <tr>\n",
       "      <th>3</th>\n",
       "      <td>Adelie</td>\n",
       "      <td>Torgersen</td>\n",
       "      <td>NaN</td>\n",
       "      <td>NaN</td>\n",
       "      <td>NaN</td>\n",
       "      <td>NaN</td>\n",
       "      <td>NaN</td>\n",
       "    </tr>\n",
       "    <tr>\n",
       "      <th>8</th>\n",
       "      <td>Adelie</td>\n",
       "      <td>Torgersen</td>\n",
       "      <td>34.1</td>\n",
       "      <td>18.1</td>\n",
       "      <td>193.0</td>\n",
       "      <td>3475.0</td>\n",
       "      <td>NaN</td>\n",
       "    </tr>\n",
       "    <tr>\n",
       "      <th>9</th>\n",
       "      <td>Adelie</td>\n",
       "      <td>Torgersen</td>\n",
       "      <td>42.0</td>\n",
       "      <td>20.2</td>\n",
       "      <td>190.0</td>\n",
       "      <td>4250.0</td>\n",
       "      <td>NaN</td>\n",
       "    </tr>\n",
       "    <tr>\n",
       "      <th>10</th>\n",
       "      <td>Adelie</td>\n",
       "      <td>Torgersen</td>\n",
       "      <td>37.8</td>\n",
       "      <td>17.1</td>\n",
       "      <td>186.0</td>\n",
       "      <td>3300.0</td>\n",
       "      <td>NaN</td>\n",
       "    </tr>\n",
       "    <tr>\n",
       "      <th>11</th>\n",
       "      <td>Adelie</td>\n",
       "      <td>Torgersen</td>\n",
       "      <td>37.8</td>\n",
       "      <td>17.3</td>\n",
       "      <td>180.0</td>\n",
       "      <td>3700.0</td>\n",
       "      <td>NaN</td>\n",
       "    </tr>\n",
       "    <tr>\n",
       "      <th>47</th>\n",
       "      <td>Adelie</td>\n",
       "      <td>Dream</td>\n",
       "      <td>37.5</td>\n",
       "      <td>18.9</td>\n",
       "      <td>179.0</td>\n",
       "      <td>2975.0</td>\n",
       "      <td>NaN</td>\n",
       "    </tr>\n",
       "    <tr>\n",
       "      <th>178</th>\n",
       "      <td>Gentoo</td>\n",
       "      <td>Biscoe</td>\n",
       "      <td>44.5</td>\n",
       "      <td>14.3</td>\n",
       "      <td>216.0</td>\n",
       "      <td>4100.0</td>\n",
       "      <td>NaN</td>\n",
       "    </tr>\n",
       "    <tr>\n",
       "      <th>218</th>\n",
       "      <td>Gentoo</td>\n",
       "      <td>Biscoe</td>\n",
       "      <td>46.2</td>\n",
       "      <td>14.4</td>\n",
       "      <td>214.0</td>\n",
       "      <td>4650.0</td>\n",
       "      <td>NaN</td>\n",
       "    </tr>\n",
       "    <tr>\n",
       "      <th>256</th>\n",
       "      <td>Gentoo</td>\n",
       "      <td>Biscoe</td>\n",
       "      <td>47.3</td>\n",
       "      <td>13.8</td>\n",
       "      <td>216.0</td>\n",
       "      <td>4725.0</td>\n",
       "      <td>NaN</td>\n",
       "    </tr>\n",
       "    <tr>\n",
       "      <th>268</th>\n",
       "      <td>Gentoo</td>\n",
       "      <td>Biscoe</td>\n",
       "      <td>44.5</td>\n",
       "      <td>15.7</td>\n",
       "      <td>217.0</td>\n",
       "      <td>4875.0</td>\n",
       "      <td>NaN</td>\n",
       "    </tr>\n",
       "    <tr>\n",
       "      <th>271</th>\n",
       "      <td>Gentoo</td>\n",
       "      <td>Biscoe</td>\n",
       "      <td>NaN</td>\n",
       "      <td>NaN</td>\n",
       "      <td>NaN</td>\n",
       "      <td>NaN</td>\n",
       "      <td>NaN</td>\n",
       "    </tr>\n",
       "  </tbody>\n",
       "</table>\n",
       "</div>"
      ],
      "text/plain": [
       "    species     island  bill_length_mm  bill_depth_mm  flipper_length_mm  \\\n",
       "3    Adelie  Torgersen             NaN            NaN                NaN   \n",
       "8    Adelie  Torgersen            34.1           18.1              193.0   \n",
       "9    Adelie  Torgersen            42.0           20.2              190.0   \n",
       "10   Adelie  Torgersen            37.8           17.1              186.0   \n",
       "11   Adelie  Torgersen            37.8           17.3              180.0   \n",
       "47   Adelie      Dream            37.5           18.9              179.0   \n",
       "178  Gentoo     Biscoe            44.5           14.3              216.0   \n",
       "218  Gentoo     Biscoe            46.2           14.4              214.0   \n",
       "256  Gentoo     Biscoe            47.3           13.8              216.0   \n",
       "268  Gentoo     Biscoe            44.5           15.7              217.0   \n",
       "271  Gentoo     Biscoe             NaN            NaN                NaN   \n",
       "\n",
       "     body_mass_g  sex  \n",
       "3            NaN  NaN  \n",
       "8         3475.0  NaN  \n",
       "9         4250.0  NaN  \n",
       "10        3300.0  NaN  \n",
       "11        3700.0  NaN  \n",
       "47        2975.0  NaN  \n",
       "178       4100.0  NaN  \n",
       "218       4650.0  NaN  \n",
       "256       4725.0  NaN  \n",
       "268       4875.0  NaN  \n",
       "271          NaN  NaN  "
      ]
     },
     "execution_count": 1114,
     "metadata": {},
     "output_type": "execute_result"
    }
   ],
   "source": [
    "data.drop(['year'],axis=1,inplace=True)\n",
    "data[data.isnull().any(axis=1)]"
   ]
  },
  {
   "cell_type": "markdown",
   "id": "58fd6ed4",
   "metadata": {},
   "source": [
    "<h3> Replaced Null values with median.</h3>"
   ]
  },
  {
   "cell_type": "code",
   "execution_count": 1002,
   "id": "aedf91a1",
   "metadata": {},
   "outputs": [],
   "source": [
    "med_2=data.iloc[:,2].median()\n",
    "med_3=data.iloc[:,3].median()\n",
    "med_4=data.iloc[:,4].median()\n",
    "med_5=data.iloc[:,5].median()\n",
    "mod_6=data.iloc[:,6].mode()"
   ]
  },
  {
   "cell_type": "code",
   "execution_count": 1003,
   "id": "9fb5f50f",
   "metadata": {},
   "outputs": [],
   "source": [
    "value={'bill_length_mm':med_2,'bill_depth_mm':med_3,'flipper_length_mm':med_4,'body_mass_g':med_5}\n",
    "data.iloc[[3,271],2:6]=data.iloc[[3,271],2:6].fillna(value=value)"
   ]
  },
  {
   "cell_type": "code",
   "execution_count": 1004,
   "id": "35426bda",
   "metadata": {},
   "outputs": [
    {
     "data": {
      "text/html": [
       "<div>\n",
       "<style scoped>\n",
       "    .dataframe tbody tr th:only-of-type {\n",
       "        vertical-align: middle;\n",
       "    }\n",
       "\n",
       "    .dataframe tbody tr th {\n",
       "        vertical-align: top;\n",
       "    }\n",
       "\n",
       "    .dataframe thead th {\n",
       "        text-align: right;\n",
       "    }\n",
       "</style>\n",
       "<table border=\"1\" class=\"dataframe\">\n",
       "  <thead>\n",
       "    <tr style=\"text-align: right;\">\n",
       "      <th></th>\n",
       "      <th>species</th>\n",
       "      <th>island</th>\n",
       "      <th>bill_length_mm</th>\n",
       "      <th>bill_depth_mm</th>\n",
       "      <th>flipper_length_mm</th>\n",
       "      <th>body_mass_g</th>\n",
       "      <th>sex</th>\n",
       "    </tr>\n",
       "  </thead>\n",
       "  <tbody>\n",
       "    <tr>\n",
       "      <th>3</th>\n",
       "      <td>Adelie</td>\n",
       "      <td>Torgersen</td>\n",
       "      <td>44.45</td>\n",
       "      <td>17.3</td>\n",
       "      <td>197.0</td>\n",
       "      <td>4050.0</td>\n",
       "      <td>NaN</td>\n",
       "    </tr>\n",
       "    <tr>\n",
       "      <th>8</th>\n",
       "      <td>Adelie</td>\n",
       "      <td>Torgersen</td>\n",
       "      <td>34.10</td>\n",
       "      <td>18.1</td>\n",
       "      <td>193.0</td>\n",
       "      <td>3475.0</td>\n",
       "      <td>NaN</td>\n",
       "    </tr>\n",
       "    <tr>\n",
       "      <th>9</th>\n",
       "      <td>Adelie</td>\n",
       "      <td>Torgersen</td>\n",
       "      <td>42.00</td>\n",
       "      <td>20.2</td>\n",
       "      <td>190.0</td>\n",
       "      <td>4250.0</td>\n",
       "      <td>NaN</td>\n",
       "    </tr>\n",
       "    <tr>\n",
       "      <th>10</th>\n",
       "      <td>Adelie</td>\n",
       "      <td>Torgersen</td>\n",
       "      <td>37.80</td>\n",
       "      <td>17.1</td>\n",
       "      <td>186.0</td>\n",
       "      <td>3300.0</td>\n",
       "      <td>NaN</td>\n",
       "    </tr>\n",
       "    <tr>\n",
       "      <th>11</th>\n",
       "      <td>Adelie</td>\n",
       "      <td>Torgersen</td>\n",
       "      <td>37.80</td>\n",
       "      <td>17.3</td>\n",
       "      <td>180.0</td>\n",
       "      <td>3700.0</td>\n",
       "      <td>NaN</td>\n",
       "    </tr>\n",
       "    <tr>\n",
       "      <th>47</th>\n",
       "      <td>Adelie</td>\n",
       "      <td>Dream</td>\n",
       "      <td>37.50</td>\n",
       "      <td>18.9</td>\n",
       "      <td>179.0</td>\n",
       "      <td>2975.0</td>\n",
       "      <td>NaN</td>\n",
       "    </tr>\n",
       "    <tr>\n",
       "      <th>178</th>\n",
       "      <td>Gentoo</td>\n",
       "      <td>Biscoe</td>\n",
       "      <td>44.50</td>\n",
       "      <td>14.3</td>\n",
       "      <td>216.0</td>\n",
       "      <td>4100.0</td>\n",
       "      <td>NaN</td>\n",
       "    </tr>\n",
       "    <tr>\n",
       "      <th>218</th>\n",
       "      <td>Gentoo</td>\n",
       "      <td>Biscoe</td>\n",
       "      <td>46.20</td>\n",
       "      <td>14.4</td>\n",
       "      <td>214.0</td>\n",
       "      <td>4650.0</td>\n",
       "      <td>NaN</td>\n",
       "    </tr>\n",
       "    <tr>\n",
       "      <th>256</th>\n",
       "      <td>Gentoo</td>\n",
       "      <td>Biscoe</td>\n",
       "      <td>47.30</td>\n",
       "      <td>13.8</td>\n",
       "      <td>216.0</td>\n",
       "      <td>4725.0</td>\n",
       "      <td>NaN</td>\n",
       "    </tr>\n",
       "    <tr>\n",
       "      <th>268</th>\n",
       "      <td>Gentoo</td>\n",
       "      <td>Biscoe</td>\n",
       "      <td>44.50</td>\n",
       "      <td>15.7</td>\n",
       "      <td>217.0</td>\n",
       "      <td>4875.0</td>\n",
       "      <td>NaN</td>\n",
       "    </tr>\n",
       "    <tr>\n",
       "      <th>271</th>\n",
       "      <td>Gentoo</td>\n",
       "      <td>Biscoe</td>\n",
       "      <td>44.45</td>\n",
       "      <td>17.3</td>\n",
       "      <td>197.0</td>\n",
       "      <td>4050.0</td>\n",
       "      <td>NaN</td>\n",
       "    </tr>\n",
       "  </tbody>\n",
       "</table>\n",
       "</div>"
      ],
      "text/plain": [
       "    species     island  bill_length_mm  bill_depth_mm  flipper_length_mm  \\\n",
       "3    Adelie  Torgersen           44.45           17.3              197.0   \n",
       "8    Adelie  Torgersen           34.10           18.1              193.0   \n",
       "9    Adelie  Torgersen           42.00           20.2              190.0   \n",
       "10   Adelie  Torgersen           37.80           17.1              186.0   \n",
       "11   Adelie  Torgersen           37.80           17.3              180.0   \n",
       "47   Adelie      Dream           37.50           18.9              179.0   \n",
       "178  Gentoo     Biscoe           44.50           14.3              216.0   \n",
       "218  Gentoo     Biscoe           46.20           14.4              214.0   \n",
       "256  Gentoo     Biscoe           47.30           13.8              216.0   \n",
       "268  Gentoo     Biscoe           44.50           15.7              217.0   \n",
       "271  Gentoo     Biscoe           44.45           17.3              197.0   \n",
       "\n",
       "     body_mass_g  sex  \n",
       "3         4050.0  NaN  \n",
       "8         3475.0  NaN  \n",
       "9         4250.0  NaN  \n",
       "10        3300.0  NaN  \n",
       "11        3700.0  NaN  \n",
       "47        2975.0  NaN  \n",
       "178       4100.0  NaN  \n",
       "218       4650.0  NaN  \n",
       "256       4725.0  NaN  \n",
       "268       4875.0  NaN  \n",
       "271       4050.0  NaN  "
      ]
     },
     "execution_count": 1004,
     "metadata": {},
     "output_type": "execute_result"
    }
   ],
   "source": [
    "data[data.isnull().any(axis=1)]"
   ]
  },
  {
   "cell_type": "code",
   "execution_count": 1005,
   "id": "79a53c61",
   "metadata": {},
   "outputs": [
    {
     "data": {
      "text/html": [
       "<div>\n",
       "<style scoped>\n",
       "    .dataframe tbody tr th:only-of-type {\n",
       "        vertical-align: middle;\n",
       "    }\n",
       "\n",
       "    .dataframe tbody tr th {\n",
       "        vertical-align: top;\n",
       "    }\n",
       "\n",
       "    .dataframe thead th {\n",
       "        text-align: right;\n",
       "    }\n",
       "</style>\n",
       "<table border=\"1\" class=\"dataframe\">\n",
       "  <thead>\n",
       "    <tr style=\"text-align: right;\">\n",
       "      <th></th>\n",
       "      <th>species</th>\n",
       "      <th>island</th>\n",
       "      <th>bill_length_mm</th>\n",
       "      <th>bill_depth_mm</th>\n",
       "      <th>flipper_length_mm</th>\n",
       "      <th>body_mass_g</th>\n",
       "      <th>sex</th>\n",
       "    </tr>\n",
       "  </thead>\n",
       "  <tbody>\n",
       "  </tbody>\n",
       "</table>\n",
       "</div>"
      ],
      "text/plain": [
       "Empty DataFrame\n",
       "Columns: [species, island, bill_length_mm, bill_depth_mm, flipper_length_mm, body_mass_g, sex]\n",
       "Index: []"
      ]
     },
     "execution_count": 1005,
     "metadata": {},
     "output_type": "execute_result"
    }
   ],
   "source": [
    "data.loc[:,'sex']=data.loc[:,'sex'].fillna(value=mod_6[0])\n",
    "data[data.isnull().any(axis=1)]"
   ]
  },
  {
   "cell_type": "markdown",
   "id": "0df98d37",
   "metadata": {},
   "source": [
    "<h3> Step-3 Convert features with string data type to categorical and Normalize Categorical</h3>"
   ]
  },
  {
   "cell_type": "code",
   "execution_count": 1006,
   "id": "1ce5200d",
   "metadata": {},
   "outputs": [
    {
     "data": {
      "text/plain": [
       "{'Adelie': 0, 'Gentoo': 1, 'Chinstrap': 2}"
      ]
     },
     "execution_count": 1006,
     "metadata": {},
     "output_type": "execute_result"
    }
   ],
   "source": [
    "species=list(set(data['species']))\n",
    "species_data=dict( zip(list(set(data['species'])),list(range(len(species))) ) )\n",
    "island=list(set(data['island']))\n",
    "island_data=dict( zip( list(set(data['island'])),list(range(len(island))) ) )\n",
    "sex=list(set(data['sex']))\n",
    "sex_data=dict( zip( list( set(data['sex']) ),list(range(len(sex))) ) )\n",
    "species_data"
   ]
  },
  {
   "cell_type": "code",
   "execution_count": 1007,
   "id": "fd9911c9",
   "metadata": {},
   "outputs": [],
   "source": [
    "data.replace(species_data,inplace=True)\n",
    "data.replace(island_data,inplace=True)\n",
    "data.replace(sex_data,inplace=True)"
   ]
  },
  {
   "cell_type": "markdown",
   "id": "548b1c9d",
   "metadata": {},
   "source": [
    "<h3> Normalizing Non-Categorical Data</h3>"
   ]
  },
  {
   "cell_type": "code",
   "execution_count": 1008,
   "id": "7012e7aa",
   "metadata": {},
   "outputs": [],
   "source": [
    "for i in range(data.shape[1]):\n",
    "    if i not in [0,1,6]:\n",
    "        d=data.iloc[:,i]\n",
    "        n=(d-min(d))\n",
    "        m=(max(d)-min(d))\n",
    "        data.iloc[:,i]=n/m"
   ]
  },
  {
   "cell_type": "code",
   "execution_count": 1009,
   "id": "b4a0f8d5",
   "metadata": {},
   "outputs": [
    {
     "data": {
      "text/html": [
       "<div>\n",
       "<style scoped>\n",
       "    .dataframe tbody tr th:only-of-type {\n",
       "        vertical-align: middle;\n",
       "    }\n",
       "\n",
       "    .dataframe tbody tr th {\n",
       "        vertical-align: top;\n",
       "    }\n",
       "\n",
       "    .dataframe thead th {\n",
       "        text-align: right;\n",
       "    }\n",
       "</style>\n",
       "<table border=\"1\" class=\"dataframe\">\n",
       "  <thead>\n",
       "    <tr style=\"text-align: right;\">\n",
       "      <th></th>\n",
       "      <th>species</th>\n",
       "      <th>island</th>\n",
       "      <th>bill_length_mm</th>\n",
       "      <th>bill_depth_mm</th>\n",
       "      <th>flipper_length_mm</th>\n",
       "      <th>body_mass_g</th>\n",
       "      <th>sex</th>\n",
       "    </tr>\n",
       "  </thead>\n",
       "  <tbody>\n",
       "    <tr>\n",
       "      <th>0</th>\n",
       "      <td>0</td>\n",
       "      <td>1</td>\n",
       "      <td>0.254545</td>\n",
       "      <td>0.666667</td>\n",
       "      <td>0.152542</td>\n",
       "      <td>0.291667</td>\n",
       "      <td>1</td>\n",
       "    </tr>\n",
       "    <tr>\n",
       "      <th>1</th>\n",
       "      <td>0</td>\n",
       "      <td>1</td>\n",
       "      <td>0.269091</td>\n",
       "      <td>0.511905</td>\n",
       "      <td>0.237288</td>\n",
       "      <td>0.305556</td>\n",
       "      <td>0</td>\n",
       "    </tr>\n",
       "    <tr>\n",
       "      <th>2</th>\n",
       "      <td>0</td>\n",
       "      <td>1</td>\n",
       "      <td>0.298182</td>\n",
       "      <td>0.583333</td>\n",
       "      <td>0.389831</td>\n",
       "      <td>0.152778</td>\n",
       "      <td>0</td>\n",
       "    </tr>\n",
       "    <tr>\n",
       "      <th>3</th>\n",
       "      <td>0</td>\n",
       "      <td>1</td>\n",
       "      <td>0.449091</td>\n",
       "      <td>0.500000</td>\n",
       "      <td>0.423729</td>\n",
       "      <td>0.375000</td>\n",
       "      <td>1</td>\n",
       "    </tr>\n",
       "    <tr>\n",
       "      <th>4</th>\n",
       "      <td>0</td>\n",
       "      <td>1</td>\n",
       "      <td>0.167273</td>\n",
       "      <td>0.738095</td>\n",
       "      <td>0.355932</td>\n",
       "      <td>0.208333</td>\n",
       "      <td>0</td>\n",
       "    </tr>\n",
       "  </tbody>\n",
       "</table>\n",
       "</div>"
      ],
      "text/plain": [
       "   species  island  bill_length_mm  bill_depth_mm  flipper_length_mm  \\\n",
       "0        0       1        0.254545       0.666667           0.152542   \n",
       "1        0       1        0.269091       0.511905           0.237288   \n",
       "2        0       1        0.298182       0.583333           0.389831   \n",
       "3        0       1        0.449091       0.500000           0.423729   \n",
       "4        0       1        0.167273       0.738095           0.355932   \n",
       "\n",
       "   body_mass_g  sex  \n",
       "0     0.291667    1  \n",
       "1     0.305556    0  \n",
       "2     0.152778    0  \n",
       "3     0.375000    1  \n",
       "4     0.208333    0  "
      ]
     },
     "execution_count": 1009,
     "metadata": {},
     "output_type": "execute_result"
    }
   ],
   "source": [
    "data.head()"
   ]
  },
  {
   "cell_type": "markdown",
   "id": "db5559a5",
   "metadata": {},
   "source": [
    "<h3> Step-4: Feature selection using Correlation Graph.</h3>"
   ]
  },
  {
   "cell_type": "code",
   "execution_count": 1010,
   "id": "6dd33f75",
   "metadata": {},
   "outputs": [
    {
     "data": {
      "text/plain": [
       "Text(0.5, 1.0, 'heatMap')"
      ]
     },
     "execution_count": 1010,
     "metadata": {},
     "output_type": "execute_result"
    },
    {
     "data": {
      "image/png": "[encoded data removed]",
      "text/plain": [
       "<Figure size 432x288 with 2 Axes>"
      ]
     },
     "metadata": {
      "needs_background": "light"
     },
     "output_type": "display_data"
    }
   ],
   "source": [
    "data_corr=data.corr()\n",
    "sb.heatmap(data_corr,annot=True,cmap=\"coolwarm\")\n",
    "plt.title(\"heatMap\")"
   ]
  },
  {
   "cell_type": "markdown",
   "id": "61709a2b",
   "metadata": {},
   "source": [
    "<h3>Visualizations for Features Vs Target</h3>"
   ]
  },
  {
   "cell_type": "code",
   "execution_count": 1011,
   "id": "2de91683",
   "metadata": {},
   "outputs": [
    {
     "data": {
      "text/plain": [
       "Text(0.5, 1.0, 'Flipper_length_mm Vs body_mass_g')"
      ]
     },
     "execution_count": 1011,
     "metadata": {},
     "output_type": "execute_result"
    },
    {
     "data": {
      "image/png": "[encoded data removed]",
      "text/plain": [
       "<Figure size 720x360 with 1 Axes>"
      ]
     },
     "metadata": {
      "needs_background": "light"
     },
     "output_type": "display_data"
    }
   ],
   "source": [
    "fig=plt.figure(figsize=(10,5))\n",
    "plt.scatter(data['flipper_length_mm'],data['body_mass_g'])\n",
    "plt.xlabel('flipper_length_mm',fontsize=12)\n",
    "plt.ylabel('body_mass_g',fontsize=12)\n",
    "plt.title(\"Flipper_length_mm Vs body_mass_g\")"
   ]
  },
  {
   "cell_type": "code",
   "execution_count": 1012,
   "id": "a100794a",
   "metadata": {},
   "outputs": [
    {
     "data": {
      "text/plain": [
       "Text(0.5, 1.0, 'bill_length_mm Vs body_mass_g')"
      ]
     },
     "execution_count": 1012,
     "metadata": {},
     "output_type": "execute_result"
    },
    {
     "data": {
      "image/png": "[encoded data removed]",
      "text/plain": [
       "<Figure size 720x360 with 1 Axes>"
      ]
     },
     "metadata": {
      "needs_background": "light"
     },
     "output_type": "display_data"
    }
   ],
   "source": [
    "fig=plt.figure(figsize=(10,5))\n",
    "plt.scatter(data['bill_length_mm'],data['body_mass_g'])\n",
    "plt.xlabel('bill_length_mm',fontsize=12)\n",
    "plt.ylabel('body_mass_g',fontsize=12)\n",
    "plt.title(\"bill_length_mm Vs body_mass_g\")"
   ]
  },
  {
   "cell_type": "code",
   "execution_count": 1013,
   "id": "7da38340",
   "metadata": {},
   "outputs": [
    {
     "data": {
      "text/plain": [
       "Text(0.5, 1.0, 'sex Vs body_mass_g')"
      ]
     },
     "execution_count": 1013,
     "metadata": {},
     "output_type": "execute_result"
    },
    {
     "data": {
      "image/png": "[encoded data removed]",
      "text/plain": [
       "<Figure size 720x360 with 1 Axes>"
      ]
     },
     "metadata": {
      "needs_background": "light"
     },
     "output_type": "display_data"
    }
   ],
   "source": [
    "fig=plt.figure(figsize=(10,5))\n",
    "plt.bar(data['sex'],data['body_mass_g'])\n",
    "plt.xlabel('sex',fontsize=12)\n",
    "plt.ylabel('body_mass_g',fontsize=12)\n",
    "plt.title(\"sex Vs body_mass_g\")"
   ]
  },
  {
   "cell_type": "code",
   "execution_count": 1014,
   "id": "cce303b6",
   "metadata": {},
   "outputs": [
    {
     "data": {
      "text/plain": [
       "Text(0.5, 1.0, 'bill_depth_mm Vs body_mass_g')"
      ]
     },
     "execution_count": 1014,
     "metadata": {},
     "output_type": "execute_result"
    },
    {
     "data": {
      "image/png": "[encoded data removed]",
      "text/plain": [
       "<Figure size 720x360 with 1 Axes>"
      ]
     },
     "metadata": {
      "needs_background": "light"
     },
     "output_type": "display_data"
    }
   ],
   "source": [
    "fig=plt.figure(figsize=(10,5))\n",
    "plt.scatter(data['bill_depth_mm'],data['body_mass_g'])\n",
    "plt.xlabel('bill_depth_mm',fontsize=12)\n",
    "plt.ylabel('body_mass_g',fontsize=12)\n",
    "plt.title(\"bill_depth_mm Vs body_mass_g\")"
   ]
  },
  {
   "cell_type": "markdown",
   "id": "51838ef7",
   "metadata": {},
   "source": [
    "<h3> Concatenating initial weights column with the data </h3>"
   ]
  },
  {
   "cell_type": "code",
   "execution_count": 1072,
   "id": "f357931d",
   "metadata": {},
   "outputs": [
    {
     "data": {
      "text/html": [
       "<div>\n",
       "<style scoped>\n",
       "    .dataframe tbody tr th:only-of-type {\n",
       "        vertical-align: middle;\n",
       "    }\n",
       "\n",
       "    .dataframe tbody tr th {\n",
       "        vertical-align: top;\n",
       "    }\n",
       "\n",
       "    .dataframe thead th {\n",
       "        text-align: right;\n",
       "    }\n",
       "</style>\n",
       "<table border=\"1\" class=\"dataframe\">\n",
       "  <thead>\n",
       "    <tr style=\"text-align: right;\">\n",
       "      <th></th>\n",
       "      <th>w0</th>\n",
       "      <th>w0</th>\n",
       "      <th>species</th>\n",
       "      <th>island</th>\n",
       "      <th>bill_length_mm</th>\n",
       "      <th>bill_depth_mm</th>\n",
       "      <th>flipper_length_mm</th>\n",
       "      <th>body_mass_g</th>\n",
       "      <th>sex</th>\n",
       "    </tr>\n",
       "  </thead>\n",
       "  <tbody>\n",
       "    <tr>\n",
       "      <th>0</th>\n",
       "      <td>1.0</td>\n",
       "      <td>1.0</td>\n",
       "      <td>0</td>\n",
       "      <td>1</td>\n",
       "      <td>0.254545</td>\n",
       "      <td>0.666667</td>\n",
       "      <td>0.152542</td>\n",
       "      <td>0.291667</td>\n",
       "      <td>1</td>\n",
       "    </tr>\n",
       "    <tr>\n",
       "      <th>1</th>\n",
       "      <td>1.0</td>\n",
       "      <td>1.0</td>\n",
       "      <td>0</td>\n",
       "      <td>1</td>\n",
       "      <td>0.269091</td>\n",
       "      <td>0.511905</td>\n",
       "      <td>0.237288</td>\n",
       "      <td>0.305556</td>\n",
       "      <td>0</td>\n",
       "    </tr>\n",
       "    <tr>\n",
       "      <th>2</th>\n",
       "      <td>1.0</td>\n",
       "      <td>1.0</td>\n",
       "      <td>0</td>\n",
       "      <td>1</td>\n",
       "      <td>0.298182</td>\n",
       "      <td>0.583333</td>\n",
       "      <td>0.389831</td>\n",
       "      <td>0.152778</td>\n",
       "      <td>0</td>\n",
       "    </tr>\n",
       "    <tr>\n",
       "      <th>3</th>\n",
       "      <td>1.0</td>\n",
       "      <td>1.0</td>\n",
       "      <td>0</td>\n",
       "      <td>1</td>\n",
       "      <td>0.449091</td>\n",
       "      <td>0.500000</td>\n",
       "      <td>0.423729</td>\n",
       "      <td>0.375000</td>\n",
       "      <td>1</td>\n",
       "    </tr>\n",
       "    <tr>\n",
       "      <th>4</th>\n",
       "      <td>1.0</td>\n",
       "      <td>1.0</td>\n",
       "      <td>0</td>\n",
       "      <td>1</td>\n",
       "      <td>0.167273</td>\n",
       "      <td>0.738095</td>\n",
       "      <td>0.355932</td>\n",
       "      <td>0.208333</td>\n",
       "      <td>0</td>\n",
       "    </tr>\n",
       "  </tbody>\n",
       "</table>\n",
       "</div>"
      ],
      "text/plain": [
       "    w0   w0  species  island  bill_length_mm  bill_depth_mm  \\\n",
       "0  1.0  1.0        0       1        0.254545       0.666667   \n",
       "1  1.0  1.0        0       1        0.269091       0.511905   \n",
       "2  1.0  1.0        0       1        0.298182       0.583333   \n",
       "3  1.0  1.0        0       1        0.449091       0.500000   \n",
       "4  1.0  1.0        0       1        0.167273       0.738095   \n",
       "\n",
       "   flipper_length_mm  body_mass_g  sex  \n",
       "0           0.152542     0.291667    1  \n",
       "1           0.237288     0.305556    0  \n",
       "2           0.389831     0.152778    0  \n",
       "3           0.423729     0.375000    1  \n",
       "4           0.355932     0.208333    0  "
      ]
     },
     "execution_count": 1072,
     "metadata": {},
     "output_type": "execute_result"
    }
   ],
   "source": [
    "p=np.ones((data.shape[0]))\n",
    "p=pd.DataFrame(p)\n",
    "p.columns=['w0']\n",
    "data=pd.concat([p,data],axis=1)\n",
    "data.head()"
   ]
  },
  {
   "cell_type": "markdown",
   "id": "28a94ef2",
   "metadata": {},
   "source": [
    "<h3> Step-5: Creating input_feature and Target Matrix</h3>"
   ]
  },
  {
   "cell_type": "code",
   "execution_count": 1016,
   "id": "1ea75d4e",
   "metadata": {},
   "outputs": [],
   "source": [
    "X = data.loc[:,['w0','flipper_length_mm','bill_depth_mm','bill_length_mm','sex']]\n",
    "coef = X.columns\n",
    "X = np.array(X)\n",
    "Y = data['body_mass_g']\n",
    "Y = np.array(Y)\n",
    "Y=Y.reshape((X.shape[0],1))"
   ]
  },
  {
   "cell_type": "markdown",
   "id": "72a67822",
   "metadata": {},
   "source": [
    "<h3> Step-6: Training and Test set (70 : 30)</h3>"
   ]
  },
  {
   "cell_type": "code",
   "execution_count": 1017,
   "id": "5b4f2a7c",
   "metadata": {},
   "outputs": [],
   "source": [
    "n=int(0.7*data.shape[0])\n",
    "x_train,x_test,y_train,y_test=X[:n],X[n:],Y[:n],Y[n:]"
   ]
  },
  {
   "cell_type": "markdown",
   "id": "35056e96",
   "metadata": {},
   "source": [
    "<h3> Step-7: Print the shape of train and test sets.</h3>"
   ]
  },
  {
   "cell_type": "code",
   "execution_count": 1018,
   "id": "67312dc2",
   "metadata": {},
   "outputs": [
    {
     "data": {
      "text/html": [
       "<div>\n",
       "<style scoped>\n",
       "    .dataframe tbody tr th:only-of-type {\n",
       "        vertical-align: middle;\n",
       "    }\n",
       "\n",
       "    .dataframe tbody tr th {\n",
       "        vertical-align: top;\n",
       "    }\n",
       "\n",
       "    .dataframe thead th {\n",
       "        text-align: right;\n",
       "    }\n",
       "</style>\n",
       "<table border=\"1\" class=\"dataframe\">\n",
       "  <thead>\n",
       "    <tr style=\"text-align: right;\">\n",
       "      <th></th>\n",
       "      <th>Shape</th>\n",
       "    </tr>\n",
       "  </thead>\n",
       "  <tbody>\n",
       "    <tr>\n",
       "      <th>x_train</th>\n",
       "      <td>(240, 5)</td>\n",
       "    </tr>\n",
       "    <tr>\n",
       "      <th>x_test</th>\n",
       "      <td>(104, 5)</td>\n",
       "    </tr>\n",
       "    <tr>\n",
       "      <th>y_train</th>\n",
       "      <td>(240, 1)</td>\n",
       "    </tr>\n",
       "    <tr>\n",
       "      <th>y_test</th>\n",
       "      <td>(104, 1)</td>\n",
       "    </tr>\n",
       "  </tbody>\n",
       "</table>\n",
       "</div>"
      ],
      "text/plain": [
       "            Shape\n",
       "x_train  (240, 5)\n",
       "x_test   (104, 5)\n",
       "y_train  (240, 1)\n",
       "y_test   (104, 1)"
      ]
     },
     "execution_count": 1018,
     "metadata": {},
     "output_type": "execute_result"
    }
   ],
   "source": [
    "shape = pd.DataFrame({\"x_train\":[x_train.shape],\"x_test\":[x_test.shape],\"y_train\":[y_train.shape],\"y_test\":[y_test.shape]},index = ['Shape'])\n",
    "shape.T.head()\n"
   ]
  },
  {
   "cell_type": "markdown",
   "id": "f18a8099",
   "metadata": {},
   "source": [
    "<h3> Step-8: Calculate the weights with Ordinary Least Squares (OLS).</h3>"
   ]
  },
  {
   "cell_type": "code",
   "execution_count": 1019,
   "id": "8d3c20dd",
   "metadata": {},
   "outputs": [],
   "source": [
    "weights = np.linalg.inv(x_train.T.dot(x_train)).dot(x_train.T).dot(y_train)\n",
    "coefs = weights\n",
    "c = weights.T"
   ]
  },
  {
   "cell_type": "code",
   "execution_count": 1116,
   "id": "24d72cbe",
   "metadata": {},
   "outputs": [
    {
     "name": "stdout",
     "output_type": "stream",
     "text": [
      "Weights Vector:  [-0.00221308  0.48974073 -0.02413134  0.4066759   0.10270879]\n"
     ]
    },
    {
     "data": {
      "text/html": [
       "<div>\n",
       "<style scoped>\n",
       "    .dataframe tbody tr th:only-of-type {\n",
       "        vertical-align: middle;\n",
       "    }\n",
       "\n",
       "    .dataframe tbody tr th {\n",
       "        vertical-align: top;\n",
       "    }\n",
       "\n",
       "    .dataframe thead th {\n",
       "        text-align: right;\n",
       "    }\n",
       "</style>\n",
       "<table border=\"1\" class=\"dataframe\">\n",
       "  <thead>\n",
       "    <tr style=\"text-align: right;\">\n",
       "      <th></th>\n",
       "      <th>Weights</th>\n",
       "    </tr>\n",
       "  </thead>\n",
       "  <tbody>\n",
       "    <tr>\n",
       "      <th>Intercept</th>\n",
       "      <td>-0.002213</td>\n",
       "    </tr>\n",
       "    <tr>\n",
       "      <th>flipper_length_mm</th>\n",
       "      <td>0.489741</td>\n",
       "    </tr>\n",
       "    <tr>\n",
       "      <th>bill_depth_mm</th>\n",
       "      <td>-0.024131</td>\n",
       "    </tr>\n",
       "    <tr>\n",
       "      <th>bill_length_mm</th>\n",
       "      <td>0.406676</td>\n",
       "    </tr>\n",
       "    <tr>\n",
       "      <th>sex</th>\n",
       "      <td>0.102709</td>\n",
       "    </tr>\n",
       "  </tbody>\n",
       "</table>\n",
       "</div>"
      ],
      "text/plain": [
       "                    Weights\n",
       "Intercept         -0.002213\n",
       "flipper_length_mm  0.489741\n",
       "bill_depth_mm     -0.024131\n",
       "bill_length_mm     0.406676\n",
       "sex                0.102709"
      ]
     },
     "execution_count": 1116,
     "metadata": {},
     "output_type": "execute_result"
    }
   ],
   "source": [
    "ols_w= pd.DataFrame(dict(zip(coef,*c)),index=['Weights']).T\n",
    "ols_w.index = ['Intercept',*coef[1:]] \n",
    "print(\"Weights Vector: \",*c)\n",
    "ols_w.head()"
   ]
  },
  {
   "cell_type": "code",
   "execution_count": 1049,
   "id": "64c02589",
   "metadata": {},
   "outputs": [],
   "source": [
    "w0,w1,w2,w3,w4=coefs[0],coefs[1],coefs[2],coefs[3],coefs[4]"
   ]
  },
  {
   "cell_type": "markdown",
   "id": "bd0b279c",
   "metadata": {},
   "source": [
    "<h3> Step-9: Get the Predictions with the Weights obtained and Mean Squared Errors(MSE). </h3>"
   ]
  },
  {
   "cell_type": "code",
   "execution_count": 1022,
   "id": "fb3f8b99",
   "metadata": {},
   "outputs": [],
   "source": [
    "ypred_train_slr = w0 + w1*x_train[:,1]+ w2*x_train[:,2]+ w3*x_train[:,3]+ w4*x_train[:,4]\n",
    "ypred_test_slr = w0 + w1*x_test[:,1]+ w2*x_test[:,2]+ w3*x_test[:,3]+w4*x_test[:,4]"
   ]
  },
  {
   "cell_type": "code",
   "execution_count": 1023,
   "id": "7dae2a04",
   "metadata": {},
   "outputs": [
    {
     "name": "stdout",
     "output_type": "stream",
     "text": [
      "Mean_Squared_Error(MSE): 3.984615031630877\n"
     ]
    }
   ],
   "source": [
    "ols_mse_loss=(1/y_train.shape[0])*(np.sum((ypred_test_slr-y_test)**2))\n",
    "print('Mean_Squared_Error(MSE):',ols_mse_loss)"
   ]
  },
  {
   "cell_type": "markdown",
   "id": "1b02aea5",
   "metadata": {},
   "source": [
    "<h3>Comparing Actual Vs Predictions</h3>"
   ]
  },
  {
   "cell_type": "code",
   "execution_count": 1024,
   "id": "47853ef9",
   "metadata": {},
   "outputs": [],
   "source": [
    "y_t=y_train.reshape((y_train.shape[0],))\n",
    "y_te=y_test.reshape((y_test.shape[0],))\n",
    "train_compare = pd.DataFrame({'Train_Actual':y_t,'Train_preds':ypred_train_slr})\n",
    "test_compare = pd.DataFrame({'Test_Actual':y_te,'Test_preds':ypred_test_slr})"
   ]
  },
  {
   "cell_type": "code",
   "execution_count": 1025,
   "id": "75d4f9da",
   "metadata": {},
   "outputs": [
    {
     "data": {
      "text/html": [
       "<div>\n",
       "<style scoped>\n",
       "    .dataframe tbody tr th:only-of-type {\n",
       "        vertical-align: middle;\n",
       "    }\n",
       "\n",
       "    .dataframe tbody tr th {\n",
       "        vertical-align: top;\n",
       "    }\n",
       "\n",
       "    .dataframe thead th {\n",
       "        text-align: right;\n",
       "    }\n",
       "</style>\n",
       "<table border=\"1\" class=\"dataframe\">\n",
       "  <thead>\n",
       "    <tr style=\"text-align: right;\">\n",
       "      <th></th>\n",
       "      <th>Train_Actual</th>\n",
       "      <th>Train_preds</th>\n",
       "    </tr>\n",
       "  </thead>\n",
       "  <tbody>\n",
       "    <tr>\n",
       "      <th>0</th>\n",
       "      <td>0.291667</td>\n",
       "      <td>0.262632</td>\n",
       "    </tr>\n",
       "    <tr>\n",
       "      <th>1</th>\n",
       "      <td>0.305556</td>\n",
       "      <td>0.211076</td>\n",
       "    </tr>\n",
       "    <tr>\n",
       "      <th>2</th>\n",
       "      <td>0.152778</td>\n",
       "      <td>0.295890</td>\n",
       "    </tr>\n",
       "    <tr>\n",
       "      <th>3</th>\n",
       "      <td>0.375000</td>\n",
       "      <td>0.478582</td>\n",
       "    </tr>\n",
       "    <tr>\n",
       "      <th>4</th>\n",
       "      <td>0.208333</td>\n",
       "      <td>0.222316</td>\n",
       "    </tr>\n",
       "  </tbody>\n",
       "</table>\n",
       "</div>"
      ],
      "text/plain": [
       "   Train_Actual  Train_preds\n",
       "0      0.291667     0.262632\n",
       "1      0.305556     0.211076\n",
       "2      0.152778     0.295890\n",
       "3      0.375000     0.478582\n",
       "4      0.208333     0.222316"
      ]
     },
     "execution_count": 1025,
     "metadata": {},
     "output_type": "execute_result"
    }
   ],
   "source": [
    "train_compare.head()"
   ]
  },
  {
   "cell_type": "code",
   "execution_count": 1026,
   "id": "504cd6d8",
   "metadata": {},
   "outputs": [
    {
     "data": {
      "text/html": [
       "<div>\n",
       "<style scoped>\n",
       "    .dataframe tbody tr th:only-of-type {\n",
       "        vertical-align: middle;\n",
       "    }\n",
       "\n",
       "    .dataframe tbody tr th {\n",
       "        vertical-align: top;\n",
       "    }\n",
       "\n",
       "    .dataframe thead th {\n",
       "        text-align: right;\n",
       "    }\n",
       "</style>\n",
       "<table border=\"1\" class=\"dataframe\">\n",
       "  <thead>\n",
       "    <tr style=\"text-align: right;\">\n",
       "      <th></th>\n",
       "      <th>Test_Actual</th>\n",
       "      <th>Test_preds</th>\n",
       "    </tr>\n",
       "  </thead>\n",
       "  <tbody>\n",
       "    <tr>\n",
       "      <th>0</th>\n",
       "      <td>0.604167</td>\n",
       "      <td>0.554968</td>\n",
       "    </tr>\n",
       "    <tr>\n",
       "      <th>1</th>\n",
       "      <td>0.791667</td>\n",
       "      <td>0.866496</td>\n",
       "    </tr>\n",
       "    <tr>\n",
       "      <th>2</th>\n",
       "      <td>0.625000</td>\n",
       "      <td>0.601899</td>\n",
       "    </tr>\n",
       "    <tr>\n",
       "      <th>3</th>\n",
       "      <td>0.750000</td>\n",
       "      <td>0.851086</td>\n",
       "    </tr>\n",
       "    <tr>\n",
       "      <th>4</th>\n",
       "      <td>0.569444</td>\n",
       "      <td>0.523955</td>\n",
       "    </tr>\n",
       "  </tbody>\n",
       "</table>\n",
       "</div>"
      ],
      "text/plain": [
       "   Test_Actual  Test_preds\n",
       "0     0.604167    0.554968\n",
       "1     0.791667    0.866496\n",
       "2     0.625000    0.601899\n",
       "3     0.750000    0.851086\n",
       "4     0.569444    0.523955"
      ]
     },
     "execution_count": 1026,
     "metadata": {},
     "output_type": "execute_result"
    }
   ],
   "source": [
    "test_compare.head()"
   ]
  },
  {
   "cell_type": "markdown",
   "id": "91dc6f7c",
   "metadata": {},
   "source": [
    "<h3>Step-10 <br> <br>Prediction vs Training Graph</h3>"
   ]
  },
  {
   "cell_type": "code",
   "execution_count": 1027,
   "id": "03b0a3fa",
   "metadata": {},
   "outputs": [
    {
     "data": {
      "text/plain": [
       "Text(0.5, 1.0, 'Train_Acutal vs Train_Predicted')"
      ]
     },
     "execution_count": 1027,
     "metadata": {},
     "output_type": "execute_result"
    },
    {
     "data": {
      "image/png": "[encoded data removed]",
      "text/plain": [
       "<Figure size 432x288 with 1 Axes>"
      ]
     },
     "metadata": {
      "needs_background": "light"
     },
     "output_type": "display_data"
    }
   ],
   "source": [
    "plt.scatter(ypred_train_slr,y_train)\n",
    "plt.xlabel(\"Train_Predicted\",fontsize=13)\n",
    "plt.ylabel(\"Train_Actual\",fontsize=13)\n",
    "plt.title(\"Train_Acutal vs Train_Predicted\",fontsize=14)"
   ]
  },
  {
   "cell_type": "markdown",
   "id": "f9b61feb",
   "metadata": {},
   "source": [
    "<h3>Prediction Vs Testing Graph</h3>"
   ]
  },
  {
   "cell_type": "code",
   "execution_count": 1028,
   "id": "dac58251",
   "metadata": {},
   "outputs": [
    {
     "data": {
      "text/plain": [
       "Text(0.5, 1.0, 'Test_Actual vs Test_Predicted')"
      ]
     },
     "execution_count": 1028,
     "metadata": {},
     "output_type": "execute_result"
    },
    {
     "data": {
      "image/png": "[encoded data removed]",
      "text/plain": [
       "<Figure size 432x288 with 1 Axes>"
      ]
     },
     "metadata": {
      "needs_background": "light"
     },
     "output_type": "display_data"
    }
   ],
   "source": [
    "plt.scatter(ypred_test_slr,y_test, alpha=0.8, edgecolors=\"black\")\n",
    "plt.xlabel(\"Test_Predicted\",fontsize=14)\n",
    "plt.ylabel(\"Test_Acutal\",fontsize=14)\n",
    "plt.title(\"Test_Actual vs Test_Predicted\",fontsize=14)"
   ]
  },
  {
   "cell_type": "markdown",
   "id": "531e6cdb",
   "metadata": {},
   "source": [
    "<center><h2>PART-4</h2></center>\n",
    "<center><h3> Ridge Regression</h3></center>\n",
    "<p>Reusing Data from Part-3</p>\n",
    "<p>Finding value of lambda which gives the lowest Loss.</p>"
   ]
  },
  {
   "cell_type": "code",
   "execution_count": 1090,
   "id": "5c8d1148",
   "metadata": {},
   "outputs": [],
   "source": [
    "loss=[]\n",
    "for i in range(20):\n",
    "    lam = i\n",
    "    ridge_weights = np.linalg.inv(x_train.T.dot(x_train)+lam*np.identity(x_train.shape[1])).dot(x_train.T.dot(y_train))\n",
    "    \n",
    "    ridge_w = ridge_weights\n",
    "    \n",
    "    ridge_loss = (1/2)*np.sum( (y_test - x_test.dot(ridge_w)).T.dot((y_test - x_test.dot(ridge_w))) + (1/2)*lam*(ridge_w.T.dot(ridge_w)))\n",
    "    loss.append(ridge_loss)\n",
    "    \n",
    "#list(zip(loss,list(range(20))))"
   ]
  },
  {
   "cell_type": "markdown",
   "id": "85e3fd0f",
   "metadata": {},
   "source": [
    "<p> The absolute minimum  of the graph is the Optimal Lambda.</p>"
   ]
  },
  {
   "cell_type": "code",
   "execution_count": 1091,
   "id": "a6cdf622",
   "metadata": {},
   "outputs": [
    {
     "data": {
      "text/plain": [
       "Text(0.5, 1.0, 'Loss  Vs  Lambda')"
      ]
     },
     "execution_count": 1091,
     "metadata": {},
     "output_type": "execute_result"
    },
    {
     "data": {
      "image/png": "[encoded data removed]",
      "text/plain": [
       "<Figure size 432x288 with 1 Axes>"
      ]
     },
     "metadata": {
      "needs_background": "light"
     },
     "output_type": "display_data"
    }
   ],
   "source": [
    "plt.plot(list(range(20)),loss)\n",
    "plt.xlabel(\"Lambda\",fontsize=13)\n",
    "plt.ylabel(\"Loss\",fontsize = 13)\n",
    "plt.title(\"Loss  Vs  Lambda\")"
   ]
  },
  {
   "cell_type": "markdown",
   "id": "d62bfbf6",
   "metadata": {},
   "source": [
    "<p> At the point 2 the graph started to increase so that is the value of lambda which is optimal and continue to rise over the next iterations.</p> "
   ]
  },
  {
   "cell_type": "markdown",
   "id": "6bf1f434",
   "metadata": {},
   "source": [
    "<h3> Findng Optimal Weights at Lambda = 2 which obtained from graph above</h3>"
   ]
  },
  {
   "cell_type": "code",
   "execution_count": 1092,
   "id": "ee887c3f",
   "metadata": {},
   "outputs": [
    {
     "name": "stdout",
     "output_type": "stream",
     "text": [
      "Ridge_loss with optimal weights:  1.494923219297409\n"
     ]
    }
   ],
   "source": [
    "lam = 2\n",
    "ridge_w = np.linalg.inv(x_train.T.dot(x_train)+lam*np.identity(x_train.shape[1])).dot(x_train.T.dot(y_train)).T\n",
    "ridge_w\n",
    "w0,w1,w2,w3,w4=ridge_w.T\n",
    "\n",
    "ridge_loss_ = (1/2)*np.sum( (y_test - x_test.dot(ridge_w.T)).T.dot((y_test - x_test.dot(ridge_w.T))) + (1/2)*lam*(ridge_w.dot(ridge_w.T)))\n",
    "\n",
    "ypred_test_ridge = w0 + w1*x_test[:,1]+ w2*x_test[:,2]+ w3*x_test[:,3]+w4*x_test[:,4] # y pred using optimal weights.\n",
    "ypred_test_ridge = ypred_test_ridge.reshape((y_test.shape[0],1))\n",
    "\n",
    "print('Ridge_loss with optimal weights: ',ridge_loss_)\n"
   ]
  },
  {
   "cell_type": "code",
   "execution_count": 1117,
   "id": "f350ba02",
   "metadata": {},
   "outputs": [
    {
     "name": "stdout",
     "output_type": "stream",
     "text": [
      "Weights Vector for Ridge Regression:  [ 0.07473064  0.43210235 -0.09375357  0.3215537   0.12693212]\n"
     ]
    },
    {
     "data": {
      "text/html": [
       "<div>\n",
       "<style scoped>\n",
       "    .dataframe tbody tr th:only-of-type {\n",
       "        vertical-align: middle;\n",
       "    }\n",
       "\n",
       "    .dataframe tbody tr th {\n",
       "        vertical-align: top;\n",
       "    }\n",
       "\n",
       "    .dataframe thead th {\n",
       "        text-align: right;\n",
       "    }\n",
       "</style>\n",
       "<table border=\"1\" class=\"dataframe\">\n",
       "  <thead>\n",
       "    <tr style=\"text-align: right;\">\n",
       "      <th></th>\n",
       "      <th>Ridge Weights</th>\n",
       "    </tr>\n",
       "  </thead>\n",
       "  <tbody>\n",
       "    <tr>\n",
       "      <th>Intercept</th>\n",
       "      <td>0.074731</td>\n",
       "    </tr>\n",
       "    <tr>\n",
       "      <th>flipper_length_mm</th>\n",
       "      <td>0.432102</td>\n",
       "    </tr>\n",
       "    <tr>\n",
       "      <th>bill_depth_mm</th>\n",
       "      <td>-0.093754</td>\n",
       "    </tr>\n",
       "    <tr>\n",
       "      <th>bill_length_mm</th>\n",
       "      <td>0.321554</td>\n",
       "    </tr>\n",
       "    <tr>\n",
       "      <th>sex</th>\n",
       "      <td>0.126932</td>\n",
       "    </tr>\n",
       "  </tbody>\n",
       "</table>\n",
       "</div>"
      ],
      "text/plain": [
       "                   Ridge Weights\n",
       "Intercept               0.074731\n",
       "flipper_length_mm       0.432102\n",
       "bill_depth_mm          -0.093754\n",
       "bill_length_mm          0.321554\n",
       "sex                     0.126932"
      ]
     },
     "execution_count": 1117,
     "metadata": {},
     "output_type": "execute_result"
    }
   ],
   "source": [
    "ridge_= pd.DataFrame(dict(zip(coef,*ridge_w)),index=['Ridge Weights']).T\n",
    "ridge_.index = ['Intercept',*coef[1:]] \n",
    "print(\"Weights Vector for Ridge Regression: \",*ridge_w)\n",
    "ridge_.head()\n"
   ]
  },
  {
   "cell_type": "code",
   "execution_count": 1094,
   "id": "ab1c5483",
   "metadata": {},
   "outputs": [
    {
     "name": "stdout",
     "output_type": "stream",
     "text": [
      "Weights:  [-0.00221308  0.48974073 -0.02413134  0.4066759   0.10270879]\n"
     ]
    },
    {
     "data": {
      "text/html": [
       "<div>\n",
       "<style scoped>\n",
       "    .dataframe tbody tr th:only-of-type {\n",
       "        vertical-align: middle;\n",
       "    }\n",
       "\n",
       "    .dataframe tbody tr th {\n",
       "        vertical-align: top;\n",
       "    }\n",
       "\n",
       "    .dataframe thead th {\n",
       "        text-align: right;\n",
       "    }\n",
       "</style>\n",
       "<table border=\"1\" class=\"dataframe\">\n",
       "  <thead>\n",
       "    <tr style=\"text-align: right;\">\n",
       "      <th></th>\n",
       "      <th>OLS Weights</th>\n",
       "    </tr>\n",
       "  </thead>\n",
       "  <tbody>\n",
       "    <tr>\n",
       "      <th>Intercept</th>\n",
       "      <td>-0.002213</td>\n",
       "    </tr>\n",
       "    <tr>\n",
       "      <th>flipper_length_mm</th>\n",
       "      <td>0.489741</td>\n",
       "    </tr>\n",
       "    <tr>\n",
       "      <th>bill_depth_mm</th>\n",
       "      <td>-0.024131</td>\n",
       "    </tr>\n",
       "    <tr>\n",
       "      <th>bill_length_mm</th>\n",
       "      <td>0.406676</td>\n",
       "    </tr>\n",
       "    <tr>\n",
       "      <th>sex</th>\n",
       "      <td>0.102709</td>\n",
       "    </tr>\n",
       "  </tbody>\n",
       "</table>\n",
       "</div>"
      ],
      "text/plain": [
       "                   OLS Weights\n",
       "Intercept            -0.002213\n",
       "flipper_length_mm     0.489741\n",
       "bill_depth_mm        -0.024131\n",
       "bill_length_mm        0.406676\n",
       "sex                   0.102709"
      ]
     },
     "execution_count": 1094,
     "metadata": {},
     "output_type": "execute_result"
    }
   ],
   "source": [
    "ols_w= pd.DataFrame(dict(zip(coef,*c)),index=['OLS Weights']).T\n",
    "ols_w.index = ['Intercept',*coef[1:]] \n",
    "print(\"Weights: \",*c)\n",
    "ols_w.head()"
   ]
  },
  {
   "cell_type": "code",
   "execution_count": 1095,
   "id": "13ba47c6",
   "metadata": {},
   "outputs": [
    {
     "data": {
      "text/html": [
       "<div>\n",
       "<style scoped>\n",
       "    .dataframe tbody tr th:only-of-type {\n",
       "        vertical-align: middle;\n",
       "    }\n",
       "\n",
       "    .dataframe tbody tr th {\n",
       "        vertical-align: top;\n",
       "    }\n",
       "\n",
       "    .dataframe thead th {\n",
       "        text-align: right;\n",
       "    }\n",
       "</style>\n",
       "<table border=\"1\" class=\"dataframe\">\n",
       "  <thead>\n",
       "    <tr style=\"text-align: right;\">\n",
       "      <th></th>\n",
       "      <th>MSE</th>\n",
       "    </tr>\n",
       "  </thead>\n",
       "  <tbody>\n",
       "    <tr>\n",
       "      <th>OLS</th>\n",
       "      <td>3.984615</td>\n",
       "    </tr>\n",
       "    <tr>\n",
       "      <th>RIDGE</th>\n",
       "      <td>8.338488</td>\n",
       "    </tr>\n",
       "  </tbody>\n",
       "</table>\n",
       "</div>"
      ],
      "text/plain": [
       "            MSE\n",
       "OLS    3.984615\n",
       "RIDGE  8.338488"
      ]
     },
     "execution_count": 1095,
     "metadata": {},
     "output_type": "execute_result"
    }
   ],
   "source": [
    "\n",
    "ridge_loss_mse = (1/x_test.shape[0])*np.sum((ypred_test_ridge.T-y_test)**2)\n",
    "loss_compare= pd.DataFrame(dict(zip(['OLS','RIDGE'],[ols_mse_loss,ridge_loss_mse])),index=['MSE']).T\n",
    "loss_compare\n"
   ]
  },
  {
   "cell_type": "markdown",
   "id": "2f619f31",
   "metadata": {},
   "source": [
    "<h3> Actual Vs Predictions</h3>"
   ]
  },
  {
   "cell_type": "code",
   "execution_count": 1096,
   "id": "1f8707f1",
   "metadata": {},
   "outputs": [],
   "source": [
    "r_w0,r_w1,r_w2,r_w3,r_w4 = ridge_w.T\n",
    "ridge_pred = r_w0 + r_w1*x_test[:,1]+ r_w2*x_test[:,2]+ r_w3*x_test[:,3]+ r_w4*x_test[:,4]"
   ]
  },
  {
   "cell_type": "markdown",
   "id": "cb636877",
   "metadata": {},
   "source": [
    "<h3>Comparing OLS Vs Ridge.</h3>"
   ]
  },
  {
   "cell_type": "code",
   "execution_count": 1097,
   "id": "c46e9466",
   "metadata": {},
   "outputs": [
    {
     "data": {
      "text/plain": [
       "Text(0.5, 1.0, 'Test_Actual vs Test_Predicted')"
      ]
     },
     "execution_count": 1097,
     "metadata": {},
     "output_type": "execute_result"
    },
    {
     "data": {
      "image/png": "[encoded data removed]",
      "text/plain": [
       "<Figure size 864x432 with 2 Axes>"
      ]
     },
     "metadata": {
      "needs_background": "light"
     },
     "output_type": "display_data"
    }
   ],
   "source": [
    "fig,ax = plt.subplots(nrows = 1,ncols=2, figsize=(12, 6))\n",
    "\n",
    "ax[1].scatter(y_test, ridge_pred, alpha=0.8, edgecolors=\"black\")\n",
    "ax[1].set_xlabel(\"Test_Predicted\",fontsize=14)\n",
    "ax[1].set_ylabel(\"Actual_Test\",fontsize=14)\n",
    "ax[1].set_title(\"Test_Actual vs Test_Predicted using Ridge\",fontsize=14)\n",
    "\n",
    "\n",
    "ax[0].scatter(y_test, ypred_test_slr, alpha=0.8, edgecolors=\"black\")\n",
    "ax[0].set_xlabel(\"Test_Predicted\",fontsize=14)\n",
    "ax[0].set_ylabel(\"Actual_Test\",fontsize=14)\n",
    "ax[0].set_title(\"Test_Actual vs Test_Predicted\",fontsize=14)"
   ]
  },
  {
   "cell_type": "markdown",
   "id": "9ff89989",
   "metadata": {},
   "source": [
    "<h3>Ridge Regression using Gradient Descent</h3>"
   ]
  },
  {
   "cell_type": "code",
   "execution_count": 1098,
   "id": "5566df03",
   "metadata": {},
   "outputs": [],
   "source": [
    "class ridgeregression():\n",
    "    start = time.time()\n",
    "    def __init__(self,iterations,alpha,learning_rate):\n",
    "        self.iters = iterations\n",
    "        self.alpha = alpha\n",
    "        self.learning_rate = learning_rate\n",
    "        \n",
    "    def fit(self,x_train,y_train):\n",
    "        loss=[]\n",
    "        n=x_train.shape[0]\n",
    "        b=0\n",
    "        #weights=np.array([np.random.uniform(0, 1) for i in range(x_train.shape[1])]).reshape((1,x_train.shape[1]))\n",
    "        weights=np.zeros((1,x_train.shape[1]))\n",
    "        #print(weights,b)\n",
    "        for i in range(self.iters):\n",
    "            dw,db=self.gradient_descent(weights,x_train,y_train,n,b)\n",
    "            weights=weights-(self.learning_rate*dw.T)\n",
    "            b=b-self.learning_rate*db\n",
    "            #print(b)\n",
    "        return weights,b\n",
    "    \n",
    "        \n",
    "    def gradient_descent(self,w,x,y,n,b):\n",
    "        #print(w.shape,'deed',x.shape,'cfrv',y.shape)\n",
    "        pred = y - x.dot(w.T)\n",
    "        #print(pred.shape,x_t.shape,'pred')\n",
    "        dw = -(x.T.dot(pred)) + self.alpha*w.T\n",
    "        #print(pred,'dw')\n",
    "        db = (1/n)*(np.sum(pred))\n",
    "        #print(n)\n",
    "        return dw,db\n",
    "        \n",
    "    def predict(self,x,w,b):\n",
    "        y_pred = np.dot(w,x.T) + b\n",
    "        return y_pred\n",
    "    end=time.time()"
   ]
  },
  {
   "cell_type": "code",
   "execution_count": 1099,
   "id": "1789579b",
   "metadata": {},
   "outputs": [
    {
     "name": "stdout",
     "output_type": "stream",
     "text": [
      "training time:  1.3534331321716309\n",
      "predicting time:  0.00011181831359863281\n"
     ]
    }
   ],
   "source": [
    "\n",
    "model_ridge = ridgeregression(100000,0.9,0.001)\n",
    "\n",
    "train_start = time.time()\n",
    "w,b = model_ridge.fit(x_train,y_train)\n",
    "train_end = time.time()\n",
    "\n",
    "predict_start = time.time()\n",
    "pred_train = model_ridge.predict(x_train,w,b)\n",
    "pred_test = model_ridge.predict(x_test,w,b)\n",
    "predict_end = time.time()\n",
    "\n",
    "print(\"training time: \",train_end-train_start)\n",
    "print(\"predicting time: \",predict_end-predict_start)"
   ]
  },
  {
   "cell_type": "code",
   "execution_count": 1100,
   "id": "dbd5a7fb",
   "metadata": {},
   "outputs": [
    {
     "name": "stdout",
     "output_type": "stream",
     "text": [
      "Mean_Square_Error(MSE):  8.34134538091466\n"
     ]
    }
   ],
   "source": [
    "mse=(1/y_test.shape[0])*(np.sum((pred_test-y_test)**2))\n",
    "print('Mean_Square_Error(MSE): ',mse)"
   ]
  },
  {
   "cell_type": "code",
   "execution_count": 1101,
   "id": "1295a18d",
   "metadata": {},
   "outputs": [
    {
     "name": "stdout",
     "output_type": "stream",
     "text": [
      "weights  [ 0.04426086  0.45916822 -0.06974523  0.3539764   0.1180086 ]\n",
      "Bias:  -0.016920996469272996\n",
      "Mean Square Error (MSE):  8.34134538091466\n"
     ]
    },
    {
     "data": {
      "text/html": [
       "<div>\n",
       "<style scoped>\n",
       "    .dataframe tbody tr th:only-of-type {\n",
       "        vertical-align: middle;\n",
       "    }\n",
       "\n",
       "    .dataframe tbody tr th {\n",
       "        vertical-align: top;\n",
       "    }\n",
       "\n",
       "    .dataframe thead th {\n",
       "        text-align: right;\n",
       "    }\n",
       "</style>\n",
       "<table border=\"1\" class=\"dataframe\">\n",
       "  <thead>\n",
       "    <tr style=\"text-align: right;\">\n",
       "      <th></th>\n",
       "      <th>Weights</th>\n",
       "    </tr>\n",
       "  </thead>\n",
       "  <tbody>\n",
       "    <tr>\n",
       "      <th>Intercept</th>\n",
       "      <td>0.044261</td>\n",
       "    </tr>\n",
       "    <tr>\n",
       "      <th>flipper_length_mm</th>\n",
       "      <td>0.459168</td>\n",
       "    </tr>\n",
       "    <tr>\n",
       "      <th>bill_depth_mm</th>\n",
       "      <td>-0.069745</td>\n",
       "    </tr>\n",
       "    <tr>\n",
       "      <th>bill_length_mm</th>\n",
       "      <td>0.353976</td>\n",
       "    </tr>\n",
       "    <tr>\n",
       "      <th>sex</th>\n",
       "      <td>0.118009</td>\n",
       "    </tr>\n",
       "  </tbody>\n",
       "</table>\n",
       "</div>"
      ],
      "text/plain": [
       "                    Weights\n",
       "Intercept          0.044261\n",
       "flipper_length_mm  0.459168\n",
       "bill_depth_mm     -0.069745\n",
       "bill_length_mm     0.353976\n",
       "sex                0.118009"
      ]
     },
     "execution_count": 1101,
     "metadata": {},
     "output_type": "execute_result"
    }
   ],
   "source": [
    "Weights= pd.DataFrame(dict(zip(coef,*w)),index=['Weights']).T\n",
    "Weights.index = ['Intercept',*coef[1:]] \n",
    "print(\"weights \",*w)\n",
    "print(\"Bias: \",b)\n",
    "print(\"Mean Square Error (MSE): \",mse)\n",
    "Weights.head()"
   ]
  },
  {
   "cell_type": "markdown",
   "id": "7332d776",
   "metadata": {},
   "source": [
    "<h3>Finding results using In-built Ridge function</h3>"
   ]
  },
  {
   "cell_type": "code",
   "execution_count": 1102,
   "id": "df03d2bb",
   "metadata": {},
   "outputs": [],
   "source": [
    "from sklearn.linear_model import Ridge\n",
    "from sklearn.metrics import r2_score\n",
    "clf = Ridge(alpha=0.9)\n",
    "clf.fit(x_train,y_train)\n",
    "p = clf.predict(x_test)\n",
    "p_train = pd.DataFrame(clf.predict(x_train))\n",
    "p = pd.DataFrame(p)\n",
    "pred_ = pd.DataFrame(pred.T)\n",
    "\n",
    "train_loss_inbuilt = ((p_train-y_train)**2).sum()\n",
    "train_loss_ = ((pred_train-y_train)**2).sum()\n",
    "\n",
    "loss_inbuilt = ((p-y_test)**2).sum()\n",
    "loss_ = ((pred_-y_test)**2).sum()\n"
   ]
  },
  {
   "cell_type": "markdown",
   "id": "948e392d",
   "metadata": {},
   "source": [
    "<h3>Comparing results</h3>"
   ]
  },
  {
   "cell_type": "code",
   "execution_count": 1103,
   "id": "819278b7",
   "metadata": {},
   "outputs": [
    {
     "data": {
      "text/html": [
       "<div>\n",
       "<style scoped>\n",
       "    .dataframe tbody tr th:only-of-type {\n",
       "        vertical-align: middle;\n",
       "    }\n",
       "\n",
       "    .dataframe tbody tr th {\n",
       "        vertical-align: top;\n",
       "    }\n",
       "\n",
       "    .dataframe thead th {\n",
       "        text-align: right;\n",
       "    }\n",
       "</style>\n",
       "<table border=\"1\" class=\"dataframe\">\n",
       "  <thead>\n",
       "    <tr style=\"text-align: right;\">\n",
       "      <th></th>\n",
       "      <th>Train_Preds (inbuilt)</th>\n",
       "      <th>Train_Preds</th>\n",
       "    </tr>\n",
       "  </thead>\n",
       "  <tbody>\n",
       "    <tr>\n",
       "      <th>0</th>\n",
       "      <td>0.276841</td>\n",
       "      <td>0.258997</td>\n",
       "    </tr>\n",
       "    <tr>\n",
       "      <th>1</th>\n",
       "      <td>0.213133</td>\n",
       "      <td>0.195844</td>\n",
       "    </tr>\n",
       "    <tr>\n",
       "      <th>2</th>\n",
       "      <td>0.287638</td>\n",
       "      <td>0.271202</td>\n",
       "    </tr>\n",
       "    <tr>\n",
       "      <th>3</th>\n",
       "      <td>0.481339</td>\n",
       "      <td>0.464006</td>\n",
       "    </tr>\n",
       "    <tr>\n",
       "      <th>4</th>\n",
       "      <td>0.214647</td>\n",
       "      <td>0.198505</td>\n",
       "    </tr>\n",
       "    <tr>\n",
       "      <th>...</th>\n",
       "      <td>...</td>\n",
       "      <td>...</td>\n",
       "    </tr>\n",
       "    <tr>\n",
       "      <th>235</th>\n",
       "      <td>0.773450</td>\n",
       "      <td>0.757197</td>\n",
       "    </tr>\n",
       "    <tr>\n",
       "      <th>236</th>\n",
       "      <td>0.515073</td>\n",
       "      <td>0.497588</td>\n",
       "    </tr>\n",
       "    <tr>\n",
       "      <th>237</th>\n",
       "      <td>0.802210</td>\n",
       "      <td>0.787000</td>\n",
       "    </tr>\n",
       "    <tr>\n",
       "      <th>238</th>\n",
       "      <td>0.536981</td>\n",
       "      <td>0.519994</td>\n",
       "    </tr>\n",
       "    <tr>\n",
       "      <th>239</th>\n",
       "      <td>0.758724</td>\n",
       "      <td>0.741351</td>\n",
       "    </tr>\n",
       "  </tbody>\n",
       "</table>\n",
       "<p>240 rows × 2 columns</p>\n",
       "</div>"
      ],
      "text/plain": [
       "     Train_Preds (inbuilt)  Train_Preds\n",
       "0                 0.276841     0.258997\n",
       "1                 0.213133     0.195844\n",
       "2                 0.287638     0.271202\n",
       "3                 0.481339     0.464006\n",
       "4                 0.214647     0.198505\n",
       "..                     ...          ...\n",
       "235               0.773450     0.757197\n",
       "236               0.515073     0.497588\n",
       "237               0.802210     0.787000\n",
       "238               0.536981     0.519994\n",
       "239               0.758724     0.741351\n",
       "\n",
       "[240 rows x 2 columns]"
      ]
     },
     "execution_count": 1103,
     "metadata": {},
     "output_type": "execute_result"
    }
   ],
   "source": [
    "pd.DataFrame({'Train_Preds (inbuilt)':p_train.iloc[:,0],'Train_Preds':pred_train[0]})"
   ]
  },
  {
   "cell_type": "code",
   "execution_count": 1104,
   "id": "5b77daff",
   "metadata": {},
   "outputs": [
    {
     "data": {
      "text/html": [
       "<div>\n",
       "<style scoped>\n",
       "    .dataframe tbody tr th:only-of-type {\n",
       "        vertical-align: middle;\n",
       "    }\n",
       "\n",
       "    .dataframe tbody tr th {\n",
       "        vertical-align: top;\n",
       "    }\n",
       "\n",
       "    .dataframe thead th {\n",
       "        text-align: right;\n",
       "    }\n",
       "</style>\n",
       "<table border=\"1\" class=\"dataframe\">\n",
       "  <thead>\n",
       "    <tr style=\"text-align: right;\">\n",
       "      <th></th>\n",
       "      <th>Test_Pred (inbuilt)</th>\n",
       "      <th>Test_Pred</th>\n",
       "    </tr>\n",
       "  </thead>\n",
       "  <tbody>\n",
       "    <tr>\n",
       "      <th>0</th>\n",
       "      <td>0.546536</td>\n",
       "      <td>0.529394</td>\n",
       "    </tr>\n",
       "    <tr>\n",
       "      <th>1</th>\n",
       "      <td>0.836948</td>\n",
       "      <td>0.821790</td>\n",
       "    </tr>\n",
       "    <tr>\n",
       "      <th>2</th>\n",
       "      <td>0.584076</td>\n",
       "      <td>0.567787</td>\n",
       "    </tr>\n",
       "    <tr>\n",
       "      <th>3</th>\n",
       "      <td>0.821876</td>\n",
       "      <td>0.806682</td>\n",
       "    </tr>\n",
       "    <tr>\n",
       "      <th>4</th>\n",
       "      <td>0.516544</td>\n",
       "      <td>0.499499</td>\n",
       "    </tr>\n",
       "    <tr>\n",
       "      <th>...</th>\n",
       "      <td>...</td>\n",
       "      <td>...</td>\n",
       "    </tr>\n",
       "    <tr>\n",
       "      <th>99</th>\n",
       "      <td>0.681607</td>\n",
       "      <td>0.667170</td>\n",
       "    </tr>\n",
       "    <tr>\n",
       "      <th>100</th>\n",
       "      <td>0.381782</td>\n",
       "      <td>0.366040</td>\n",
       "    </tr>\n",
       "    <tr>\n",
       "      <th>101</th>\n",
       "      <td>0.508270</td>\n",
       "      <td>0.491694</td>\n",
       "    </tr>\n",
       "    <tr>\n",
       "      <th>102</th>\n",
       "      <td>0.647976</td>\n",
       "      <td>0.632800</td>\n",
       "    </tr>\n",
       "    <tr>\n",
       "      <th>103</th>\n",
       "      <td>0.431182</td>\n",
       "      <td>0.416169</td>\n",
       "    </tr>\n",
       "  </tbody>\n",
       "</table>\n",
       "<p>104 rows × 2 columns</p>\n",
       "</div>"
      ],
      "text/plain": [
       "     Test_Pred (inbuilt)  Test_Pred\n",
       "0               0.546536   0.529394\n",
       "1               0.836948   0.821790\n",
       "2               0.584076   0.567787\n",
       "3               0.821876   0.806682\n",
       "4               0.516544   0.499499\n",
       "..                   ...        ...\n",
       "99              0.681607   0.667170\n",
       "100             0.381782   0.366040\n",
       "101             0.508270   0.491694\n",
       "102             0.647976   0.632800\n",
       "103             0.431182   0.416169\n",
       "\n",
       "[104 rows x 2 columns]"
      ]
     },
     "execution_count": 1104,
     "metadata": {},
     "output_type": "execute_result"
    }
   ],
   "source": [
    "pd.DataFrame({'Test_Pred (inbuilt)':p.iloc[:,0],'Test_Pred':pred_.iloc[:,0]})"
   ]
  },
  {
   "cell_type": "code",
   "execution_count": 1105,
   "id": "56f35c36",
   "metadata": {},
   "outputs": [
    {
     "name": "stdout",
     "output_type": "stream",
     "text": [
      "Train Loss with Gradient Descent function:  5209.900847540625\n",
      "Train Loss with Inbuilt function:  1.8276016196169123\n"
     ]
    }
   ],
   "source": [
    "\n",
    "print(\"Train Loss with Gradient Descent function: \",train_loss_)\n",
    "print(\"Train Loss with Inbuilt function: \",train_loss_inbuilt[0])\n"
   ]
  },
  {
   "cell_type": "code",
   "execution_count": 1106,
   "id": "cbde75b5",
   "metadata": {},
   "outputs": [
    {
     "name": "stdout",
     "output_type": "stream",
     "text": [
      "Test Loss with Gradient Descent function:  2.578157479193737\n",
      "Test Loss with Inbuilt function:  2.8972145798913234\n"
     ]
    }
   ],
   "source": [
    "\n",
    "print(\"Test Loss with Gradient Descent function: \",loss_[0])\n",
    "print(\"Test Loss with Inbuilt function: \",loss_inbuilt[0])\n"
   ]
  },
  {
   "cell_type": "markdown",
   "id": "246b169d",
   "metadata": {},
   "source": [
    "<h3> Comapring Loss For OLS, Ridge, Ridge_usiing_Gradient_Descent</h3>"
   ]
  },
  {
   "cell_type": "code",
   "execution_count": 1107,
   "id": "837acf3c",
   "metadata": {},
   "outputs": [
    {
     "data": {
      "text/html": [
       "<div>\n",
       "<style scoped>\n",
       "    .dataframe tbody tr th:only-of-type {\n",
       "        vertical-align: middle;\n",
       "    }\n",
       "\n",
       "    .dataframe tbody tr th {\n",
       "        vertical-align: top;\n",
       "    }\n",
       "\n",
       "    .dataframe thead th {\n",
       "        text-align: right;\n",
       "    }\n",
       "</style>\n",
       "<table border=\"1\" class=\"dataframe\">\n",
       "  <thead>\n",
       "    <tr style=\"text-align: right;\">\n",
       "      <th></th>\n",
       "      <th>MSE</th>\n",
       "    </tr>\n",
       "  </thead>\n",
       "  <tbody>\n",
       "    <tr>\n",
       "      <th>OLS</th>\n",
       "      <td>3.984615</td>\n",
       "    </tr>\n",
       "    <tr>\n",
       "      <th>RIDGE</th>\n",
       "      <td>8.338488</td>\n",
       "    </tr>\n",
       "    <tr>\n",
       "      <th>RIDGE_GD</th>\n",
       "      <td>8.341345</td>\n",
       "    </tr>\n",
       "  </tbody>\n",
       "</table>\n",
       "</div>"
      ],
      "text/plain": [
       "               MSE\n",
       "OLS       3.984615\n",
       "RIDGE     8.338488\n",
       "RIDGE_GD  8.341345"
      ]
     },
     "execution_count": 1107,
     "metadata": {},
     "output_type": "execute_result"
    }
   ],
   "source": [
    "\n",
    "final_loss_compare= pd.DataFrame(dict(zip(['OLS','RIDGE','RIDGE_GD'],[ols_mse_loss,ridge_loss_mse,mse])),index=['MSE']).T\n",
    "final_loss_compare\n",
    "\n"
   ]
  },
  {
   "cell_type": "markdown",
   "id": "1b2a939e",
   "metadata": {},
   "source": [
    "<h3>References</h3>"
   ]
  },
  {
   "cell_type": "markdown",
   "id": "dba4f9f2",
   "metadata": {},
   "source": [
    "1. https://towardsdatascience.com/ridge-and-lasso-regression-a-complete-guide-with-python-scikit-learn-e20e34bcbf0b\n",
    "2. https://www.geeksforgeeks.org/python-pandas-dataframe/\n",
    "3. https://towardsdatascience.com/feature-transformation-for-multiple-linear-regression-in-python-8648ddf070b8\n",
    "4. https://pbpython.com/dataframe-gui-overview.html\n",
    "5. https://www.geeksforgeeks.org/how-to-check-the-execution-time-of-python-script/"
   ]
  }
 ],
 "metadata": {
  "kernelspec": {
   "display_name": "Python 3 (ipykernel)",
   "language": "python",
   "name": "python3"
  },
  "language_info": {
   "codemirror_mode": {
    "name": "ipython",
    "version": 3
   },
   "file_extension": ".py",
   "mimetype": "text/x-python",
   "name": "python",
   "nbconvert_exporter": "python",
   "pygments_lexer": "ipython3",
   "version": "3.9.7"
  }
 },
 "nbformat": 4,
 "nbformat_minor": 5
}
