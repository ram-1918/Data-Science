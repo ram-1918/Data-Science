{
 "cells": [
  {
   "cell_type": "markdown",
   "id": "78445af7",
   "metadata": {},
   "source": [
    "<center><h1>Part II: Logistic Regression</h1></center>"
   ]
  },
  {
   "cell_type": "markdown",
   "id": "91f0322b",
   "metadata": {},
   "source": [
    "I certify that the code and data in this assignment were generated independently, using only the tools and resources defined in the course and that I did not receive any external help, coaching or contributions during the production of this work.\n"
   ]
  },
  {
   "cell_type": "markdown",
   "id": "316589aa",
   "metadata": {},
   "source": [
    "Ram Chandra Bhavirisetty(50414405)<br>"
   ]
  },
  {
   "cell_type": "code",
   "execution_count": 86,
   "id": "644f5534",
   "metadata": {},
   "outputs": [],
   "source": [
    "import pandas as pd\n",
    "import numpy as np\n",
    "import matplotlib.pyplot as plt\n",
    "import seaborn as sb\n"
   ]
  },
  {
   "cell_type": "code",
   "execution_count": 87,
   "id": "ac5037d4",
   "metadata": {},
   "outputs": [
    {
     "data": {
      "text/html": [
       "<div>\n",
       "<style scoped>\n",
       "    .dataframe tbody tr th:only-of-type {\n",
       "        vertical-align: middle;\n",
       "    }\n",
       "\n",
       "    .dataframe tbody tr th {\n",
       "        vertical-align: top;\n",
       "    }\n",
       "\n",
       "    .dataframe thead th {\n",
       "        text-align: right;\n",
       "    }\n",
       "</style>\n",
       "<table border=\"1\" class=\"dataframe\">\n",
       "  <thead>\n",
       "    <tr style=\"text-align: right;\">\n",
       "      <th></th>\n",
       "      <th>species</th>\n",
       "      <th>island</th>\n",
       "      <th>bill_length_mm</th>\n",
       "      <th>bill_depth_mm</th>\n",
       "      <th>flipper_length_mm</th>\n",
       "      <th>body_mass_g</th>\n",
       "      <th>sex</th>\n",
       "    </tr>\n",
       "  </thead>\n",
       "  <tbody>\n",
       "    <tr>\n",
       "      <th>0</th>\n",
       "      <td>Adelie</td>\n",
       "      <td>Torgersen</td>\n",
       "      <td>39.1</td>\n",
       "      <td>18.7</td>\n",
       "      <td>181.0</td>\n",
       "      <td>3750.0</td>\n",
       "      <td>male</td>\n",
       "    </tr>\n",
       "    <tr>\n",
       "      <th>1</th>\n",
       "      <td>Adelie</td>\n",
       "      <td>Torgersen</td>\n",
       "      <td>39.5</td>\n",
       "      <td>17.4</td>\n",
       "      <td>186.0</td>\n",
       "      <td>3800.0</td>\n",
       "      <td>female</td>\n",
       "    </tr>\n",
       "    <tr>\n",
       "      <th>2</th>\n",
       "      <td>Adelie</td>\n",
       "      <td>Torgersen</td>\n",
       "      <td>40.3</td>\n",
       "      <td>18.0</td>\n",
       "      <td>195.0</td>\n",
       "      <td>3250.0</td>\n",
       "      <td>female</td>\n",
       "    </tr>\n",
       "    <tr>\n",
       "      <th>3</th>\n",
       "      <td>Adelie</td>\n",
       "      <td>Torgersen</td>\n",
       "      <td>NaN</td>\n",
       "      <td>NaN</td>\n",
       "      <td>NaN</td>\n",
       "      <td>NaN</td>\n",
       "      <td>NaN</td>\n",
       "    </tr>\n",
       "    <tr>\n",
       "      <th>4</th>\n",
       "      <td>Adelie</td>\n",
       "      <td>Torgersen</td>\n",
       "      <td>36.7</td>\n",
       "      <td>19.3</td>\n",
       "      <td>193.0</td>\n",
       "      <td>3450.0</td>\n",
       "      <td>female</td>\n",
       "    </tr>\n",
       "  </tbody>\n",
       "</table>\n",
       "</div>"
      ],
      "text/plain": [
       "  species     island  bill_length_mm  bill_depth_mm  flipper_length_mm  \\\n",
       "0  Adelie  Torgersen            39.1           18.7              181.0   \n",
       "1  Adelie  Torgersen            39.5           17.4              186.0   \n",
       "2  Adelie  Torgersen            40.3           18.0              195.0   \n",
       "3  Adelie  Torgersen             NaN            NaN                NaN   \n",
       "4  Adelie  Torgersen            36.7           19.3              193.0   \n",
       "\n",
       "   body_mass_g     sex  \n",
       "0       3750.0    male  \n",
       "1       3800.0  female  \n",
       "2       3250.0  female  \n",
       "3          NaN     NaN  \n",
       "4       3450.0  female  "
      ]
     },
     "execution_count": 87,
     "metadata": {},
     "output_type": "execute_result"
    }
   ],
   "source": [
    "peng_data=pd.read_csv(\"~/documents/penguins.csv\")\n",
    "peng_data.drop(['year'],axis=1,inplace=True)\n",
    "\n",
    "peng_data.head()\n"
   ]
  },
  {
   "cell_type": "code",
   "execution_count": 88,
   "id": "4f416b97",
   "metadata": {},
   "outputs": [
    {
     "data": {
      "text/html": [
       "<div>\n",
       "<style scoped>\n",
       "    .dataframe tbody tr th:only-of-type {\n",
       "        vertical-align: middle;\n",
       "    }\n",
       "\n",
       "    .dataframe tbody tr th {\n",
       "        vertical-align: top;\n",
       "    }\n",
       "\n",
       "    .dataframe thead th {\n",
       "        text-align: right;\n",
       "    }\n",
       "</style>\n",
       "<table border=\"1\" class=\"dataframe\">\n",
       "  <thead>\n",
       "    <tr style=\"text-align: right;\">\n",
       "      <th></th>\n",
       "      <th>bill_length_mm</th>\n",
       "      <th>bill_depth_mm</th>\n",
       "      <th>flipper_length_mm</th>\n",
       "      <th>body_mass_g</th>\n",
       "    </tr>\n",
       "  </thead>\n",
       "  <tbody>\n",
       "    <tr>\n",
       "      <th>count</th>\n",
       "      <td>342.000000</td>\n",
       "      <td>342.000000</td>\n",
       "      <td>342.000000</td>\n",
       "      <td>342.000000</td>\n",
       "    </tr>\n",
       "    <tr>\n",
       "      <th>mean</th>\n",
       "      <td>43.921930</td>\n",
       "      <td>17.151170</td>\n",
       "      <td>200.915205</td>\n",
       "      <td>4201.754386</td>\n",
       "    </tr>\n",
       "    <tr>\n",
       "      <th>std</th>\n",
       "      <td>5.459584</td>\n",
       "      <td>1.974793</td>\n",
       "      <td>14.061714</td>\n",
       "      <td>801.954536</td>\n",
       "    </tr>\n",
       "    <tr>\n",
       "      <th>min</th>\n",
       "      <td>32.100000</td>\n",
       "      <td>13.100000</td>\n",
       "      <td>172.000000</td>\n",
       "      <td>2700.000000</td>\n",
       "    </tr>\n",
       "    <tr>\n",
       "      <th>25%</th>\n",
       "      <td>39.225000</td>\n",
       "      <td>15.600000</td>\n",
       "      <td>190.000000</td>\n",
       "      <td>3550.000000</td>\n",
       "    </tr>\n",
       "    <tr>\n",
       "      <th>50%</th>\n",
       "      <td>44.450000</td>\n",
       "      <td>17.300000</td>\n",
       "      <td>197.000000</td>\n",
       "      <td>4050.000000</td>\n",
       "    </tr>\n",
       "    <tr>\n",
       "      <th>75%</th>\n",
       "      <td>48.500000</td>\n",
       "      <td>18.700000</td>\n",
       "      <td>213.000000</td>\n",
       "      <td>4750.000000</td>\n",
       "    </tr>\n",
       "    <tr>\n",
       "      <th>max</th>\n",
       "      <td>59.600000</td>\n",
       "      <td>21.500000</td>\n",
       "      <td>231.000000</td>\n",
       "      <td>6300.000000</td>\n",
       "    </tr>\n",
       "  </tbody>\n",
       "</table>\n",
       "</div>"
      ],
      "text/plain": [
       "       bill_length_mm  bill_depth_mm  flipper_length_mm  body_mass_g\n",
       "count      342.000000     342.000000         342.000000   342.000000\n",
       "mean        43.921930      17.151170         200.915205  4201.754386\n",
       "std          5.459584       1.974793          14.061714   801.954536\n",
       "min         32.100000      13.100000         172.000000  2700.000000\n",
       "25%         39.225000      15.600000         190.000000  3550.000000\n",
       "50%         44.450000      17.300000         197.000000  4050.000000\n",
       "75%         48.500000      18.700000         213.000000  4750.000000\n",
       "max         59.600000      21.500000         231.000000  6300.000000"
      ]
     },
     "execution_count": 88,
     "metadata": {},
     "output_type": "execute_result"
    }
   ],
   "source": [
    "peng_data.describe()"
   ]
  },
  {
   "cell_type": "code",
   "execution_count": 89,
   "id": "9c62e697",
   "metadata": {},
   "outputs": [
    {
     "name": "stdout",
     "output_type": "stream",
     "text": [
      "<class 'pandas.core.frame.DataFrame'>\n",
      "RangeIndex: 344 entries, 0 to 343\n",
      "Data columns (total 7 columns):\n",
      " #   Column             Non-Null Count  Dtype  \n",
      "---  ------             --------------  -----  \n",
      " 0   species            344 non-null    object \n",
      " 1   island             344 non-null    object \n",
      " 2   bill_length_mm     342 non-null    float64\n",
      " 3   bill_depth_mm      342 non-null    float64\n",
      " 4   flipper_length_mm  342 non-null    float64\n",
      " 5   body_mass_g        342 non-null    float64\n",
      " 6   sex                333 non-null    object \n",
      "dtypes: float64(4), object(3)\n",
      "memory usage: 18.9+ KB\n"
     ]
    }
   ],
   "source": [
    "peng_data.info()"
   ]
  },
  {
   "cell_type": "code",
   "execution_count": 90,
   "id": "70bb1521",
   "metadata": {},
   "outputs": [
    {
     "data": {
      "text/plain": [
       "(344, 7)"
      ]
     },
     "execution_count": 90,
     "metadata": {},
     "output_type": "execute_result"
    }
   ],
   "source": [
    "peng_data.shape"
   ]
  },
  {
   "cell_type": "code",
   "execution_count": 91,
   "id": "78864ea2",
   "metadata": {},
   "outputs": [
    {
     "data": {
      "text/html": [
       "<div>\n",
       "<style scoped>\n",
       "    .dataframe tbody tr th:only-of-type {\n",
       "        vertical-align: middle;\n",
       "    }\n",
       "\n",
       "    .dataframe tbody tr th {\n",
       "        vertical-align: top;\n",
       "    }\n",
       "\n",
       "    .dataframe thead th {\n",
       "        text-align: right;\n",
       "    }\n",
       "</style>\n",
       "<table border=\"1\" class=\"dataframe\">\n",
       "  <thead>\n",
       "    <tr style=\"text-align: right;\">\n",
       "      <th></th>\n",
       "      <th>species</th>\n",
       "      <th>island</th>\n",
       "      <th>bill_length_mm</th>\n",
       "      <th>bill_depth_mm</th>\n",
       "      <th>flipper_length_mm</th>\n",
       "      <th>body_mass_g</th>\n",
       "      <th>sex</th>\n",
       "    </tr>\n",
       "  </thead>\n",
       "  <tbody>\n",
       "    <tr>\n",
       "      <th>0</th>\n",
       "      <td>Adelie</td>\n",
       "      <td>Torgersen</td>\n",
       "      <td>39.1</td>\n",
       "      <td>18.7</td>\n",
       "      <td>181.0</td>\n",
       "      <td>3750.0</td>\n",
       "      <td>male</td>\n",
       "    </tr>\n",
       "    <tr>\n",
       "      <th>1</th>\n",
       "      <td>Adelie</td>\n",
       "      <td>Torgersen</td>\n",
       "      <td>39.5</td>\n",
       "      <td>17.4</td>\n",
       "      <td>186.0</td>\n",
       "      <td>3800.0</td>\n",
       "      <td>female</td>\n",
       "    </tr>\n",
       "    <tr>\n",
       "      <th>2</th>\n",
       "      <td>Adelie</td>\n",
       "      <td>Torgersen</td>\n",
       "      <td>40.3</td>\n",
       "      <td>18.0</td>\n",
       "      <td>195.0</td>\n",
       "      <td>3250.0</td>\n",
       "      <td>female</td>\n",
       "    </tr>\n",
       "    <tr>\n",
       "      <th>3</th>\n",
       "      <td>Adelie</td>\n",
       "      <td>Torgersen</td>\n",
       "      <td>NaN</td>\n",
       "      <td>NaN</td>\n",
       "      <td>NaN</td>\n",
       "      <td>NaN</td>\n",
       "      <td>NaN</td>\n",
       "    </tr>\n",
       "    <tr>\n",
       "      <th>4</th>\n",
       "      <td>Adelie</td>\n",
       "      <td>Torgersen</td>\n",
       "      <td>36.7</td>\n",
       "      <td>19.3</td>\n",
       "      <td>193.0</td>\n",
       "      <td>3450.0</td>\n",
       "      <td>female</td>\n",
       "    </tr>\n",
       "  </tbody>\n",
       "</table>\n",
       "</div>"
      ],
      "text/plain": [
       "  species     island  bill_length_mm  bill_depth_mm  flipper_length_mm  \\\n",
       "0  Adelie  Torgersen            39.1           18.7              181.0   \n",
       "1  Adelie  Torgersen            39.5           17.4              186.0   \n",
       "2  Adelie  Torgersen            40.3           18.0              195.0   \n",
       "3  Adelie  Torgersen             NaN            NaN                NaN   \n",
       "4  Adelie  Torgersen            36.7           19.3              193.0   \n",
       "\n",
       "   body_mass_g     sex  \n",
       "0       3750.0    male  \n",
       "1       3800.0  female  \n",
       "2       3250.0  female  \n",
       "3          NaN     NaN  \n",
       "4       3450.0  female  "
      ]
     },
     "execution_count": 91,
     "metadata": {},
     "output_type": "execute_result"
    }
   ],
   "source": [
    "peng_data.head()"
   ]
  },
  {
   "cell_type": "markdown",
   "id": "489c35b3",
   "metadata": {},
   "source": [
    "<h2>I. Data Cleaning</h2>\n",
    "<p> Data cleaning by replacing NaN's Median of that column, and replaced MODE() value for categorical column 'sex'."
   ]
  },
  {
   "cell_type": "code",
   "execution_count": 92,
   "id": "e92f4b9e",
   "metadata": {},
   "outputs": [
    {
     "data": {
      "text/html": [
       "<div>\n",
       "<style scoped>\n",
       "    .dataframe tbody tr th:only-of-type {\n",
       "        vertical-align: middle;\n",
       "    }\n",
       "\n",
       "    .dataframe tbody tr th {\n",
       "        vertical-align: top;\n",
       "    }\n",
       "\n",
       "    .dataframe thead th {\n",
       "        text-align: right;\n",
       "    }\n",
       "</style>\n",
       "<table border=\"1\" class=\"dataframe\">\n",
       "  <thead>\n",
       "    <tr style=\"text-align: right;\">\n",
       "      <th></th>\n",
       "      <th>species</th>\n",
       "      <th>island</th>\n",
       "      <th>bill_length_mm</th>\n",
       "      <th>bill_depth_mm</th>\n",
       "      <th>flipper_length_mm</th>\n",
       "      <th>body_mass_g</th>\n",
       "      <th>sex</th>\n",
       "    </tr>\n",
       "  </thead>\n",
       "  <tbody>\n",
       "    <tr>\n",
       "      <th>3</th>\n",
       "      <td>Adelie</td>\n",
       "      <td>Torgersen</td>\n",
       "      <td>NaN</td>\n",
       "      <td>NaN</td>\n",
       "      <td>NaN</td>\n",
       "      <td>NaN</td>\n",
       "      <td>NaN</td>\n",
       "    </tr>\n",
       "    <tr>\n",
       "      <th>8</th>\n",
       "      <td>Adelie</td>\n",
       "      <td>Torgersen</td>\n",
       "      <td>34.1</td>\n",
       "      <td>18.1</td>\n",
       "      <td>193.0</td>\n",
       "      <td>3475.0</td>\n",
       "      <td>NaN</td>\n",
       "    </tr>\n",
       "    <tr>\n",
       "      <th>9</th>\n",
       "      <td>Adelie</td>\n",
       "      <td>Torgersen</td>\n",
       "      <td>42.0</td>\n",
       "      <td>20.2</td>\n",
       "      <td>190.0</td>\n",
       "      <td>4250.0</td>\n",
       "      <td>NaN</td>\n",
       "    </tr>\n",
       "    <tr>\n",
       "      <th>10</th>\n",
       "      <td>Adelie</td>\n",
       "      <td>Torgersen</td>\n",
       "      <td>37.8</td>\n",
       "      <td>17.1</td>\n",
       "      <td>186.0</td>\n",
       "      <td>3300.0</td>\n",
       "      <td>NaN</td>\n",
       "    </tr>\n",
       "    <tr>\n",
       "      <th>11</th>\n",
       "      <td>Adelie</td>\n",
       "      <td>Torgersen</td>\n",
       "      <td>37.8</td>\n",
       "      <td>17.3</td>\n",
       "      <td>180.0</td>\n",
       "      <td>3700.0</td>\n",
       "      <td>NaN</td>\n",
       "    </tr>\n",
       "    <tr>\n",
       "      <th>47</th>\n",
       "      <td>Adelie</td>\n",
       "      <td>Dream</td>\n",
       "      <td>37.5</td>\n",
       "      <td>18.9</td>\n",
       "      <td>179.0</td>\n",
       "      <td>2975.0</td>\n",
       "      <td>NaN</td>\n",
       "    </tr>\n",
       "    <tr>\n",
       "      <th>178</th>\n",
       "      <td>Gentoo</td>\n",
       "      <td>Biscoe</td>\n",
       "      <td>44.5</td>\n",
       "      <td>14.3</td>\n",
       "      <td>216.0</td>\n",
       "      <td>4100.0</td>\n",
       "      <td>NaN</td>\n",
       "    </tr>\n",
       "    <tr>\n",
       "      <th>218</th>\n",
       "      <td>Gentoo</td>\n",
       "      <td>Biscoe</td>\n",
       "      <td>46.2</td>\n",
       "      <td>14.4</td>\n",
       "      <td>214.0</td>\n",
       "      <td>4650.0</td>\n",
       "      <td>NaN</td>\n",
       "    </tr>\n",
       "    <tr>\n",
       "      <th>256</th>\n",
       "      <td>Gentoo</td>\n",
       "      <td>Biscoe</td>\n",
       "      <td>47.3</td>\n",
       "      <td>13.8</td>\n",
       "      <td>216.0</td>\n",
       "      <td>4725.0</td>\n",
       "      <td>NaN</td>\n",
       "    </tr>\n",
       "    <tr>\n",
       "      <th>268</th>\n",
       "      <td>Gentoo</td>\n",
       "      <td>Biscoe</td>\n",
       "      <td>44.5</td>\n",
       "      <td>15.7</td>\n",
       "      <td>217.0</td>\n",
       "      <td>4875.0</td>\n",
       "      <td>NaN</td>\n",
       "    </tr>\n",
       "    <tr>\n",
       "      <th>271</th>\n",
       "      <td>Gentoo</td>\n",
       "      <td>Biscoe</td>\n",
       "      <td>NaN</td>\n",
       "      <td>NaN</td>\n",
       "      <td>NaN</td>\n",
       "      <td>NaN</td>\n",
       "      <td>NaN</td>\n",
       "    </tr>\n",
       "  </tbody>\n",
       "</table>\n",
       "</div>"
      ],
      "text/plain": [
       "    species     island  bill_length_mm  bill_depth_mm  flipper_length_mm  \\\n",
       "3    Adelie  Torgersen             NaN            NaN                NaN   \n",
       "8    Adelie  Torgersen            34.1           18.1              193.0   \n",
       "9    Adelie  Torgersen            42.0           20.2              190.0   \n",
       "10   Adelie  Torgersen            37.8           17.1              186.0   \n",
       "11   Adelie  Torgersen            37.8           17.3              180.0   \n",
       "47   Adelie      Dream            37.5           18.9              179.0   \n",
       "178  Gentoo     Biscoe            44.5           14.3              216.0   \n",
       "218  Gentoo     Biscoe            46.2           14.4              214.0   \n",
       "256  Gentoo     Biscoe            47.3           13.8              216.0   \n",
       "268  Gentoo     Biscoe            44.5           15.7              217.0   \n",
       "271  Gentoo     Biscoe             NaN            NaN                NaN   \n",
       "\n",
       "     body_mass_g  sex  \n",
       "3            NaN  NaN  \n",
       "8         3475.0  NaN  \n",
       "9         4250.0  NaN  \n",
       "10        3300.0  NaN  \n",
       "11        3700.0  NaN  \n",
       "47        2975.0  NaN  \n",
       "178       4100.0  NaN  \n",
       "218       4650.0  NaN  \n",
       "256       4725.0  NaN  \n",
       "268       4875.0  NaN  \n",
       "271          NaN  NaN  "
      ]
     },
     "execution_count": 92,
     "metadata": {},
     "output_type": "execute_result"
    }
   ],
   "source": [
    "peng_data[peng_data.isnull().any(axis=1)]"
   ]
  },
  {
   "cell_type": "code",
   "execution_count": 93,
   "id": "08fe1e3a",
   "metadata": {},
   "outputs": [
    {
     "name": "stdout",
     "output_type": "stream",
     "text": [
      "0    male\n",
      "dtype: object\n"
     ]
    }
   ],
   "source": [
    "two_median=peng_data['bill_length_mm'].median()\n",
    "three_median=peng_data['bill_depth_mm'].median()\n",
    "four_median=peng_data['flipper_length_mm'].median()\n",
    "five_median=peng_data['body_mass_g'].median()\n",
    "mode_val=peng_data.iloc[:,6].mode()\n",
    "\n",
    "print(mode_val)"
   ]
  },
  {
   "cell_type": "code",
   "execution_count": 94,
   "id": "5137af11",
   "metadata": {},
   "outputs": [
    {
     "data": {
      "text/html": [
       "<div>\n",
       "<style scoped>\n",
       "    .dataframe tbody tr th:only-of-type {\n",
       "        vertical-align: middle;\n",
       "    }\n",
       "\n",
       "    .dataframe tbody tr th {\n",
       "        vertical-align: top;\n",
       "    }\n",
       "\n",
       "    .dataframe thead th {\n",
       "        text-align: right;\n",
       "    }\n",
       "</style>\n",
       "<table border=\"1\" class=\"dataframe\">\n",
       "  <thead>\n",
       "    <tr style=\"text-align: right;\">\n",
       "      <th></th>\n",
       "      <th>species</th>\n",
       "      <th>island</th>\n",
       "      <th>bill_length_mm</th>\n",
       "      <th>bill_depth_mm</th>\n",
       "      <th>flipper_length_mm</th>\n",
       "      <th>body_mass_g</th>\n",
       "      <th>sex</th>\n",
       "    </tr>\n",
       "  </thead>\n",
       "  <tbody>\n",
       "    <tr>\n",
       "      <th>0</th>\n",
       "      <td>Adelie</td>\n",
       "      <td>Torgersen</td>\n",
       "      <td>39.10</td>\n",
       "      <td>18.7</td>\n",
       "      <td>181.0</td>\n",
       "      <td>3750.0</td>\n",
       "      <td>male</td>\n",
       "    </tr>\n",
       "    <tr>\n",
       "      <th>1</th>\n",
       "      <td>Adelie</td>\n",
       "      <td>Torgersen</td>\n",
       "      <td>39.50</td>\n",
       "      <td>17.4</td>\n",
       "      <td>186.0</td>\n",
       "      <td>3800.0</td>\n",
       "      <td>female</td>\n",
       "    </tr>\n",
       "    <tr>\n",
       "      <th>2</th>\n",
       "      <td>Adelie</td>\n",
       "      <td>Torgersen</td>\n",
       "      <td>40.30</td>\n",
       "      <td>18.0</td>\n",
       "      <td>195.0</td>\n",
       "      <td>3250.0</td>\n",
       "      <td>female</td>\n",
       "    </tr>\n",
       "    <tr>\n",
       "      <th>3</th>\n",
       "      <td>Adelie</td>\n",
       "      <td>Torgersen</td>\n",
       "      <td>44.45</td>\n",
       "      <td>17.3</td>\n",
       "      <td>197.0</td>\n",
       "      <td>4050.0</td>\n",
       "      <td>male</td>\n",
       "    </tr>\n",
       "    <tr>\n",
       "      <th>4</th>\n",
       "      <td>Adelie</td>\n",
       "      <td>Torgersen</td>\n",
       "      <td>36.70</td>\n",
       "      <td>19.3</td>\n",
       "      <td>193.0</td>\n",
       "      <td>3450.0</td>\n",
       "      <td>female</td>\n",
       "    </tr>\n",
       "  </tbody>\n",
       "</table>\n",
       "</div>"
      ],
      "text/plain": [
       "  species     island  bill_length_mm  bill_depth_mm  flipper_length_mm  \\\n",
       "0  Adelie  Torgersen           39.10           18.7              181.0   \n",
       "1  Adelie  Torgersen           39.50           17.4              186.0   \n",
       "2  Adelie  Torgersen           40.30           18.0              195.0   \n",
       "3  Adelie  Torgersen           44.45           17.3              197.0   \n",
       "4  Adelie  Torgersen           36.70           19.3              193.0   \n",
       "\n",
       "   body_mass_g     sex  \n",
       "0       3750.0    male  \n",
       "1       3800.0  female  \n",
       "2       3250.0  female  \n",
       "3       4050.0    male  \n",
       "4       3450.0  female  "
      ]
     },
     "execution_count": 94,
     "metadata": {},
     "output_type": "execute_result"
    }
   ],
   "source": [
    "values={'bill_length_mm':two_median,'bill_depth_mm':three_median,'flipper_length_mm':four_median,'body_mass_g':five_median}\n",
    "\n",
    "peng_data.iloc[[3,271],2:6]=peng_data.iloc[3,2:6].fillna(value=values)\n",
    "\n",
    "for i in range(len(peng_data)):\n",
    "    if peng_data['sex'][i] not in ['male','female']:\n",
    "        peng_data.iloc[i,6] = mode_val\n",
    "\n",
    "peng_data.head()"
   ]
  },
  {
   "cell_type": "markdown",
   "id": "576fad31",
   "metadata": {},
   "source": [
    "<h3> Converting string to Categorical Data. </h3>"
   ]
  },
  {
   "cell_type": "code",
   "execution_count": 95,
   "id": "ab9ad93b",
   "metadata": {},
   "outputs": [
    {
     "name": "stdout",
     "output_type": "stream",
     "text": [
      "<class 'pandas.core.frame.DataFrame'>\n",
      "RangeIndex: 344 entries, 0 to 343\n",
      "Data columns (total 7 columns):\n",
      " #   Column             Non-Null Count  Dtype  \n",
      "---  ------             --------------  -----  \n",
      " 0   species            344 non-null    int64  \n",
      " 1   island             344 non-null    int64  \n",
      " 2   bill_length_mm     344 non-null    float64\n",
      " 3   bill_depth_mm      344 non-null    float64\n",
      " 4   flipper_length_mm  344 non-null    float64\n",
      " 5   body_mass_g        344 non-null    float64\n",
      " 6   sex                344 non-null    int64  \n",
      "dtypes: float64(4), int64(3)\n",
      "memory usage: 18.9 KB\n"
     ]
    },
    {
     "data": {
      "text/html": [
       "<div>\n",
       "<style scoped>\n",
       "    .dataframe tbody tr th:only-of-type {\n",
       "        vertical-align: middle;\n",
       "    }\n",
       "\n",
       "    .dataframe tbody tr th {\n",
       "        vertical-align: top;\n",
       "    }\n",
       "\n",
       "    .dataframe thead th {\n",
       "        text-align: right;\n",
       "    }\n",
       "</style>\n",
       "<table border=\"1\" class=\"dataframe\">\n",
       "  <thead>\n",
       "    <tr style=\"text-align: right;\">\n",
       "      <th></th>\n",
       "      <th>species</th>\n",
       "      <th>island</th>\n",
       "      <th>bill_length_mm</th>\n",
       "      <th>bill_depth_mm</th>\n",
       "      <th>flipper_length_mm</th>\n",
       "      <th>body_mass_g</th>\n",
       "      <th>sex</th>\n",
       "    </tr>\n",
       "  </thead>\n",
       "  <tbody>\n",
       "    <tr>\n",
       "      <th>0</th>\n",
       "      <td>1</td>\n",
       "      <td>3</td>\n",
       "      <td>39.10</td>\n",
       "      <td>18.7</td>\n",
       "      <td>181.0</td>\n",
       "      <td>3750.0</td>\n",
       "      <td>1</td>\n",
       "    </tr>\n",
       "    <tr>\n",
       "      <th>1</th>\n",
       "      <td>1</td>\n",
       "      <td>3</td>\n",
       "      <td>39.50</td>\n",
       "      <td>17.4</td>\n",
       "      <td>186.0</td>\n",
       "      <td>3800.0</td>\n",
       "      <td>0</td>\n",
       "    </tr>\n",
       "    <tr>\n",
       "      <th>2</th>\n",
       "      <td>1</td>\n",
       "      <td>3</td>\n",
       "      <td>40.30</td>\n",
       "      <td>18.0</td>\n",
       "      <td>195.0</td>\n",
       "      <td>3250.0</td>\n",
       "      <td>0</td>\n",
       "    </tr>\n",
       "    <tr>\n",
       "      <th>3</th>\n",
       "      <td>1</td>\n",
       "      <td>3</td>\n",
       "      <td>44.45</td>\n",
       "      <td>17.3</td>\n",
       "      <td>197.0</td>\n",
       "      <td>4050.0</td>\n",
       "      <td>1</td>\n",
       "    </tr>\n",
       "    <tr>\n",
       "      <th>4</th>\n",
       "      <td>1</td>\n",
       "      <td>3</td>\n",
       "      <td>36.70</td>\n",
       "      <td>19.3</td>\n",
       "      <td>193.0</td>\n",
       "      <td>3450.0</td>\n",
       "      <td>0</td>\n",
       "    </tr>\n",
       "  </tbody>\n",
       "</table>\n",
       "</div>"
      ],
      "text/plain": [
       "   species  island  bill_length_mm  bill_depth_mm  flipper_length_mm  \\\n",
       "0        1       3           39.10           18.7              181.0   \n",
       "1        1       3           39.50           17.4              186.0   \n",
       "2        1       3           40.30           18.0              195.0   \n",
       "3        1       3           44.45           17.3              197.0   \n",
       "4        1       3           36.70           19.3              193.0   \n",
       "\n",
       "   body_mass_g  sex  \n",
       "0       3750.0    1  \n",
       "1       3800.0    0  \n",
       "2       3250.0    0  \n",
       "3       4050.0    1  \n",
       "4       3450.0    0  "
      ]
     },
     "execution_count": 95,
     "metadata": {},
     "output_type": "execute_result"
    }
   ],
   "source": [
    "peng_data['species']=peng_data['species'].astype('category')\n",
    "peng_data['island']=peng_data['island'].astype('category')\n",
    "peng_data['sex']=peng_data['sex'].astype('category')\n",
    "peng_species=set(peng_data['species'])\n",
    "peng_island=set(peng_data['island'])\n",
    "peng_sex=set(peng_data['sex'])\n",
    "\n",
    "peng_data.replace(dict(zip(peng_species,[1,2,3])),inplace=True)\n",
    "peng_data.replace(dict(zip(peng_island,[1,2,3])),inplace=True)\n",
    "peng_data.replace(dict(zip(peng_sex,[0,1])),inplace=True)\n",
    "\n",
    "peng_data.info()\n",
    "peng_data.head()"
   ]
  },
  {
   "cell_type": "code",
   "execution_count": 96,
   "id": "6969b120",
   "metadata": {},
   "outputs": [
    {
     "data": {
      "text/html": [
       "<div>\n",
       "<style scoped>\n",
       "    .dataframe tbody tr th:only-of-type {\n",
       "        vertical-align: middle;\n",
       "    }\n",
       "\n",
       "    .dataframe tbody tr th {\n",
       "        vertical-align: top;\n",
       "    }\n",
       "\n",
       "    .dataframe thead th {\n",
       "        text-align: right;\n",
       "    }\n",
       "</style>\n",
       "<table border=\"1\" class=\"dataframe\">\n",
       "  <thead>\n",
       "    <tr style=\"text-align: right;\">\n",
       "      <th></th>\n",
       "      <th>species</th>\n",
       "      <th>island</th>\n",
       "      <th>bill_length_mm</th>\n",
       "      <th>bill_depth_mm</th>\n",
       "      <th>flipper_length_mm</th>\n",
       "      <th>body_mass_g</th>\n",
       "      <th>sex</th>\n",
       "    </tr>\n",
       "  </thead>\n",
       "  <tbody>\n",
       "  </tbody>\n",
       "</table>\n",
       "</div>"
      ],
      "text/plain": [
       "Empty DataFrame\n",
       "Columns: [species, island, bill_length_mm, bill_depth_mm, flipper_length_mm, body_mass_g, sex]\n",
       "Index: []"
      ]
     },
     "execution_count": 96,
     "metadata": {},
     "output_type": "execute_result"
    }
   ],
   "source": [
    "peng_data[peng_data.isnull().any(axis=1)]"
   ]
  },
  {
   "cell_type": "markdown",
   "id": "59871dca",
   "metadata": {},
   "source": [
    "<h3>II. Normalizing non-categorical data</h3>\n",
    "<p> Normalizing values using the formula - (x-min(x))/(max(x)-min(x)). </p>"
   ]
  },
  {
   "cell_type": "code",
   "execution_count": 97,
   "id": "d5b7f2ee",
   "metadata": {},
   "outputs": [
    {
     "data": {
      "text/html": [
       "<div>\n",
       "<style scoped>\n",
       "    .dataframe tbody tr th:only-of-type {\n",
       "        vertical-align: middle;\n",
       "    }\n",
       "\n",
       "    .dataframe tbody tr th {\n",
       "        vertical-align: top;\n",
       "    }\n",
       "\n",
       "    .dataframe thead th {\n",
       "        text-align: right;\n",
       "    }\n",
       "</style>\n",
       "<table border=\"1\" class=\"dataframe\">\n",
       "  <thead>\n",
       "    <tr style=\"text-align: right;\">\n",
       "      <th></th>\n",
       "      <th>species</th>\n",
       "      <th>island</th>\n",
       "      <th>bill_length_mm</th>\n",
       "      <th>bill_depth_mm</th>\n",
       "      <th>flipper_length_mm</th>\n",
       "      <th>body_mass_g</th>\n",
       "      <th>sex</th>\n",
       "    </tr>\n",
       "  </thead>\n",
       "  <tbody>\n",
       "    <tr>\n",
       "      <th>0</th>\n",
       "      <td>1</td>\n",
       "      <td>3</td>\n",
       "      <td>0.254545</td>\n",
       "      <td>0.666667</td>\n",
       "      <td>0.152542</td>\n",
       "      <td>0.291667</td>\n",
       "      <td>1</td>\n",
       "    </tr>\n",
       "    <tr>\n",
       "      <th>1</th>\n",
       "      <td>1</td>\n",
       "      <td>3</td>\n",
       "      <td>0.269091</td>\n",
       "      <td>0.511905</td>\n",
       "      <td>0.237288</td>\n",
       "      <td>0.305556</td>\n",
       "      <td>0</td>\n",
       "    </tr>\n",
       "    <tr>\n",
       "      <th>2</th>\n",
       "      <td>1</td>\n",
       "      <td>3</td>\n",
       "      <td>0.298182</td>\n",
       "      <td>0.583333</td>\n",
       "      <td>0.389831</td>\n",
       "      <td>0.152778</td>\n",
       "      <td>0</td>\n",
       "    </tr>\n",
       "    <tr>\n",
       "      <th>3</th>\n",
       "      <td>1</td>\n",
       "      <td>3</td>\n",
       "      <td>0.449091</td>\n",
       "      <td>0.500000</td>\n",
       "      <td>0.423729</td>\n",
       "      <td>0.375000</td>\n",
       "      <td>1</td>\n",
       "    </tr>\n",
       "    <tr>\n",
       "      <th>4</th>\n",
       "      <td>1</td>\n",
       "      <td>3</td>\n",
       "      <td>0.167273</td>\n",
       "      <td>0.738095</td>\n",
       "      <td>0.355932</td>\n",
       "      <td>0.208333</td>\n",
       "      <td>0</td>\n",
       "    </tr>\n",
       "  </tbody>\n",
       "</table>\n",
       "</div>"
      ],
      "text/plain": [
       "   species  island  bill_length_mm  bill_depth_mm  flipper_length_mm  \\\n",
       "0        1       3        0.254545       0.666667           0.152542   \n",
       "1        1       3        0.269091       0.511905           0.237288   \n",
       "2        1       3        0.298182       0.583333           0.389831   \n",
       "3        1       3        0.449091       0.500000           0.423729   \n",
       "4        1       3        0.167273       0.738095           0.355932   \n",
       "\n",
       "   body_mass_g  sex  \n",
       "0     0.291667    1  \n",
       "1     0.305556    0  \n",
       "2     0.152778    0  \n",
       "3     0.375000    1  \n",
       "4     0.208333    0  "
      ]
     },
     "execution_count": 97,
     "metadata": {},
     "output_type": "execute_result"
    }
   ],
   "source": [
    "max_min_vals=[]\n",
    "for i in range(2,6):\n",
    "    x=peng_data.iloc[:,i]\n",
    "    max_min_vals.append((min(x),max(x)))\n",
    "    peng_data.iloc[:,i]=(x-min(x))/(max(x)-min(x))\n",
    "    \n",
    "peng_data.head()"
   ]
  },
  {
   "cell_type": "markdown",
   "id": "3f5ef4be",
   "metadata": {},
   "source": [
    "<h3>III. Maximum and minimum values are stored</h3>"
   ]
  },
  {
   "cell_type": "code",
   "execution_count": 98,
   "id": "fcb792a5",
   "metadata": {},
   "outputs": [
    {
     "data": {
      "text/plain": [
       "[(32.1, 59.6), (13.1, 21.5), (172.0, 231.0), (2700.0, 6300.0)]"
      ]
     },
     "execution_count": 98,
     "metadata": {},
     "output_type": "execute_result"
    }
   ],
   "source": [
    "max_min_vals"
   ]
  },
  {
   "cell_type": "code",
   "execution_count": 99,
   "id": "1724b8a4",
   "metadata": {},
   "outputs": [
    {
     "data": {
      "text/plain": [
       "<Figure size 432x288 with 0 Axes>"
      ]
     },
     "metadata": {},
     "output_type": "display_data"
    },
    {
     "data": {
      "image/png": "[encoded data removed]",
      "text/plain": [
       "<Figure size 432x432 with 2 Axes>"
      ]
     },
     "metadata": {
      "needs_background": "light"
     },
     "output_type": "display_data"
    }
   ],
   "source": [
    "fig=plt.figure()\n",
    "fig,ax1=plt.subplots(figsize=(6,6))\n",
    "ax1.set_title(\"Heat Map\")\n",
    "corr_matrix=peng_data.corr()\n",
    "#print(corr_matrix)\n",
    "correlation_heat_map=sb.heatmap(corr_matrix,annot=True,cmap=\"coolwarm\")\n",
    "\n"
   ]
  },
  {
   "cell_type": "markdown",
   "id": "8731430c",
   "metadata": {},
   "source": [
    "<h3>IV. Dividing data into training and test set.</h3>\n",
    "<p> > This can be done by first selecting input features and target variable. Based on the correlation graph above, 'SPECIES' variable can be excluded. <br>\n",
    "    > I'm going to perform Binary Classification for gender(Male/Female). </p>"
   ]
  },
  {
   "cell_type": "code",
   "execution_count": 100,
   "id": "94650d59",
   "metadata": {},
   "outputs": [
    {
     "name": "stdout",
     "output_type": "stream",
     "text": [
      "['island', 'bill_length_mm', 'bill_depth_mm', 'flipper_length_mm', 'body_mass_g']\n"
     ]
    }
   ],
   "source": [
    "inputs=peng_data.iloc[:,1:6]\n",
    "target=peng_data['sex']\n",
    "#print(inputs.shape,target.shape)\n",
    "print(list(inputs.columns))"
   ]
  },
  {
   "cell_type": "code",
   "execution_count": 101,
   "id": "c4ee6d82",
   "metadata": {},
   "outputs": [],
   "source": [
    "n1=len(peng_data)\n",
    "_80=int((80*n1)/100)\n",
    "_20=n1-_80\n",
    "x_train=inputs.iloc[:_80]\n",
    "x_test=inputs.iloc[:_20]\n",
    "y_train=target.iloc[:_80]\n",
    "y_test=target.iloc[:_20]\n",
    "\n",
    "w=np.zeros((1,275))\n",
    "x_train=np.array(x_train)\n",
    "y_train=np.array(y_train)\n",
    "y_train=y_train.reshape((275,1))"
   ]
  },
  {
   "cell_type": "markdown",
   "id": "ef890150",
   "metadata": {},
   "source": [
    "<h3>V. Logistic Regression Implementation</h3>\n",
    "<p> "
   ]
  },
  {
   "cell_type": "code",
   "execution_count": 102,
   "id": "0e7f07ab",
   "metadata": {},
   "outputs": [],
   "source": [
    "class logisticregression():\n",
    "    def __init__(self,learning_rate,iterations):\n",
    "        self.learning_rate=learning_rate\n",
    "        self.iterations=iterations\n",
    "        \n",
    "        \n",
    "    def fit(self,x_train,y_train):\n",
    "        loss=[]\n",
    "        n=x_train.shape[1]\n",
    "        b=np.random.uniform(0,1)\n",
    "        weights=np.array([np.random.uniform(0, 1) for i in range(x_train.shape[1])]).reshape((1,x_train.shape[1]))\n",
    "        #weights=np.zeros((1,x_train.shape[1]))\n",
    "        #print(weights,b)\n",
    "        for i in range(self.iterations):\n",
    "            dw,db=self.gradient_descent(weights,x_train,y_train,n,b)\n",
    "            cost=self.cost(weights,x_train,y_train,n,b)\n",
    "            weights=weights-(self.learning_rate*dw.T)\n",
    "            b=b-self.learning_rate*db\n",
    "            #print(b)\n",
    "            loss.append(cost)\n",
    "        return weights,b,loss\n",
    "            \n",
    "    def sigmoid(self,x):\n",
    "        return 1/(1+np.exp(-x))\n",
    "    \n",
    "    def cost(self,w,x,y,n,b):\n",
    "        h=self.sigmoid(np.dot(w,x.T)+b)\n",
    "        j=(-1/n)*np.sum(y.T*np.log(h)+((1-y.T)*np.log(1-h)))\n",
    "        return j\n",
    "        \n",
    "    def gradient_descent(self,w,x,y,n,b):\n",
    "        #print(w.shape,'deed',x.shape,'cfrv',y.shape)\n",
    "        pred=self.sigmoid(np.dot(w,x.T)+b)\n",
    "        y1=y.T\n",
    "        #print(y1[:3],pred.shape)\n",
    "        delta=pred-y1\n",
    "        dw=(1/n)*np.dot(x.T,delta.T)\n",
    "        #print(dw.shape,'dw')\n",
    "        db = (1/n)*(np.sum(delta))\n",
    "        return dw,db\n",
    "        \n",
    "    def predict(self,x,w,b):\n",
    "        y_pred=np.zeros((1,len(x)))\n",
    "        result=self.sigmoid(np.dot(w,x.T)+b)\n",
    "        #print(result)\n",
    "        for i in range(y_pred.shape[1]):\n",
    "            if result[0][i]>=0.5:\n",
    "                y_pred[0][i]=1\n",
    "        return y_pred\n",
    "        "
   ]
  },
  {
   "cell_type": "code",
   "execution_count": 103,
   "id": "f7b528c9",
   "metadata": {},
   "outputs": [],
   "source": [
    "model=logisticregression(0.0247,100000)\n",
    "\n",
    "w,b,loss=model.fit(x_train,y_train)\n",
    "\n",
    "y_train_pred=model.predict(x_train,w,b)\n",
    "\n",
    "y_test_pred=model.predict(x_test,w,b)"
   ]
  },
  {
   "cell_type": "code",
   "execution_count": 104,
   "id": "dd3a72f2",
   "metadata": {},
   "outputs": [],
   "source": [
    "def confusion_matrix(ytest,ypred):\n",
    "    _00=0\n",
    "    _01=0\n",
    "    _10=0\n",
    "    _11=0\n",
    "    for i in range(len(ytest)):\n",
    "        if ytest[i]==0 and int(ypred[0][i])==0:\n",
    "            _00=_00+1\n",
    "        elif ytest[i]==0 and int(ypred[0][i])==1:\n",
    "            _01=_01+1\n",
    "        elif ytest[i]==1 and int(ypred[0][i])==0:\n",
    "            _10=_10+1\n",
    "        else:\n",
    "            _11=_11+1\n",
    "    return _00,_01,_10,_11"
   ]
  },
  {
   "cell_type": "code",
   "execution_count": 105,
   "id": "4a8d0d41",
   "metadata": {},
   "outputs": [
    {
     "name": "stdout",
     "output_type": "stream",
     "text": [
      "Confusion Matrix for Train data: \n",
      "[[115  16]\n",
      " [ 12 132]]\n",
      "Training Accuracy for binary classification: 89.81818181818181 %\n",
      "Confusion Matrix for Test data: \n",
      "[[27  5]\n",
      " [ 5 32]]\n",
      "Test Accuracy for binary classification: 85.5072463768116 %\n"
     ]
    }
   ],
   "source": [
    "_00,_01,_10,_11=confusion_matrix(np.array(y_train),y_train_pred)\n",
    "c_matrix_train=np.array([_00,_01,_10,_11]).reshape((4,1)).reshape((2,2))\n",
    "\n",
    "print(\"Confusion Matrix for Train data: \")\n",
    "print(c_matrix_train,end='\\n')\n",
    "\n",
    "train_tot=y_train_pred.shape[1]\n",
    "training_accuracy=(_00+_11)/train_tot\n",
    "print(\"Training Accuracy for binary classification:\",training_accuracy*100,'%')\n",
    "\n",
    "_00,_01,_10,_11=confusion_matrix(np.array(y_test),y_test_pred)\n",
    "c_matrix_test=np.array([_00,_01,_10,_11]).reshape((4,1)).reshape((2,2))\n",
    "\n",
    "print(\"Confusion Matrix for Test data: \")\n",
    "print(c_matrix_test,end='\\n')\n",
    "\n",
    "test_tot=y_test_pred.shape[1]\n",
    "test_accuracy=(_00+_11)/test_tot\n",
    "print(\"Test Accuracy for binary classification:\",test_accuracy*100,'%')"
   ]
  },
  {
   "cell_type": "markdown",
   "id": "528cc892",
   "metadata": {},
   "source": [
    "<h3>VI. Visualizations</h3>"
   ]
  },
  {
   "cell_type": "code",
   "execution_count": 107,
   "id": "01fb9ee4",
   "metadata": {},
   "outputs": [
    {
     "data": {
      "text/plain": [
       "Text(0.5, 0, 'Loss')"
      ]
     },
     "execution_count": 107,
     "metadata": {},
     "output_type": "execute_result"
    },
    {
     "data": {
      "image/png": "[encoded data removed]",
      "text/plain": [
       "<Figure size 504x432 with 1 Axes>"
      ]
     },
     "metadata": {
      "needs_background": "light"
     },
     "output_type": "display_data"
    }
   ],
   "source": [
    "fig=plt.figure(figsize=(7,6))\n",
    "\n",
    "plt.plot(loss,range(len(loss)))\n",
    "plt.title(\"No.of Iterations vs Loss\",fontsize=12)\n",
    "plt.ylabel(\"No.of Iterations\",fontsize=12)\n",
    "plt.xlabel(\"Loss\",fontsize=12)"
   ]
  },
  {
   "cell_type": "markdown",
   "id": "61acf2a5",
   "metadata": {},
   "source": [
    "References:\n",
    "1. https://www.statisticssolutions.com/free-resources/directory-of-statistical-analyses/what-is-logistic-regression/\n",
    "2. https://scikit-learn.org/stable/modules/generated/sklearn.linear_model.LogisticRegression.html\n",
    "3. https://towardsdatascience.com/logistic-regression-using-python-sklearn-numpy-mnist-handwriting-recognition-matplotlib-a6b31e2b166a"
   ]
  }
 ],
 "metadata": {
  "kernelspec": {
   "display_name": "Python 3 (ipykernel)",
   "language": "python",
   "name": "python3"
  },
  "language_info": {
   "codemirror_mode": {
    "name": "ipython",
    "version": 3
   },
   "file_extension": ".py",
   "mimetype": "text/x-python",
   "name": "python",
   "nbconvert_exporter": "python",
   "pygments_lexer": "ipython3",
   "version": "3.9.7"
  }
 },
 "nbformat": 4,
 "nbformat_minor": 5
}
