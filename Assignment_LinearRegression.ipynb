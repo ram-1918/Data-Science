{
 "cells": [
  {
   "cell_type": "markdown",
   "id": "98d65381",
   "metadata": {},
   "source": [
    "<center><h2>PART III and IV</h2></center>\n",
    "<center><h3> Linear Regression </h3></center>"
   ]
  },
  {
   "cell_type": "markdown",
   "id": "a4f7fde9",
   "metadata": {},
   "source": [
    "I certify that the code and data in this assignment were generated independently, using only the tools and resources defined in the course and that I did not receive any external help, coaching or contributions during the production of this work.\n"
   ]
  },
  {
   "cell_type": "markdown",
   "id": "b226d042",
   "metadata": {},
   "source": [
    "Ram Chandra Bhavirisetty(50414405)<br>\n",
    "Ram Manohar Reddy(50418469)"
   ]
  },
  {
   "cell_type": "markdown",
   "id": "9b109523",
   "metadata": {},
   "source": [
    "<h3>Step-1: Import Libraries</h3>"
   ]
  },
  {
   "cell_type": "code",
   "execution_count": 1156,
   "id": "0e9e3691",
   "metadata": {},
   "outputs": [],
   "source": [
    "import pandas as pd\n",
    "import numpy as np\n",
    "import matplotlib.pyplot as plt\n",
    "import seaborn as sb\n",
    "import time"
   ]
  },
  {
   "cell_type": "markdown",
   "id": "41051201",
   "metadata": {},
   "source": [
    "<h3> Step-2: Read, Preprocess the data and the Main Statistics </h3>"
   ]
  },
  {
   "cell_type": "code",
   "execution_count": 1157,
   "id": "36400f0c",
   "metadata": {},
   "outputs": [],
   "source": [
    "data = pd.read_csv(\"~/documents/penguins.csv\")"
   ]
  },
  {
   "cell_type": "code",
   "execution_count": 1158,
   "id": "8a717565",
   "metadata": {},
   "outputs": [
    {
     "name": "stdout",
     "output_type": "stream",
     "text": [
      "<class 'pandas.core.frame.DataFrame'>\n",
      "RangeIndex: 344 entries, 0 to 343\n",
      "Data columns (total 8 columns):\n",
      " #   Column             Non-Null Count  Dtype  \n",
      "---  ------             --------------  -----  \n",
      " 0   species            344 non-null    object \n",
      " 1   island             344 non-null    object \n",
      " 2   bill_length_mm     342 non-null    float64\n",
      " 3   bill_depth_mm      342 non-null    float64\n",
      " 4   flipper_length_mm  342 non-null    float64\n",
      " 5   body_mass_g        342 non-null    float64\n",
      " 6   sex                333 non-null    object \n",
      " 7   year               344 non-null    int64  \n",
      "dtypes: float64(4), int64(1), object(3)\n",
      "memory usage: 21.6+ KB\n"
     ]
    }
   ],
   "source": [
    "data.info()"
   ]
  },
  {
   "cell_type": "code",
   "execution_count": 1159,
   "id": "04ae5f2d",
   "metadata": {},
   "outputs": [
    {
     "data": {
      "text/html": [
       "<div>\n",
       "<style scoped>\n",
       "    .dataframe tbody tr th:only-of-type {\n",
       "        vertical-align: middle;\n",
       "    }\n",
       "\n",
       "    .dataframe tbody tr th {\n",
       "        vertical-align: top;\n",
       "    }\n",
       "\n",
       "    .dataframe thead th {\n",
       "        text-align: right;\n",
       "    }\n",
       "</style>\n",
       "<table border=\"1\" class=\"dataframe\">\n",
       "  <thead>\n",
       "    <tr style=\"text-align: right;\">\n",
       "      <th></th>\n",
       "      <th>bill_length_mm</th>\n",
       "      <th>bill_depth_mm</th>\n",
       "      <th>flipper_length_mm</th>\n",
       "      <th>body_mass_g</th>\n",
       "      <th>year</th>\n",
       "    </tr>\n",
       "  </thead>\n",
       "  <tbody>\n",
       "    <tr>\n",
       "      <th>count</th>\n",
       "      <td>342.000000</td>\n",
       "      <td>342.000000</td>\n",
       "      <td>342.000000</td>\n",
       "      <td>342.000000</td>\n",
       "      <td>344.000000</td>\n",
       "    </tr>\n",
       "    <tr>\n",
       "      <th>mean</th>\n",
       "      <td>43.921930</td>\n",
       "      <td>17.151170</td>\n",
       "      <td>200.915205</td>\n",
       "      <td>4201.754386</td>\n",
       "      <td>2008.029070</td>\n",
       "    </tr>\n",
       "    <tr>\n",
       "      <th>std</th>\n",
       "      <td>5.459584</td>\n",
       "      <td>1.974793</td>\n",
       "      <td>14.061714</td>\n",
       "      <td>801.954536</td>\n",
       "      <td>0.818356</td>\n",
       "    </tr>\n",
       "    <tr>\n",
       "      <th>min</th>\n",
       "      <td>32.100000</td>\n",
       "      <td>13.100000</td>\n",
       "      <td>172.000000</td>\n",
       "      <td>2700.000000</td>\n",
       "      <td>2007.000000</td>\n",
       "    </tr>\n",
       "    <tr>\n",
       "      <th>25%</th>\n",
       "      <td>39.225000</td>\n",
       "      <td>15.600000</td>\n",
       "      <td>190.000000</td>\n",
       "      <td>3550.000000</td>\n",
       "      <td>2007.000000</td>\n",
       "    </tr>\n",
       "    <tr>\n",
       "      <th>50%</th>\n",
       "      <td>44.450000</td>\n",
       "      <td>17.300000</td>\n",
       "      <td>197.000000</td>\n",
       "      <td>4050.000000</td>\n",
       "      <td>2008.000000</td>\n",
       "    </tr>\n",
       "    <tr>\n",
       "      <th>75%</th>\n",
       "      <td>48.500000</td>\n",
       "      <td>18.700000</td>\n",
       "      <td>213.000000</td>\n",
       "      <td>4750.000000</td>\n",
       "      <td>2009.000000</td>\n",
       "    </tr>\n",
       "    <tr>\n",
       "      <th>max</th>\n",
       "      <td>59.600000</td>\n",
       "      <td>21.500000</td>\n",
       "      <td>231.000000</td>\n",
       "      <td>6300.000000</td>\n",
       "      <td>2009.000000</td>\n",
       "    </tr>\n",
       "  </tbody>\n",
       "</table>\n",
       "</div>"
      ],
      "text/plain": [
       "       bill_length_mm  bill_depth_mm  flipper_length_mm  body_mass_g  \\\n",
       "count      342.000000     342.000000         342.000000   342.000000   \n",
       "mean        43.921930      17.151170         200.915205  4201.754386   \n",
       "std          5.459584       1.974793          14.061714   801.954536   \n",
       "min         32.100000      13.100000         172.000000  2700.000000   \n",
       "25%         39.225000      15.600000         190.000000  3550.000000   \n",
       "50%         44.450000      17.300000         197.000000  4050.000000   \n",
       "75%         48.500000      18.700000         213.000000  4750.000000   \n",
       "max         59.600000      21.500000         231.000000  6300.000000   \n",
       "\n",
       "              year  \n",
       "count   344.000000  \n",
       "mean   2008.029070  \n",
       "std       0.818356  \n",
       "min    2007.000000  \n",
       "25%    2007.000000  \n",
       "50%    2008.000000  \n",
       "75%    2009.000000  \n",
       "max    2009.000000  "
      ]
     },
     "execution_count": 1159,
     "metadata": {},
     "output_type": "execute_result"
    }
   ],
   "source": [
    "data.describe()"
   ]
  },
  {
   "cell_type": "code",
   "execution_count": 1160,
   "id": "30f8e150",
   "metadata": {},
   "outputs": [
    {
     "data": {
      "text/plain": [
       "(344, 8)"
      ]
     },
     "execution_count": 1160,
     "metadata": {},
     "output_type": "execute_result"
    }
   ],
   "source": [
    "data.shape"
   ]
  },
  {
   "cell_type": "code",
   "execution_count": 1161,
   "id": "48e1e058",
   "metadata": {},
   "outputs": [
    {
     "data": {
      "text/html": [
       "<div>\n",
       "<style scoped>\n",
       "    .dataframe tbody tr th:only-of-type {\n",
       "        vertical-align: middle;\n",
       "    }\n",
       "\n",
       "    .dataframe tbody tr th {\n",
       "        vertical-align: top;\n",
       "    }\n",
       "\n",
       "    .dataframe thead th {\n",
       "        text-align: right;\n",
       "    }\n",
       "</style>\n",
       "<table border=\"1\" class=\"dataframe\">\n",
       "  <thead>\n",
       "    <tr style=\"text-align: right;\">\n",
       "      <th></th>\n",
       "      <th>species</th>\n",
       "      <th>island</th>\n",
       "      <th>bill_length_mm</th>\n",
       "      <th>bill_depth_mm</th>\n",
       "      <th>flipper_length_mm</th>\n",
       "      <th>body_mass_g</th>\n",
       "      <th>sex</th>\n",
       "      <th>year</th>\n",
       "    </tr>\n",
       "  </thead>\n",
       "  <tbody>\n",
       "    <tr>\n",
       "      <th>0</th>\n",
       "      <td>Adelie</td>\n",
       "      <td>Torgersen</td>\n",
       "      <td>39.1</td>\n",
       "      <td>18.7</td>\n",
       "      <td>181.0</td>\n",
       "      <td>3750.0</td>\n",
       "      <td>male</td>\n",
       "      <td>2007</td>\n",
       "    </tr>\n",
       "    <tr>\n",
       "      <th>1</th>\n",
       "      <td>Adelie</td>\n",
       "      <td>Torgersen</td>\n",
       "      <td>39.5</td>\n",
       "      <td>17.4</td>\n",
       "      <td>186.0</td>\n",
       "      <td>3800.0</td>\n",
       "      <td>female</td>\n",
       "      <td>2007</td>\n",
       "    </tr>\n",
       "    <tr>\n",
       "      <th>2</th>\n",
       "      <td>Adelie</td>\n",
       "      <td>Torgersen</td>\n",
       "      <td>40.3</td>\n",
       "      <td>18.0</td>\n",
       "      <td>195.0</td>\n",
       "      <td>3250.0</td>\n",
       "      <td>female</td>\n",
       "      <td>2007</td>\n",
       "    </tr>\n",
       "    <tr>\n",
       "      <th>3</th>\n",
       "      <td>Adelie</td>\n",
       "      <td>Torgersen</td>\n",
       "      <td>NaN</td>\n",
       "      <td>NaN</td>\n",
       "      <td>NaN</td>\n",
       "      <td>NaN</td>\n",
       "      <td>NaN</td>\n",
       "      <td>2007</td>\n",
       "    </tr>\n",
       "    <tr>\n",
       "      <th>4</th>\n",
       "      <td>Adelie</td>\n",
       "      <td>Torgersen</td>\n",
       "      <td>36.7</td>\n",
       "      <td>19.3</td>\n",
       "      <td>193.0</td>\n",
       "      <td>3450.0</td>\n",
       "      <td>female</td>\n",
       "      <td>2007</td>\n",
       "    </tr>\n",
       "  </tbody>\n",
       "</table>\n",
       "</div>"
      ],
      "text/plain": [
       "  species     island  bill_length_mm  bill_depth_mm  flipper_length_mm  \\\n",
       "0  Adelie  Torgersen            39.1           18.7              181.0   \n",
       "1  Adelie  Torgersen            39.5           17.4              186.0   \n",
       "2  Adelie  Torgersen            40.3           18.0              195.0   \n",
       "3  Adelie  Torgersen             NaN            NaN                NaN   \n",
       "4  Adelie  Torgersen            36.7           19.3              193.0   \n",
       "\n",
       "   body_mass_g     sex  year  \n",
       "0       3750.0    male  2007  \n",
       "1       3800.0  female  2007  \n",
       "2       3250.0  female  2007  \n",
       "3          NaN     NaN  2007  \n",
       "4       3450.0  female  2007  "
      ]
     },
     "execution_count": 1161,
     "metadata": {},
     "output_type": "execute_result"
    }
   ],
   "source": [
    "data.head()"
   ]
  },
  {
   "cell_type": "markdown",
   "id": "ed641fbb",
   "metadata": {},
   "source": [
    "<h3> Data Cleaning </h3>"
   ]
  },
  {
   "cell_type": "code",
   "execution_count": 1162,
   "id": "2edbdcd1",
   "metadata": {},
   "outputs": [
    {
     "data": {
      "text/html": [
       "<div>\n",
       "<style scoped>\n",
       "    .dataframe tbody tr th:only-of-type {\n",
       "        vertical-align: middle;\n",
       "    }\n",
       "\n",
       "    .dataframe tbody tr th {\n",
       "        vertical-align: top;\n",
       "    }\n",
       "\n",
       "    .dataframe thead th {\n",
       "        text-align: right;\n",
       "    }\n",
       "</style>\n",
       "<table border=\"1\" class=\"dataframe\">\n",
       "  <thead>\n",
       "    <tr style=\"text-align: right;\">\n",
       "      <th></th>\n",
       "      <th>species</th>\n",
       "      <th>island</th>\n",
       "      <th>bill_length_mm</th>\n",
       "      <th>bill_depth_mm</th>\n",
       "      <th>flipper_length_mm</th>\n",
       "      <th>body_mass_g</th>\n",
       "      <th>sex</th>\n",
       "    </tr>\n",
       "  </thead>\n",
       "  <tbody>\n",
       "    <tr>\n",
       "      <th>3</th>\n",
       "      <td>Adelie</td>\n",
       "      <td>Torgersen</td>\n",
       "      <td>NaN</td>\n",
       "      <td>NaN</td>\n",
       "      <td>NaN</td>\n",
       "      <td>NaN</td>\n",
       "      <td>NaN</td>\n",
       "    </tr>\n",
       "    <tr>\n",
       "      <th>8</th>\n",
       "      <td>Adelie</td>\n",
       "      <td>Torgersen</td>\n",
       "      <td>34.1</td>\n",
       "      <td>18.1</td>\n",
       "      <td>193.0</td>\n",
       "      <td>3475.0</td>\n",
       "      <td>NaN</td>\n",
       "    </tr>\n",
       "    <tr>\n",
       "      <th>9</th>\n",
       "      <td>Adelie</td>\n",
       "      <td>Torgersen</td>\n",
       "      <td>42.0</td>\n",
       "      <td>20.2</td>\n",
       "      <td>190.0</td>\n",
       "      <td>4250.0</td>\n",
       "      <td>NaN</td>\n",
       "    </tr>\n",
       "    <tr>\n",
       "      <th>10</th>\n",
       "      <td>Adelie</td>\n",
       "      <td>Torgersen</td>\n",
       "      <td>37.8</td>\n",
       "      <td>17.1</td>\n",
       "      <td>186.0</td>\n",
       "      <td>3300.0</td>\n",
       "      <td>NaN</td>\n",
       "    </tr>\n",
       "    <tr>\n",
       "      <th>11</th>\n",
       "      <td>Adelie</td>\n",
       "      <td>Torgersen</td>\n",
       "      <td>37.8</td>\n",
       "      <td>17.3</td>\n",
       "      <td>180.0</td>\n",
       "      <td>3700.0</td>\n",
       "      <td>NaN</td>\n",
       "    </tr>\n",
       "    <tr>\n",
       "      <th>47</th>\n",
       "      <td>Adelie</td>\n",
       "      <td>Dream</td>\n",
       "      <td>37.5</td>\n",
       "      <td>18.9</td>\n",
       "      <td>179.0</td>\n",
       "      <td>2975.0</td>\n",
       "      <td>NaN</td>\n",
       "    </tr>\n",
       "    <tr>\n",
       "      <th>178</th>\n",
       "      <td>Gentoo</td>\n",
       "      <td>Biscoe</td>\n",
       "      <td>44.5</td>\n",
       "      <td>14.3</td>\n",
       "      <td>216.0</td>\n",
       "      <td>4100.0</td>\n",
       "      <td>NaN</td>\n",
       "    </tr>\n",
       "    <tr>\n",
       "      <th>218</th>\n",
       "      <td>Gentoo</td>\n",
       "      <td>Biscoe</td>\n",
       "      <td>46.2</td>\n",
       "      <td>14.4</td>\n",
       "      <td>214.0</td>\n",
       "      <td>4650.0</td>\n",
       "      <td>NaN</td>\n",
       "    </tr>\n",
       "    <tr>\n",
       "      <th>256</th>\n",
       "      <td>Gentoo</td>\n",
       "      <td>Biscoe</td>\n",
       "      <td>47.3</td>\n",
       "      <td>13.8</td>\n",
       "      <td>216.0</td>\n",
       "      <td>4725.0</td>\n",
       "      <td>NaN</td>\n",
       "    </tr>\n",
       "    <tr>\n",
       "      <th>268</th>\n",
       "      <td>Gentoo</td>\n",
       "      <td>Biscoe</td>\n",
       "      <td>44.5</td>\n",
       "      <td>15.7</td>\n",
       "      <td>217.0</td>\n",
       "      <td>4875.0</td>\n",
       "      <td>NaN</td>\n",
       "    </tr>\n",
       "    <tr>\n",
       "      <th>271</th>\n",
       "      <td>Gentoo</td>\n",
       "      <td>Biscoe</td>\n",
       "      <td>NaN</td>\n",
       "      <td>NaN</td>\n",
       "      <td>NaN</td>\n",
       "      <td>NaN</td>\n",
       "      <td>NaN</td>\n",
       "    </tr>\n",
       "  </tbody>\n",
       "</table>\n",
       "</div>"
      ],
      "text/plain": [
       "    species     island  bill_length_mm  bill_depth_mm  flipper_length_mm  \\\n",
       "3    Adelie  Torgersen             NaN            NaN                NaN   \n",
       "8    Adelie  Torgersen            34.1           18.1              193.0   \n",
       "9    Adelie  Torgersen            42.0           20.2              190.0   \n",
       "10   Adelie  Torgersen            37.8           17.1              186.0   \n",
       "11   Adelie  Torgersen            37.8           17.3              180.0   \n",
       "47   Adelie      Dream            37.5           18.9              179.0   \n",
       "178  Gentoo     Biscoe            44.5           14.3              216.0   \n",
       "218  Gentoo     Biscoe            46.2           14.4              214.0   \n",
       "256  Gentoo     Biscoe            47.3           13.8              216.0   \n",
       "268  Gentoo     Biscoe            44.5           15.7              217.0   \n",
       "271  Gentoo     Biscoe             NaN            NaN                NaN   \n",
       "\n",
       "     body_mass_g  sex  \n",
       "3            NaN  NaN  \n",
       "8         3475.0  NaN  \n",
       "9         4250.0  NaN  \n",
       "10        3300.0  NaN  \n",
       "11        3700.0  NaN  \n",
       "47        2975.0  NaN  \n",
       "178       4100.0  NaN  \n",
       "218       4650.0  NaN  \n",
       "256       4725.0  NaN  \n",
       "268       4875.0  NaN  \n",
       "271          NaN  NaN  "
      ]
     },
     "execution_count": 1162,
     "metadata": {},
     "output_type": "execute_result"
    }
   ],
   "source": [
    "data.drop(['year'],axis=1,inplace=True)\n",
    "data[data.isnull().any(axis=1)]"
   ]
  },
  {
   "cell_type": "markdown",
   "id": "58fd6ed4",
   "metadata": {},
   "source": [
    "<h3> Replaced Null values with median.</h3>"
   ]
  },
  {
   "cell_type": "code",
   "execution_count": 1163,
   "id": "aedf91a1",
   "metadata": {},
   "outputs": [],
   "source": [
    "med_2=data.iloc[:,2].median()\n",
    "med_3=data.iloc[:,3].median()\n",
    "med_4=data.iloc[:,4].median()\n",
    "med_5=data.iloc[:,5].median()\n",
    "mod_6=data.iloc[:,6].mode()"
   ]
  },
  {
   "cell_type": "code",
   "execution_count": 1164,
   "id": "9fb5f50f",
   "metadata": {},
   "outputs": [],
   "source": [
    "value={'bill_length_mm':med_2,'bill_depth_mm':med_3,'flipper_length_mm':med_4,'body_mass_g':med_5}\n",
    "data.iloc[[3,271],2:6]=data.iloc[[3,271],2:6].fillna(value=value)"
   ]
  },
  {
   "cell_type": "code",
   "execution_count": 1165,
   "id": "35426bda",
   "metadata": {},
   "outputs": [
    {
     "data": {
      "text/html": [
       "<div>\n",
       "<style scoped>\n",
       "    .dataframe tbody tr th:only-of-type {\n",
       "        vertical-align: middle;\n",
       "    }\n",
       "\n",
       "    .dataframe tbody tr th {\n",
       "        vertical-align: top;\n",
       "    }\n",
       "\n",
       "    .dataframe thead th {\n",
       "        text-align: right;\n",
       "    }\n",
       "</style>\n",
       "<table border=\"1\" class=\"dataframe\">\n",
       "  <thead>\n",
       "    <tr style=\"text-align: right;\">\n",
       "      <th></th>\n",
       "      <th>species</th>\n",
       "      <th>island</th>\n",
       "      <th>bill_length_mm</th>\n",
       "      <th>bill_depth_mm</th>\n",
       "      <th>flipper_length_mm</th>\n",
       "      <th>body_mass_g</th>\n",
       "      <th>sex</th>\n",
       "    </tr>\n",
       "  </thead>\n",
       "  <tbody>\n",
       "    <tr>\n",
       "      <th>3</th>\n",
       "      <td>Adelie</td>\n",
       "      <td>Torgersen</td>\n",
       "      <td>44.45</td>\n",
       "      <td>17.3</td>\n",
       "      <td>197.0</td>\n",
       "      <td>4050.0</td>\n",
       "      <td>NaN</td>\n",
       "    </tr>\n",
       "    <tr>\n",
       "      <th>8</th>\n",
       "      <td>Adelie</td>\n",
       "      <td>Torgersen</td>\n",
       "      <td>34.10</td>\n",
       "      <td>18.1</td>\n",
       "      <td>193.0</td>\n",
       "      <td>3475.0</td>\n",
       "      <td>NaN</td>\n",
       "    </tr>\n",
       "    <tr>\n",
       "      <th>9</th>\n",
       "      <td>Adelie</td>\n",
       "      <td>Torgersen</td>\n",
       "      <td>42.00</td>\n",
       "      <td>20.2</td>\n",
       "      <td>190.0</td>\n",
       "      <td>4250.0</td>\n",
       "      <td>NaN</td>\n",
       "    </tr>\n",
       "    <tr>\n",
       "      <th>10</th>\n",
       "      <td>Adelie</td>\n",
       "      <td>Torgersen</td>\n",
       "      <td>37.80</td>\n",
       "      <td>17.1</td>\n",
       "      <td>186.0</td>\n",
       "      <td>3300.0</td>\n",
       "      <td>NaN</td>\n",
       "    </tr>\n",
       "    <tr>\n",
       "      <th>11</th>\n",
       "      <td>Adelie</td>\n",
       "      <td>Torgersen</td>\n",
       "      <td>37.80</td>\n",
       "      <td>17.3</td>\n",
       "      <td>180.0</td>\n",
       "      <td>3700.0</td>\n",
       "      <td>NaN</td>\n",
       "    </tr>\n",
       "    <tr>\n",
       "      <th>47</th>\n",
       "      <td>Adelie</td>\n",
       "      <td>Dream</td>\n",
       "      <td>37.50</td>\n",
       "      <td>18.9</td>\n",
       "      <td>179.0</td>\n",
       "      <td>2975.0</td>\n",
       "      <td>NaN</td>\n",
       "    </tr>\n",
       "    <tr>\n",
       "      <th>178</th>\n",
       "      <td>Gentoo</td>\n",
       "      <td>Biscoe</td>\n",
       "      <td>44.50</td>\n",
       "      <td>14.3</td>\n",
       "      <td>216.0</td>\n",
       "      <td>4100.0</td>\n",
       "      <td>NaN</td>\n",
       "    </tr>\n",
       "    <tr>\n",
       "      <th>218</th>\n",
       "      <td>Gentoo</td>\n",
       "      <td>Biscoe</td>\n",
       "      <td>46.20</td>\n",
       "      <td>14.4</td>\n",
       "      <td>214.0</td>\n",
       "      <td>4650.0</td>\n",
       "      <td>NaN</td>\n",
       "    </tr>\n",
       "    <tr>\n",
       "      <th>256</th>\n",
       "      <td>Gentoo</td>\n",
       "      <td>Biscoe</td>\n",
       "      <td>47.30</td>\n",
       "      <td>13.8</td>\n",
       "      <td>216.0</td>\n",
       "      <td>4725.0</td>\n",
       "      <td>NaN</td>\n",
       "    </tr>\n",
       "    <tr>\n",
       "      <th>268</th>\n",
       "      <td>Gentoo</td>\n",
       "      <td>Biscoe</td>\n",
       "      <td>44.50</td>\n",
       "      <td>15.7</td>\n",
       "      <td>217.0</td>\n",
       "      <td>4875.0</td>\n",
       "      <td>NaN</td>\n",
       "    </tr>\n",
       "    <tr>\n",
       "      <th>271</th>\n",
       "      <td>Gentoo</td>\n",
       "      <td>Biscoe</td>\n",
       "      <td>44.45</td>\n",
       "      <td>17.3</td>\n",
       "      <td>197.0</td>\n",
       "      <td>4050.0</td>\n",
       "      <td>NaN</td>\n",
       "    </tr>\n",
       "  </tbody>\n",
       "</table>\n",
       "</div>"
      ],
      "text/plain": [
       "    species     island  bill_length_mm  bill_depth_mm  flipper_length_mm  \\\n",
       "3    Adelie  Torgersen           44.45           17.3              197.0   \n",
       "8    Adelie  Torgersen           34.10           18.1              193.0   \n",
       "9    Adelie  Torgersen           42.00           20.2              190.0   \n",
       "10   Adelie  Torgersen           37.80           17.1              186.0   \n",
       "11   Adelie  Torgersen           37.80           17.3              180.0   \n",
       "47   Adelie      Dream           37.50           18.9              179.0   \n",
       "178  Gentoo     Biscoe           44.50           14.3              216.0   \n",
       "218  Gentoo     Biscoe           46.20           14.4              214.0   \n",
       "256  Gentoo     Biscoe           47.30           13.8              216.0   \n",
       "268  Gentoo     Biscoe           44.50           15.7              217.0   \n",
       "271  Gentoo     Biscoe           44.45           17.3              197.0   \n",
       "\n",
       "     body_mass_g  sex  \n",
       "3         4050.0  NaN  \n",
       "8         3475.0  NaN  \n",
       "9         4250.0  NaN  \n",
       "10        3300.0  NaN  \n",
       "11        3700.0  NaN  \n",
       "47        2975.0  NaN  \n",
       "178       4100.0  NaN  \n",
       "218       4650.0  NaN  \n",
       "256       4725.0  NaN  \n",
       "268       4875.0  NaN  \n",
       "271       4050.0  NaN  "
      ]
     },
     "execution_count": 1165,
     "metadata": {},
     "output_type": "execute_result"
    }
   ],
   "source": [
    "data[data.isnull().any(axis=1)]"
   ]
  },
  {
   "cell_type": "code",
   "execution_count": 1166,
   "id": "79a53c61",
   "metadata": {},
   "outputs": [
    {
     "data": {
      "text/html": [
       "<div>\n",
       "<style scoped>\n",
       "    .dataframe tbody tr th:only-of-type {\n",
       "        vertical-align: middle;\n",
       "    }\n",
       "\n",
       "    .dataframe tbody tr th {\n",
       "        vertical-align: top;\n",
       "    }\n",
       "\n",
       "    .dataframe thead th {\n",
       "        text-align: right;\n",
       "    }\n",
       "</style>\n",
       "<table border=\"1\" class=\"dataframe\">\n",
       "  <thead>\n",
       "    <tr style=\"text-align: right;\">\n",
       "      <th></th>\n",
       "      <th>species</th>\n",
       "      <th>island</th>\n",
       "      <th>bill_length_mm</th>\n",
       "      <th>bill_depth_mm</th>\n",
       "      <th>flipper_length_mm</th>\n",
       "      <th>body_mass_g</th>\n",
       "      <th>sex</th>\n",
       "    </tr>\n",
       "  </thead>\n",
       "  <tbody>\n",
       "  </tbody>\n",
       "</table>\n",
       "</div>"
      ],
      "text/plain": [
       "Empty DataFrame\n",
       "Columns: [species, island, bill_length_mm, bill_depth_mm, flipper_length_mm, body_mass_g, sex]\n",
       "Index: []"
      ]
     },
     "execution_count": 1166,
     "metadata": {},
     "output_type": "execute_result"
    }
   ],
   "source": [
    "data.loc[:,'sex']=data.loc[:,'sex'].fillna(value=mod_6[0])\n",
    "data[data.isnull().any(axis=1)]"
   ]
  },
  {
   "cell_type": "markdown",
   "id": "0df98d37",
   "metadata": {},
   "source": [
    "<h3> Step-3 Convert features with string data type to categorical and Normalize Categorical</h3>"
   ]
  },
  {
   "cell_type": "code",
   "execution_count": 1167,
   "id": "1ce5200d",
   "metadata": {},
   "outputs": [
    {
     "data": {
      "text/plain": [
       "{'Adelie': 0, 'Gentoo': 1, 'Chinstrap': 2}"
      ]
     },
     "execution_count": 1167,
     "metadata": {},
     "output_type": "execute_result"
    }
   ],
   "source": [
    "species=list(set(data['species']))\n",
    "species_data=dict( zip(list(set(data['species'])),list(range(len(species))) ) )\n",
    "island=list(set(data['island']))\n",
    "island_data=dict( zip( list(set(data['island'])),list(range(len(island))) ) )\n",
    "sex=list(set(data['sex']))\n",
    "sex_data=dict( zip( list( set(data['sex']) ),list(range(len(sex))) ) )\n",
    "species_data"
   ]
  },
  {
   "cell_type": "code",
   "execution_count": 1168,
   "id": "fd9911c9",
   "metadata": {},
   "outputs": [],
   "source": [
    "data.replace(species_data,inplace=True)\n",
    "data.replace(island_data,inplace=True)\n",
    "data.replace(sex_data,inplace=True)"
   ]
  },
  {
   "cell_type": "markdown",
   "id": "548b1c9d",
   "metadata": {},
   "source": [
    "<h3> Normalizing Non-Categorical Data</h3>"
   ]
  },
  {
   "cell_type": "code",
   "execution_count": 1169,
   "id": "7012e7aa",
   "metadata": {},
   "outputs": [],
   "source": [
    "for i in range(data.shape[1]):\n",
    "    if i not in [0,1,6]:\n",
    "        d=data.iloc[:,i]\n",
    "        n=(d-min(d))\n",
    "        m=(max(d)-min(d))\n",
    "        data.iloc[:,i]=n/m"
   ]
  },
  {
   "cell_type": "code",
   "execution_count": 1170,
   "id": "b4a0f8d5",
   "metadata": {},
   "outputs": [
    {
     "data": {
      "text/html": [
       "<div>\n",
       "<style scoped>\n",
       "    .dataframe tbody tr th:only-of-type {\n",
       "        vertical-align: middle;\n",
       "    }\n",
       "\n",
       "    .dataframe tbody tr th {\n",
       "        vertical-align: top;\n",
       "    }\n",
       "\n",
       "    .dataframe thead th {\n",
       "        text-align: right;\n",
       "    }\n",
       "</style>\n",
       "<table border=\"1\" class=\"dataframe\">\n",
       "  <thead>\n",
       "    <tr style=\"text-align: right;\">\n",
       "      <th></th>\n",
       "      <th>species</th>\n",
       "      <th>island</th>\n",
       "      <th>bill_length_mm</th>\n",
       "      <th>bill_depth_mm</th>\n",
       "      <th>flipper_length_mm</th>\n",
       "      <th>body_mass_g</th>\n",
       "      <th>sex</th>\n",
       "    </tr>\n",
       "  </thead>\n",
       "  <tbody>\n",
       "    <tr>\n",
       "      <th>0</th>\n",
       "      <td>0</td>\n",
       "      <td>1</td>\n",
       "      <td>0.254545</td>\n",
       "      <td>0.666667</td>\n",
       "      <td>0.152542</td>\n",
       "      <td>0.291667</td>\n",
       "      <td>1</td>\n",
       "    </tr>\n",
       "    <tr>\n",
       "      <th>1</th>\n",
       "      <td>0</td>\n",
       "      <td>1</td>\n",
       "      <td>0.269091</td>\n",
       "      <td>0.511905</td>\n",
       "      <td>0.237288</td>\n",
       "      <td>0.305556</td>\n",
       "      <td>0</td>\n",
       "    </tr>\n",
       "    <tr>\n",
       "      <th>2</th>\n",
       "      <td>0</td>\n",
       "      <td>1</td>\n",
       "      <td>0.298182</td>\n",
       "      <td>0.583333</td>\n",
       "      <td>0.389831</td>\n",
       "      <td>0.152778</td>\n",
       "      <td>0</td>\n",
       "    </tr>\n",
       "    <tr>\n",
       "      <th>3</th>\n",
       "      <td>0</td>\n",
       "      <td>1</td>\n",
       "      <td>0.449091</td>\n",
       "      <td>0.500000</td>\n",
       "      <td>0.423729</td>\n",
       "      <td>0.375000</td>\n",
       "      <td>1</td>\n",
       "    </tr>\n",
       "    <tr>\n",
       "      <th>4</th>\n",
       "      <td>0</td>\n",
       "      <td>1</td>\n",
       "      <td>0.167273</td>\n",
       "      <td>0.738095</td>\n",
       "      <td>0.355932</td>\n",
       "      <td>0.208333</td>\n",
       "      <td>0</td>\n",
       "    </tr>\n",
       "  </tbody>\n",
       "</table>\n",
       "</div>"
      ],
      "text/plain": [
       "   species  island  bill_length_mm  bill_depth_mm  flipper_length_mm  \\\n",
       "0        0       1        0.254545       0.666667           0.152542   \n",
       "1        0       1        0.269091       0.511905           0.237288   \n",
       "2        0       1        0.298182       0.583333           0.389831   \n",
       "3        0       1        0.449091       0.500000           0.423729   \n",
       "4        0       1        0.167273       0.738095           0.355932   \n",
       "\n",
       "   body_mass_g  sex  \n",
       "0     0.291667    1  \n",
       "1     0.305556    0  \n",
       "2     0.152778    0  \n",
       "3     0.375000    1  \n",
       "4     0.208333    0  "
      ]
     },
     "execution_count": 1170,
     "metadata": {},
     "output_type": "execute_result"
    }
   ],
   "source": [
    "data.head()"
   ]
  },
  {
   "cell_type": "markdown",
   "id": "db5559a5",
   "metadata": {},
   "source": [
    "<h3> Step-4: Feature selection using Correlation Graph.</h3>"
   ]
  },
  {
   "cell_type": "code",
   "execution_count": 1171,
   "id": "6dd33f75",
   "metadata": {},
   "outputs": [
    {
     "data": {
      "text/plain": [
       "Text(0.5, 1.0, 'heatMap')"
      ]
     },
     "execution_count": 1171,
     "metadata": {},
     "output_type": "execute_result"
    },
    {
     "data": {
      "image/png": "[encoded data removed]",
      "text/plain": [
       "<Figure size 432x288 with 2 Axes>"
      ]
     },
     "metadata": {
      "needs_background": "light"
     },
     "output_type": "display_data"
    }
   ],
   "source": [
    "data_corr=data.corr()\n",
    "sb.heatmap(data_corr,annot=True,cmap=\"coolwarm\")\n",
    "plt.title(\"heatMap\")"
   ]
  },
  {
   "cell_type": "markdown",
   "id": "eca585f7",
   "metadata": {},
   "source": [
    "<h3>Visualizations for Features Vs Target</h3>"
   ]
  },
  {
   "cell_type": "code",
   "execution_count": 1172,
   "id": "2de91683",
   "metadata": {},
   "outputs": [
    {
     "data": {
      "text/plain": [
       "Text(0.5, 1.0, 'Flipper_length_mm Vs body_mass_g')"
      ]
     },
     "execution_count": 1172,
     "metadata": {},
     "output_type": "execute_result"
    },
    {
     "data": {
      "image/png": "[encoded data removed]",
      "text/plain": [
       "<Figure size 720x360 with 1 Axes>"
      ]
     },
     "metadata": {
      "needs_background": "light"
     },
     "output_type": "display_data"
    }
   ],
   "source": [
    "fig=plt.figure(figsize=(10,5))\n",
    "plt.scatter(data['flipper_length_mm'],data['body_mass_g'])\n",
    "plt.xlabel('flipper_length_mm',fontsize=12)\n",
    "plt.ylabel('body_mass_g',fontsize=12)\n",
    "plt.title(\"Flipper_length_mm Vs body_mass_g\")"
   ]
  },
  {
   "cell_type": "code",
   "execution_count": 1173,
   "id": "a100794a",
   "metadata": {},
   "outputs": [
    {
     "data": {
      "text/plain": [
       "Text(0.5, 1.0, 'bill_length_mm Vs body_mass_g')"
      ]
     },
     "execution_count": 1173,
     "metadata": {},
     "output_type": "execute_result"
    },
    {
     "data": {
      "image/png": "[encoded data removed]",
      "text/plain": [
       "<Figure size 720x360 with 1 Axes>"
      ]
     },
     "metadata": {
      "needs_background": "light"
     },
     "output_type": "display_data"
    }
   ],
   "source": [
    "fig=plt.figure(figsize=(10,5))\n",
    "plt.scatter(data['bill_length_mm'],data['body_mass_g'])\n",
    "plt.xlabel('bill_length_mm',fontsize=12)\n",
    "plt.ylabel('body_mass_g',fontsize=12)\n",
    "plt.title(\"bill_length_mm Vs body_mass_g\")"
   ]
  },
  {
   "cell_type": "code",
   "execution_count": 1174,
   "id": "7da38340",
   "metadata": {},
   "outputs": [
    {
     "data": {
      "text/plain": [
       "Text(0.5, 1.0, 'sex Vs body_mass_g')"
      ]
     },
     "execution_count": 1174,
     "metadata": {},
     "output_type": "execute_result"
    },
    {
     "data": {
      "image/png": "[encoded data removed]",
      "text/plain": [
       "<Figure size 720x360 with 1 Axes>"
      ]
     },
     "metadata": {
      "needs_background": "light"
     },
     "output_type": "display_data"
    }
   ],
   "source": [
    "fig=plt.figure(figsize=(10,5))\n",
    "plt.bar(data['sex'],data['body_mass_g'])\n",
    "plt.xlabel('sex',fontsize=12)\n",
    "plt.ylabel('body_mass_g',fontsize=12)\n",
    "plt.title(\"sex Vs body_mass_g\")"
   ]
  },
  {
   "cell_type": "code",
   "execution_count": 1175,
   "id": "cce303b6",
   "metadata": {},
   "outputs": [
    {
     "data": {
      "text/plain": [
       "Text(0.5, 1.0, 'bill_depth_mm Vs body_mass_g')"
      ]
     },
     "execution_count": 1175,
     "metadata": {},
     "output_type": "execute_result"
    },
    {
     "data": {
      "image/png": "[encoded data removed]",
      "text/plain": [
       "<Figure size 720x360 with 1 Axes>"
      ]
     },
     "metadata": {
      "needs_background": "light"
     },
     "output_type": "display_data"
    }
   ],
   "source": [
    "fig=plt.figure(figsize=(10,5))\n",
    "plt.scatter(data['bill_depth_mm'],data['body_mass_g'])\n",
    "plt.xlabel('bill_depth_mm',fontsize=12)\n",
    "plt.ylabel('body_mass_g',fontsize=12)\n",
    "plt.title(\"bill_depth_mm Vs body_mass_g\")"
   ]
  },
  {
   "cell_type": "markdown",
   "id": "51838ef7",
   "metadata": {},
   "source": [
    "<h3> Concatenating initial weights column with the data </h3>"
   ]
  },
  {
   "cell_type": "code",
   "execution_count": 1176,
   "id": "f357931d",
   "metadata": {},
   "outputs": [
    {
     "data": {
      "text/html": [
       "<div>\n",
       "<style scoped>\n",
       "    .dataframe tbody tr th:only-of-type {\n",
       "        vertical-align: middle;\n",
       "    }\n",
       "\n",
       "    .dataframe tbody tr th {\n",
       "        vertical-align: top;\n",
       "    }\n",
       "\n",
       "    .dataframe thead th {\n",
       "        text-align: right;\n",
       "    }\n",
       "</style>\n",
       "<table border=\"1\" class=\"dataframe\">\n",
       "  <thead>\n",
       "    <tr style=\"text-align: right;\">\n",
       "      <th></th>\n",
       "      <th>w0</th>\n",
       "      <th>species</th>\n",
       "      <th>island</th>\n",
       "      <th>bill_length_mm</th>\n",
       "      <th>bill_depth_mm</th>\n",
       "      <th>flipper_length_mm</th>\n",
       "      <th>body_mass_g</th>\n",
       "      <th>sex</th>\n",
       "    </tr>\n",
       "  </thead>\n",
       "  <tbody>\n",
       "    <tr>\n",
       "      <th>0</th>\n",
       "      <td>1.0</td>\n",
       "      <td>0</td>\n",
       "      <td>1</td>\n",
       "      <td>0.254545</td>\n",
       "      <td>0.666667</td>\n",
       "      <td>0.152542</td>\n",
       "      <td>0.291667</td>\n",
       "      <td>1</td>\n",
       "    </tr>\n",
       "    <tr>\n",
       "      <th>1</th>\n",
       "      <td>1.0</td>\n",
       "      <td>0</td>\n",
       "      <td>1</td>\n",
       "      <td>0.269091</td>\n",
       "      <td>0.511905</td>\n",
       "      <td>0.237288</td>\n",
       "      <td>0.305556</td>\n",
       "      <td>0</td>\n",
       "    </tr>\n",
       "    <tr>\n",
       "      <th>2</th>\n",
       "      <td>1.0</td>\n",
       "      <td>0</td>\n",
       "      <td>1</td>\n",
       "      <td>0.298182</td>\n",
       "      <td>0.583333</td>\n",
       "      <td>0.389831</td>\n",
       "      <td>0.152778</td>\n",
       "      <td>0</td>\n",
       "    </tr>\n",
       "    <tr>\n",
       "      <th>3</th>\n",
       "      <td>1.0</td>\n",
       "      <td>0</td>\n",
       "      <td>1</td>\n",
       "      <td>0.449091</td>\n",
       "      <td>0.500000</td>\n",
       "      <td>0.423729</td>\n",
       "      <td>0.375000</td>\n",
       "      <td>1</td>\n",
       "    </tr>\n",
       "    <tr>\n",
       "      <th>4</th>\n",
       "      <td>1.0</td>\n",
       "      <td>0</td>\n",
       "      <td>1</td>\n",
       "      <td>0.167273</td>\n",
       "      <td>0.738095</td>\n",
       "      <td>0.355932</td>\n",
       "      <td>0.208333</td>\n",
       "      <td>0</td>\n",
       "    </tr>\n",
       "  </tbody>\n",
       "</table>\n",
       "</div>"
      ],
      "text/plain": [
       "    w0  species  island  bill_length_mm  bill_depth_mm  flipper_length_mm  \\\n",
       "0  1.0        0       1        0.254545       0.666667           0.152542   \n",
       "1  1.0        0       1        0.269091       0.511905           0.237288   \n",
       "2  1.0        0       1        0.298182       0.583333           0.389831   \n",
       "3  1.0        0       1        0.449091       0.500000           0.423729   \n",
       "4  1.0        0       1        0.167273       0.738095           0.355932   \n",
       "\n",
       "   body_mass_g  sex  \n",
       "0     0.291667    1  \n",
       "1     0.305556    0  \n",
       "2     0.152778    0  \n",
       "3     0.375000    1  \n",
       "4     0.208333    0  "
      ]
     },
     "execution_count": 1176,
     "metadata": {},
     "output_type": "execute_result"
    }
   ],
   "source": [
    "p=np.ones((data.shape[0]))\n",
    "p=pd.DataFrame(p)\n",
    "p.columns=['w0']\n",
    "data=pd.concat([p,data],axis=1)\n",
    "data.head()"
   ]
  },
  {
   "cell_type": "markdown",
   "id": "28a94ef2",
   "metadata": {},
   "source": [
    "<h3> Step-5: Creating input_feature and Target Matrix</h3>"
   ]
  },
  {
   "cell_type": "code",
   "execution_count": 1016,
   "id": "1ea75d4e",
   "metadata": {},
   "outputs": [],
   "source": [
    "X = data.loc[:,['w0','flipper_length_mm','bill_depth_mm','bill_length_mm','sex']]\n",
    "coef = X.columns\n",
    "X = np.array(X)\n",
    "Y = data['body_mass_g']\n",
    "Y = np.array(Y)\n",
    "Y=Y.reshape((X.shape[0],1))"
   ]
  },
  {
   "cell_type": "markdown",
   "id": "72a67822",
   "metadata": {},
   "source": [
    "<h3> Step-6: Training and Test set (80 : 20)</h3>"
   ]
  },
  {
   "cell_type": "code",
   "execution_count": 1143,
   "id": "5b4f2a7c",
   "metadata": {},
   "outputs": [],
   "source": [
    "n=int(0.8*data.shape[0])\n",
    "x_train,x_test,y_train,y_test=X[:n],X[n:],Y[:n],Y[n:]"
   ]
  },
  {
   "cell_type": "markdown",
   "id": "35056e96",
   "metadata": {},
   "source": [
    "<h3> Step-7: Print the shape of train and test sets.</h3>"
   ]
  },
  {
   "cell_type": "code",
   "execution_count": 1144,
   "id": "67312dc2",
   "metadata": {},
   "outputs": [
    {
     "data": {
      "text/html": [
       "<div>\n",
       "<style scoped>\n",
       "    .dataframe tbody tr th:only-of-type {\n",
       "        vertical-align: middle;\n",
       "    }\n",
       "\n",
       "    .dataframe tbody tr th {\n",
       "        vertical-align: top;\n",
       "    }\n",
       "\n",
       "    .dataframe thead th {\n",
       "        text-align: right;\n",
       "    }\n",
       "</style>\n",
       "<table border=\"1\" class=\"dataframe\">\n",
       "  <thead>\n",
       "    <tr style=\"text-align: right;\">\n",
       "      <th></th>\n",
       "      <th>Shape</th>\n",
       "    </tr>\n",
       "  </thead>\n",
       "  <tbody>\n",
       "    <tr>\n",
       "      <th>x_train</th>\n",
       "      <td>(275, 5)</td>\n",
       "    </tr>\n",
       "    <tr>\n",
       "      <th>x_test</th>\n",
       "      <td>(69, 5)</td>\n",
       "    </tr>\n",
       "    <tr>\n",
       "      <th>y_train</th>\n",
       "      <td>(275, 1)</td>\n",
       "    </tr>\n",
       "    <tr>\n",
       "      <th>y_test</th>\n",
       "      <td>(69, 1)</td>\n",
       "    </tr>\n",
       "  </tbody>\n",
       "</table>\n",
       "</div>"
      ],
      "text/plain": [
       "            Shape\n",
       "x_train  (275, 5)\n",
       "x_test    (69, 5)\n",
       "y_train  (275, 1)\n",
       "y_test    (69, 1)"
      ]
     },
     "execution_count": 1144,
     "metadata": {},
     "output_type": "execute_result"
    }
   ],
   "source": [
    "shape = pd.DataFrame({\"x_train\":[x_train.shape],\"x_test\":[x_test.shape],\"y_train\":[y_train.shape],\"y_test\":[y_test.shape]},index = ['Shape'])\n",
    "shape.T.head()\n"
   ]
  },
  {
   "cell_type": "markdown",
   "id": "f18a8099",
   "metadata": {},
   "source": [
    "<h3> Step-8: Calculate the weights with Ordinary Least Squares (OLS).</h3>"
   ]
  },
  {
   "cell_type": "code",
   "execution_count": 1145,
   "id": "8d3c20dd",
   "metadata": {},
   "outputs": [],
   "source": [
    "weights = np.linalg.inv(x_train.T.dot(x_train)).dot(x_train.T).dot(y_train)\n",
    "coefs = weights\n",
    "c = weights.T"
   ]
  },
  {
   "cell_type": "code",
   "execution_count": 1146,
   "id": "24d72cbe",
   "metadata": {},
   "outputs": [
    {
     "name": "stdout",
     "output_type": "stream",
     "text": [
      "Weights Vector:  [ 0.01492817  0.48675067 -0.04005068  0.38968512  0.09996593]\n"
     ]
    },
    {
     "data": {
      "text/html": [
       "<div>\n",
       "<style scoped>\n",
       "    .dataframe tbody tr th:only-of-type {\n",
       "        vertical-align: middle;\n",
       "    }\n",
       "\n",
       "    .dataframe tbody tr th {\n",
       "        vertical-align: top;\n",
       "    }\n",
       "\n",
       "    .dataframe thead th {\n",
       "        text-align: right;\n",
       "    }\n",
       "</style>\n",
       "<table border=\"1\" class=\"dataframe\">\n",
       "  <thead>\n",
       "    <tr style=\"text-align: right;\">\n",
       "      <th></th>\n",
       "      <th>Weights</th>\n",
       "    </tr>\n",
       "  </thead>\n",
       "  <tbody>\n",
       "    <tr>\n",
       "      <th>Intercept</th>\n",
       "      <td>0.014928</td>\n",
       "    </tr>\n",
       "    <tr>\n",
       "      <th>flipper_length_mm</th>\n",
       "      <td>0.486751</td>\n",
       "    </tr>\n",
       "    <tr>\n",
       "      <th>bill_depth_mm</th>\n",
       "      <td>-0.040051</td>\n",
       "    </tr>\n",
       "    <tr>\n",
       "      <th>bill_length_mm</th>\n",
       "      <td>0.389685</td>\n",
       "    </tr>\n",
       "    <tr>\n",
       "      <th>sex</th>\n",
       "      <td>0.099966</td>\n",
       "    </tr>\n",
       "  </tbody>\n",
       "</table>\n",
       "</div>"
      ],
      "text/plain": [
       "                    Weights\n",
       "Intercept          0.014928\n",
       "flipper_length_mm  0.486751\n",
       "bill_depth_mm     -0.040051\n",
       "bill_length_mm     0.389685\n",
       "sex                0.099966"
      ]
     },
     "execution_count": 1146,
     "metadata": {},
     "output_type": "execute_result"
    }
   ],
   "source": [
    "ols_w= pd.DataFrame(dict(zip(coef,*c)),index=['Weights']).T\n",
    "ols_w.index = ['Intercept',*coef[1:]] \n",
    "print(\"Weights Vector: \",*c)\n",
    "ols_w.head()"
   ]
  },
  {
   "cell_type": "code",
   "execution_count": 1147,
   "id": "64c02589",
   "metadata": {},
   "outputs": [],
   "source": [
    "w0,w1,w2,w3,w4=coefs[0],coefs[1],coefs[2],coefs[3],coefs[4]"
   ]
  },
  {
   "cell_type": "markdown",
   "id": "bd0b279c",
   "metadata": {},
   "source": [
    "<h3> Step-9: Get the Predictions with the Weights obtained and Mean Squared Errors(MSE). </h3>"
   ]
  },
  {
   "cell_type": "code",
   "execution_count": 1182,
   "id": "fb3f8b99",
   "metadata": {},
   "outputs": [],
   "source": [
    "ypred_train_slr = w0 + w1*x_train[:,1]+ w2*x_train[:,2]+ w3*x_train[:,3]+ w4*x_train[:,4]#c.dot(x_train.T)\n",
    "ypred_test_slr = w0 + w1*x_test[:,1]+ w2*x_test[:,2]+ w3*x_test[:,3]+w4*x_test[:,4]"
   ]
  },
  {
   "cell_type": "code",
   "execution_count": 1184,
   "id": "7dae2a04",
   "metadata": {},
   "outputs": [
    {
     "name": "stdout",
     "output_type": "stream",
     "text": [
      "Mean_Squared_Error(MSE): 4.427199254038602\n"
     ]
    }
   ],
   "source": [
    "ols_mse_loss=(1/y_test.shape[0])*(np.sum((ypred_test_slr-y_test)**2))\n",
    "print('Mean_Squared_Error(MSE):',ols_mse_loss)"
   ]
  },
  {
   "cell_type": "markdown",
   "id": "1b02aea5",
   "metadata": {},
   "source": [
    "<h3>Comparing Actual Vs Predictions</h3>"
   ]
  },
  {
   "cell_type": "code",
   "execution_count": 1150,
   "id": "47853ef9",
   "metadata": {},
   "outputs": [],
   "source": [
    "y_t=y_train.reshape((y_train.shape[0],))\n",
    "y_te=y_test.reshape((y_test.shape[0],))\n",
    "train_compare = pd.DataFrame({'Train_Actual':y_t,'Train_preds':ypred_train_slr})\n",
    "test_compare = pd.DataFrame({'Test_Actual':y_te,'Test_preds':ypred_test_slr})"
   ]
  },
  {
   "cell_type": "code",
   "execution_count": 1151,
   "id": "75d4f9da",
   "metadata": {},
   "outputs": [
    {
     "data": {
      "text/html": [
       "<div>\n",
       "<style scoped>\n",
       "    .dataframe tbody tr th:only-of-type {\n",
       "        vertical-align: middle;\n",
       "    }\n",
       "\n",
       "    .dataframe tbody tr th {\n",
       "        vertical-align: top;\n",
       "    }\n",
       "\n",
       "    .dataframe thead th {\n",
       "        text-align: right;\n",
       "    }\n",
       "</style>\n",
       "<table border=\"1\" class=\"dataframe\">\n",
       "  <thead>\n",
       "    <tr style=\"text-align: right;\">\n",
       "      <th></th>\n",
       "      <th>Train_Actual</th>\n",
       "      <th>Train_preds</th>\n",
       "    </tr>\n",
       "  </thead>\n",
       "  <tbody>\n",
       "    <tr>\n",
       "      <th>0</th>\n",
       "      <td>0.291667</td>\n",
       "      <td>0.261636</td>\n",
       "    </tr>\n",
       "    <tr>\n",
       "      <th>1</th>\n",
       "      <td>0.305556</td>\n",
       "      <td>0.214787</td>\n",
       "    </tr>\n",
       "    <tr>\n",
       "      <th>2</th>\n",
       "      <td>0.152778</td>\n",
       "      <td>0.297513</td>\n",
       "    </tr>\n",
       "    <tr>\n",
       "      <th>3</th>\n",
       "      <td>0.375000</td>\n",
       "      <td>0.476123</td>\n",
       "    </tr>\n",
       "    <tr>\n",
       "      <th>4</th>\n",
       "      <td>0.208333</td>\n",
       "      <td>0.223801</td>\n",
       "    </tr>\n",
       "  </tbody>\n",
       "</table>\n",
       "</div>"
      ],
      "text/plain": [
       "   Train_Actual  Train_preds\n",
       "0      0.291667     0.261636\n",
       "1      0.305556     0.214787\n",
       "2      0.152778     0.297513\n",
       "3      0.375000     0.476123\n",
       "4      0.208333     0.223801"
      ]
     },
     "execution_count": 1151,
     "metadata": {},
     "output_type": "execute_result"
    }
   ],
   "source": [
    "train_compare.head()"
   ]
  },
  {
   "cell_type": "code",
   "execution_count": 1152,
   "id": "504cd6d8",
   "metadata": {},
   "outputs": [
    {
     "data": {
      "text/html": [
       "<div>\n",
       "<style scoped>\n",
       "    .dataframe tbody tr th:only-of-type {\n",
       "        vertical-align: middle;\n",
       "    }\n",
       "\n",
       "    .dataframe tbody tr th {\n",
       "        vertical-align: top;\n",
       "    }\n",
       "\n",
       "    .dataframe thead th {\n",
       "        text-align: right;\n",
       "    }\n",
       "</style>\n",
       "<table border=\"1\" class=\"dataframe\">\n",
       "  <thead>\n",
       "    <tr style=\"text-align: right;\">\n",
       "      <th></th>\n",
       "      <th>Test_Actual</th>\n",
       "      <th>Test_preds</th>\n",
       "    </tr>\n",
       "  </thead>\n",
       "  <tbody>\n",
       "    <tr>\n",
       "      <th>0</th>\n",
       "      <td>0.750000</td>\n",
       "      <td>0.691073</td>\n",
       "    </tr>\n",
       "    <tr>\n",
       "      <th>1</th>\n",
       "      <td>0.222222</td>\n",
       "      <td>0.361096</td>\n",
       "    </tr>\n",
       "    <tr>\n",
       "      <th>2</th>\n",
       "      <td>0.333333</td>\n",
       "      <td>0.536029</td>\n",
       "    </tr>\n",
       "    <tr>\n",
       "      <th>3</th>\n",
       "      <td>0.263889</td>\n",
       "      <td>0.531131</td>\n",
       "    </tr>\n",
       "    <tr>\n",
       "      <th>4</th>\n",
       "      <td>0.229167</td>\n",
       "      <td>0.308694</td>\n",
       "    </tr>\n",
       "  </tbody>\n",
       "</table>\n",
       "</div>"
      ],
      "text/plain": [
       "   Test_Actual  Test_preds\n",
       "0     0.750000    0.691073\n",
       "1     0.222222    0.361096\n",
       "2     0.333333    0.536029\n",
       "3     0.263889    0.531131\n",
       "4     0.229167    0.308694"
      ]
     },
     "execution_count": 1152,
     "metadata": {},
     "output_type": "execute_result"
    }
   ],
   "source": [
    "test_compare.head()"
   ]
  },
  {
   "cell_type": "markdown",
   "id": "91dc6f7c",
   "metadata": {},
   "source": [
    "<h3>Step-10 <br> <br>Prediction vs Training Graph</h3>"
   ]
  },
  {
   "cell_type": "code",
   "execution_count": 1128,
   "id": "03b0a3fa",
   "metadata": {},
   "outputs": [
    {
     "data": {
      "text/plain": [
       "Text(0.5, 1.0, 'Train_Acutal vs Train_Predicted')"
      ]
     },
     "execution_count": 1128,
     "metadata": {},
     "output_type": "execute_result"
    },
    {
     "data": {
      "image/png": "[encoded data removed]",
      "text/plain": [
       "<Figure size 432x288 with 1 Axes>"
      ]
     },
     "metadata": {
      "needs_background": "light"
     },
     "output_type": "display_data"
    }
   ],
   "source": [
    "plt.scatter(ypred_train_slr,y_train)\n",
    "plt.xlabel(\"Train_Predicted\",fontsize=13)\n",
    "plt.ylabel(\"Train_Actual\",fontsize=13)\n",
    "plt.title(\"Train_Acutal vs Train_Predicted\",fontsize=14)"
   ]
  },
  {
   "cell_type": "markdown",
   "id": "f9b61feb",
   "metadata": {},
   "source": [
    "<h3>Prediction Vs Testing Graph</h3>"
   ]
  },
  {
   "cell_type": "code",
   "execution_count": 1129,
   "id": "dac58251",
   "metadata": {},
   "outputs": [
    {
     "data": {
      "text/plain": [
       "Text(0.5, 1.0, 'Test_Actual vs Test_Predicted')"
      ]
     },
     "execution_count": 1129,
     "metadata": {},
     "output_type": "execute_result"
    },
    {
     "data": {
      "image/png": "[encoded data removed]",
      "text/plain": [
       "<Figure size 432x288 with 1 Axes>"
      ]
     },
     "metadata": {
      "needs_background": "light"
     },
     "output_type": "display_data"
    }
   ],
   "source": [
    "plt.scatter(ypred_test_slr,y_test, alpha=0.8, edgecolors=\"black\")\n",
    "plt.xlabel(\"Test_Predicted\",fontsize=14)\n",
    "plt.ylabel(\"Test_Acutal\",fontsize=14)\n",
    "plt.title(\"Test_Actual vs Test_Predicted\",fontsize=14)"
   ]
  },
  {
   "cell_type": "markdown",
   "id": "531e6cdb",
   "metadata": {},
   "source": [
    "<center><h2>PART-4</h2></center>\n",
    "<center><h3> Ridge Regression</h3></center>\n",
    "<p>Reusing Data from Part-3</p>\n",
    "<p>Finding value of lambda which gives the lowest Loss.</p>"
   ]
  },
  {
   "cell_type": "code",
   "execution_count": 1185,
   "id": "4a5c1079",
   "metadata": {},
   "outputs": [],
   "source": [
    "loss=[]\n",
    "for i in range(20):\n",
    "    lam = i\n",
    "    ridge_weights = np.linalg.inv(x_train.T.dot(x_train)+lam*np.identity(x_train.shape[1])).dot(x_train.T.dot(y_train))\n",
    "    \n",
    "    ridge_w = ridge_weights\n",
    "    \n",
    "    ridge_loss = (1/2)*np.sum( (y_test - x_test.dot(ridge_w)).T.dot((y_test - x_test.dot(ridge_w))) + (1/2)*lam*(ridge_w.T.dot(ridge_w)))\n",
    "    loss.append(ridge_loss)\n",
    "    \n",
    "#list(zip(loss,list(range(20))))\n"
   ]
  },
  {
   "cell_type": "markdown",
   "id": "85e3fd0f",
   "metadata": {},
   "source": [
    "<p> The absolute minimum  of the graph is the Optimal Lambda.</p>"
   ]
  },
  {
   "cell_type": "code",
   "execution_count": 1186,
   "id": "a6cdf622",
   "metadata": {},
   "outputs": [
    {
     "data": {
      "text/plain": [
       "Text(0.5, 1.0, 'Loss  Vs  Lambda')"
      ]
     },
     "execution_count": 1186,
     "metadata": {},
     "output_type": "execute_result"
    },
    {
     "data": {
      "image/png": "[encoded data removed]",
      "text/plain": [
       "<Figure size 432x288 with 1 Axes>"
      ]
     },
     "metadata": {
      "needs_background": "light"
     },
     "output_type": "display_data"
    }
   ],
   "source": [
    "plt.plot(list(range(20)),loss)\n",
    "plt.xlabel(\"Lambda\",fontsize=13)\n",
    "plt.ylabel(\"Loss\",fontsize = 13)\n",
    "plt.title(\"Loss  Vs  Lambda\")"
   ]
  },
  {
   "cell_type": "markdown",
   "id": "d62bfbf6",
   "metadata": {},
   "source": [
    "<p> At the point 2 the graph started to increase so that is the value of lambda which is optimal and continue to rise over the next iterations.</p> "
   ]
  },
  {
   "cell_type": "markdown",
   "id": "6bf1f434",
   "metadata": {},
   "source": [
    "<h3> Findng Optimal Weights at Lambda = 2 which obtained from graph above</h3>"
   ]
  },
  {
   "cell_type": "code",
   "execution_count": 1187,
   "id": "ee887c3f",
   "metadata": {},
   "outputs": [
    {
     "name": "stdout",
     "output_type": "stream",
     "text": [
      "Ridge_loss with optimal weights:  1.4062906102316466\n"
     ]
    }
   ],
   "source": [
    "lam = 2\n",
    "ridge_w = np.linalg.inv(x_train.T.dot(x_train)+lam*np.identity(x_train.shape[1])).dot(x_train.T.dot(y_train)).T\n",
    "ridge_w\n",
    "w0,w1,w2,w3,w4=ridge_w.T\n",
    "\n",
    "ridge_loss_ = (1/2)*np.sum( (y_test - x_test.dot(ridge_w.T)).T.dot((y_test - x_test.dot(ridge_w.T))) + (1/2)*lam*(ridge_w.dot(ridge_w.T)))\n",
    "\n",
    "ypred_test_ridge = w0 + w1*x_test[:,1]+ w2*x_test[:,2]+ w3*x_test[:,3]+w4*x_test[:,4] # y pred using optimal weights.\n",
    "ypred_test_ridge = ypred_test_ridge.reshape((y_test.shape[0],1))\n",
    "\n",
    "print('Ridge_loss with optimal weights: ',ridge_loss_)\n"
   ]
  },
  {
   "cell_type": "code",
   "execution_count": 1188,
   "id": "f350ba02",
   "metadata": {},
   "outputs": [
    {
     "name": "stdout",
     "output_type": "stream",
     "text": [
      "Weights Vector for Ridge Regression:  [ 0.07681219  0.43972212 -0.09571565  0.32800239  0.11925829]\n"
     ]
    },
    {
     "data": {
      "text/html": [
       "<div>\n",
       "<style scoped>\n",
       "    .dataframe tbody tr th:only-of-type {\n",
       "        vertical-align: middle;\n",
       "    }\n",
       "\n",
       "    .dataframe tbody tr th {\n",
       "        vertical-align: top;\n",
       "    }\n",
       "\n",
       "    .dataframe thead th {\n",
       "        text-align: right;\n",
       "    }\n",
       "</style>\n",
       "<table border=\"1\" class=\"dataframe\">\n",
       "  <thead>\n",
       "    <tr style=\"text-align: right;\">\n",
       "      <th></th>\n",
       "      <th>Ridge Weights</th>\n",
       "    </tr>\n",
       "  </thead>\n",
       "  <tbody>\n",
       "    <tr>\n",
       "      <th>Intercept</th>\n",
       "      <td>0.076812</td>\n",
       "    </tr>\n",
       "    <tr>\n",
       "      <th>flipper_length_mm</th>\n",
       "      <td>0.439722</td>\n",
       "    </tr>\n",
       "    <tr>\n",
       "      <th>bill_depth_mm</th>\n",
       "      <td>-0.095716</td>\n",
       "    </tr>\n",
       "    <tr>\n",
       "      <th>bill_length_mm</th>\n",
       "      <td>0.328002</td>\n",
       "    </tr>\n",
       "    <tr>\n",
       "      <th>sex</th>\n",
       "      <td>0.119258</td>\n",
       "    </tr>\n",
       "  </tbody>\n",
       "</table>\n",
       "</div>"
      ],
      "text/plain": [
       "                   Ridge Weights\n",
       "Intercept               0.076812\n",
       "flipper_length_mm       0.439722\n",
       "bill_depth_mm          -0.095716\n",
       "bill_length_mm          0.328002\n",
       "sex                     0.119258"
      ]
     },
     "execution_count": 1188,
     "metadata": {},
     "output_type": "execute_result"
    }
   ],
   "source": [
    "ridge_= pd.DataFrame(dict(zip(coef,*ridge_w)),index=['Ridge Weights']).T\n",
    "ridge_.index = ['Intercept',*coef[1:]] \n",
    "print(\"Weights Vector for Ridge Regression: \",*ridge_w)\n",
    "ridge_.head()\n"
   ]
  },
  {
   "cell_type": "code",
   "execution_count": 1189,
   "id": "ab1c5483",
   "metadata": {},
   "outputs": [
    {
     "name": "stdout",
     "output_type": "stream",
     "text": [
      "Weights:  [ 0.01492817  0.48675067 -0.04005068  0.38968512  0.09996593]\n"
     ]
    },
    {
     "data": {
      "text/html": [
       "<div>\n",
       "<style scoped>\n",
       "    .dataframe tbody tr th:only-of-type {\n",
       "        vertical-align: middle;\n",
       "    }\n",
       "\n",
       "    .dataframe tbody tr th {\n",
       "        vertical-align: top;\n",
       "    }\n",
       "\n",
       "    .dataframe thead th {\n",
       "        text-align: right;\n",
       "    }\n",
       "</style>\n",
       "<table border=\"1\" class=\"dataframe\">\n",
       "  <thead>\n",
       "    <tr style=\"text-align: right;\">\n",
       "      <th></th>\n",
       "      <th>OLS Weights</th>\n",
       "    </tr>\n",
       "  </thead>\n",
       "  <tbody>\n",
       "    <tr>\n",
       "      <th>Intercept</th>\n",
       "      <td>0.014928</td>\n",
       "    </tr>\n",
       "    <tr>\n",
       "      <th>flipper_length_mm</th>\n",
       "      <td>0.486751</td>\n",
       "    </tr>\n",
       "    <tr>\n",
       "      <th>bill_depth_mm</th>\n",
       "      <td>-0.040051</td>\n",
       "    </tr>\n",
       "    <tr>\n",
       "      <th>bill_length_mm</th>\n",
       "      <td>0.389685</td>\n",
       "    </tr>\n",
       "    <tr>\n",
       "      <th>sex</th>\n",
       "      <td>0.099966</td>\n",
       "    </tr>\n",
       "  </tbody>\n",
       "</table>\n",
       "</div>"
      ],
      "text/plain": [
       "                   OLS Weights\n",
       "Intercept             0.014928\n",
       "flipper_length_mm     0.486751\n",
       "bill_depth_mm        -0.040051\n",
       "bill_length_mm        0.389685\n",
       "sex                   0.099966"
      ]
     },
     "execution_count": 1189,
     "metadata": {},
     "output_type": "execute_result"
    }
   ],
   "source": [
    "ols_w= pd.DataFrame(dict(zip(coef,*c)),index=['OLS Weights']).T\n",
    "ols_w.index = ['Intercept',*coef[1:]] \n",
    "print(\"Weights: \",*c)\n",
    "ols_w.head()"
   ]
  },
  {
   "cell_type": "code",
   "execution_count": 1204,
   "id": "13ba47c6",
   "metadata": {},
   "outputs": [
    {
     "data": {
      "text/html": [
       "<div>\n",
       "<style scoped>\n",
       "    .dataframe tbody tr th:only-of-type {\n",
       "        vertical-align: middle;\n",
       "    }\n",
       "\n",
       "    .dataframe tbody tr th {\n",
       "        vertical-align: top;\n",
       "    }\n",
       "\n",
       "    .dataframe thead th {\n",
       "        text-align: right;\n",
       "    }\n",
       "</style>\n",
       "<table border=\"1\" class=\"dataframe\">\n",
       "  <thead>\n",
       "    <tr style=\"text-align: right;\">\n",
       "      <th></th>\n",
       "      <th>MSE</th>\n",
       "    </tr>\n",
       "  </thead>\n",
       "  <tbody>\n",
       "    <tr>\n",
       "      <th>OLS</th>\n",
       "      <td>4.427199</td>\n",
       "    </tr>\n",
       "    <tr>\n",
       "      <th>RIDGE</th>\n",
       "      <td>52.740153</td>\n",
       "    </tr>\n",
       "  </tbody>\n",
       "</table>\n",
       "</div>"
      ],
      "text/plain": [
       "             MSE\n",
       "OLS     4.427199\n",
       "RIDGE  52.740153"
      ]
     },
     "execution_count": 1204,
     "metadata": {},
     "output_type": "execute_result"
    }
   ],
   "source": [
    "\n",
    "ridge_loss_mse = (1/x_test.shape[1])*np.sum((ypred_test_ridge.T-y_test)**2)\n",
    "loss_compare= pd.DataFrame(dict(zip(['OLS','RIDGE'],[ols_mse_loss,ridge_loss_mse])),index=['MSE']).T\n",
    "loss_compare\n"
   ]
  },
  {
   "cell_type": "markdown",
   "id": "2f619f31",
   "metadata": {},
   "source": [
    "<h3> Actual Vs Predictions</h3>"
   ]
  },
  {
   "cell_type": "code",
   "execution_count": 1191,
   "id": "1f8707f1",
   "metadata": {},
   "outputs": [],
   "source": [
    "r_w0,r_w1,r_w2,r_w3,r_w4 = ridge_w.T\n",
    "ridge_pred = r_w0 + r_w1*x_test[:,1]+ r_w2*x_test[:,2]+ r_w3*x_test[:,3]+ r_w4*x_test[:,4]"
   ]
  },
  {
   "cell_type": "markdown",
   "id": "cb636877",
   "metadata": {},
   "source": [
    "<h3>Comparing OLS Vs Ridge.</h3>"
   ]
  },
  {
   "cell_type": "code",
   "execution_count": 1192,
   "id": "c46e9466",
   "metadata": {},
   "outputs": [
    {
     "data": {
      "text/plain": [
       "Text(0.5, 1.0, 'Test_Actual vs Test_Predicted')"
      ]
     },
     "execution_count": 1192,
     "metadata": {},
     "output_type": "execute_result"
    },
    {
     "data": {
      "image/png": "[encoded data removed]",
      "text/plain": [
       "<Figure size 864x432 with 2 Axes>"
      ]
     },
     "metadata": {
      "needs_background": "light"
     },
     "output_type": "display_data"
    }
   ],
   "source": [
    "fig,ax = plt.subplots(nrows = 1,ncols=2, figsize=(12, 6))\n",
    "\n",
    "ax[1].scatter(y_test, ridge_pred, alpha=0.8, edgecolors=\"black\")\n",
    "ax[1].set_xlabel(\"Test_Predicted\",fontsize=14)\n",
    "ax[1].set_ylabel(\"Actual_Test\",fontsize=14)\n",
    "ax[1].set_title(\"Test_Actual vs Test_Predicted using Ridge\",fontsize=14)\n",
    "\n",
    "\n",
    "ax[0].scatter(y_test, ypred_test_slr, alpha=0.8, edgecolors=\"black\")\n",
    "ax[0].set_xlabel(\"Test_Predicted\",fontsize=14)\n",
    "ax[0].set_ylabel(\"Actual_Test\",fontsize=14)\n",
    "ax[0].set_title(\"Test_Actual vs Test_Predicted\",fontsize=14)"
   ]
  },
  {
   "cell_type": "markdown",
   "id": "9ff89989",
   "metadata": {},
   "source": [
    "<h3>Ridge Regression using Gradient Descent</h3>"
   ]
  },
  {
   "cell_type": "code",
   "execution_count": 1193,
   "id": "5566df03",
   "metadata": {},
   "outputs": [],
   "source": [
    "class ridgeregression():\n",
    "    start = time.time()\n",
    "    def __init__(self,iterations,alpha,learning_rate):\n",
    "        self.iters = iterations\n",
    "        self.alpha = alpha\n",
    "        self.learning_rate = learning_rate\n",
    "        \n",
    "    def fit(self,x_train,y_train):\n",
    "        loss=[]\n",
    "        n=x_train.shape[0]\n",
    "        b=0\n",
    "        #weights=np.array([np.random.uniform(0, 1) for i in range(x_train.shape[1])]).reshape((1,x_train.shape[1]))\n",
    "        weights=np.zeros((1,x_train.shape[1]))\n",
    "        #print(weights,b)\n",
    "        for i in range(self.iters):\n",
    "            dw,db=self.gradient_descent(weights,x_train,y_train,n,b)\n",
    "            weights=weights-(self.learning_rate*dw.T)\n",
    "            b=b-self.learning_rate*db\n",
    "            #print(b)\n",
    "        return weights,b\n",
    "    \n",
    "        \n",
    "    def gradient_descent(self,w,x,y,n,b):\n",
    "        #print(w.shape,'deed',x.shape,'cfrv',y.shape)\n",
    "        pred = y - x.dot(w.T)\n",
    "        #print(pred.shape,x_t.shape,'pred')\n",
    "        dw = -(x.T.dot(pred)) + self.alpha*w.T\n",
    "        #print(pred,'dw')\n",
    "        db = (1/n)*(np.sum(pred))\n",
    "        #print(n)\n",
    "        return dw,db\n",
    "        \n",
    "    def predict(self,x,w,b):\n",
    "        y_pred = np.dot(w,x.T) + b\n",
    "        return y_pred\n",
    "    end=time.time()"
   ]
  },
  {
   "cell_type": "code",
   "execution_count": 1194,
   "id": "1789579b",
   "metadata": {},
   "outputs": [
    {
     "name": "stdout",
     "output_type": "stream",
     "text": [
      "training time:  1.3919758796691895\n",
      "predicting time:  0.00012063980102539062\n"
     ]
    }
   ],
   "source": [
    "\n",
    "model_ridge = ridgeregression(100000,0.9,0.001)\n",
    "\n",
    "train_start = time.time()\n",
    "w,b = model_ridge.fit(x_train,y_train)\n",
    "train_end = time.time()\n",
    "\n",
    "predict_start = time.time()\n",
    "pred_train = model_ridge.predict(x_train,w,b)\n",
    "pred_test = model_ridge.predict(x_test,w,b)\n",
    "predict_end = time.time()\n",
    "\n",
    "print(\"training time: \",train_end-train_start)\n",
    "print(\"predicting time: \",predict_end-predict_start)"
   ]
  },
  {
   "cell_type": "code",
   "execution_count": 1195,
   "id": "dbd5a7fb",
   "metadata": {},
   "outputs": [
    {
     "name": "stdout",
     "output_type": "stream",
     "text": [
      "Mean_Square_Error(MSE):  3.6717832421004712\n"
     ]
    }
   ],
   "source": [
    "mse=(1/y_test.shape[0])*(np.sum((pred_test-y_test)**2))\n",
    "print('Mean_Square_Error(MSE): ',mse)"
   ]
  },
  {
   "cell_type": "code",
   "execution_count": 1196,
   "id": "1295a18d",
   "metadata": {},
   "outputs": [
    {
     "name": "stdout",
     "output_type": "stream",
     "text": [
      "weights  [ 0.05098548  0.46205547 -0.07526263  0.35315037  0.11167377]\n",
      "Bias:  -0.016970590235260784\n",
      "Mean Square Error (MSE):  3.6717832421004712\n"
     ]
    },
    {
     "data": {
      "text/html": [
       "<div>\n",
       "<style scoped>\n",
       "    .dataframe tbody tr th:only-of-type {\n",
       "        vertical-align: middle;\n",
       "    }\n",
       "\n",
       "    .dataframe tbody tr th {\n",
       "        vertical-align: top;\n",
       "    }\n",
       "\n",
       "    .dataframe thead th {\n",
       "        text-align: right;\n",
       "    }\n",
       "</style>\n",
       "<table border=\"1\" class=\"dataframe\">\n",
       "  <thead>\n",
       "    <tr style=\"text-align: right;\">\n",
       "      <th></th>\n",
       "      <th>Weights</th>\n",
       "    </tr>\n",
       "  </thead>\n",
       "  <tbody>\n",
       "    <tr>\n",
       "      <th>Intercept</th>\n",
       "      <td>0.050985</td>\n",
       "    </tr>\n",
       "    <tr>\n",
       "      <th>flipper_length_mm</th>\n",
       "      <td>0.462055</td>\n",
       "    </tr>\n",
       "    <tr>\n",
       "      <th>bill_depth_mm</th>\n",
       "      <td>-0.075263</td>\n",
       "    </tr>\n",
       "    <tr>\n",
       "      <th>bill_length_mm</th>\n",
       "      <td>0.353150</td>\n",
       "    </tr>\n",
       "    <tr>\n",
       "      <th>sex</th>\n",
       "      <td>0.111674</td>\n",
       "    </tr>\n",
       "  </tbody>\n",
       "</table>\n",
       "</div>"
      ],
      "text/plain": [
       "                    Weights\n",
       "Intercept          0.050985\n",
       "flipper_length_mm  0.462055\n",
       "bill_depth_mm     -0.075263\n",
       "bill_length_mm     0.353150\n",
       "sex                0.111674"
      ]
     },
     "execution_count": 1196,
     "metadata": {},
     "output_type": "execute_result"
    }
   ],
   "source": [
    "Weights= pd.DataFrame(dict(zip(coef,*w)),index=['Weights']).T\n",
    "Weights.index = ['Intercept',*coef[1:]] \n",
    "print(\"weights \",*w)\n",
    "print(\"Bias: \",b)\n",
    "print(\"Mean Square Error (MSE): \",mse)\n",
    "Weights.head()"
   ]
  },
  {
   "cell_type": "markdown",
   "id": "7332d776",
   "metadata": {},
   "source": [
    "<h3>Finding results using In-built Ridge function</h3>"
   ]
  },
  {
   "cell_type": "code",
   "execution_count": 1197,
   "id": "df03d2bb",
   "metadata": {},
   "outputs": [
    {
     "ename": "ValueError",
     "evalue": "Unable to coerce to DataFrame, shape must be (104, 1): given (69, 1)",
     "output_type": "error",
     "traceback": [
      "\u001b[0;31m---------------------------------------------------------------------------\u001b[0m",
      "\u001b[0;31mValueError\u001b[0m                                Traceback (most recent call last)",
      "\u001b[0;32m/var/folders/pv/bdgxs4p57b30yktlhhr379mm0000gn/T/ipykernel_4426/2818280613.py\u001b[0m in \u001b[0;36m<module>\u001b[0;34m\u001b[0m\n\u001b[1;32m     12\u001b[0m \u001b[0;34m\u001b[0m\u001b[0m\n\u001b[1;32m     13\u001b[0m \u001b[0mloss_inbuilt\u001b[0m \u001b[0;34m=\u001b[0m \u001b[0;34m(\u001b[0m\u001b[0;34m(\u001b[0m\u001b[0mp\u001b[0m\u001b[0;34m-\u001b[0m\u001b[0my_test\u001b[0m\u001b[0;34m)\u001b[0m\u001b[0;34m**\u001b[0m\u001b[0;36m2\u001b[0m\u001b[0;34m)\u001b[0m\u001b[0;34m.\u001b[0m\u001b[0msum\u001b[0m\u001b[0;34m(\u001b[0m\u001b[0;34m)\u001b[0m\u001b[0;34m\u001b[0m\u001b[0;34m\u001b[0m\u001b[0m\n\u001b[0;32m---> 14\u001b[0;31m \u001b[0mloss_\u001b[0m \u001b[0;34m=\u001b[0m \u001b[0;34m(\u001b[0m\u001b[0;34m(\u001b[0m\u001b[0mpred_\u001b[0m\u001b[0;34m-\u001b[0m\u001b[0my_test\u001b[0m\u001b[0;34m)\u001b[0m\u001b[0;34m**\u001b[0m\u001b[0;36m2\u001b[0m\u001b[0;34m)\u001b[0m\u001b[0;34m.\u001b[0m\u001b[0msum\u001b[0m\u001b[0;34m(\u001b[0m\u001b[0;34m)\u001b[0m\u001b[0;34m\u001b[0m\u001b[0;34m\u001b[0m\u001b[0m\n\u001b[0m",
      "\u001b[0;32m~/opt/anaconda3/lib/python3.9/site-packages/pandas/core/ops/common.py\u001b[0m in \u001b[0;36mnew_method\u001b[0;34m(self, other)\u001b[0m\n\u001b[1;32m     67\u001b[0m         \u001b[0mother\u001b[0m \u001b[0;34m=\u001b[0m \u001b[0mitem_from_zerodim\u001b[0m\u001b[0;34m(\u001b[0m\u001b[0mother\u001b[0m\u001b[0;34m)\u001b[0m\u001b[0;34m\u001b[0m\u001b[0;34m\u001b[0m\u001b[0m\n\u001b[1;32m     68\u001b[0m \u001b[0;34m\u001b[0m\u001b[0m\n\u001b[0;32m---> 69\u001b[0;31m         \u001b[0;32mreturn\u001b[0m \u001b[0mmethod\u001b[0m\u001b[0;34m(\u001b[0m\u001b[0mself\u001b[0m\u001b[0;34m,\u001b[0m \u001b[0mother\u001b[0m\u001b[0;34m)\u001b[0m\u001b[0;34m\u001b[0m\u001b[0;34m\u001b[0m\u001b[0m\n\u001b[0m\u001b[1;32m     70\u001b[0m \u001b[0;34m\u001b[0m\u001b[0m\n\u001b[1;32m     71\u001b[0m     \u001b[0;32mreturn\u001b[0m \u001b[0mnew_method\u001b[0m\u001b[0;34m\u001b[0m\u001b[0;34m\u001b[0m\u001b[0m\n",
      "\u001b[0;32m~/opt/anaconda3/lib/python3.9/site-packages/pandas/core/arraylike.py\u001b[0m in \u001b[0;36m__sub__\u001b[0;34m(self, other)\u001b[0m\n\u001b[1;32m     98\u001b[0m     \u001b[0;34m@\u001b[0m\u001b[0munpack_zerodim_and_defer\u001b[0m\u001b[0;34m(\u001b[0m\u001b[0;34m\"__sub__\"\u001b[0m\u001b[0;34m)\u001b[0m\u001b[0;34m\u001b[0m\u001b[0;34m\u001b[0m\u001b[0m\n\u001b[1;32m     99\u001b[0m     \u001b[0;32mdef\u001b[0m \u001b[0m__sub__\u001b[0m\u001b[0;34m(\u001b[0m\u001b[0mself\u001b[0m\u001b[0;34m,\u001b[0m \u001b[0mother\u001b[0m\u001b[0;34m)\u001b[0m\u001b[0;34m:\u001b[0m\u001b[0;34m\u001b[0m\u001b[0;34m\u001b[0m\u001b[0m\n\u001b[0;32m--> 100\u001b[0;31m         \u001b[0;32mreturn\u001b[0m \u001b[0mself\u001b[0m\u001b[0;34m.\u001b[0m\u001b[0m_arith_method\u001b[0m\u001b[0;34m(\u001b[0m\u001b[0mother\u001b[0m\u001b[0;34m,\u001b[0m \u001b[0moperator\u001b[0m\u001b[0;34m.\u001b[0m\u001b[0msub\u001b[0m\u001b[0;34m)\u001b[0m\u001b[0;34m\u001b[0m\u001b[0;34m\u001b[0m\u001b[0m\n\u001b[0m\u001b[1;32m    101\u001b[0m \u001b[0;34m\u001b[0m\u001b[0m\n\u001b[1;32m    102\u001b[0m     \u001b[0;34m@\u001b[0m\u001b[0munpack_zerodim_and_defer\u001b[0m\u001b[0;34m(\u001b[0m\u001b[0;34m\"__rsub__\"\u001b[0m\u001b[0;34m)\u001b[0m\u001b[0;34m\u001b[0m\u001b[0;34m\u001b[0m\u001b[0m\n",
      "\u001b[0;32m~/opt/anaconda3/lib/python3.9/site-packages/pandas/core/frame.py\u001b[0m in \u001b[0;36m_arith_method\u001b[0;34m(self, other, op)\u001b[0m\n\u001b[1;32m   6862\u001b[0m         \u001b[0mother\u001b[0m \u001b[0;34m=\u001b[0m \u001b[0mops\u001b[0m\u001b[0;34m.\u001b[0m\u001b[0mmaybe_prepare_scalar_for_op\u001b[0m\u001b[0;34m(\u001b[0m\u001b[0mother\u001b[0m\u001b[0;34m,\u001b[0m \u001b[0;34m(\u001b[0m\u001b[0mself\u001b[0m\u001b[0;34m.\u001b[0m\u001b[0mshape\u001b[0m\u001b[0;34m[\u001b[0m\u001b[0maxis\u001b[0m\u001b[0;34m]\u001b[0m\u001b[0;34m,\u001b[0m\u001b[0;34m)\u001b[0m\u001b[0;34m)\u001b[0m\u001b[0;34m\u001b[0m\u001b[0;34m\u001b[0m\u001b[0m\n\u001b[1;32m   6863\u001b[0m \u001b[0;34m\u001b[0m\u001b[0m\n\u001b[0;32m-> 6864\u001b[0;31m         \u001b[0mself\u001b[0m\u001b[0;34m,\u001b[0m \u001b[0mother\u001b[0m \u001b[0;34m=\u001b[0m \u001b[0mops\u001b[0m\u001b[0;34m.\u001b[0m\u001b[0malign_method_FRAME\u001b[0m\u001b[0;34m(\u001b[0m\u001b[0mself\u001b[0m\u001b[0;34m,\u001b[0m \u001b[0mother\u001b[0m\u001b[0;34m,\u001b[0m \u001b[0maxis\u001b[0m\u001b[0;34m,\u001b[0m \u001b[0mflex\u001b[0m\u001b[0;34m=\u001b[0m\u001b[0;32mTrue\u001b[0m\u001b[0;34m,\u001b[0m \u001b[0mlevel\u001b[0m\u001b[0;34m=\u001b[0m\u001b[0;32mNone\u001b[0m\u001b[0;34m)\u001b[0m\u001b[0;34m\u001b[0m\u001b[0;34m\u001b[0m\u001b[0m\n\u001b[0m\u001b[1;32m   6865\u001b[0m \u001b[0;34m\u001b[0m\u001b[0m\n\u001b[1;32m   6866\u001b[0m         \u001b[0mnew_data\u001b[0m \u001b[0;34m=\u001b[0m \u001b[0mself\u001b[0m\u001b[0;34m.\u001b[0m\u001b[0m_dispatch_frame_op\u001b[0m\u001b[0;34m(\u001b[0m\u001b[0mother\u001b[0m\u001b[0;34m,\u001b[0m \u001b[0mop\u001b[0m\u001b[0;34m,\u001b[0m \u001b[0maxis\u001b[0m\u001b[0;34m=\u001b[0m\u001b[0maxis\u001b[0m\u001b[0;34m)\u001b[0m\u001b[0;34m\u001b[0m\u001b[0;34m\u001b[0m\u001b[0m\n",
      "\u001b[0;32m~/opt/anaconda3/lib/python3.9/site-packages/pandas/core/ops/__init__.py\u001b[0m in \u001b[0;36malign_method_FRAME\u001b[0;34m(left, right, axis, flex, level)\u001b[0m\n\u001b[1;32m    261\u001b[0m \u001b[0;34m\u001b[0m\u001b[0m\n\u001b[1;32m    262\u001b[0m             \u001b[0;32melse\u001b[0m\u001b[0;34m:\u001b[0m\u001b[0;34m\u001b[0m\u001b[0;34m\u001b[0m\u001b[0m\n\u001b[0;32m--> 263\u001b[0;31m                 raise ValueError(\n\u001b[0m\u001b[1;32m    264\u001b[0m                     \u001b[0;34m\"Unable to coerce to DataFrame, shape \"\u001b[0m\u001b[0;34m\u001b[0m\u001b[0;34m\u001b[0m\u001b[0m\n\u001b[1;32m    265\u001b[0m                     \u001b[0;34mf\"must be {left.shape}: given {right.shape}\"\u001b[0m\u001b[0;34m\u001b[0m\u001b[0;34m\u001b[0m\u001b[0m\n",
      "\u001b[0;31mValueError\u001b[0m: Unable to coerce to DataFrame, shape must be (104, 1): given (69, 1)"
     ]
    }
   ],
   "source": [
    "from sklearn.linear_model import Ridge\n",
    "from sklearn.metrics import r2_score\n",
    "clf = Ridge(alpha=0.9)\n",
    "clf.fit(x_train,y_train)\n",
    "p = clf.predict(x_test)\n",
    "p_train = pd.DataFrame(clf.predict(x_train))\n",
    "p = pd.DataFrame(p)\n",
    "pred_ = pd.DataFrame(pred.T)\n",
    "\n",
    "train_loss_inbuilt = ((p_train-y_train)**2).sum()\n",
    "train_loss_ = ((pred_train-y_train)**2).sum()\n",
    "\n",
    "loss_inbuilt = ((p-y_test)**2).sum()\n",
    "loss_ = ((pred_-y_test)**2).sum()\n"
   ]
  },
  {
   "cell_type": "markdown",
   "id": "948e392d",
   "metadata": {},
   "source": [
    "<h3>Comparing results</h3>"
   ]
  },
  {
   "cell_type": "code",
   "execution_count": 1198,
   "id": "819278b7",
   "metadata": {},
   "outputs": [
    {
     "data": {
      "text/html": [
       "<div>\n",
       "<style scoped>\n",
       "    .dataframe tbody tr th:only-of-type {\n",
       "        vertical-align: middle;\n",
       "    }\n",
       "\n",
       "    .dataframe tbody tr th {\n",
       "        vertical-align: top;\n",
       "    }\n",
       "\n",
       "    .dataframe thead th {\n",
       "        text-align: right;\n",
       "    }\n",
       "</style>\n",
       "<table border=\"1\" class=\"dataframe\">\n",
       "  <thead>\n",
       "    <tr style=\"text-align: right;\">\n",
       "      <th></th>\n",
       "      <th>Train_Preds (inbuilt)</th>\n",
       "      <th>Train_Preds</th>\n",
       "    </tr>\n",
       "  </thead>\n",
       "  <tbody>\n",
       "    <tr>\n",
       "      <th>0</th>\n",
       "      <td>0.273820</td>\n",
       "      <td>0.255889</td>\n",
       "    </tr>\n",
       "    <tr>\n",
       "      <th>1</th>\n",
       "      <td>0.217530</td>\n",
       "      <td>0.200157</td>\n",
       "    </tr>\n",
       "    <tr>\n",
       "      <th>2</th>\n",
       "      <td>0.292048</td>\n",
       "      <td>0.275538</td>\n",
       "    </tr>\n",
       "    <tr>\n",
       "      <th>3</th>\n",
       "      <td>0.479911</td>\n",
       "      <td>0.462440</td>\n",
       "    </tr>\n",
       "    <tr>\n",
       "      <th>4</th>\n",
       "      <td>0.218170</td>\n",
       "      <td>0.201997</td>\n",
       "    </tr>\n",
       "    <tr>\n",
       "      <th>...</th>\n",
       "      <td>...</td>\n",
       "      <td>...</td>\n",
       "    </tr>\n",
       "    <tr>\n",
       "      <th>270</th>\n",
       "      <td>0.568885</td>\n",
       "      <td>0.551471</td>\n",
       "    </tr>\n",
       "    <tr>\n",
       "      <th>271</th>\n",
       "      <td>0.479911</td>\n",
       "      <td>0.462440</td>\n",
       "    </tr>\n",
       "    <tr>\n",
       "      <th>272</th>\n",
       "      <td>0.565847</td>\n",
       "      <td>0.548790</td>\n",
       "    </tr>\n",
       "    <tr>\n",
       "      <th>273</th>\n",
       "      <td>0.765590</td>\n",
       "      <td>0.748971</td>\n",
       "    </tr>\n",
       "    <tr>\n",
       "      <th>274</th>\n",
       "      <td>0.517327</td>\n",
       "      <td>0.500269</td>\n",
       "    </tr>\n",
       "  </tbody>\n",
       "</table>\n",
       "<p>275 rows × 2 columns</p>\n",
       "</div>"
      ],
      "text/plain": [
       "     Train_Preds (inbuilt)  Train_Preds\n",
       "0                 0.273820     0.255889\n",
       "1                 0.217530     0.200157\n",
       "2                 0.292048     0.275538\n",
       "3                 0.479911     0.462440\n",
       "4                 0.218170     0.201997\n",
       "..                     ...          ...\n",
       "270               0.568885     0.551471\n",
       "271               0.479911     0.462440\n",
       "272               0.565847     0.548790\n",
       "273               0.765590     0.748971\n",
       "274               0.517327     0.500269\n",
       "\n",
       "[275 rows x 2 columns]"
      ]
     },
     "execution_count": 1198,
     "metadata": {},
     "output_type": "execute_result"
    }
   ],
   "source": [
    "pd.DataFrame({'Train_Preds (inbuilt)':p_train.iloc[:,0],'Train_Preds':pred_train[0]})"
   ]
  },
  {
   "cell_type": "code",
   "execution_count": 1199,
   "id": "5b77daff",
   "metadata": {},
   "outputs": [
    {
     "data": {
      "text/html": [
       "<div>\n",
       "<style scoped>\n",
       "    .dataframe tbody tr th:only-of-type {\n",
       "        vertical-align: middle;\n",
       "    }\n",
       "\n",
       "    .dataframe tbody tr th {\n",
       "        vertical-align: top;\n",
       "    }\n",
       "\n",
       "    .dataframe thead th {\n",
       "        text-align: right;\n",
       "    }\n",
       "</style>\n",
       "<table border=\"1\" class=\"dataframe\">\n",
       "  <thead>\n",
       "    <tr style=\"text-align: right;\">\n",
       "      <th></th>\n",
       "      <th>Test_Pred (inbuilt)</th>\n",
       "      <th>Test_Pred</th>\n",
       "    </tr>\n",
       "  </thead>\n",
       "  <tbody>\n",
       "    <tr>\n",
       "      <th>0</th>\n",
       "      <td>0.685372</td>\n",
       "      <td>0.529394</td>\n",
       "    </tr>\n",
       "    <tr>\n",
       "      <th>1</th>\n",
       "      <td>0.348763</td>\n",
       "      <td>0.821790</td>\n",
       "    </tr>\n",
       "    <tr>\n",
       "      <th>2</th>\n",
       "      <td>0.521983</td>\n",
       "      <td>0.567787</td>\n",
       "    </tr>\n",
       "    <tr>\n",
       "      <th>3</th>\n",
       "      <td>0.518085</td>\n",
       "      <td>0.806682</td>\n",
       "    </tr>\n",
       "    <tr>\n",
       "      <th>4</th>\n",
       "      <td>0.295984</td>\n",
       "      <td>0.499499</td>\n",
       "    </tr>\n",
       "    <tr>\n",
       "      <th>...</th>\n",
       "      <td>...</td>\n",
       "      <td>...</td>\n",
       "    </tr>\n",
       "    <tr>\n",
       "      <th>99</th>\n",
       "      <td>NaN</td>\n",
       "      <td>0.667170</td>\n",
       "    </tr>\n",
       "    <tr>\n",
       "      <th>100</th>\n",
       "      <td>NaN</td>\n",
       "      <td>0.366040</td>\n",
       "    </tr>\n",
       "    <tr>\n",
       "      <th>101</th>\n",
       "      <td>NaN</td>\n",
       "      <td>0.491694</td>\n",
       "    </tr>\n",
       "    <tr>\n",
       "      <th>102</th>\n",
       "      <td>NaN</td>\n",
       "      <td>0.632800</td>\n",
       "    </tr>\n",
       "    <tr>\n",
       "      <th>103</th>\n",
       "      <td>NaN</td>\n",
       "      <td>0.416169</td>\n",
       "    </tr>\n",
       "  </tbody>\n",
       "</table>\n",
       "<p>104 rows × 2 columns</p>\n",
       "</div>"
      ],
      "text/plain": [
       "     Test_Pred (inbuilt)  Test_Pred\n",
       "0               0.685372   0.529394\n",
       "1               0.348763   0.821790\n",
       "2               0.521983   0.567787\n",
       "3               0.518085   0.806682\n",
       "4               0.295984   0.499499\n",
       "..                   ...        ...\n",
       "99                   NaN   0.667170\n",
       "100                  NaN   0.366040\n",
       "101                  NaN   0.491694\n",
       "102                  NaN   0.632800\n",
       "103                  NaN   0.416169\n",
       "\n",
       "[104 rows x 2 columns]"
      ]
     },
     "execution_count": 1199,
     "metadata": {},
     "output_type": "execute_result"
    }
   ],
   "source": [
    "pd.DataFrame({'Test_Pred (inbuilt)':p.iloc[:,0],'Test_Pred':pred_.iloc[:,0]})"
   ]
  },
  {
   "cell_type": "code",
   "execution_count": 1200,
   "id": "56f35c36",
   "metadata": {},
   "outputs": [
    {
     "name": "stdout",
     "output_type": "stream",
     "text": [
      "Train Loss with Gradient Descent function:  7340.605154492964\n",
      "Train Loss with Inbuilt function:  2.065087350219658\n"
     ]
    }
   ],
   "source": [
    "\n",
    "print(\"Train Loss with Gradient Descent function: \",train_loss_)\n",
    "print(\"Train Loss with Inbuilt function: \",train_loss_inbuilt[0])\n"
   ]
  },
  {
   "cell_type": "code",
   "execution_count": 1201,
   "id": "cbde75b5",
   "metadata": {},
   "outputs": [
    {
     "name": "stdout",
     "output_type": "stream",
     "text": [
      "Test Loss with Gradient Descent function:  2.578157479193737\n",
      "Test Loss with Inbuilt function:  2.6469556189834478\n"
     ]
    }
   ],
   "source": [
    "\n",
    "print(\"Test Loss with Gradient Descent function: \",loss_[0])\n",
    "print(\"Test Loss with Inbuilt function: \",loss_inbuilt[0])\n"
   ]
  },
  {
   "cell_type": "markdown",
   "id": "246b169d",
   "metadata": {},
   "source": [
    "<h3> Comapring Loss For OLS, Ridge, Ridge_usiing_Gradient_Descent</h3>"
   ]
  },
  {
   "cell_type": "code",
   "execution_count": 1202,
   "id": "837acf3c",
   "metadata": {},
   "outputs": [
    {
     "data": {
      "text/html": [
       "<div>\n",
       "<style scoped>\n",
       "    .dataframe tbody tr th:only-of-type {\n",
       "        vertical-align: middle;\n",
       "    }\n",
       "\n",
       "    .dataframe tbody tr th {\n",
       "        vertical-align: top;\n",
       "    }\n",
       "\n",
       "    .dataframe thead th {\n",
       "        text-align: right;\n",
       "    }\n",
       "</style>\n",
       "<table border=\"1\" class=\"dataframe\">\n",
       "  <thead>\n",
       "    <tr style=\"text-align: right;\">\n",
       "      <th></th>\n",
       "      <th>MSE</th>\n",
       "    </tr>\n",
       "  </thead>\n",
       "  <tbody>\n",
       "    <tr>\n",
       "      <th>OLS</th>\n",
       "      <td>4.427199</td>\n",
       "    </tr>\n",
       "    <tr>\n",
       "      <th>RIDGE</th>\n",
       "      <td>3.821750</td>\n",
       "    </tr>\n",
       "    <tr>\n",
       "      <th>RIDGE_GD</th>\n",
       "      <td>3.671783</td>\n",
       "    </tr>\n",
       "  </tbody>\n",
       "</table>\n",
       "</div>"
      ],
      "text/plain": [
       "               MSE\n",
       "OLS       4.427199\n",
       "RIDGE     3.821750\n",
       "RIDGE_GD  3.671783"
      ]
     },
     "execution_count": 1202,
     "metadata": {},
     "output_type": "execute_result"
    }
   ],
   "source": [
    "\n",
    "final_loss_compare= pd.DataFrame(dict(zip(['OLS','RIDGE','RIDGE_GD'],[ols_mse_loss,ridge_loss_mse,mse])),index=['MSE']).T\n",
    "final_loss_compare\n",
    "\n"
   ]
  },
  {
   "cell_type": "markdown",
   "id": "1b2a939e",
   "metadata": {},
   "source": [
    "<h3>References</h3>"
   ]
  },
  {
   "cell_type": "markdown",
   "id": "dba4f9f2",
   "metadata": {},
   "source": [
    "1. https://towardsdatascience.com/ridge-and-lasso-regression-a-complete-guide-with-python-scikit-learn-e20e34bcbf0b\n",
    "2. https://www.geeksforgeeks.org/python-pandas-dataframe/\n",
    "3. https://towardsdatascience.com/feature-transformation-for-multiple-linear-regression-in-python-8648ddf070b8\n",
    "4. https://pbpython.com/dataframe-gui-overview.html\n",
    "5. https://www.geeksforgeeks.org/how-to-check-the-execution-time-of-python-script/"
   ]
  }
 ],
 "metadata": {
  "kernelspec": {
   "display_name": "Python 3 (ipykernel)",
   "language": "python",
   "name": "python3"
  },
  "language_info": {
   "codemirror_mode": {
    "name": "ipython",
    "version": 3
   },
   "file_extension": ".py",
   "mimetype": "text/x-python",
   "name": "python",
   "nbconvert_exporter": "python",
   "pygments_lexer": "ipython3",
   "version": "3.9.7"
  }
 },
 "nbformat": 4,
 "nbformat_minor": 5
}
